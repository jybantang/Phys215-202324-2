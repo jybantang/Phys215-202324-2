{
 "cells": [
  {
   "cell_type": "markdown",
   "id": "551d12cc",
   "metadata": {},
   "source": [
    "# Basic Schelling Segregation Model\n",
    "\n",
    "The Schelling's model of segregation is an agent-based model developed by economist Thomas Schelling (see [Wikipedia link](https://en.wikipedia.org/wiki/Schelling%27s_model_of_segregation) for more details).\n",
    "You will provide exploration of increasing computational efficiency with matrices while working only with basic model without the cost function for migration.\n",
    "\n",
    "**Mini-Project 1 OBJECTIVE:** Investigate computational efficiency of a customized implementation of the basic Schelling segregation model.\n",
    "- [ ] KR1: A running implementation of the basic Schelling segregation model based on the original paper.\n",
    "- [ ] KR2: Discussion of the comparison of results to the original paper results, considering the appropriate model parameter range.\n",
    "- [ ] KR3: Identified lines or parts of the implementation that are possible areas for consideration to increase efficiency (hint: profiler).\n",
    "- [ ] KR4: Benchmark summary & discussion of the best alternative implementations explored.\n",
    "- [ ] KR5: A short discussion on the simplified run-time computational complexity of the final implementation."
   ]
  },
  {
   "cell_type": "code",
   "execution_count": 1,
   "id": "cdb8fd96",
   "metadata": {},
   "outputs": [
    {
     "name": "stderr",
     "output_type": "stream",
     "text": [
      "\u001b[32m\u001b[1m  Activating\u001b[22m\u001b[39m new project at `~/Documents/GitHub/Phys215-202223-1/09-mProject/mProject-1`\n"
     ]
    }
   ],
   "source": [
    "using Pkg\n",
    "Pkg.activate(\".\")\n",
    "\n",
    "## add Pkgs lines here\n",
    "\n",
    "## using [Pkgs] lines here"
   ]
  },
  {
   "cell_type": "markdown",
   "id": "a0a5efc4",
   "metadata": {},
   "source": [
    "## Key Result 1\n",
    "A running implementation of the basic Schelling segregation model based on the original paper."
   ]
  },
  {
   "cell_type": "code",
   "execution_count": 2,
   "id": "5e1d08f5",
   "metadata": {},
   "outputs": [],
   "source": [
    "# Codes under this Key Result item"
   ]
  },
  {
   "cell_type": "markdown",
   "id": "361e439a",
   "metadata": {},
   "source": [
    "## Key Result 2\n",
    "Discussion of the comparison of results to the original paper results, considering the appropriate model parameter range."
   ]
  },
  {
   "cell_type": "code",
   "execution_count": 3,
   "id": "b8b1b39b",
   "metadata": {},
   "outputs": [],
   "source": [
    "# Codes under this Key Result item"
   ]
  },
  {
   "cell_type": "markdown",
   "id": "b7d70387",
   "metadata": {},
   "source": [
    "## Key Result 3\n",
    "Identified lines or parts of the implementation that are possible areas for consideration to increase efficiency (hint: profiler)."
   ]
  },
  {
   "cell_type": "code",
   "execution_count": 4,
   "id": "8284ba9f",
   "metadata": {},
   "outputs": [],
   "source": [
    "# Codes under this Key Result item"
   ]
  },
  {
   "cell_type": "markdown",
   "id": "86e43f42",
   "metadata": {},
   "source": [
    "## Key Result 4\n",
    "Benchmark summary & discussion of the best alternative implementations explored."
   ]
  },
  {
   "cell_type": "code",
   "execution_count": 5,
   "id": "00abd30f",
   "metadata": {},
   "outputs": [],
   "source": [
    "# Codes under this Key Result item"
   ]
  },
  {
   "cell_type": "markdown",
   "id": "2bdc3b74",
   "metadata": {},
   "source": [
    "## Key Result 5\n",
    "A short discussion on the simplified run-time computational complexity of the final implementation."
   ]
  },
  {
   "cell_type": "code",
   "execution_count": 6,
   "id": "26d84462",
   "metadata": {},
   "outputs": [],
   "source": [
    "# Codes under this Key Result item"
   ]
  },
  {
   "cell_type": "markdown",
   "id": "04594d3e",
   "metadata": {},
   "source": [
    "## Summary of learnings\n",
    "Here are the specific itemized personal lessons I learned in this mini project.\n",
    "I learned that\n",
    "- [ ] the first item learned."
   ]
  },
  {
   "cell_type": "code",
   "execution_count": null,
   "id": "6c903733",
   "metadata": {},
   "outputs": [],
   "source": []
  }
 ],
 "metadata": {
  "kernelspec": {
   "display_name": "Julia 1.8.2",
   "language": "julia",
   "name": "julia-1.8"
  },
  "language_info": {
   "file_extension": ".jl",
   "mimetype": "application/julia",
   "name": "julia",
   "version": "1.8.2"
  }
 },
 "nbformat": 4,
 "nbformat_minor": 5
}
