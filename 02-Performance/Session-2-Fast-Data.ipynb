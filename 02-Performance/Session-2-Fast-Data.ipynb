{
 "cells": [
  {
   "cell_type": "markdown",
   "id": "3a6f3bfb",
   "metadata": {
    "editable": true,
    "slideshow": {
     "slide_type": "slide"
    },
    "tags": []
   },
   "source": [
    "# Session 2: Fast machine representation\n",
    "\n",
    "In this session, we cover the use of fast `Numbers` in Julia.\n",
    "Particularly:[^1]\n",
    "- [ ] Demonstrate tradeoff between runtime speed and over- or underflow checks in [number representations in Julia](https://docs.julialang.org/en/v1/manual/integers-and-floating-point-numbers/).\n",
    "- [ ] Analyze the floating point layout or architecture used by your Julia installation.\n",
    "- [ ] Show how much `@fastmath` macro speeds up computation with a trades off in some level of accuracy. The `sum_diff()` function in the main book reference may be replicated for this purpose.\n",
    "\n",
    "----\n",
    "[^1]: Covers Chapter 5 of Segupta, _Julia High Performance, 2nd Ed._ (Packt Publishing, 2019)."
   ]
  },
  {
   "cell_type": "code",
   "execution_count": 1,
   "id": "baf8b725",
   "metadata": {
    "editable": true,
    "slideshow": {
     "slide_type": "subslide"
    },
    "tags": []
   },
   "outputs": [
    {
     "name": "stderr",
     "output_type": "stream",
     "text": [
      "\u001b[32m\u001b[1m  Activating\u001b[22m\u001b[39m project at `~/Documents/GitHub/Phys215-202324-2/02-Performance`\n",
      "\u001b[32m\u001b[1m   Resolving\u001b[22m\u001b[39m package versions...\n",
      "\u001b[32m\u001b[1m  No Changes\u001b[22m\u001b[39m to `~/Documents/GitHub/Phys215-202324-2/02-Performance/Project.toml`\n",
      "\u001b[32m\u001b[1m  No Changes\u001b[22m\u001b[39m to `~/Documents/GitHub/Phys215-202324-2/02-Performance/Manifest.toml`\n"
     ]
    }
   ],
   "source": [
    "using Pkg;\n",
    "Pkg.activate(\".\");\n",
    "Pkg.add([\n",
    "     \"Plots\"\n",
    "    ,\"BenchmarkTools\"\n",
    "]);\n",
    "\n",
    "using Plots, BenchmarkTools;"
   ]
  },
  {
   "cell_type": "code",
   "execution_count": 2,
   "id": "1b0e4e1f",
   "metadata": {
    "editable": true,
    "scrolled": true,
    "slideshow": {
     "slide_type": "fragment"
    },
    "tags": []
   },
   "outputs": [
    {
     "data": {
      "text/plain": [
       "floatbits (generic function with 2 methods)"
      ]
     },
     "execution_count": 2,
     "metadata": {},
     "output_type": "execute_result"
    }
   ],
   "source": [
    "include(\"Phys215Tools.jl\") #insert pre-typed tool functions, fast and dirty style"
   ]
  },
  {
   "cell_type": "code",
   "execution_count": 3,
   "id": "52528e1c",
   "metadata": {},
   "outputs": [
    {
     "name": "stdout",
     "output_type": "stream",
     "text": [
      "search: \u001b[0m\u001b[1mf\u001b[22m\u001b[0m\u001b[1ml\u001b[22m\u001b[0m\u001b[1mo\u001b[22m\u001b[0m\u001b[1ma\u001b[22m\u001b[0m\u001b[1mt\u001b[22m\u001b[0m\u001b[1mb\u001b[22m\u001b[0m\u001b[1mi\u001b[22m\u001b[0m\u001b[1mt\u001b[22m\u001b[0m\u001b[1ms\u001b[22m\n",
      "\n"
     ]
    },
    {
     "data": {
      "text/latex": [
       "No documentation found.\n",
       "\n",
       "\\texttt{floatbits} is a \\texttt{Function}.\n",
       "\n",
       "\\begin{verbatim}\n",
       "# 2 methods for generic function \"floatbits\" from Main:\n",
       " [1] floatbits(x::Float32)\n",
       "     @ ~/Documents/GitHub/Phys215-202324-2/02-Performance/Phys215Tools.jl:7\n",
       " [2] floatbits(x::Float64)\n",
       "     @ ~/Documents/GitHub/Phys215-202324-2/02-Performance/Phys215Tools.jl:2\n",
       "\\end{verbatim}\n"
      ],
      "text/markdown": [
       "No documentation found.\n",
       "\n",
       "`floatbits` is a `Function`.\n",
       "\n",
       "```\n",
       "# 2 methods for generic function \"floatbits\" from Main:\n",
       " [1] floatbits(x::Float32)\n",
       "     @ ~/Documents/GitHub/Phys215-202324-2/02-Performance/Phys215Tools.jl:7\n",
       " [2] floatbits(x::Float64)\n",
       "     @ ~/Documents/GitHub/Phys215-202324-2/02-Performance/Phys215Tools.jl:2\n",
       "```\n"
      ],
      "text/plain": [
       "  No documentation found.\n",
       "\n",
       "  \u001b[36mfloatbits\u001b[39m is a \u001b[36mFunction\u001b[39m.\n",
       "\n",
       "\u001b[36m  # 2 methods for generic function \"floatbits\" from Main:\u001b[39m\n",
       "\u001b[36m   [1] floatbits(x::Float32)\u001b[39m\n",
       "\u001b[36m       @ ~/Documents/GitHub/Phys215-202324-2/02-Performance/Phys215Tools.jl:7\u001b[39m\n",
       "\u001b[36m   [2] floatbits(x::Float64)\u001b[39m\n",
       "\u001b[36m       @ ~/Documents/GitHub/Phys215-202324-2/02-Performance/Phys215Tools.jl:2\u001b[39m"
      ]
     },
     "execution_count": 3,
     "metadata": {},
     "output_type": "execute_result"
    }
   ],
   "source": [
    "? floatbits"
   ]
  },
  {
   "cell_type": "markdown",
   "id": "c46e61fe",
   "metadata": {
    "slideshow": {
     "slide_type": "slide"
    }
   },
   "source": [
    "## Fast numbers in Julia\n",
    "\n",
    "> Integers in Julia are stored as system integers.... The `Int` type alias represents the actual integer type used by the system. `Int32` for 32-bit machines; `Int64` for 64-bit machines.[^2]\n",
    "\n",
    "----\n",
    "[^2]: Segupta, Julia High Performance, 2nd Ed. (Packt Publishing, 2019)."
   ]
  },
  {
   "cell_type": "markdown",
   "id": "c7fb1a85",
   "metadata": {
    "slideshow": {
     "slide_type": "slide"
    }
   },
   "source": [
    "## Machine bit size and representation\n",
    "\n",
    "- FOR BASH-like CLI: Use `uname -m` to examine the processor type of your machine.\n",
    "    - The command `uname -a` provides `a`ll the relevant machine information.\n",
    "- Default integer representation depends on machine word size."
   ]
  },
  {
   "cell_type": "code",
   "execution_count": 4,
   "id": "d2a20243",
   "metadata": {
    "scrolled": true
   },
   "outputs": [
    {
     "name": "stdout",
     "output_type": "stream",
     "text": [
      "Darwin Kernel Version 23.3.0: Wed Dec 20 21:28:58 PST 2023; root:xnu-10002.81.5~7/RELEASE_X86_64 x86_64 i386\n"
     ]
    }
   ],
   "source": [
    "; uname -vpm"
   ]
  },
  {
   "cell_type": "markdown",
   "id": "7dfe6e96",
   "metadata": {},
   "source": [
    "**Note** that the semicolon indicates that the command is a bash command.\n",
    "You may need to modify that for non-bash CLI."
   ]
  },
  {
   "cell_type": "markdown",
   "id": "8fe3abe2",
   "metadata": {
    "slideshow": {
     "slide_type": "subslide"
    }
   },
   "source": [
    "### System `WORD_SIZE`\n",
    "\n",
    "- System `WORD_SIZE` becomes the `Int` size (_in bits_) of the Julia installed.\n",
    "- Check out `? sizeof()` for the output of the command.\n",
    "- Use `Sys` to indicate namespace or module scoping."
   ]
  },
  {
   "cell_type": "code",
   "execution_count": 5,
   "id": "91bb0bfe",
   "metadata": {},
   "outputs": [
    {
     "name": "stdout",
     "output_type": "stream",
     "text": [
      "Sys.WORD_SIZE = 64\n"
     ]
    }
   ],
   "source": [
    "@show Sys.WORD_SIZE;"
   ]
  },
  {
   "cell_type": "markdown",
   "id": "7c1197f4",
   "metadata": {
    "slideshow": {
     "slide_type": "subslide"
    }
   },
   "source": [
    "### Use `sizeof()` for byte size\n",
    "\n",
    "- One bit = 1 two-state unit in physical memory\n",
    "- One byte = 8 bits, 2^8 states in physical memory"
   ]
  },
  {
   "cell_type": "code",
   "execution_count": 6,
   "id": "2b71af73",
   "metadata": {
    "editable": true,
    "slideshow": {
     "slide_type": "fragment"
    },
    "tags": []
   },
   "outputs": [
    {
     "data": {
      "text/latex": [
       "\\begin{verbatim}\n",
       "sizeof(T::DataType)\n",
       "sizeof(obj)\n",
       "\\end{verbatim}\n",
       "Size, in bytes, of the canonical binary representation of the given \\texttt{DataType} \\texttt{T}, if any. Or the size, in bytes, of object \\texttt{obj} if it is not a \\texttt{DataType}.\n",
       "\n",
       "See also \\href{@ref}{\\texttt{Base.summarysize}}.\n",
       "\n",
       "\\section{Examples}\n",
       "\\begin{verbatim}\n",
       "julia> sizeof(Float32)\n",
       "4\n",
       "\n",
       "julia> sizeof(ComplexF64)\n",
       "16\n",
       "\n",
       "julia> sizeof(1.0)\n",
       "8\n",
       "\n",
       "julia> sizeof(collect(1.0:10.0))\n",
       "80\n",
       "\n",
       "julia> struct StructWithPadding\n",
       "           x::Int64\n",
       "           flag::Bool\n",
       "       end\n",
       "\n",
       "julia> sizeof(StructWithPadding) # not the sum of `sizeof` of fields due to padding\n",
       "16\n",
       "\n",
       "julia> sizeof(Int64) + sizeof(Bool) # different from above\n",
       "9\n",
       "\\end{verbatim}\n",
       "If \\texttt{DataType} \\texttt{T} does not have a specific size, an error is thrown.\n",
       "\n",
       "\\begin{verbatim}\n",
       "julia> sizeof(AbstractArray)\n",
       "ERROR: Abstract type AbstractArray does not have a definite size.\n",
       "Stacktrace:\n",
       "[...]\n",
       "\\end{verbatim}\n",
       "\\rule{\\textwidth}{1pt}\n",
       "\\begin{verbatim}\n",
       "sizeof(str::AbstractString)\n",
       "\\end{verbatim}\n",
       "Size, in bytes, of the string \\texttt{str}. Equal to the number of code units in \\texttt{str} multiplied by the size, in bytes, of one code unit in \\texttt{str}.\n",
       "\n",
       "\\section{Examples}\n",
       "\\begin{verbatim}\n",
       "julia> sizeof(\"\")\n",
       "0\n",
       "\n",
       "julia> sizeof(\"∀\")\n",
       "3\n",
       "\\end{verbatim}\n"
      ],
      "text/markdown": [
       "```\n",
       "sizeof(T::DataType)\n",
       "sizeof(obj)\n",
       "```\n",
       "\n",
       "Size, in bytes, of the canonical binary representation of the given `DataType` `T`, if any. Or the size, in bytes, of object `obj` if it is not a `DataType`.\n",
       "\n",
       "See also [`Base.summarysize`](@ref).\n",
       "\n",
       "# Examples\n",
       "\n",
       "```jldoctest\n",
       "julia> sizeof(Float32)\n",
       "4\n",
       "\n",
       "julia> sizeof(ComplexF64)\n",
       "16\n",
       "\n",
       "julia> sizeof(1.0)\n",
       "8\n",
       "\n",
       "julia> sizeof(collect(1.0:10.0))\n",
       "80\n",
       "\n",
       "julia> struct StructWithPadding\n",
       "           x::Int64\n",
       "           flag::Bool\n",
       "       end\n",
       "\n",
       "julia> sizeof(StructWithPadding) # not the sum of `sizeof` of fields due to padding\n",
       "16\n",
       "\n",
       "julia> sizeof(Int64) + sizeof(Bool) # different from above\n",
       "9\n",
       "```\n",
       "\n",
       "If `DataType` `T` does not have a specific size, an error is thrown.\n",
       "\n",
       "```jldoctest\n",
       "julia> sizeof(AbstractArray)\n",
       "ERROR: Abstract type AbstractArray does not have a definite size.\n",
       "Stacktrace:\n",
       "[...]\n",
       "```\n",
       "\n",
       "---\n",
       "\n",
       "```\n",
       "sizeof(str::AbstractString)\n",
       "```\n",
       "\n",
       "Size, in bytes, of the string `str`. Equal to the number of code units in `str` multiplied by the size, in bytes, of one code unit in `str`.\n",
       "\n",
       "# Examples\n",
       "\n",
       "```jldoctest\n",
       "julia> sizeof(\"\")\n",
       "0\n",
       "\n",
       "julia> sizeof(\"∀\")\n",
       "3\n",
       "```\n"
      ],
      "text/plain": [
       "\u001b[36m  sizeof(T::DataType)\u001b[39m\n",
       "\u001b[36m  sizeof(obj)\u001b[39m\n",
       "\n",
       "  Size, in bytes, of the canonical binary representation of the given \u001b[36mDataType\u001b[39m\n",
       "  \u001b[36mT\u001b[39m, if any. Or the size, in bytes, of object \u001b[36mobj\u001b[39m if it is not a \u001b[36mDataType\u001b[39m.\n",
       "\n",
       "  See also \u001b[36mBase.summarysize\u001b[39m.\n",
       "\n",
       "\u001b[1m  Examples\u001b[22m\n",
       "\u001b[1m  ≡≡≡≡≡≡≡≡\u001b[22m\n",
       "\n",
       "\u001b[36m  julia> sizeof(Float32)\u001b[39m\n",
       "\u001b[36m  4\u001b[39m\n",
       "\u001b[36m  \u001b[39m\n",
       "\u001b[36m  julia> sizeof(ComplexF64)\u001b[39m\n",
       "\u001b[36m  16\u001b[39m\n",
       "\u001b[36m  \u001b[39m\n",
       "\u001b[36m  julia> sizeof(1.0)\u001b[39m\n",
       "\u001b[36m  8\u001b[39m\n",
       "\u001b[36m  \u001b[39m\n",
       "\u001b[36m  julia> sizeof(collect(1.0:10.0))\u001b[39m\n",
       "\u001b[36m  80\u001b[39m\n",
       "\u001b[36m  \u001b[39m\n",
       "\u001b[36m  julia> struct StructWithPadding\u001b[39m\n",
       "\u001b[36m             x::Int64\u001b[39m\n",
       "\u001b[36m             flag::Bool\u001b[39m\n",
       "\u001b[36m         end\u001b[39m\n",
       "\u001b[36m  \u001b[39m\n",
       "\u001b[36m  julia> sizeof(StructWithPadding) # not the sum of `sizeof` of fields due to padding\u001b[39m\n",
       "\u001b[36m  16\u001b[39m\n",
       "\u001b[36m  \u001b[39m\n",
       "\u001b[36m  julia> sizeof(Int64) + sizeof(Bool) # different from above\u001b[39m\n",
       "\u001b[36m  9\u001b[39m\n",
       "\n",
       "  If \u001b[36mDataType\u001b[39m \u001b[36mT\u001b[39m does not have a specific size, an error is thrown.\n",
       "\n",
       "\u001b[36m  julia> sizeof(AbstractArray)\u001b[39m\n",
       "\u001b[36m  ERROR: Abstract type AbstractArray does not have a definite size.\u001b[39m\n",
       "\u001b[36m  Stacktrace:\u001b[39m\n",
       "\u001b[36m  [...]\u001b[39m\n",
       "\n",
       "  ────────────────────────────────────────────────────────────────────────────\n",
       "\n",
       "\u001b[36m  sizeof(str::AbstractString)\u001b[39m\n",
       "\n",
       "  Size, in bytes, of the string \u001b[36mstr\u001b[39m. Equal to the number of code units in \u001b[36mstr\u001b[39m\n",
       "  multiplied by the size, in bytes, of one code unit in \u001b[36mstr\u001b[39m.\n",
       "\n",
       "\u001b[1m  Examples\u001b[22m\n",
       "\u001b[1m  ≡≡≡≡≡≡≡≡\u001b[22m\n",
       "\n",
       "\u001b[36m  julia> sizeof(\"\")\u001b[39m\n",
       "\u001b[36m  0\u001b[39m\n",
       "\u001b[36m  \u001b[39m\n",
       "\u001b[36m  julia> sizeof(\"∀\")\u001b[39m\n",
       "\u001b[36m  3\u001b[39m"
      ]
     },
     "execution_count": 6,
     "metadata": {},
     "output_type": "execute_result"
    }
   ],
   "source": [
    "? sizeof()"
   ]
  },
  {
   "cell_type": "markdown",
   "id": "1cc51162",
   "metadata": {
    "editable": true,
    "slideshow": {
     "slide_type": "subslide"
    },
    "tags": []
   },
   "source": [
    "### `sizeof()` different `Int` type\n",
    "\n",
    "- `Int` uses the machine default integer size\n",
    "- Bigger integers may be used up to size 128 bytes (2^1024 physical states total)"
   ]
  },
  {
   "cell_type": "code",
   "execution_count": 7,
   "id": "d2195efa",
   "metadata": {
    "scrolled": true,
    "slideshow": {
     "slide_type": "-"
    }
   },
   "outputs": [
    {
     "name": "stdout",
     "output_type": "stream",
     "text": [
      "sizeof(Int) = 8\n",
      "sizeof(Int32) = 4\n",
      "sizeof(Int64) = 8\n",
      "sizeof(Int128) = 16\n"
     ]
    }
   ],
   "source": [
    "@show sizeof(Int); # uses machine's default integer representation\n",
    "@show sizeof(Int32);\n",
    "@show sizeof(Int64);\n",
    "@show sizeof(Int128);"
   ]
  },
  {
   "cell_type": "markdown",
   "id": "67ae5108",
   "metadata": {
    "slideshow": {
     "slide_type": "slide"
    }
   },
   "source": [
    "## Machine bit representation of `Int`s\n",
    "\n",
    "- Similar to base-10 representation for whole numbers\n",
    "- Applicable only for whole numbers\n",
    "- Different scheme used for numbers with fractional part: floating-point representation"
   ]
  },
  {
   "cell_type": "markdown",
   "id": "1b5b0760",
   "metadata": {
    "slideshow": {
     "slide_type": "subslide"
    }
   },
   "source": [
    "### Algorithm for finding bit representation\n",
    "\n",
    "- [Divide by two method](https://en.wikipedia.org/wiki/Binary_number#Decimal_to_binary)"
   ]
  },
  {
   "cell_type": "markdown",
   "id": "02014069",
   "metadata": {
    "slideshow": {
     "slide_type": "subslide"
    }
   },
   "source": [
    "### Sample code"
   ]
  },
  {
   "cell_type": "code",
   "execution_count": 8,
   "id": "43ed767d",
   "metadata": {},
   "outputs": [
    {
     "name": "stdout",
     "output_type": "stream",
     "text": [
      "(x, r) = (12, 1)\n",
      "(x, r) = (6, 0)\n",
      "(x, r) = (3, 0)\n",
      "(x, r) = (1, 1)\n",
      "(x, r) = (0, 1)\n",
      "sbit = \"11001\"\n"
     ]
    }
   ],
   "source": [
    "x = 25;\n",
    "\n",
    "sbit = \"\"; #initial string, none\n",
    "while x != 0\n",
    "    r = rem(x,2); #returns the remainder\n",
    "    x = div(x,2); #returns the exact division\n",
    "    sbit = string(r)*sbit; #append to the left\n",
    "    @show x, r\n",
    "end\n",
    "\n",
    "@show sbit;"
   ]
  },
  {
   "cell_type": "markdown",
   "id": "89948a05",
   "metadata": {
    "slideshow": {
     "slide_type": "subslide"
    }
   },
   "source": [
    "### Checking with `parse()`r function"
   ]
  },
  {
   "cell_type": "code",
   "execution_count": 9,
   "id": "3d5fa1e1",
   "metadata": {},
   "outputs": [
    {
     "name": "stdout",
     "output_type": "stream",
     "text": [
      "sbit = \"11001\"\n",
      "parse(Int, sbit; base = 2) = 25\n"
     ]
    }
   ],
   "source": [
    "@show sbit;\n",
    "@show parse(Int,sbit;base=2);"
   ]
  },
  {
   "cell_type": "markdown",
   "id": "ec18122d",
   "metadata": {
    "slideshow": {
     "slide_type": "subslide"
    }
   },
   "source": [
    "### Native function for `bitstring()`\n",
    "- `bitstring()` function exists within Julia."
   ]
  },
  {
   "cell_type": "code",
   "execution_count": 10,
   "id": "f53d476f",
   "metadata": {
    "scrolled": true
   },
   "outputs": [
    {
     "name": "stdout",
     "output_type": "stream",
     "text": [
      "search: \u001b[0m\u001b[1mb\u001b[22m\u001b[0m\u001b[1mi\u001b[22m\u001b[0m\u001b[1mt\u001b[22m\u001b[0m\u001b[1ms\u001b[22m\u001b[0m\u001b[1mt\u001b[22m\u001b[0m\u001b[1mr\u001b[22m\u001b[0m\u001b[1mi\u001b[22m\u001b[0m\u001b[1mn\u001b[22m\u001b[0m\u001b[1mg\u001b[22m Su\u001b[0m\u001b[1mb\u001b[22mst\u001b[0m\u001b[1mi\u001b[22m\u001b[0m\u001b[1mt\u001b[22mution\u001b[0m\u001b[1mS\u001b[22m\u001b[0m\u001b[1mt\u001b[22m\u001b[0m\u001b[1mr\u001b[22m\u001b[0m\u001b[1mi\u001b[22m\u001b[0m\u001b[1mn\u001b[22m\u001b[0m\u001b[1mg\u001b[22m\n",
      "\n"
     ]
    },
    {
     "data": {
      "text/latex": [
       "\\begin{verbatim}\n",
       "bitstring(n)\n",
       "\\end{verbatim}\n",
       "A string giving the literal bit representation of a primitive type.\n",
       "\n",
       "See also \\href{@ref}{\\texttt{count\\_ones}}, \\href{@ref}{\\texttt{count\\_zeros}}, \\href{@ref}{\\texttt{digits}}.\n",
       "\n",
       "\\section{Examples}\n",
       "\\begin{verbatim}\n",
       "julia> bitstring(Int32(4))\n",
       "\"00000000000000000000000000000100\"\n",
       "\n",
       "julia> bitstring(2.2)\n",
       "\"0100000000000001100110011001100110011001100110011001100110011010\"\n",
       "\\end{verbatim}\n"
      ],
      "text/markdown": [
       "```\n",
       "bitstring(n)\n",
       "```\n",
       "\n",
       "A string giving the literal bit representation of a primitive type.\n",
       "\n",
       "See also [`count_ones`](@ref), [`count_zeros`](@ref), [`digits`](@ref).\n",
       "\n",
       "# Examples\n",
       "\n",
       "```jldoctest\n",
       "julia> bitstring(Int32(4))\n",
       "\"00000000000000000000000000000100\"\n",
       "\n",
       "julia> bitstring(2.2)\n",
       "\"0100000000000001100110011001100110011001100110011001100110011010\"\n",
       "```\n"
      ],
      "text/plain": [
       "\u001b[36m  bitstring(n)\u001b[39m\n",
       "\n",
       "  A string giving the literal bit representation of a primitive type.\n",
       "\n",
       "  See also \u001b[36mcount_ones\u001b[39m, \u001b[36mcount_zeros\u001b[39m, \u001b[36mdigits\u001b[39m.\n",
       "\n",
       "\u001b[1m  Examples\u001b[22m\n",
       "\u001b[1m  ≡≡≡≡≡≡≡≡\u001b[22m\n",
       "\n",
       "\u001b[36m  julia> bitstring(Int32(4))\u001b[39m\n",
       "\u001b[36m  \"00000000000000000000000000000100\"\u001b[39m\n",
       "\u001b[36m  \u001b[39m\n",
       "\u001b[36m  julia> bitstring(2.2)\u001b[39m\n",
       "\u001b[36m  \"0100000000000001100110011001100110011001100110011001100110011010\"\u001b[39m"
      ]
     },
     "execution_count": 10,
     "metadata": {},
     "output_type": "execute_result"
    }
   ],
   "source": [
    "? bitstring"
   ]
  },
  {
   "cell_type": "markdown",
   "id": "0f171890",
   "metadata": {
    "slideshow": {
     "slide_type": "subslide"
    }
   },
   "source": [
    "### Native function for `bitstring()`\n",
    "- `bitstring()` function exists within Julia."
   ]
  },
  {
   "cell_type": "code",
   "execution_count": 11,
   "id": "7cfbe5d7",
   "metadata": {},
   "outputs": [
    {
     "name": "stdout",
     "output_type": "stream",
     "text": [
      "x = 25\n",
      "bitstring(x) = \"0000000000000000000000000000000000000000000000000000000000011001\"\n",
      "sbit = \"11001\"\n"
     ]
    }
   ],
   "source": [
    "x = 25;\n",
    "@show x;\n",
    "@show bitstring(x);\n",
    "@show sbit;"
   ]
  },
  {
   "cell_type": "markdown",
   "id": "e03d8384",
   "metadata": {
    "slideshow": {
     "slide_type": "slide"
    }
   },
   "source": [
    "## Machine representation (IEEE 754 standards)\n",
    "\n",
    "- Not all numbers perfectly represented in machines\n",
    "- Binary representation limitations results to under- and overflows\n",
    "- Floating-point representation in base 2 used for real numbers\n",
    "- Machine representation covered by [the IEEE Standard for Floating-Point Arithmetic (IEEE 754)](https://en.wikipedia.org/wiki/IEEE_754)\n",
    "- illustration found in [GeeksForGeeks page (:warning: with paid ads)](https://www.geeksforgeeks.org/ieee-standard-754-floating-point-numbers/)."
   ]
  },
  {
   "cell_type": "markdown",
   "id": "4b027510",
   "metadata": {
    "slideshow": {
     "slide_type": "subslide"
    }
   },
   "source": [
    "## Mem size and allocation scheme\n",
    "\n",
    "Simple `Int` type and `FloatX` type."
   ]
  },
  {
   "cell_type": "code",
   "execution_count": 13,
   "id": "6cb6898d",
   "metadata": {},
   "outputs": [
    {
     "name": "stdout",
     "output_type": "stream",
     "text": [
      "0000000000000000000000000000000000000000000000000000000000000011\n",
      "length(bitstring(3)) = 64\n"
     ]
    }
   ],
   "source": [
    "println( bitstring(3) );\n",
    "@show length( bitstring(3) );"
   ]
  },
  {
   "cell_type": "code",
   "execution_count": 14,
   "id": "d549a598",
   "metadata": {
    "slideshow": {
     "slide_type": "fragment"
    }
   },
   "outputs": [
    {
     "name": "stdout",
     "output_type": "stream",
     "text": [
      "0100000000001000000000000000000000000000000000000000000000000000\n",
      "length(bitstring(3.0)) = 64\n"
     ]
    }
   ],
   "source": [
    "println( bitstring(3.0) );\n",
    "@show length(bitstring(3.0));"
   ]
  },
  {
   "cell_type": "markdown",
   "id": "0816b649",
   "metadata": {
    "slideshow": {
     "slide_type": "fragment"
    }
   },
   "source": [
    "- 💡 Same length; different information.\n",
    "- 📖 Check out [the IEEE Standard for Floating-Point Arithmetic (IEEE 754)](https://en.wikipedia.org/wiki/IEEE_754) for the bit assignment for `Float64`"
   ]
  },
  {
   "cell_type": "markdown",
   "id": "cb3184b2",
   "metadata": {
    "slideshow": {
     "slide_type": "slide"
    }
   },
   "source": [
    "## Julia `Numbers` and related functions\n",
    "\n",
    "- Basic functions provided to allow analysis of `Numbers` representation\n",
    "- [A range of primitive numeric representations available](https://docs.julialang.org/en/v1/manual/integers-and-floating-point-numbers/)\n",
    "- Also [support for arithmetic that requires arbitrary precision](https://docs.julialang.org/en/v1/manual/integers-and-floating-point-numbers/#Arbitrary-Precision-Arithmetic)."
   ]
  },
  {
   "cell_type": "markdown",
   "id": "bd4ac493",
   "metadata": {
    "editable": true,
    "slideshow": {
     "slide_type": "subslide"
    },
    "tags": []
   },
   "source": [
    "### Checkout `Int` type types\n",
    "\n",
    "- Default is machine `WORD_LENGTH`.\n",
    "- Try out different `Int`s."
   ]
  },
  {
   "cell_type": "code",
   "execution_count": 26,
   "id": "70cb039b",
   "metadata": {
    "slideshow": {
     "slide_type": "fragment"
    }
   },
   "outputs": [
    {
     "name": "stdout",
     "output_type": "stream",
     "text": [
      "bitstring(Int8(126)) = \"01111110\"\n",
      "bitstring(Int16(126)) = \"0000000001111110\"\n",
      "bitstring(Int32(126)) = \"00000000000000000000000001111110\"\n"
     ]
    }
   ],
   "source": [
    "@show bitstring(Int8(126)); # [-2^7, 2^7-1] (one sign bit, leftmost)\n",
    "@show bitstring(Int16(126));\n",
    "@show bitstring(Int32(126));"
   ]
  },
  {
   "cell_type": "markdown",
   "id": "eb6eb6ec",
   "metadata": {
    "slideshow": {
     "slide_type": "slide"
    }
   },
   "source": [
    "# Fin"
   ]
  }
 ],
 "metadata": {
  "@webio": {
   "lastCommId": null,
   "lastKernelId": null
  },
  "celltoolbar": "Slideshow",
  "kernelspec": {
   "display_name": "Julia 1.10.1",
   "language": "julia",
   "name": "julia-1.10"
  },
  "language_info": {
   "file_extension": ".jl",
   "mimetype": "application/julia",
   "name": "julia",
   "version": "1.10.1"
  }
 },
 "nbformat": 4,
 "nbformat_minor": 5
}
