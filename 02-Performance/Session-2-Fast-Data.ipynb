{
 "cells": [
  {
   "cell_type": "markdown",
   "id": "3a6f3bfb",
   "metadata": {
    "slideshow": {
     "slide_type": "slide"
    }
   },
   "source": [
    "# Session 2: Fast machine representation\n",
    "\n",
    "In this session, we cover the use of fast `Numbers` in Julia.\n",
    "Particularly:[^1]\n",
    "- [ ] Demonstrate tradeoff between runtime speed and over- or underflow checks in [number representations in Julia](https://docs.julialang.org/en/v1/manual/integers-and-floating-point-numbers/).\n",
    "- [ ] Analyze the floating point layout or architecture used by your Julia installation.\n",
    "- [ ] Show how much `@fastmath` macro speeds up computation with a trades off in some level of accuracy. The `sum_diff()` function in the main book reference may be replicated for this purpose.\n",
    "\n",
    "----\n",
    "[^1]: Covers Chapter 5 of Segupta, _Julia High Performance, 2nd Ed._ (Packt Publishing, 2019)."
   ]
  },
  {
   "cell_type": "code",
   "execution_count": 9,
   "id": "baf8b725",
   "metadata": {
    "scrolled": false,
    "slideshow": {
     "slide_type": "subslide"
    }
   },
   "outputs": [
    {
     "name": "stderr",
     "output_type": "stream",
     "text": [
      "\u001b[32m\u001b[1m  Activating\u001b[22m\u001b[39m project at `~/Documents/GitHub/Phys215-202324-2/02-Performance`\n",
      "\u001b[32m\u001b[1m   Resolving\u001b[22m\u001b[39m package versions...\n",
      "\u001b[32m\u001b[1m  No Changes\u001b[22m\u001b[39m to `~/Documents/GitHub/Phys215-202324-2/02-Performance/Project.toml`\n",
      "\u001b[32m\u001b[1m  No Changes\u001b[22m\u001b[39m to `~/Documents/GitHub/Phys215-202324-2/02-Performance/Manifest.toml`\n"
     ]
    }
   ],
   "source": [
    "using Pkg;\n",
    "Pkg.activate(\".\");\n",
    "Pkg.add([\n",
    "     \"Plots\"\n",
    "    ,\"BenchmarkTools\"\n",
    "]);\n",
    "\n",
    "using Plots, BenchmarkTools;"
   ]
  },
  {
   "cell_type": "code",
   "execution_count": 10,
   "id": "1b0e4e1f",
   "metadata": {
    "slideshow": {
     "slide_type": "fragment"
    }
   },
   "outputs": [
    {
     "data": {
      "text/plain": [
       "floatbits (generic function with 2 methods)"
      ]
     },
     "execution_count": 10,
     "metadata": {},
     "output_type": "execute_result"
    }
   ],
   "source": [
    "include(\"Phys215Tools.jl\") #insert pre-typed tool functions, fast and dirty style"
   ]
  },
  {
   "cell_type": "markdown",
   "id": "c46e61fe",
   "metadata": {
    "slideshow": {
     "slide_type": "slide"
    }
   },
   "source": [
    "## Fast numbers in Julia\n",
    "\n",
    "> Integers in Julia are stored as system integers.... The `Int` type alias represents the actual integer type used by the system. `Int32` for 32-bit machines; `Int64` for 64-bit machines.[^2]\n",
    "\n",
    "----\n",
    "[^2]: Segupta, Julia High Performance, 2nd Ed. (Packt Publishing, 2019)."
   ]
  },
  {
   "cell_type": "markdown",
   "id": "c7fb1a85",
   "metadata": {
    "slideshow": {
     "slide_type": "slide"
    }
   },
   "source": [
    "## Machine bit size and representation\n",
    "\n",
    "- FOR BASH-like CLI: Use `uname -m` to examine the processor type of your machine.\n",
    "    - The command `uname -a` provides `a`ll the relevant machine information.\n",
    "- Default integer representation depends on machine word size."
   ]
  },
  {
   "cell_type": "code",
   "execution_count": 29,
   "id": "d2a20243",
   "metadata": {
    "scrolled": true
   },
   "outputs": [
    {
     "name": "stdout",
     "output_type": "stream",
     "text": [
      "Darwin Kernel Version 23.3.0: Wed Dec 20 21:28:58 PST 2023; root:xnu-10002.81.5~7/RELEASE_X86_64 x86_64 i386\n"
     ]
    }
   ],
   "source": [
    "; uname -vpm"
   ]
  },
  {
   "cell_type": "markdown",
   "id": "7dfe6e96",
   "metadata": {},
   "source": [
    "**Note** that the semicolon indicates that the command is a bash command.\n",
    "You may need to modify that for non-bash CLI."
   ]
  },
  {
   "cell_type": "markdown",
   "id": "8fe3abe2",
   "metadata": {
    "slideshow": {
     "slide_type": "subslide"
    }
   },
   "source": [
    "### System `WORD_SIZE`\n",
    "\n",
    "- System `WORD_SIZE` becomes the `Int` size (_in bits_) of the Julia installed.\n",
    "- Check out `? sizeof()` for the output of the command.\n",
    "- Use `Sys` to indicate namespace or module scoping."
   ]
  },
  {
   "cell_type": "code",
   "execution_count": 30,
   "id": "91bb0bfe",
   "metadata": {},
   "outputs": [
    {
     "name": "stdout",
     "output_type": "stream",
     "text": [
      "Sys.WORD_SIZE = 64\n"
     ]
    }
   ],
   "source": [
    "@show Sys.WORD_SIZE;"
   ]
  },
  {
   "cell_type": "markdown",
   "id": "7c1197f4",
   "metadata": {
    "slideshow": {
     "slide_type": "subslide"
    }
   },
   "source": [
    "### Use `sizeof()` for byte size\n",
    "\n",
    "- One bit = 1 two-state unit in physical memory\n",
    "- One byte = 8 bits, 2^8 states in physical memory"
   ]
  },
  {
   "cell_type": "code",
   "execution_count": 31,
   "id": "2b71af73",
   "metadata": {
    "scrolled": false,
    "slideshow": {
     "slide_type": "fragment"
    }
   },
   "outputs": [
    {
     "data": {
      "text/latex": [
       "\\begin{verbatim}\n",
       "sizeof(T::DataType)\n",
       "sizeof(obj)\n",
       "\\end{verbatim}\n",
       "Size, in bytes, of the canonical binary representation of the given \\texttt{DataType} \\texttt{T}, if any. Or the size, in bytes, of object \\texttt{obj} if it is not a \\texttt{DataType}.\n",
       "\n",
       "See also \\href{@ref}{\\texttt{Base.summarysize}}.\n",
       "\n",
       "\\section{Examples}\n",
       "\\begin{verbatim}\n",
       "julia> sizeof(Float32)\n",
       "4\n",
       "\n",
       "julia> sizeof(ComplexF64)\n",
       "16\n",
       "\n",
       "julia> sizeof(1.0)\n",
       "8\n",
       "\n",
       "julia> sizeof(collect(1.0:10.0))\n",
       "80\n",
       "\n",
       "julia> struct StructWithPadding\n",
       "           x::Int64\n",
       "           flag::Bool\n",
       "       end\n",
       "\n",
       "julia> sizeof(StructWithPadding) # not the sum of `sizeof` of fields due to padding\n",
       "16\n",
       "\n",
       "julia> sizeof(Int64) + sizeof(Bool) # different from above\n",
       "9\n",
       "\\end{verbatim}\n",
       "If \\texttt{DataType} \\texttt{T} does not have a specific size, an error is thrown.\n",
       "\n",
       "\\begin{verbatim}\n",
       "julia> sizeof(AbstractArray)\n",
       "ERROR: Abstract type AbstractArray does not have a definite size.\n",
       "Stacktrace:\n",
       "[...]\n",
       "\\end{verbatim}\n",
       "\\rule{\\textwidth}{1pt}\n",
       "\\begin{verbatim}\n",
       "sizeof(str::AbstractString)\n",
       "\\end{verbatim}\n",
       "Size, in bytes, of the string \\texttt{str}. Equal to the number of code units in \\texttt{str} multiplied by the size, in bytes, of one code unit in \\texttt{str}.\n",
       "\n",
       "\\section{Examples}\n",
       "\\begin{verbatim}\n",
       "julia> sizeof(\"\")\n",
       "0\n",
       "\n",
       "julia> sizeof(\"∀\")\n",
       "3\n",
       "\\end{verbatim}\n"
      ],
      "text/markdown": [
       "```\n",
       "sizeof(T::DataType)\n",
       "sizeof(obj)\n",
       "```\n",
       "\n",
       "Size, in bytes, of the canonical binary representation of the given `DataType` `T`, if any. Or the size, in bytes, of object `obj` if it is not a `DataType`.\n",
       "\n",
       "See also [`Base.summarysize`](@ref).\n",
       "\n",
       "# Examples\n",
       "\n",
       "```jldoctest\n",
       "julia> sizeof(Float32)\n",
       "4\n",
       "\n",
       "julia> sizeof(ComplexF64)\n",
       "16\n",
       "\n",
       "julia> sizeof(1.0)\n",
       "8\n",
       "\n",
       "julia> sizeof(collect(1.0:10.0))\n",
       "80\n",
       "\n",
       "julia> struct StructWithPadding\n",
       "           x::Int64\n",
       "           flag::Bool\n",
       "       end\n",
       "\n",
       "julia> sizeof(StructWithPadding) # not the sum of `sizeof` of fields due to padding\n",
       "16\n",
       "\n",
       "julia> sizeof(Int64) + sizeof(Bool) # different from above\n",
       "9\n",
       "```\n",
       "\n",
       "If `DataType` `T` does not have a specific size, an error is thrown.\n",
       "\n",
       "```jldoctest\n",
       "julia> sizeof(AbstractArray)\n",
       "ERROR: Abstract type AbstractArray does not have a definite size.\n",
       "Stacktrace:\n",
       "[...]\n",
       "```\n",
       "\n",
       "---\n",
       "\n",
       "```\n",
       "sizeof(str::AbstractString)\n",
       "```\n",
       "\n",
       "Size, in bytes, of the string `str`. Equal to the number of code units in `str` multiplied by the size, in bytes, of one code unit in `str`.\n",
       "\n",
       "# Examples\n",
       "\n",
       "```jldoctest\n",
       "julia> sizeof(\"\")\n",
       "0\n",
       "\n",
       "julia> sizeof(\"∀\")\n",
       "3\n",
       "```\n"
      ],
      "text/plain": [
       "\u001b[36m  sizeof(T::DataType)\u001b[39m\n",
       "\u001b[36m  sizeof(obj)\u001b[39m\n",
       "\n",
       "  Size, in bytes, of the canonical binary representation of the given \u001b[36mDataType\u001b[39m\n",
       "  \u001b[36mT\u001b[39m, if any. Or the size, in bytes, of object \u001b[36mobj\u001b[39m if it is not a \u001b[36mDataType\u001b[39m.\n",
       "\n",
       "  See also \u001b[36mBase.summarysize\u001b[39m.\n",
       "\n",
       "\u001b[1m  Examples\u001b[22m\n",
       "\u001b[1m  ≡≡≡≡≡≡≡≡\u001b[22m\n",
       "\n",
       "\u001b[36m  julia> sizeof(Float32)\u001b[39m\n",
       "\u001b[36m  4\u001b[39m\n",
       "\u001b[36m  \u001b[39m\n",
       "\u001b[36m  julia> sizeof(ComplexF64)\u001b[39m\n",
       "\u001b[36m  16\u001b[39m\n",
       "\u001b[36m  \u001b[39m\n",
       "\u001b[36m  julia> sizeof(1.0)\u001b[39m\n",
       "\u001b[36m  8\u001b[39m\n",
       "\u001b[36m  \u001b[39m\n",
       "\u001b[36m  julia> sizeof(collect(1.0:10.0))\u001b[39m\n",
       "\u001b[36m  80\u001b[39m\n",
       "\u001b[36m  \u001b[39m\n",
       "\u001b[36m  julia> struct StructWithPadding\u001b[39m\n",
       "\u001b[36m             x::Int64\u001b[39m\n",
       "\u001b[36m             flag::Bool\u001b[39m\n",
       "\u001b[36m         end\u001b[39m\n",
       "\u001b[36m  \u001b[39m\n",
       "\u001b[36m  julia> sizeof(StructWithPadding) # not the sum of `sizeof` of fields due to padding\u001b[39m\n",
       "\u001b[36m  16\u001b[39m\n",
       "\u001b[36m  \u001b[39m\n",
       "\u001b[36m  julia> sizeof(Int64) + sizeof(Bool) # different from above\u001b[39m\n",
       "\u001b[36m  9\u001b[39m\n",
       "\n",
       "  If \u001b[36mDataType\u001b[39m \u001b[36mT\u001b[39m does not have a specific size, an error is thrown.\n",
       "\n",
       "\u001b[36m  julia> sizeof(AbstractArray)\u001b[39m\n",
       "\u001b[36m  ERROR: Abstract type AbstractArray does not have a definite size.\u001b[39m\n",
       "\u001b[36m  Stacktrace:\u001b[39m\n",
       "\u001b[36m  [...]\u001b[39m\n",
       "\n",
       "  ────────────────────────────────────────────────────────────────────────────\n",
       "\n",
       "\u001b[36m  sizeof(str::AbstractString)\u001b[39m\n",
       "\n",
       "  Size, in bytes, of the string \u001b[36mstr\u001b[39m. Equal to the number of code units in \u001b[36mstr\u001b[39m\n",
       "  multiplied by the size, in bytes, of one code unit in \u001b[36mstr\u001b[39m.\n",
       "\n",
       "\u001b[1m  Examples\u001b[22m\n",
       "\u001b[1m  ≡≡≡≡≡≡≡≡\u001b[22m\n",
       "\n",
       "\u001b[36m  julia> sizeof(\"\")\u001b[39m\n",
       "\u001b[36m  0\u001b[39m\n",
       "\u001b[36m  \u001b[39m\n",
       "\u001b[36m  julia> sizeof(\"∀\")\u001b[39m\n",
       "\u001b[36m  3\u001b[39m"
      ]
     },
     "execution_count": 31,
     "metadata": {},
     "output_type": "execute_result"
    }
   ],
   "source": [
    "? sizeof()"
   ]
  },
  {
   "cell_type": "markdown",
   "id": "1cc51162",
   "metadata": {
    "slideshow": {
     "slide_type": "subslide"
    }
   },
   "source": [
    "### `sizeof()` different `Int` type\n",
    "\n",
    "- `Int` uses the machine default integer size\n",
    "- Bigger integers may be used up to size 128 bytes (2^1024 physical states total)"
   ]
  },
  {
   "cell_type": "code",
   "execution_count": 32,
   "id": "d2195efa",
   "metadata": {
    "scrolled": true,
    "slideshow": {
     "slide_type": "-"
    }
   },
   "outputs": [
    {
     "name": "stdout",
     "output_type": "stream",
     "text": [
      "sizeof(Int) = 8\n",
      "sizeof(Int32) = 4\n",
      "sizeof(Int64) = 8\n",
      "sizeof(Int128) = 16\n"
     ]
    }
   ],
   "source": [
    "@show sizeof(Int); # uses machine's default integer representation\n",
    "@show sizeof(Int32);\n",
    "@show sizeof(Int64);\n",
    "@show sizeof(Int128);"
   ]
  },
  {
   "cell_type": "markdown",
   "id": "67ae5108",
   "metadata": {
    "slideshow": {
     "slide_type": "slide"
    }
   },
   "source": [
    "## Machine bit representation of `Int`s\n",
    "\n",
    "- Similar to base-10 representation for whole numbers\n",
    "- Applicable only for whole numbers\n",
    "- Different scheme used for numbers with fractional part: floating-point representation"
   ]
  },
  {
   "cell_type": "markdown",
   "id": "1b5b0760",
   "metadata": {
    "slideshow": {
     "slide_type": "subslide"
    }
   },
   "source": [
    "## Algorithm for finding bit representation\n",
    "\n",
    "- [Divide by two method](https://en.wikipedia.org/wiki/Binary_number#Decimal_to_binary)\n",
    "- `bitstring()` function exists within Julia."
   ]
  },
  {
   "cell_type": "code",
   "execution_count": 28,
   "id": "f53d476f",
   "metadata": {},
   "outputs": [
    {
     "name": "stdout",
     "output_type": "stream",
     "text": [
      "search: \u001b[0m\u001b[1mb\u001b[22m\u001b[0m\u001b[1mi\u001b[22m\u001b[0m\u001b[1mt\u001b[22m\u001b[0m\u001b[1ms\u001b[22m\u001b[0m\u001b[1mt\u001b[22m\u001b[0m\u001b[1mr\u001b[22m\u001b[0m\u001b[1mi\u001b[22m\u001b[0m\u001b[1mn\u001b[22m\u001b[0m\u001b[1mg\u001b[22m Su\u001b[0m\u001b[1mb\u001b[22mst\u001b[0m\u001b[1mi\u001b[22m\u001b[0m\u001b[1mt\u001b[22mution\u001b[0m\u001b[1mS\u001b[22m\u001b[0m\u001b[1mt\u001b[22m\u001b[0m\u001b[1mr\u001b[22m\u001b[0m\u001b[1mi\u001b[22m\u001b[0m\u001b[1mn\u001b[22m\u001b[0m\u001b[1mg\u001b[22m\n",
      "\n"
     ]
    },
    {
     "data": {
      "text/latex": [
       "\\begin{verbatim}\n",
       "bitstring(n)\n",
       "\\end{verbatim}\n",
       "A string giving the literal bit representation of a primitive type.\n",
       "\n",
       "See also \\href{@ref}{\\texttt{count\\_ones}}, \\href{@ref}{\\texttt{count\\_zeros}}, \\href{@ref}{\\texttt{digits}}.\n",
       "\n",
       "\\section{Examples}\n",
       "\\begin{verbatim}\n",
       "julia> bitstring(Int32(4))\n",
       "\"00000000000000000000000000000100\"\n",
       "\n",
       "julia> bitstring(2.2)\n",
       "\"0100000000000001100110011001100110011001100110011001100110011010\"\n",
       "\\end{verbatim}\n"
      ],
      "text/markdown": [
       "```\n",
       "bitstring(n)\n",
       "```\n",
       "\n",
       "A string giving the literal bit representation of a primitive type.\n",
       "\n",
       "See also [`count_ones`](@ref), [`count_zeros`](@ref), [`digits`](@ref).\n",
       "\n",
       "# Examples\n",
       "\n",
       "```jldoctest\n",
       "julia> bitstring(Int32(4))\n",
       "\"00000000000000000000000000000100\"\n",
       "\n",
       "julia> bitstring(2.2)\n",
       "\"0100000000000001100110011001100110011001100110011001100110011010\"\n",
       "```\n"
      ],
      "text/plain": [
       "\u001b[36m  bitstring(n)\u001b[39m\n",
       "\n",
       "  A string giving the literal bit representation of a primitive type.\n",
       "\n",
       "  See also \u001b[36mcount_ones\u001b[39m, \u001b[36mcount_zeros\u001b[39m, \u001b[36mdigits\u001b[39m.\n",
       "\n",
       "\u001b[1m  Examples\u001b[22m\n",
       "\u001b[1m  ≡≡≡≡≡≡≡≡\u001b[22m\n",
       "\n",
       "\u001b[36m  julia> bitstring(Int32(4))\u001b[39m\n",
       "\u001b[36m  \"00000000000000000000000000000100\"\u001b[39m\n",
       "\u001b[36m  \u001b[39m\n",
       "\u001b[36m  julia> bitstring(2.2)\u001b[39m\n",
       "\u001b[36m  \"0100000000000001100110011001100110011001100110011001100110011010\"\u001b[39m"
      ]
     },
     "execution_count": 28,
     "metadata": {},
     "output_type": "execute_result"
    }
   ],
   "source": [
    "? bitstring"
   ]
  },
  {
   "cell_type": "markdown",
   "id": "e03d8384",
   "metadata": {
    "slideshow": {
     "slide_type": "slide"
    }
   },
   "source": [
    "## Machine representation (IEEE 754 standards)\n",
    "\n",
    "- Not all numbers perfectly represented in machines\n",
    "- Binary representation limitations results to under- and overflows\n",
    "- Floating-point representation in base 2 used for real numbers\n",
    "- Machine representation covered by [the IEEE Standard for Floating-Point Arithmetic (IEEE 754)](https://en.wikipedia.org/wiki/IEEE_754)\n",
    "- illustration found in [GeeksForGeeks page (:warning: with paid ads)](https://www.geeksforgeeks.org/ieee-standard-754-floating-point-numbers/)."
   ]
  },
  {
   "cell_type": "markdown",
   "id": "4b027510",
   "metadata": {
    "slideshow": {
     "slide_type": "subslide"
    }
   },
   "source": [
    "## Mem size and allocation scheme\n",
    "\n",
    "Simple `Int` type and `FloatX` type."
   ]
  },
  {
   "cell_type": "code",
   "execution_count": 19,
   "id": "6d7a33bf",
   "metadata": {
    "slideshow": {
     "slide_type": "-"
    }
   },
   "outputs": [
    {
     "name": "stdout",
     "output_type": "stream",
     "text": [
      "0000000000000000000000000000000000000000000000000000000000000011\n",
      "length(bitstring(3)) = 64\n"
     ]
    }
   ],
   "source": [
    "println(bitstring(3))\n",
    "@show length(bitstring(3));"
   ]
  },
  {
   "cell_type": "code",
   "execution_count": 20,
   "id": "d549a598",
   "metadata": {},
   "outputs": [
    {
     "name": "stdout",
     "output_type": "stream",
     "text": [
      "0100000000001000000000000000000000000000000000000000000000000000\n",
      "length(bitstring(3.0)) = 64\n"
     ]
    }
   ],
   "source": [
    "println(bitstring(3.0))\n",
    "@show length(bitstring(3.0));"
   ]
  },
  {
   "cell_type": "markdown",
   "id": "0816b649",
   "metadata": {},
   "source": [
    "- 💡 Same length; different meaning.\n",
    "- 📖 Check out floating point representation standards for the bit assignment for `Float64`"
   ]
  },
  {
   "cell_type": "markdown",
   "id": "303a7fa3",
   "metadata": {
    "slideshow": {
     "slide_type": "subslide"
    }
   },
   "source": [
    "## The more `const` the better?\n",
    "\n",
    "It seems that Julia accesses memory references that are constant.\n",
    "In `c/c++` static variables are preferred for speed.\n",
    "\n",
    "Imutable objects are better than mutable ones."
   ]
  },
  {
   "cell_type": "code",
   "execution_count": 21,
   "id": "1ae4d894",
   "metadata": {},
   "outputs": [
    {
     "name": "stdout",
     "output_type": "stream",
     "text": [
      "Same value? true\n",
      "Same reference? true\n"
     ]
    }
   ],
   "source": [
    "const p_CONST = 1.0\n",
    "p = 1.0\n",
    "\n",
    "println(\"Same value? \", p == p_CONST)\n",
    "println(\"Same reference? \", p === p_CONST)"
   ]
  },
  {
   "cell_type": "code",
   "execution_count": 23,
   "id": "cece4108",
   "metadata": {},
   "outputs": [
    {
     "name": "stdout",
     "output_type": "stream",
     "text": [
      "Const is faster by: 1.0\n"
     ]
    }
   ],
   "source": [
    "markconst = @benchmark for _ in 1:1_000_000 x = p_CONST end\n",
    "markvarbl = @benchmark for _ in 1:1_000_000 x = p end\n",
    "\n",
    "println(\"Const is faster by: \", round( median(markvarbl.times)/median(markconst.times) ,digits=5))"
   ]
  },
  {
   "cell_type": "markdown",
   "id": "bf8493d9",
   "metadata": {},
   "source": [
    "Thus, there's not much difference!"
   ]
  },
  {
   "cell_type": "markdown",
   "id": "c5e14a08",
   "metadata": {
    "slideshow": {
     "slide_type": "slide"
    }
   },
   "source": [
    "# Fast Array operations\n",
    "\n",
    "Specific types:\n",
    "1. `Vector{T}`: Alias of `Array{T,1}`\n",
    "2. `Matrix{T}`: Alias of `Array{T,2}`"
   ]
  },
  {
   "cell_type": "code",
   "execution_count": 24,
   "id": "62e6913c",
   "metadata": {},
   "outputs": [
    {
     "data": {
      "text/plain": [
       "Vector\u001b[90m (alias for \u001b[39m\u001b[90mArray{T, 1} where T\u001b[39m\u001b[90m)\u001b[39m"
      ]
     },
     "execution_count": 24,
     "metadata": {},
     "output_type": "execute_result"
    }
   ],
   "source": [
    "Vector"
   ]
  },
  {
   "cell_type": "code",
   "execution_count": 25,
   "id": "64816b23",
   "metadata": {},
   "outputs": [
    {
     "data": {
      "text/plain": [
       "Matrix\u001b[90m (alias for \u001b[39m\u001b[90mArray{T, 2} where T\u001b[39m\u001b[90m)\u001b[39m"
      ]
     },
     "execution_count": 25,
     "metadata": {},
     "output_type": "execute_result"
    }
   ],
   "source": [
    "Matrix"
   ]
  },
  {
   "cell_type": "markdown",
   "id": "3c738234",
   "metadata": {
    "slideshow": {
     "slide_type": "subslide"
    }
   },
   "source": [
    "## Memory arrangement (column major)\n",
    "\n",
    "Use `A[row,col]` instead of `A[col,row]`.\n",
    "\n",
    "Fast access with `col`s first."
   ]
  },
  {
   "cell_type": "code",
   "execution_count": 31,
   "id": "9848d262",
   "metadata": {},
   "outputs": [],
   "source": [
    "A = rand(100,100);"
   ]
  },
  {
   "cell_type": "code",
   "execution_count": 32,
   "id": "00399db8",
   "metadata": {},
   "outputs": [
    {
     "data": {
      "text/plain": [
       "0.6625887274501059"
      ]
     },
     "execution_count": 32,
     "metadata": {},
     "output_type": "execute_result"
    }
   ],
   "source": [
    "A[1,2]"
   ]
  },
  {
   "cell_type": "code",
   "execution_count": 33,
   "id": "95e8f7c6",
   "metadata": {},
   "outputs": [
    {
     "data": {
      "text/plain": [
       "100-element Vector{Float64}:\n",
       " 0.5632868221427215\n",
       " 0.23967356660664552\n",
       " 0.6521297832109703\n",
       " 0.6843482571753418\n",
       " 0.7547811970441951\n",
       " 0.9423338532711044\n",
       " 0.33352337317656233\n",
       " 0.11566987920798566\n",
       " 0.5724909420297839\n",
       " 0.8826047851751873\n",
       " 0.8265203916791758\n",
       " 0.02831831976880783\n",
       " 0.847785301741143\n",
       " ⋮\n",
       " 0.7496527234005037\n",
       " 0.260354874165182\n",
       " 0.9017603932187297\n",
       " 0.49478355384994144\n",
       " 0.612275169602041\n",
       " 0.33630416596386914\n",
       " 0.88011739903376\n",
       " 0.40083644510767125\n",
       " 0.44822939113747096\n",
       " 0.7214554849846266\n",
       " 0.4132649951538304\n",
       " 0.0035678336340345673"
      ]
     },
     "execution_count": 33,
     "metadata": {},
     "output_type": "execute_result"
    }
   ],
   "source": [
    "A[:,1]"
   ]
  },
  {
   "cell_type": "code",
   "execution_count": 35,
   "id": "630f2c4a",
   "metadata": {},
   "outputs": [
    {
     "name": "stdout",
     "output_type": "stream",
     "text": [
      "Const is faster by: 1.0\n"
     ]
    }
   ],
   "source": [
    "mark1 = @benchmark for a in A[:,2] a=rand() end\n",
    "mark0 = @benchmark for a in A[2,:] a=rand() end\n",
    "\n",
    "println(\"Const is faster by: \", round( median(mark1.times)/median(mark0.times) ,digits=5))"
   ]
  },
  {
   "cell_type": "markdown",
   "id": "2fb8468c",
   "metadata": {
    "slideshow": {
     "slide_type": "subslide"
    }
   },
   "source": [
    "## `Array`s behave like strided 1D array"
   ]
  },
  {
   "cell_type": "code",
   "execution_count": 36,
   "id": "89730f9a",
   "metadata": {},
   "outputs": [
    {
     "data": {
      "text/plain": [
       "10000-element Vector{Float64}:\n",
       " 0.5632868221427215\n",
       " 0.23967356660664552\n",
       " 0.6521297832109703\n",
       " 0.6843482571753418\n",
       " 0.7547811970441951\n",
       " 0.9423338532711044\n",
       " 0.33352337317656233\n",
       " 0.11566987920798566\n",
       " 0.5724909420297839\n",
       " 0.8826047851751873\n",
       " 0.8265203916791758\n",
       " 0.02831831976880783\n",
       " 0.847785301741143\n",
       " ⋮\n",
       " 0.5575807296192441\n",
       " 0.5536318166779869\n",
       " 0.36181216124260696\n",
       " 0.6194528928249751\n",
       " 0.6419300976546262\n",
       " 0.9331663311777869\n",
       " 0.2959521283862042\n",
       " 0.6293802951781041\n",
       " 0.5973047345025132\n",
       " 0.31104633733970866\n",
       " 0.6038211801949094\n",
       " 0.5649186730385296"
      ]
     },
     "execution_count": 36,
     "metadata": {},
     "output_type": "execute_result"
    }
   ],
   "source": [
    "A[:]"
   ]
  },
  {
   "cell_type": "markdown",
   "id": "55cbb047",
   "metadata": {
    "slideshow": {
     "slide_type": "subslide"
    }
   },
   "source": [
    "## Different `Array` \"modes\""
   ]
  },
  {
   "cell_type": "code",
   "execution_count": 39,
   "id": "846f122b",
   "metadata": {},
   "outputs": [
    {
     "name": "stdout",
     "output_type": "stream",
     "text": [
      "nrows = 100\n",
      "ncols = 100\n",
      "length(A) = 10000\n"
     ]
    }
   ],
   "source": [
    "(nrows,ncols) = size(A)\n",
    "\n",
    "@show nrows\n",
    "@show ncols;\n",
    "@show length(A);"
   ]
  },
  {
   "cell_type": "markdown",
   "id": "0e9b20df",
   "metadata": {
    "slideshow": {
     "slide_type": "subslide"
    }
   },
   "source": [
    "### ASIDE: `size(::Array) ::Tuple`\n",
    "\n",
    "`Tuple` is **like** an ordered list.\n",
    "Look for it via `?Tuple`."
   ]
  },
  {
   "cell_type": "code",
   "execution_count": 43,
   "id": "0c854a77",
   "metadata": {},
   "outputs": [
    {
     "name": "stdout",
     "output_type": "stream",
     "text": [
      "typeof(tt) : Tuple{Int64, Int64, Int64}\n",
      "typeof(pp) : Pair{Int64, Int64}\n",
      "        pp : 1 => 2\n",
      "typeof(tt) = Tuple{Int64, Int64, Int64}\n",
      "typeof(pp) = Pair{Int64, Int64}\n",
      "tt = (1, 2, 3)\n",
      "pp = 1 => 2\n"
     ]
    }
   ],
   "source": [
    "tt = (1,2,3)\n",
    "println(\"typeof(tt) : \", typeof(tt))\n",
    "\n",
    "pp = 1 => 2\n",
    "println(\"typeof(pp) : \", typeof(pp))\n",
    "println(\"        pp : \", pp)\n",
    "\n",
    "@show typeof(tt);\n",
    "@show typeof(pp);\n",
    "@show tt;\n",
    "@show pp;"
   ]
  },
  {
   "cell_type": "markdown",
   "id": "5ce5bac1",
   "metadata": {
    "slideshow": {
     "slide_type": "subslide"
    }
   },
   "source": [
    "## Different `Array` \"modes\""
   ]
  },
  {
   "cell_type": "code",
   "execution_count": null,
   "id": "b5227a9f",
   "metadata": {
    "scrolled": false,
    "slideshow": {
     "slide_type": "-"
    }
   },
   "outputs": [],
   "source": [
    "#display(A)\n",
    "#display(A[:,1])\n",
    "#display(A[1,:])\n",
    "\n",
    "@show A;\n",
    "@show A[:,1];\n",
    "@show A[1,:];"
   ]
  },
  {
   "cell_type": "markdown",
   "id": "7755b731",
   "metadata": {
    "slideshow": {
     "slide_type": "subslide"
    }
   },
   "source": [
    "## Speed of accessing `Array` elements\n",
    "\n",
    "Given difference in the column-major storage arrangement (`MATLAB`, Julia, etc) from the usual row-major arrangement (`c/c++`, etc), access speed differs depending on how the elements are accessed."
   ]
  },
  {
   "cell_type": "code",
   "execution_count": null,
   "id": "2b26b569",
   "metadata": {},
   "outputs": [],
   "source": []
  },
  {
   "cell_type": "code",
   "execution_count": null,
   "id": "2617aae6",
   "metadata": {},
   "outputs": [],
   "source": []
  },
  {
   "cell_type": "code",
   "execution_count": null,
   "id": "6b527127",
   "metadata": {},
   "outputs": [],
   "source": []
  },
  {
   "cell_type": "code",
   "execution_count": null,
   "id": "dee34caf",
   "metadata": {},
   "outputs": [],
   "source": []
  },
  {
   "cell_type": "code",
   "execution_count": null,
   "id": "99b8f015",
   "metadata": {},
   "outputs": [],
   "source": []
  },
  {
   "cell_type": "code",
   "execution_count": null,
   "id": "63972ed2",
   "metadata": {},
   "outputs": [],
   "source": []
  },
  {
   "cell_type": "markdown",
   "id": "7b45027a",
   "metadata": {
    "slideshow": {
     "slide_type": "slide"
    }
   },
   "source": [
    "## Pass by reference within pass-by-sharing\n",
    "\n",
    "Passing the reference variable is often faster than passing by value.\n",
    "The _pass by sharing_ seems enigmatic than I thought!"
   ]
  },
  {
   "cell_type": "code",
   "execution_count": 145,
   "id": "36ba2b2c",
   "metadata": {},
   "outputs": [],
   "source": [
    "vold = rand(5);"
   ]
  },
  {
   "cell_type": "code",
   "execution_count": 146,
   "id": "d118ca56",
   "metadata": {},
   "outputs": [
    {
     "data": {
      "text/plain": [
       "assign (generic function with 2 methods)"
      ]
     },
     "execution_count": 146,
     "metadata": {},
     "output_type": "execute_result"
    }
   ],
   "source": [
    "function assign(vou::Array, vin::Array)\n",
    "    vou = vin\n",
    "end"
   ]
  },
  {
   "cell_type": "code",
   "execution_count": 147,
   "id": "6af5e708",
   "metadata": {
    "slideshow": {
     "slide_type": "subslide"
    }
   },
   "outputs": [
    {
     "name": "stdout",
     "output_type": "stream",
     "text": [
      "vold = [0.85893, 0.73287, 0.23025, 0.6831, 0.37286]\n",
      "assign(vnew<-vold):\n",
      "new:\n",
      "    [0.0, 0.0, 0.0, 0.0, 0.0]\n",
      "same values? false\n",
      "same reference? false\n"
     ]
    }
   ],
   "source": [
    "println(\"vold = \", round.(vold,digits=5))\n",
    "println(\"assign(vnew<-vold):\")\n",
    "vnew = zeros(Float64,5)\n",
    "assign(vnew,vold)\n",
    "println(\"new:\")\n",
    "println(\"    \", round.(vnew,digits=5))\n",
    "println(\"same values? \", vnew == vold)\n",
    "println(\"same reference? \", vnew === vold)"
   ]
  },
  {
   "cell_type": "markdown",
   "id": "f81dab34",
   "metadata": {},
   "source": [
    "+ 👍 Simple assignment **within** the function is local and does not affect the outside value."
   ]
  },
  {
   "cell_type": "markdown",
   "id": "e96be895",
   "metadata": {
    "slideshow": {
     "slide_type": "subslide"
    }
   },
   "source": [
    "## Forced mutation\n",
    "\n",
    "Values of the pointed values gets modified."
   ]
  },
  {
   "cell_type": "code",
   "execution_count": 148,
   "id": "f9a4633f",
   "metadata": {},
   "outputs": [
    {
     "data": {
      "text/plain": [
       "assign! (generic function with 2 methods)"
      ]
     },
     "execution_count": 148,
     "metadata": {},
     "output_type": "execute_result"
    }
   ],
   "source": [
    "function assign!(vou::Array, vin::Array)\n",
    "    vou[:] = vin[:]\n",
    "end"
   ]
  },
  {
   "cell_type": "code",
   "execution_count": 149,
   "id": "42b418fc",
   "metadata": {
    "slideshow": {
     "slide_type": "subslide"
    }
   },
   "outputs": [
    {
     "name": "stdout",
     "output_type": "stream",
     "text": [
      "vold = [0.85893, 0.73287, 0.23025, 0.6831, 0.37286]\n",
      "assign!(vnew[:]<-vold[:]):\n",
      "new:\n",
      "    [0.85893, 0.73287, 0.23025, 0.6831, 0.37286]\n",
      "same values? true\n",
      "same reference? false\n"
     ]
    }
   ],
   "source": [
    "println(\"vold = \", round.(vold,digits=5))\n",
    "println(\"assign!(vnew[:]<-vold[:]):\")\n",
    "vnew = zeros(Float64,5)\n",
    "assign!(vnew,vold)\n",
    "println(\"new:\")\n",
    "println(\"    \", round.(vnew,digits=5))\n",
    "println(\"same values? \", vnew == vold)\n",
    "println(\"same reference? \", vnew === vold) "
   ]
  },
  {
   "cell_type": "markdown",
   "id": "94b4b169",
   "metadata": {},
   "source": [
    "- 👍 Values are copied if the reference is used to assign.\n",
    "- 💡 The use of `vnew[:]` and `vold[:]` forces Julia to use references (?)."
   ]
  },
  {
   "cell_type": "markdown",
   "id": "525a097f",
   "metadata": {
    "slideshow": {
     "slide_type": "subslide"
    }
   },
   "source": [
    "## Naive implementations\n",
    "\n",
    "`Base` functions:\n",
    " + In-place `copy!()`\n",
    " + In-place `map!()`"
   ]
  },
  {
   "cell_type": "code",
   "execution_count": 152,
   "id": "3650d658",
   "metadata": {
    "slideshow": {
     "slide_type": "subslide"
    }
   },
   "outputs": [
    {
     "name": "stdout",
     "output_type": "stream",
     "text": [
      "search: \u001b[0m\u001b[1mc\u001b[22m\u001b[0m\u001b[1mo\u001b[22m\u001b[0m\u001b[1mp\u001b[22m\u001b[0m\u001b[1my\u001b[22m\u001b[0m\u001b[1m!\u001b[22m \u001b[0m\u001b[1mc\u001b[22m\u001b[0m\u001b[1mo\u001b[22m\u001b[0m\u001b[1mp\u001b[22m\u001b[0m\u001b[1my\u001b[22mto\u001b[0m\u001b[1m!\u001b[22m \u001b[0m\u001b[1mc\u001b[22mircc\u001b[0m\u001b[1mo\u001b[22m\u001b[0m\u001b[1mp\u001b[22m\u001b[0m\u001b[1my\u001b[22m\u001b[0m\u001b[1m!\u001b[22m unsafe_\u001b[0m\u001b[1mc\u001b[22m\u001b[0m\u001b[1mo\u001b[22m\u001b[0m\u001b[1mp\u001b[22m\u001b[0m\u001b[1my\u001b[22mto\u001b[0m\u001b[1m!\u001b[22m \u001b[0m\u001b[1mc\u001b[22m\u001b[0m\u001b[1mo\u001b[22m\u001b[0m\u001b[1mp\u001b[22m\u001b[0m\u001b[1my\u001b[22m \u001b[0m\u001b[1mc\u001b[22m\u001b[0m\u001b[1mo\u001b[22m\u001b[0m\u001b[1mp\u001b[22m\u001b[0m\u001b[1my\u001b[22msign deep\u001b[0m\u001b[1mc\u001b[22m\u001b[0m\u001b[1mo\u001b[22m\u001b[0m\u001b[1mp\u001b[22m\u001b[0m\u001b[1my\u001b[22m\n",
      "\n"
     ]
    },
    {
     "data": {
      "text/latex": [
       "\\begin{verbatim}\n",
       "copy!(dst, src) -> dst\n",
       "\\end{verbatim}\n",
       "In-place \\href{@ref}{\\texttt{copy}} of \\texttt{src} into \\texttt{dst}, discarding any pre-existing elements in \\texttt{dst}. If \\texttt{dst} and \\texttt{src} are of the same type, \\texttt{dst == src} should hold after the call. If \\texttt{dst} and \\texttt{src} are multidimensional arrays, they must have equal \\href{@ref}{\\texttt{axes}}. See also \\href{@ref}{\\texttt{copyto!}}.\n",
       "\n",
       "\\begin{quote}\n",
       "\\textbf{compat}\n",
       "\n",
       "Julia 1.1\n",
       "\n",
       "This method requires at least Julia 1.1. In Julia 1.0 this method is available from the \\texttt{Future} standard library as \\texttt{Future.copy!}.\n",
       "\n",
       "\\end{quote}\n"
      ],
      "text/markdown": [
       "```\n",
       "copy!(dst, src) -> dst\n",
       "```\n",
       "\n",
       "In-place [`copy`](@ref) of `src` into `dst`, discarding any pre-existing elements in `dst`. If `dst` and `src` are of the same type, `dst == src` should hold after the call. If `dst` and `src` are multidimensional arrays, they must have equal [`axes`](@ref). See also [`copyto!`](@ref).\n",
       "\n",
       "!!! compat \"Julia 1.1\"\n",
       "    This method requires at least Julia 1.1. In Julia 1.0 this method is available from the `Future` standard library as `Future.copy!`.\n",
       "\n"
      ],
      "text/plain": [
       "\u001b[36m  copy!(dst, src) -> dst\u001b[39m\n",
       "\n",
       "  In-place \u001b[36mcopy\u001b[39m of \u001b[36msrc\u001b[39m into \u001b[36mdst\u001b[39m, discarding any pre-existing elements in \u001b[36mdst\u001b[39m.\n",
       "  If \u001b[36mdst\u001b[39m and \u001b[36msrc\u001b[39m are of the same type, \u001b[36mdst == src\u001b[39m should hold after the call.\n",
       "  If \u001b[36mdst\u001b[39m and \u001b[36msrc\u001b[39m are multidimensional arrays, they must have equal \u001b[36maxes\u001b[39m. See\n",
       "  also \u001b[36mcopyto!\u001b[39m.\n",
       "\n",
       "\u001b[39m\u001b[1m  │ \u001b[22m\u001b[39m\u001b[1mJulia 1.1\u001b[22m\n",
       "\u001b[39m\u001b[1m  │\u001b[22m\n",
       "\u001b[39m\u001b[1m  │\u001b[22m  This method requires at least Julia 1.1. In Julia 1.0 this method\n",
       "\u001b[39m\u001b[1m  │\u001b[22m  is available from the \u001b[36mFuture\u001b[39m standard library as \u001b[36mFuture.copy!\u001b[39m."
      ]
     },
     "execution_count": 152,
     "metadata": {},
     "output_type": "execute_result"
    }
   ],
   "source": [
    "?copy!"
   ]
  },
  {
   "cell_type": "code",
   "execution_count": 153,
   "id": "877b0331",
   "metadata": {
    "slideshow": {
     "slide_type": "subslide"
    }
   },
   "outputs": [
    {
     "name": "stdout",
     "output_type": "stream",
     "text": [
      "search: \u001b[0m\u001b[1mm\u001b[22m\u001b[0m\u001b[1ma\u001b[22m\u001b[0m\u001b[1mp\u001b[22m\u001b[0m\u001b[1m!\u001b[22m async\u001b[0m\u001b[1mm\u001b[22m\u001b[0m\u001b[1ma\u001b[22m\u001b[0m\u001b[1mp\u001b[22m\u001b[0m\u001b[1m!\u001b[22m \u001b[0m\u001b[1mm\u001b[22m\u001b[0m\u001b[1ma\u001b[22m\u001b[0m\u001b[1mp\u001b[22m \u001b[0m\u001b[1mm\u001b[22m\u001b[0m\u001b[1ma\u001b[22m\u001b[0m\u001b[1mp\u001b[22mfoldr \u001b[0m\u001b[1mm\u001b[22m\u001b[0m\u001b[1ma\u001b[22m\u001b[0m\u001b[1mp\u001b[22mfoldl \u001b[0m\u001b[1mm\u001b[22m\u001b[0m\u001b[1ma\u001b[22m\u001b[0m\u001b[1mp\u001b[22mslices \u001b[0m\u001b[1mm\u001b[22m\u001b[0m\u001b[1ma\u001b[22m\u001b[0m\u001b[1mp\u001b[22mreduce async\u001b[0m\u001b[1mm\u001b[22m\u001b[0m\u001b[1ma\u001b[22m\u001b[0m\u001b[1mp\u001b[22m\n",
      "\n"
     ]
    },
    {
     "data": {
      "text/latex": [
       "\\begin{verbatim}\n",
       "map!(function, destination, collection...)\n",
       "\\end{verbatim}\n",
       "Like \\href{@ref}{\\texttt{map}}, but stores the result in \\texttt{destination} rather than a new collection. \\texttt{destination} must be at least as large as the first collection.\n",
       "\n",
       "\\section{Examples}\n",
       "\\begin{verbatim}\n",
       "julia> a = zeros(3);\n",
       "\n",
       "julia> map!(x -> x * 2, a, [1, 2, 3]);\n",
       "\n",
       "julia> a\n",
       "3-element Vector{Float64}:\n",
       " 2.0\n",
       " 4.0\n",
       " 6.0\n",
       "\\end{verbatim}\n",
       "\\rule{\\textwidth}{1pt}\n",
       "\\begin{verbatim}\n",
       "map!(f, values(dict::AbstractDict))\n",
       "\\end{verbatim}\n",
       "Modifies \\texttt{dict} by transforming each value from \\texttt{val} to \\texttt{f(val)}. Note that the type of \\texttt{dict} cannot be changed: if \\texttt{f(val)} is not an instance of the value type of \\texttt{dict} then it will be converted to the value type if possible and otherwise raise an error.\n",
       "\n",
       "\\begin{quote}\n",
       "\\textbf{compat}\n",
       "\n",
       "Julia 1.2\n",
       "\n",
       "\\texttt{map!(f, values(dict::AbstractDict))} requires Julia 1.2 or later.\n",
       "\n",
       "\\end{quote}\n",
       "\\section{Examples}\n",
       "\\begin{verbatim}\n",
       "julia> d = Dict(:a => 1, :b => 2)\n",
       "Dict{Symbol, Int64} with 2 entries:\n",
       "  :a => 1\n",
       "  :b => 2\n",
       "\n",
       "julia> map!(v -> v-1, values(d))\n",
       "ValueIterator for a Dict{Symbol, Int64} with 2 entries. Values:\n",
       "  0\n",
       "  1\n",
       "\\end{verbatim}\n"
      ],
      "text/markdown": [
       "```\n",
       "map!(function, destination, collection...)\n",
       "```\n",
       "\n",
       "Like [`map`](@ref), but stores the result in `destination` rather than a new collection. `destination` must be at least as large as the first collection.\n",
       "\n",
       "# Examples\n",
       "\n",
       "```jldoctest\n",
       "julia> a = zeros(3);\n",
       "\n",
       "julia> map!(x -> x * 2, a, [1, 2, 3]);\n",
       "\n",
       "julia> a\n",
       "3-element Vector{Float64}:\n",
       " 2.0\n",
       " 4.0\n",
       " 6.0\n",
       "```\n",
       "\n",
       "---\n",
       "\n",
       "```\n",
       "map!(f, values(dict::AbstractDict))\n",
       "```\n",
       "\n",
       "Modifies `dict` by transforming each value from `val` to `f(val)`. Note that the type of `dict` cannot be changed: if `f(val)` is not an instance of the value type of `dict` then it will be converted to the value type if possible and otherwise raise an error.\n",
       "\n",
       "!!! compat \"Julia 1.2\"\n",
       "    `map!(f, values(dict::AbstractDict))` requires Julia 1.2 or later.\n",
       "\n",
       "\n",
       "# Examples\n",
       "\n",
       "```jldoctest\n",
       "julia> d = Dict(:a => 1, :b => 2)\n",
       "Dict{Symbol, Int64} with 2 entries:\n",
       "  :a => 1\n",
       "  :b => 2\n",
       "\n",
       "julia> map!(v -> v-1, values(d))\n",
       "ValueIterator for a Dict{Symbol, Int64} with 2 entries. Values:\n",
       "  0\n",
       "  1\n",
       "```\n"
      ],
      "text/plain": [
       "\u001b[36m  map!(function, destination, collection...)\u001b[39m\n",
       "\n",
       "  Like \u001b[36mmap\u001b[39m, but stores the result in \u001b[36mdestination\u001b[39m rather than a new collection.\n",
       "  \u001b[36mdestination\u001b[39m must be at least as large as the first collection.\n",
       "\n",
       "\u001b[1m  Examples\u001b[22m\n",
       "\u001b[1m  ≡≡≡≡≡≡≡≡≡≡\u001b[22m\n",
       "\n",
       "\u001b[36m  julia> a = zeros(3);\u001b[39m\n",
       "\u001b[36m  \u001b[39m\n",
       "\u001b[36m  julia> map!(x -> x * 2, a, [1, 2, 3]);\u001b[39m\n",
       "\u001b[36m  \u001b[39m\n",
       "\u001b[36m  julia> a\u001b[39m\n",
       "\u001b[36m  3-element Vector{Float64}:\u001b[39m\n",
       "\u001b[36m   2.0\u001b[39m\n",
       "\u001b[36m   4.0\u001b[39m\n",
       "\u001b[36m   6.0\u001b[39m\n",
       "\n",
       "  ────────────────────────────────────────────────────────────────────────────\n",
       "\n",
       "\u001b[36m  map!(f, values(dict::AbstractDict))\u001b[39m\n",
       "\n",
       "  Modifies \u001b[36mdict\u001b[39m by transforming each value from \u001b[36mval\u001b[39m to \u001b[36mf(val)\u001b[39m. Note that the\n",
       "  type of \u001b[36mdict\u001b[39m cannot be changed: if \u001b[36mf(val)\u001b[39m is not an instance of the value\n",
       "  type of \u001b[36mdict\u001b[39m then it will be converted to the value type if possible and\n",
       "  otherwise raise an error.\n",
       "\n",
       "\u001b[39m\u001b[1m  │ \u001b[22m\u001b[39m\u001b[1mJulia 1.2\u001b[22m\n",
       "\u001b[39m\u001b[1m  │\u001b[22m\n",
       "\u001b[39m\u001b[1m  │\u001b[22m  \u001b[36mmap!(f, values(dict::AbstractDict))\u001b[39m requires Julia 1.2 or later.\n",
       "\n",
       "\u001b[1m  Examples\u001b[22m\n",
       "\u001b[1m  ≡≡≡≡≡≡≡≡≡≡\u001b[22m\n",
       "\n",
       "\u001b[36m  julia> d = Dict(:a => 1, :b => 2)\u001b[39m\n",
       "\u001b[36m  Dict{Symbol, Int64} with 2 entries:\u001b[39m\n",
       "\u001b[36m    :a => 1\u001b[39m\n",
       "\u001b[36m    :b => 2\u001b[39m\n",
       "\u001b[36m  \u001b[39m\n",
       "\u001b[36m  julia> map!(v -> v-1, values(d))\u001b[39m\n",
       "\u001b[36m  ValueIterator for a Dict{Symbol, Int64} with 2 entries. Values:\u001b[39m\n",
       "\u001b[36m    0\u001b[39m\n",
       "\u001b[36m    1\u001b[39m"
      ]
     },
     "execution_count": 153,
     "metadata": {},
     "output_type": "execute_result"
    }
   ],
   "source": [
    "?map!"
   ]
  },
  {
   "cell_type": "code",
   "execution_count": 154,
   "id": "161d48b9",
   "metadata": {
    "slideshow": {
     "slide_type": "subslide"
    }
   },
   "outputs": [
    {
     "name": "stdout",
     "output_type": "stream",
     "text": [
      "map!(): mark0a/mark0 ≈ 1.05375\n",
      "Naive: mark1/mark0 ≈ 23.75206\n"
     ]
    }
   ],
   "source": [
    "mvold = rand(5_000);\n",
    "mvnew = zeros(Float64, 5_000);\n",
    "mark0 = @benchmark copy!($mvnew,$mvold)\n",
    "mark0a = @benchmark map!(x->x,mvnew,mvold)\n",
    "mark1 = @benchmark assign!($mvnew,$mvold)\n",
    "\n",
    "println(\"map!(): mark0a/mark0 ≈ \", round( median(mark0a.times)/median(mark0.times), digits=5 ))\n",
    "println(\"Naive: mark1/mark0 ≈ \", round( median(mark1.times)/median(mark0.times), digits=5 ))"
   ]
  },
  {
   "cell_type": "markdown",
   "id": "bc442423",
   "metadata": {},
   "source": [
    " - 💡 `map!()` fares the same with `copy!()`\n",
    " - ❗ Naive implementation via a function that ensures copying **fares much worse**."
   ]
  },
  {
   "cell_type": "markdown",
   "id": "ec751fd2",
   "metadata": {
    "slideshow": {
     "slide_type": "subslide"
    }
   },
   "source": [
    "## Bang or no bang\n",
    "\n",
    "❗: That is the question."
   ]
  },
  {
   "cell_type": "code",
   "execution_count": 155,
   "id": "254da1be",
   "metadata": {},
   "outputs": [
    {
     "data": {
      "text/plain": [
       "assign_nobang (generic function with 1 method)"
      ]
     },
     "execution_count": 155,
     "metadata": {},
     "output_type": "execute_result"
    }
   ],
   "source": [
    "function assign_nobang(vou::Array, vin::Array)\n",
    "    vou[:] = vin[:]\n",
    "end"
   ]
  },
  {
   "cell_type": "markdown",
   "id": "1e6f4be9",
   "metadata": {
    "slideshow": {
     "slide_type": "subslide"
    }
   },
   "source": [
    "❗Effect is same:"
   ]
  },
  {
   "cell_type": "code",
   "execution_count": 156,
   "id": "aaa45dc8",
   "metadata": {
    "slideshow": {
     "slide_type": "-"
    }
   },
   "outputs": [
    {
     "name": "stdout",
     "output_type": "stream",
     "text": [
      "assign_nobang(vnew[:]<-vold[:]):\n",
      "new:\n",
      "    [0.85893, 0.73287, 0.23025, 0.6831, 0.37286]\n",
      "same values? true\n",
      "same reference? false\n"
     ]
    }
   ],
   "source": [
    "println(\"assign_nobang(vnew[:]<-vold[:]):\")\n",
    "vnew = zeros(Float64,5)\n",
    "assign_nobang(vnew,vold)\n",
    "println(\"new:\")\n",
    "println(\"    \", round.(vnew,digits=5))\n",
    "println(\"same values? \", vnew == vold)\n",
    "println(\"same reference? \", vnew === vold)"
   ]
  },
  {
   "cell_type": "markdown",
   "id": "d6795109",
   "metadata": {},
   "source": [
    "- 📓 Using the bang `!` after the function name is **only** used to indicate **--not force--** changes in the arguments.\n",
    "- 💡 Function name has nothing to do with modifying the argument.\n",
    "- 💡 No modifications to the argument naming or style to ensure modification."
   ]
  },
  {
   "cell_type": "markdown",
   "id": "f0ada34f",
   "metadata": {
    "slideshow": {
     "slide_type": "subslide"
    }
   },
   "source": [
    "## _Manual_ loop ends up faster\n",
    "\n",
    "The loop per element is almost always better in Julia.\n",
    "The effects can be the same."
   ]
  },
  {
   "cell_type": "code",
   "execution_count": 157,
   "id": "69409718",
   "metadata": {},
   "outputs": [
    {
     "data": {
      "text/plain": [
       "assign_vect! (generic function with 1 method)"
      ]
     },
     "execution_count": 157,
     "metadata": {},
     "output_type": "execute_result"
    }
   ],
   "source": [
    "function assign_loop!(vou::Array, vin::Array)\n",
    "    for i in eachindex(vin)\n",
    "        vou[i] = vin[i]\n",
    "    end\n",
    "end\n",
    "\n",
    "function assign_vect!(vou::Array, vin::Array)\n",
    "    vou .= vin # broadcasting loop, a.k.a. \"vectorized\"\n",
    "end"
   ]
  },
  {
   "cell_type": "code",
   "execution_count": 158,
   "id": "08be6d6b",
   "metadata": {
    "scrolled": true
   },
   "outputs": [
    {
     "name": "stdout",
     "output_type": "stream",
     "text": [
      "assign_loop!(for loop):\n",
      "new:\n",
      "    [0.85893, 0.73287, 0.23025, 0.6831, 0.37286]\n",
      "same values? true\n",
      "same reference? false\n"
     ]
    }
   ],
   "source": [
    "println(\"assign_loop!(for loop):\")\n",
    "vnew = zeros(Float64,5)\n",
    "assign_loop!(vnew,vold)\n",
    "println(\"new:\")\n",
    "println(\"    \", round.(vnew,digits=5))\n",
    "println(\"same values? \", vnew == vold)\n",
    "println(\"same reference? \", vnew === vold)"
   ]
  },
  {
   "cell_type": "code",
   "execution_count": 159,
   "id": "ab721cc1",
   "metadata": {
    "slideshow": {
     "slide_type": "subslide"
    }
   },
   "outputs": [
    {
     "name": "stdout",
     "output_type": "stream",
     "text": [
      "map!(): mark0a/mark0 ≈ 1.05375\n",
      "Naive: mark1/mark0 ≈ 23.75206\n",
      "Loops: mark2/mark0 ≈ 0.00665\n",
      "Broadcast: mark3/mark0 ≈ 0.02003\n",
      "Loop vs Broadcast ≈ 3.01387\n"
     ]
    }
   ],
   "source": [
    "mark2 = @benchmark assign_loop!($vnew,$vold)\n",
    "mark3 = @benchmark assign_vect!($vnew,$vold)\n",
    "\n",
    "println(\"map!(): mark0a/mark0 ≈ \", round( median(mark0a.times)/median(mark0.times), digits=5 ))\n",
    "println(\"Naive: mark1/mark0 ≈ \", round( median(mark1.times)/median(mark0.times), digits=5 ))\n",
    "println(\"Loops: mark2/mark0 ≈ \", round( median(mark2.times)/median(mark0.times), digits=5 ))\n",
    "println(\"Broadcast: mark3/mark0 ≈ \", round( median(mark3.times)/median(mark0.times), digits=5 ))\n",
    "println(\"Loop vs Broadcast ≈ \", round( median(mark3.times)/median(mark2.times), digits=5 ))"
   ]
  },
  {
   "cell_type": "markdown",
   "id": "8b3c2192",
   "metadata": {},
   "source": [
    "❗Looping can be more efficient than broadcasting. Or there are broadcasting loops faster than what's used here?"
   ]
  },
  {
   "cell_type": "code",
   "execution_count": 162,
   "id": "25dbaeb9",
   "metadata": {},
   "outputs": [
    {
     "data": {
      "text/plain": [
       "assign_return (generic function with 1 method)"
      ]
     },
     "execution_count": 162,
     "metadata": {},
     "output_type": "execute_result"
    }
   ],
   "source": [
    "function assign_return(vin::Array)\n",
    "    vou = vin;\n",
    "    return vou\n",
    "end"
   ]
  },
  {
   "cell_type": "code",
   "execution_count": 164,
   "id": "314ebdd8",
   "metadata": {},
   "outputs": [
    {
     "name": "stdout",
     "output_type": "stream",
     "text": [
      "map!(): mark0a/mark0 ≈ 1.05375\n",
      "Naive: mark1/mark0 ≈ 23.75206\n",
      "Loops: mark2/mark0 ≈ 0.00665\n",
      "Broadcast: mark3/mark0 ≈ 0.02003\n",
      "Loop vs Broadcast ≈ 3.01387\n",
      "Return: mark4/mark0 ≈ 0.0018\n",
      "Return vs Loop ≈ 3.69117\n"
     ]
    }
   ],
   "source": [
    "mark4 = @benchmark vnew = assign_return($vold)\n",
    "\n",
    "println(\"map!(): mark0a/mark0 ≈ \", round( median(mark0a.times)/median(mark0.times), digits=5 ))\n",
    "println(\"Naive: mark1/mark0 ≈ \", round( median(mark1.times)/median(mark0.times), digits=5 ))\n",
    "println(\"Loops: mark2/mark0 ≈ \", round( median(mark2.times)/median(mark0.times), digits=5 ))\n",
    "println(\"Broadcast: mark3/mark0 ≈ \", round( median(mark3.times)/median(mark0.times), digits=5 ))\n",
    "println(\"Loop vs Broadcast ≈ \", round( median(mark3.times)/median(mark2.times), digits=5 ))\n",
    "println(\"Return: mark4/mark0 ≈ \",  round( median(mark4.times)/median(mark0.times), digits=5 ))\n",
    "println(\"Return vs Loop ≈ \",  round( median(mark2.times)/median(mark4.times), digits=5 ))"
   ]
  },
  {
   "cell_type": "markdown",
   "id": "66118905",
   "metadata": {
    "slideshow": {
     "slide_type": "slide"
    }
   },
   "source": [
    "# Structured data\n",
    "\n"
   ]
  }
 ],
 "metadata": {
  "celltoolbar": "Slideshow",
  "kernelspec": {
   "display_name": "Julia 1.10.1",
   "language": "julia",
   "name": "julia-1.10"
  },
  "language_info": {
   "file_extension": ".jl",
   "mimetype": "application/julia",
   "name": "julia",
   "version": "1.10.1"
  }
 },
 "nbformat": 4,
 "nbformat_minor": 5
}
