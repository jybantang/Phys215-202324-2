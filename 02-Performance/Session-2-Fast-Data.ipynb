{
 "cells": [
  {
   "cell_type": "markdown",
   "id": "3a6f3bfb",
   "metadata": {
    "editable": true,
    "slideshow": {
     "slide_type": "slide"
    },
    "tags": []
   },
   "source": [
    "# Session 2: Fast machine representation\n",
    "\n",
    "In this session, we cover the use of fast `Numbers` in Julia.\n",
    "Particularly:[^1]\n",
    "- [ ] Analyze the floating point layout or architecture used by your Julia installation.\n",
    "- [ ] Demonstrate tradeoff between runtime speed and over- or underflow checks in [number representations in Julia](https://docs.julialang.org/en/v1/manual/integers-and-floating-point-numbers/).\n",
    "- [ ] Show how much `@fastmath` macro speeds up computation with a trades off in some level of accuracy. The `sum_diff()` function in the main book reference may be replicated for this purpose.\n",
    "\n",
    "----\n",
    "[^1]: Covers Chapter 5 of Segupta, _Julia High Performance, 2nd Ed._ (Packt Publishing, 2019)."
   ]
  },
  {
   "cell_type": "code",
   "execution_count": 1,
   "id": "baf8b725",
   "metadata": {
    "editable": true,
    "slideshow": {
     "slide_type": "subslide"
    },
    "tags": []
   },
   "outputs": [
    {
     "name": "stderr",
     "output_type": "stream",
     "text": [
      "\u001b[32m\u001b[1m  Activating\u001b[22m\u001b[39m project at `~/Documents/GitHub/Phys215-202324-2/02-Performance`\n",
      "\u001b[32m\u001b[1m   Resolving\u001b[22m\u001b[39m package versions...\n",
      "\u001b[32m\u001b[1m  No Changes\u001b[22m\u001b[39m to `~/Documents/GitHub/Phys215-202324-2/02-Performance/Project.toml`\n",
      "\u001b[32m\u001b[1m  No Changes\u001b[22m\u001b[39m to `~/Documents/GitHub/Phys215-202324-2/02-Performance/Manifest.toml`\n"
     ]
    }
   ],
   "source": [
    "using Pkg;\n",
    "Pkg.activate(\".\");\n",
    "Pkg.add([\n",
    "     \"Plots\"\n",
    "    ,\"BenchmarkTools\"\n",
    "]);\n",
    "\n",
    "using Plots, BenchmarkTools;"
   ]
  },
  {
   "cell_type": "code",
   "execution_count": 2,
   "id": "1b0e4e1f",
   "metadata": {
    "editable": true,
    "scrolled": true,
    "slideshow": {
     "slide_type": "subslide"
    },
    "tags": []
   },
   "outputs": [
    {
     "data": {
      "text/plain": [
       "printfloatbits (generic function with 2 methods)"
      ]
     },
     "execution_count": 2,
     "metadata": {},
     "output_type": "execute_result"
    }
   ],
   "source": [
    "include(\"Phys215Tools.jl\") #insert pre-typed tool functions, fast and dirty style"
   ]
  },
  {
   "cell_type": "code",
   "execution_count": 3,
   "id": "52528e1c",
   "metadata": {
    "editable": true,
    "slideshow": {
     "slide_type": "fragment"
    },
    "tags": []
   },
   "outputs": [
    {
     "name": "stdout",
     "output_type": "stream",
     "text": [
      "search: \u001b[0m\u001b[1mf\u001b[22m\u001b[0m\u001b[1ml\u001b[22m\u001b[0m\u001b[1mo\u001b[22m\u001b[0m\u001b[1ma\u001b[22m\u001b[0m\u001b[1mt\u001b[22m\u001b[0m\u001b[1mb\u001b[22m\u001b[0m\u001b[1mi\u001b[22m\u001b[0m\u001b[1mt\u001b[22m\u001b[0m\u001b[1ms\u001b[22m\n",
      "\n"
     ]
    },
    {
     "data": {
      "text/latex": [
       "No documentation found.\n",
       "\n",
       "\\texttt{floatbits} is a \\texttt{Function}.\n",
       "\n",
       "\\begin{verbatim}\n",
       "# 2 methods for generic function \"floatbits\" from Main:\n",
       " [1] floatbits(x::Float32)\n",
       "     @ ~/Documents/GitHub/Phys215-202324-2/02-Performance/Phys215Tools.jl:7\n",
       " [2] floatbits(x::Float64)\n",
       "     @ ~/Documents/GitHub/Phys215-202324-2/02-Performance/Phys215Tools.jl:2\n",
       "\\end{verbatim}\n"
      ],
      "text/markdown": [
       "No documentation found.\n",
       "\n",
       "`floatbits` is a `Function`.\n",
       "\n",
       "```\n",
       "# 2 methods for generic function \"floatbits\" from Main:\n",
       " [1] floatbits(x::Float32)\n",
       "     @ ~/Documents/GitHub/Phys215-202324-2/02-Performance/Phys215Tools.jl:7\n",
       " [2] floatbits(x::Float64)\n",
       "     @ ~/Documents/GitHub/Phys215-202324-2/02-Performance/Phys215Tools.jl:2\n",
       "```\n"
      ],
      "text/plain": [
       "  No documentation found.\n",
       "\n",
       "  \u001b[36mfloatbits\u001b[39m is a \u001b[36mFunction\u001b[39m.\n",
       "\n",
       "\u001b[36m  # 2 methods for generic function \"floatbits\" from Main:\u001b[39m\n",
       "\u001b[36m   [1] floatbits(x::Float32)\u001b[39m\n",
       "\u001b[36m       @ ~/Documents/GitHub/Phys215-202324-2/02-Performance/Phys215Tools.jl:7\u001b[39m\n",
       "\u001b[36m   [2] floatbits(x::Float64)\u001b[39m\n",
       "\u001b[36m       @ ~/Documents/GitHub/Phys215-202324-2/02-Performance/Phys215Tools.jl:2\u001b[39m"
      ]
     },
     "execution_count": 3,
     "metadata": {},
     "output_type": "execute_result"
    }
   ],
   "source": [
    "? floatbits"
   ]
  },
  {
   "cell_type": "markdown",
   "id": "c46e61fe",
   "metadata": {
    "editable": true,
    "slideshow": {
     "slide_type": "slide"
    },
    "tags": []
   },
   "source": [
    "## Fast numbers in Julia\n",
    "\n",
    "> Integers in Julia are stored as system integers.... The `Int` type alias represents the actual integer type used by the system. `Int32` for 32-bit machines; `Int64` for 64-bit machines.[^2]\n",
    "\n",
    "----\n",
    "[^2]: Segupta, Julia High Performance, 2nd Ed. (Packt Publishing, 2019)."
   ]
  },
  {
   "cell_type": "markdown",
   "id": "c7fb1a85",
   "metadata": {
    "editable": true,
    "slideshow": {
     "slide_type": "slide"
    },
    "tags": []
   },
   "source": [
    "## Machine `WORD_SIZE` and representation\n",
    "\n",
    "- FOR BASH-like CLI: Use `uname -m` to examine the processor type of your machine.\n",
    "    - The command `uname -a` provides `a`ll the relevant machine information.\n",
    "- Default integer representation depends on machine word size."
   ]
  },
  {
   "cell_type": "code",
   "execution_count": 4,
   "id": "d2a20243",
   "metadata": {
    "editable": true,
    "scrolled": true,
    "slideshow": {
     "slide_type": ""
    },
    "tags": []
   },
   "outputs": [
    {
     "name": "stdout",
     "output_type": "stream",
     "text": [
      "Darwin Kernel Version 23.3.0: Wed Dec 20 21:28:58 PST 2023; root:xnu-10002.81.5~7/RELEASE_X86_64 x86_64 i386\n"
     ]
    }
   ],
   "source": [
    "; uname -vpm"
   ]
  },
  {
   "cell_type": "markdown",
   "id": "7dfe6e96",
   "metadata": {
    "editable": true,
    "slideshow": {
     "slide_type": ""
    },
    "tags": []
   },
   "source": [
    "**Note** that the semicolon indicates that the command is a bash command.\n",
    "You may need to modify that for non-bash CLI."
   ]
  },
  {
   "cell_type": "markdown",
   "id": "8fe3abe2",
   "metadata": {
    "editable": true,
    "slideshow": {
     "slide_type": "subslide"
    },
    "tags": []
   },
   "source": [
    "### System `WORD_SIZE`\n",
    "\n",
    "- System `WORD_SIZE` becomes the `Int` size (_in bits_) of the Julia installed.\n",
    "- Check out `? sizeof()` for the output of the command.\n",
    "- Use `Sys` to indicate namespace or module scoping."
   ]
  },
  {
   "cell_type": "code",
   "execution_count": 5,
   "id": "91bb0bfe",
   "metadata": {
    "editable": true,
    "slideshow": {
     "slide_type": ""
    },
    "tags": []
   },
   "outputs": [
    {
     "name": "stdout",
     "output_type": "stream",
     "text": [
      "Sys.WORD_SIZE = 64\n",
      "The current machine uses 64 bytes for Integers and single-precision variables.\n"
     ]
    }
   ],
   "source": [
    "@show Sys.WORD_SIZE;\n",
    "println( \"The current machine uses $(Sys.WORD_SIZE) bytes for Integers and single-precision variables.\" )"
   ]
  },
  {
   "cell_type": "markdown",
   "id": "7c1197f4",
   "metadata": {
    "editable": true,
    "slideshow": {
     "slide_type": "subslide"
    },
    "tags": []
   },
   "source": [
    "### Use `sizeof()` for byte size\n",
    "\n",
    "- One bit = 1 two-state unit in physical memory\n",
    "- One byte = 8 bits, 2^8 states in physical memory"
   ]
  },
  {
   "cell_type": "code",
   "execution_count": 6,
   "id": "2b71af73",
   "metadata": {
    "editable": true,
    "slideshow": {
     "slide_type": "fragment"
    },
    "tags": []
   },
   "outputs": [
    {
     "name": "stdout",
     "output_type": "stream",
     "text": [
      "search: \u001b[0m\u001b[1ms\u001b[22m\u001b[0m\u001b[1mi\u001b[22m\u001b[0m\u001b[1mz\u001b[22m\u001b[0m\u001b[1me\u001b[22m\u001b[0m\u001b[1mo\u001b[22m\u001b[0m\u001b[1mf\u001b[22m\n",
      "\n"
     ]
    },
    {
     "data": {
      "text/latex": [
       "\\begin{verbatim}\n",
       "sizeof(T::DataType)\n",
       "sizeof(obj)\n",
       "\\end{verbatim}\n",
       "Size, in bytes, of the canonical binary representation of the given \\texttt{DataType} \\texttt{T}, if any. Or the size, in bytes, of object \\texttt{obj} if it is not a \\texttt{DataType}.\n",
       "\n",
       "See also \\href{@ref}{\\texttt{Base.summarysize}}.\n",
       "\n",
       "\\section{Examples}\n",
       "\\begin{verbatim}\n",
       "julia> sizeof(Float32)\n",
       "4\n",
       "\n",
       "julia> sizeof(ComplexF64)\n",
       "16\n",
       "\n",
       "julia> sizeof(1.0)\n",
       "8\n",
       "\n",
       "julia> sizeof(collect(1.0:10.0))\n",
       "80\n",
       "\n",
       "julia> struct StructWithPadding\n",
       "           x::Int64\n",
       "           flag::Bool\n",
       "       end\n",
       "\n",
       "julia> sizeof(StructWithPadding) # not the sum of `sizeof` of fields due to padding\n",
       "16\n",
       "\n",
       "julia> sizeof(Int64) + sizeof(Bool) # different from above\n",
       "9\n",
       "\\end{verbatim}\n",
       "If \\texttt{DataType} \\texttt{T} does not have a specific size, an error is thrown.\n",
       "\n",
       "\\begin{verbatim}\n",
       "julia> sizeof(AbstractArray)\n",
       "ERROR: Abstract type AbstractArray does not have a definite size.\n",
       "Stacktrace:\n",
       "[...]\n",
       "\\end{verbatim}\n",
       "\\rule{\\textwidth}{1pt}\n",
       "\\begin{verbatim}\n",
       "sizeof(str::AbstractString)\n",
       "\\end{verbatim}\n",
       "Size, in bytes, of the string \\texttt{str}. Equal to the number of code units in \\texttt{str} multiplied by the size, in bytes, of one code unit in \\texttt{str}.\n",
       "\n",
       "\\section{Examples}\n",
       "\\begin{verbatim}\n",
       "julia> sizeof(\"\")\n",
       "0\n",
       "\n",
       "julia> sizeof(\"∀\")\n",
       "3\n",
       "\\end{verbatim}\n"
      ],
      "text/markdown": [
       "```\n",
       "sizeof(T::DataType)\n",
       "sizeof(obj)\n",
       "```\n",
       "\n",
       "Size, in bytes, of the canonical binary representation of the given `DataType` `T`, if any. Or the size, in bytes, of object `obj` if it is not a `DataType`.\n",
       "\n",
       "See also [`Base.summarysize`](@ref).\n",
       "\n",
       "# Examples\n",
       "\n",
       "```jldoctest\n",
       "julia> sizeof(Float32)\n",
       "4\n",
       "\n",
       "julia> sizeof(ComplexF64)\n",
       "16\n",
       "\n",
       "julia> sizeof(1.0)\n",
       "8\n",
       "\n",
       "julia> sizeof(collect(1.0:10.0))\n",
       "80\n",
       "\n",
       "julia> struct StructWithPadding\n",
       "           x::Int64\n",
       "           flag::Bool\n",
       "       end\n",
       "\n",
       "julia> sizeof(StructWithPadding) # not the sum of `sizeof` of fields due to padding\n",
       "16\n",
       "\n",
       "julia> sizeof(Int64) + sizeof(Bool) # different from above\n",
       "9\n",
       "```\n",
       "\n",
       "If `DataType` `T` does not have a specific size, an error is thrown.\n",
       "\n",
       "```jldoctest\n",
       "julia> sizeof(AbstractArray)\n",
       "ERROR: Abstract type AbstractArray does not have a definite size.\n",
       "Stacktrace:\n",
       "[...]\n",
       "```\n",
       "\n",
       "---\n",
       "\n",
       "```\n",
       "sizeof(str::AbstractString)\n",
       "```\n",
       "\n",
       "Size, in bytes, of the string `str`. Equal to the number of code units in `str` multiplied by the size, in bytes, of one code unit in `str`.\n",
       "\n",
       "# Examples\n",
       "\n",
       "```jldoctest\n",
       "julia> sizeof(\"\")\n",
       "0\n",
       "\n",
       "julia> sizeof(\"∀\")\n",
       "3\n",
       "```\n"
      ],
      "text/plain": [
       "\u001b[36m  sizeof(T::DataType)\u001b[39m\n",
       "\u001b[36m  sizeof(obj)\u001b[39m\n",
       "\n",
       "  Size, in bytes, of the canonical binary representation of the given \u001b[36mDataType\u001b[39m\n",
       "  \u001b[36mT\u001b[39m, if any. Or the size, in bytes, of object \u001b[36mobj\u001b[39m if it is not a \u001b[36mDataType\u001b[39m.\n",
       "\n",
       "  See also \u001b[36mBase.summarysize\u001b[39m.\n",
       "\n",
       "\u001b[1m  Examples\u001b[22m\n",
       "\u001b[1m  ≡≡≡≡≡≡≡≡\u001b[22m\n",
       "\n",
       "\u001b[36m  julia> sizeof(Float32)\u001b[39m\n",
       "\u001b[36m  4\u001b[39m\n",
       "\u001b[36m  \u001b[39m\n",
       "\u001b[36m  julia> sizeof(ComplexF64)\u001b[39m\n",
       "\u001b[36m  16\u001b[39m\n",
       "\u001b[36m  \u001b[39m\n",
       "\u001b[36m  julia> sizeof(1.0)\u001b[39m\n",
       "\u001b[36m  8\u001b[39m\n",
       "\u001b[36m  \u001b[39m\n",
       "\u001b[36m  julia> sizeof(collect(1.0:10.0))\u001b[39m\n",
       "\u001b[36m  80\u001b[39m\n",
       "\u001b[36m  \u001b[39m\n",
       "\u001b[36m  julia> struct StructWithPadding\u001b[39m\n",
       "\u001b[36m             x::Int64\u001b[39m\n",
       "\u001b[36m             flag::Bool\u001b[39m\n",
       "\u001b[36m         end\u001b[39m\n",
       "\u001b[36m  \u001b[39m\n",
       "\u001b[36m  julia> sizeof(StructWithPadding) # not the sum of `sizeof` of fields due to padding\u001b[39m\n",
       "\u001b[36m  16\u001b[39m\n",
       "\u001b[36m  \u001b[39m\n",
       "\u001b[36m  julia> sizeof(Int64) + sizeof(Bool) # different from above\u001b[39m\n",
       "\u001b[36m  9\u001b[39m\n",
       "\n",
       "  If \u001b[36mDataType\u001b[39m \u001b[36mT\u001b[39m does not have a specific size, an error is thrown.\n",
       "\n",
       "\u001b[36m  julia> sizeof(AbstractArray)\u001b[39m\n",
       "\u001b[36m  ERROR: Abstract type AbstractArray does not have a definite size.\u001b[39m\n",
       "\u001b[36m  Stacktrace:\u001b[39m\n",
       "\u001b[36m  [...]\u001b[39m\n",
       "\n",
       "  ────────────────────────────────────────────────────────────────────────────\n",
       "\n",
       "\u001b[36m  sizeof(str::AbstractString)\u001b[39m\n",
       "\n",
       "  Size, in bytes, of the string \u001b[36mstr\u001b[39m. Equal to the number of code units in \u001b[36mstr\u001b[39m\n",
       "  multiplied by the size, in bytes, of one code unit in \u001b[36mstr\u001b[39m.\n",
       "\n",
       "\u001b[1m  Examples\u001b[22m\n",
       "\u001b[1m  ≡≡≡≡≡≡≡≡\u001b[22m\n",
       "\n",
       "\u001b[36m  julia> sizeof(\"\")\u001b[39m\n",
       "\u001b[36m  0\u001b[39m\n",
       "\u001b[36m  \u001b[39m\n",
       "\u001b[36m  julia> sizeof(\"∀\")\u001b[39m\n",
       "\u001b[36m  3\u001b[39m"
      ]
     },
     "execution_count": 6,
     "metadata": {},
     "output_type": "execute_result"
    }
   ],
   "source": [
    "? sizeof"
   ]
  },
  {
   "cell_type": "markdown",
   "id": "1cc51162",
   "metadata": {
    "editable": true,
    "slideshow": {
     "slide_type": "subslide"
    },
    "tags": []
   },
   "source": [
    "### Check`sizeof()` different `Int` type\n",
    "\n",
    "- `Int` uses the machine default integer size\n",
    "- Bigger integers may be used up to size 128 bytes (2^1024 physical states total)"
   ]
  },
  {
   "cell_type": "code",
   "execution_count": 7,
   "id": "d2195efa",
   "metadata": {
    "editable": true,
    "slideshow": {
     "slide_type": "-"
    },
    "tags": []
   },
   "outputs": [
    {
     "name": "stdout",
     "output_type": "stream",
     "text": [
      "sizeof(Int) = 8\n",
      "sizeof(Int32) = 4\n",
      "sizeof(Int64) = 8\n",
      "sizeof(Int128) = 16\n"
     ]
    }
   ],
   "source": [
    "@show sizeof(Int); # uses machine's default integer representation\n",
    "@show sizeof(Int32);\n",
    "@show sizeof(Int64);\n",
    "@show sizeof(Int128);"
   ]
  },
  {
   "cell_type": "markdown",
   "id": "67ae5108",
   "metadata": {
    "editable": true,
    "slideshow": {
     "slide_type": "slide"
    },
    "tags": []
   },
   "source": [
    "## Machine bit representation of `Int`s\n",
    "\n",
    "- Similar to base-10 representation for whole numbers\n",
    "- Applicable only for whole numbers\n",
    "- Different scheme used for numbers with fractional part: floating-point representation"
   ]
  },
  {
   "cell_type": "markdown",
   "id": "1b5b0760",
   "metadata": {
    "editable": true,
    "jp-MarkdownHeadingCollapsed": true,
    "slideshow": {
     "slide_type": "subslide"
    },
    "tags": []
   },
   "source": [
    "### Algorithm for finding bit representation\n",
    "\n",
    "- [Divide by two method](https://en.wikipedia.org/wiki/Binary_number#Decimal_to_binary)\n",
    "- 💡 Last remainder goes as most significant bit at a time"
   ]
  },
  {
   "cell_type": "markdown",
   "id": "02014069",
   "metadata": {
    "editable": true,
    "slideshow": {
     "slide_type": "subslide"
    },
    "tags": []
   },
   "source": [
    "### Sample code"
   ]
  },
  {
   "cell_type": "code",
   "execution_count": 8,
   "id": "43ed767d",
   "metadata": {
    "editable": true,
    "slideshow": {
     "slide_type": ""
    },
    "tags": []
   },
   "outputs": [
    {
     "data": {
      "text/plain": [
       "sbit (generic function with 1 method)"
      ]
     },
     "execution_count": 8,
     "metadata": {},
     "output_type": "execute_result"
    }
   ],
   "source": [
    "function sbit(n::Integer)\n",
    "    sbit = \"\"; #initial string, none\n",
    "    while n != 0\n",
    "        r = rem(n,2); #returns the remainder\n",
    "        n = div(n,2); #returns the exact division\n",
    "        sbit = string(r)*sbit; #append to the left\n",
    "        @show n, r\n",
    "    end\n",
    "    return sbit\n",
    "end"
   ]
  },
  {
   "cell_type": "markdown",
   "id": "323b3bbd-e74a-4a17-b7a7-10cce3458c36",
   "metadata": {
    "editable": true,
    "slideshow": {
     "slide_type": "subslide"
    },
    "tags": []
   },
   "source": [
    "### Algorithm for finding bit representation\n",
    "\n",
    "- [Divide by two method](https://en.wikipedia.org/wiki/Binary_number#Decimal_to_binary)\n",
    "- 💡 Last remainder goes as most significant bit at a time"
   ]
  },
  {
   "cell_type": "code",
   "execution_count": 9,
   "id": "d7e6630b-0684-42c4-94f2-24441b47ce54",
   "metadata": {
    "editable": true,
    "slideshow": {
     "slide_type": ""
    },
    "tags": []
   },
   "outputs": [
    {
     "name": "stdout",
     "output_type": "stream",
     "text": [
      "(n, r) = (12, 1)\n",
      "(n, r) = (6, 0)\n",
      "(n, r) = (3, 0)\n",
      "(n, r) = (1, 1)\n",
      "(n, r) = (0, 1)\n",
      "sbit(25) = \"11001\"\n"
     ]
    }
   ],
   "source": [
    "@show sbit(25);"
   ]
  },
  {
   "cell_type": "markdown",
   "id": "89948a05",
   "metadata": {
    "editable": true,
    "slideshow": {
     "slide_type": "subslide"
    },
    "tags": []
   },
   "source": [
    "### Checking with `parse()`r function"
   ]
  },
  {
   "cell_type": "code",
   "execution_count": 10,
   "id": "3d5fa1e1",
   "metadata": {
    "editable": true,
    "slideshow": {
     "slide_type": ""
    },
    "tags": []
   },
   "outputs": [
    {
     "name": "stdout",
     "output_type": "stream",
     "text": [
      "(n, r) = (12, 1)\n",
      "(n, r) = (6, 0)\n",
      "(n, r) = (3, 0)\n",
      "(n, r) = (1, 1)\n",
      "(n, r) = (0, 1)\n",
      "s = sbit(n) = \"11001\"\n",
      "parse(Int, s; base = 2) == n = true\n"
     ]
    }
   ],
   "source": [
    "n = 25;\n",
    "@show s = sbit(n);\n",
    "@show parse(Int,s;base=2) == n;"
   ]
  },
  {
   "cell_type": "markdown",
   "id": "ec18122d",
   "metadata": {
    "editable": true,
    "slideshow": {
     "slide_type": "subslide"
    },
    "tags": []
   },
   "source": [
    "### Native function for `bitstring()`\n",
    "- `bitstring()` function exists within Julia."
   ]
  },
  {
   "cell_type": "code",
   "execution_count": 11,
   "id": "f53d476f",
   "metadata": {
    "editable": true,
    "slideshow": {
     "slide_type": ""
    },
    "tags": []
   },
   "outputs": [
    {
     "name": "stdout",
     "output_type": "stream",
     "text": [
      "search: \u001b[0m\u001b[1mb\u001b[22m\u001b[0m\u001b[1mi\u001b[22m\u001b[0m\u001b[1mt\u001b[22m\u001b[0m\u001b[1ms\u001b[22m\u001b[0m\u001b[1mt\u001b[22m\u001b[0m\u001b[1mr\u001b[22m\u001b[0m\u001b[1mi\u001b[22m\u001b[0m\u001b[1mn\u001b[22m\u001b[0m\u001b[1mg\u001b[22m Su\u001b[0m\u001b[1mb\u001b[22mst\u001b[0m\u001b[1mi\u001b[22m\u001b[0m\u001b[1mt\u001b[22mution\u001b[0m\u001b[1mS\u001b[22m\u001b[0m\u001b[1mt\u001b[22m\u001b[0m\u001b[1mr\u001b[22m\u001b[0m\u001b[1mi\u001b[22m\u001b[0m\u001b[1mn\u001b[22m\u001b[0m\u001b[1mg\u001b[22m\n",
      "\n"
     ]
    },
    {
     "data": {
      "text/latex": [
       "\\begin{verbatim}\n",
       "bitstring(n)\n",
       "\\end{verbatim}\n",
       "A string giving the literal bit representation of a primitive type.\n",
       "\n",
       "See also \\href{@ref}{\\texttt{count\\_ones}}, \\href{@ref}{\\texttt{count\\_zeros}}, \\href{@ref}{\\texttt{digits}}.\n",
       "\n",
       "\\section{Examples}\n",
       "\\begin{verbatim}\n",
       "julia> bitstring(Int32(4))\n",
       "\"00000000000000000000000000000100\"\n",
       "\n",
       "julia> bitstring(2.2)\n",
       "\"0100000000000001100110011001100110011001100110011001100110011010\"\n",
       "\\end{verbatim}\n"
      ],
      "text/markdown": [
       "```\n",
       "bitstring(n)\n",
       "```\n",
       "\n",
       "A string giving the literal bit representation of a primitive type.\n",
       "\n",
       "See also [`count_ones`](@ref), [`count_zeros`](@ref), [`digits`](@ref).\n",
       "\n",
       "# Examples\n",
       "\n",
       "```jldoctest\n",
       "julia> bitstring(Int32(4))\n",
       "\"00000000000000000000000000000100\"\n",
       "\n",
       "julia> bitstring(2.2)\n",
       "\"0100000000000001100110011001100110011001100110011001100110011010\"\n",
       "```\n"
      ],
      "text/plain": [
       "\u001b[36m  bitstring(n)\u001b[39m\n",
       "\n",
       "  A string giving the literal bit representation of a primitive type.\n",
       "\n",
       "  See also \u001b[36mcount_ones\u001b[39m, \u001b[36mcount_zeros\u001b[39m, \u001b[36mdigits\u001b[39m.\n",
       "\n",
       "\u001b[1m  Examples\u001b[22m\n",
       "\u001b[1m  ≡≡≡≡≡≡≡≡\u001b[22m\n",
       "\n",
       "\u001b[36m  julia> bitstring(Int32(4))\u001b[39m\n",
       "\u001b[36m  \"00000000000000000000000000000100\"\u001b[39m\n",
       "\u001b[36m  \u001b[39m\n",
       "\u001b[36m  julia> bitstring(2.2)\u001b[39m\n",
       "\u001b[36m  \"0100000000000001100110011001100110011001100110011001100110011010\"\u001b[39m"
      ]
     },
     "execution_count": 11,
     "metadata": {},
     "output_type": "execute_result"
    }
   ],
   "source": [
    "? bitstring"
   ]
  },
  {
   "cell_type": "markdown",
   "id": "0f171890",
   "metadata": {
    "editable": true,
    "slideshow": {
     "slide_type": "subslide"
    },
    "tags": []
   },
   "source": [
    "### Native function for `bitstring()`\n",
    "- `bitstring()` function exists within Julia."
   ]
  },
  {
   "cell_type": "code",
   "execution_count": 12,
   "id": "7cfbe5d7",
   "metadata": {
    "editable": true,
    "slideshow": {
     "slide_type": ""
    },
    "tags": []
   },
   "outputs": [
    {
     "name": "stdout",
     "output_type": "stream",
     "text": [
      "n08 = 25\n",
      "typeof(n64) = Int64\n",
      "bitstring(n08) = \"00011001\"\n",
      "bitstring(n16) = \"0000000000011001\"\n",
      "bitstring(n32) = \"00000000000000000000000000011001\"\n",
      "bitstring(n64) = \"0000000000000000000000000000000000000000000000000000000000011001\"\n"
     ]
    }
   ],
   "source": [
    "n08 = Int8(25);\n",
    "n16 = Int16(25);\n",
    "n32 = Int32(25);\n",
    "n64 = Int64(25);\n",
    "@show n08;\n",
    "@show typeof(n64);\n",
    "@show bitstring(n08);\n",
    "@show bitstring(n16);\n",
    "@show bitstring(n32);\n",
    "@show bitstring(n64);"
   ]
  },
  {
   "cell_type": "code",
   "execution_count": 101,
   "id": "64f286de-6ef1-40f0-88f2-139d5d0d793e",
   "metadata": {
    "editable": true,
    "slideshow": {
     "slide_type": ""
    },
    "tags": []
   },
   "outputs": [
    {
     "data": {
      "text/plain": [
       "127"
      ]
     },
     "execution_count": 101,
     "metadata": {},
     "output_type": "execute_result"
    }
   ],
   "source": [
    "@show typemax(Int8);\n",
    "@show typemax(Int32)\n",
    "@show typemax(Int64);\n",
    "@show typemax(Int128);"
   ]
  },
  {
   "cell_type": "markdown",
   "id": "e03d8384",
   "metadata": {
    "editable": true,
    "slideshow": {
     "slide_type": "slide"
    },
    "tags": []
   },
   "source": [
    "## Review: Floating-point representation (IEEE 754 standards)\n",
    "\n",
    "- Not all numbers perfectly represented in machines\n",
    "- Binary representation limitations results to under- and overflows\n",
    "- Floating-point representation in base 2 used for real numbers\n",
    "- Machine representation covered by [the IEEE Standard for Floating-Point Arithmetic (IEEE 754)](https://en.wikipedia.org/wiki/IEEE_754)\n",
    "- illustration found in [GeeksForGeeks page (:warning: with paid ads)](https://www.geeksforgeeks.org/ieee-standard-754-floating-point-numbers/)."
   ]
  },
  {
   "cell_type": "markdown",
   "id": "4b027510",
   "metadata": {
    "editable": true,
    "slideshow": {
     "slide_type": "subslide"
    },
    "tags": []
   },
   "source": [
    "## Mem size and allocation scheme\n",
    "\n",
    "Simple `Int` type and `FloatX` type."
   ]
  },
  {
   "cell_type": "code",
   "execution_count": 13,
   "id": "6cb6898d",
   "metadata": {
    "editable": true,
    "slideshow": {
     "slide_type": ""
    },
    "tags": []
   },
   "outputs": [
    {
     "name": "stdout",
     "output_type": "stream",
     "text": [
      "0000000000000000000000000000000000000000000000000000000000000011\n",
      "length(bitstring(3)) = 64\n"
     ]
    }
   ],
   "source": [
    "println( bitstring(3) );\n",
    "@show length( bitstring(3) );"
   ]
  },
  {
   "cell_type": "code",
   "execution_count": 14,
   "id": "d549a598",
   "metadata": {
    "editable": true,
    "slideshow": {
     "slide_type": "fragment"
    },
    "tags": []
   },
   "outputs": [
    {
     "name": "stdout",
     "output_type": "stream",
     "text": [
      "0100000000001000000000000000000000000000000000000000000000000000\n",
      "length(bitstring(3.0)) = 64\n"
     ]
    }
   ],
   "source": [
    "println( bitstring(3.0) );\n",
    "@show length(bitstring(3.0));"
   ]
  },
  {
   "cell_type": "markdown",
   "id": "c227b7e1-0356-46c2-97cb-ede4f9e5a7df",
   "metadata": {
    "editable": true,
    "slideshow": {
     "slide_type": "subslide"
    },
    "tags": []
   },
   "source": [
    "## Mem size and allocation scheme\n",
    "\n",
    "Simple `Int` type and `FloatX` type."
   ]
  },
  {
   "cell_type": "code",
   "execution_count": 15,
   "id": "33704ebe-a12f-4ff7-81f5-063b9174d5d5",
   "metadata": {
    "editable": true,
    "slideshow": {
     "slide_type": ""
    },
    "tags": []
   },
   "outputs": [
    {
     "name": "stdout",
     "output_type": "stream",
     "text": [
      "0000000000000000000000000000000000000000000000000000000000000011\n",
      "0100000000001000000000000000000000000000000000000000000000000000\n"
     ]
    }
   ],
   "source": [
    "println( bitstring(3) );\n",
    "println( bitstring(3.0) );"
   ]
  },
  {
   "cell_type": "markdown",
   "id": "0816b649",
   "metadata": {
    "editable": true,
    "slideshow": {
     "slide_type": ""
    },
    "tags": []
   },
   "source": [
    "- 💡 Same length; different information.\n",
    "- ☝ Same value; different representation (data type).\n",
    "- 📖 Standard binary representation for `Int` types but not for `Float` types."
   ]
  },
  {
   "cell_type": "markdown",
   "id": "a229b3ce-e24d-434b-b7f1-f00e08cd0508",
   "metadata": {
    "editable": true,
    "slideshow": {
     "slide_type": "subslide"
    },
    "tags": []
   },
   "source": [
    "### IEEE 754 floating-point representation standard\n",
    "\n",
    "- 📖 Check out [the IEEE Standard for Floating-Point Arithmetic (IEEE 754)](https://en.wikipedia.org/wiki/IEEE_754) for the bit assignment for `Float64`\n",
    "- `binary64 := [s:1][e:11][d:52]`\n",
    "    - `s` sign bit, `e` exponent bits, `d` significand digits ($b_n$, $n=0,..,51$)\n",
    "    - implicit significand digits `d`: 53 (assumes digits from 1.0)\n",
    "    - representation:\n",
    "      $$(-1)^s(1.b_{51}b_{51}\\ldots b_{0})_2 \\times 2^{e-1023}$$\n",
    "      where $e$ is derived from its binary representation from `e` bits."
   ]
  },
  {
   "cell_type": "markdown",
   "id": "cd789493-65fc-4126-b3d2-a348db91a98d",
   "metadata": {
    "editable": true,
    "slideshow": {
     "slide_type": "subslide"
    },
    "tags": []
   },
   "source": [
    "### IEEE 754 special cases\n",
    "\n",
    "- **Subnormal numbers** that fill the underflow gap from zero to `eps(1.0)`\n",
    "    - Activated when $e=0$.\n",
    "    - representation:\n",
    "          $$(-1)^s(0.b_{51}b_{51}\\ldots b_{0})_2 \\times 2^{1-1023}$$\n",
    "    - Default values used\n",
    "    - Significand allowed to be less than unity\n",
    "- Other special numbers are found in [this wiki page](https://en.wikipedia.org/wiki/Double-precision_floating-point_format#Double-precision_examples)."
   ]
  },
  {
   "cell_type": "markdown",
   "id": "78d001a0-d6e2-4a9c-aa40-47c03162465f",
   "metadata": {
    "editable": true,
    "slideshow": {
     "slide_type": "subslide"
    },
    "tags": []
   },
   "source": [
    "#### Some special `Float`-type values (in Julia)"
   ]
  },
  {
   "cell_type": "code",
   "execution_count": 29,
   "id": "dd866d02-ddd9-4031-b0c5-9b1971a77bb6",
   "metadata": {
    "editable": true,
    "slideshow": {
     "slide_type": ""
    },
    "tags": []
   },
   "outputs": [
    {
     "name": "stdout",
     "output_type": "stream",
     "text": [
      "0 | 11111111111 | 1000000000000000000000000000000000000000000000000000\n",
      "0 | 11111111111 | 0000000000000000000000000000000000000000000000000000\n",
      "1 | 00000000000 | 0000000000000000000000000000000000000000000000000000\n",
      "0 | 00000000000 | 0000000000000000000000000000000000000000000000000000\n"
     ]
    }
   ],
   "source": [
    "println( floatbits(NaN) );\n",
    "println( floatbits(Inf) );\n",
    "println( floatbits(-0.0) );\n",
    "println( floatbits(0.0) );"
   ]
  },
  {
   "cell_type": "markdown",
   "id": "cb3184b2",
   "metadata": {
    "editable": true,
    "slideshow": {
     "slide_type": "slide"
    },
    "tags": []
   },
   "source": [
    "## Julia `Numbers` and related functions\n",
    "\n",
    "- Basic functions provided to allow analysis of `Numbers` representation\n",
    "- [A range of primitive numeric representations available](https://docs.julialang.org/en/v1/manual/integers-and-floating-point-numbers/)\n",
    "- Also [support for arithmetic that requires arbitrary precision](https://docs.julialang.org/en/v1/manual/integers-and-floating-point-numbers/#Arbitrary-Precision-Arithmetic)."
   ]
  },
  {
   "cell_type": "markdown",
   "id": "bd4ac493",
   "metadata": {
    "editable": true,
    "slideshow": {
     "slide_type": "subslide"
    },
    "tags": []
   },
   "source": [
    "### Checkout `Int` type types\n",
    "\n",
    "- Default is machine `WORD_LENGTH`.\n",
    "- Try out different `Int`s."
   ]
  },
  {
   "cell_type": "code",
   "execution_count": 16,
   "id": "70cb039b",
   "metadata": {
    "editable": true,
    "slideshow": {
     "slide_type": "fragment"
    },
    "tags": []
   },
   "outputs": [
    {
     "name": "stdout",
     "output_type": "stream",
     "text": [
      "bitstring(Int8(126)) = \"01111110\"\n",
      "bitstring(Int16(126)) = \"0000000001111110\"\n",
      "bitstring(Int32(126)) = \"00000000000000000000000001111110\"\n"
     ]
    }
   ],
   "source": [
    "@show bitstring(Int8(126)); # [-2^7, 2^7-1] (one sign bit, leftmost)\n",
    "@show bitstring(Int16(126));\n",
    "@show bitstring(Int32(126));"
   ]
  },
  {
   "cell_type": "markdown",
   "id": "1475c6b9-bf36-427e-94e6-a86448ee3103",
   "metadata": {
    "editable": true,
    "slideshow": {
     "slide_type": "fragment"
    },
    "tags": []
   },
   "source": [
    "- 💡 Different length; same information.\n",
    "- ☝ Same value; different representation (data type), within _supertype_."
   ]
  },
  {
   "cell_type": "markdown",
   "id": "0efb71c3-4ddf-4b6f-a00c-bb6a67edecae",
   "metadata": {
    "editable": true,
    "slideshow": {
     "slide_type": "subslide"
    },
    "tags": []
   },
   "source": [
    "### Subnormal and dynamic range\n",
    "\n",
    "- Gap between zero and next smallest number representable\n",
    "- Filled with _subnormal_ by deviating from IEEE 754."
   ]
  },
  {
   "cell_type": "markdown",
   "id": "a8c470f2-0e91-4129-8e82-1a05f454591d",
   "metadata": {
    "editable": true,
    "slideshow": {
     "slide_type": ""
    },
    "tags": []
   },
   "source": [
    "### Smallest number representable\n",
    "\n",
    "- $1.0 \\times 2^{(1-1023)} \\approx 2.2250738585072014 \\times 10^{−308}$"
   ]
  },
  {
   "cell_type": "code",
   "execution_count": 51,
   "id": "ccaa31de-4dbe-4d08-93c8-f7388f362a4d",
   "metadata": {
    "editable": true,
    "slideshow": {
     "slide_type": "fragment"
    },
    "tags": []
   },
   "outputs": [
    {
     "name": "stdout",
     "output_type": "stream",
     "text": [
      "x = 2.5e-308\n",
      "issubnormal(x) = false\n",
      "0 | 00000000001 | 0001111110100001100000101100010000001100011000001101\n",
      "\n",
      "x = 2.5e-310\n",
      "issubnormal(x) = true\n",
      "0 | 00000000000 | 0000001011100000010101011100100110100011111101101100\n"
     ]
    }
   ],
   "source": [
    "x = 2.5e-308;\n",
    "@show x;\n",
    "@show issubnormal( x );\n",
    "println( floatbits(x) );\n",
    "\n",
    "println(\"\");\n",
    "x = 0.01x;\n",
    "@show x\n",
    "@show issubnormal( x );\n",
    "println( floatbits(x) );"
   ]
  },
  {
   "cell_type": "markdown",
   "id": "810c6756-20d6-41c3-bace-0b2ac856f1af",
   "metadata": {
    "editable": true,
    "slideshow": {
     "slide_type": "subslide"
    },
    "tags": []
   },
   "source": [
    "### The `nextfloat()` to a subnormal Number\n",
    "\n",
    "- Ask: `? nextfloat`"
   ]
  },
  {
   "cell_type": "code",
   "execution_count": 67,
   "id": "a769eb9f-bdd1-41aa-9e52-5c91288f8c83",
   "metadata": {
    "editable": true,
    "slideshow": {
     "slide_type": "fragment"
    },
    "tags": []
   },
   "outputs": [
    {
     "name": "stdout",
     "output_type": "stream",
     "text": [
      "x = 1.1125369292536007e-308\n",
      "xnext = 1.112536929253601e-308\n",
      "issubnormal(xnext) = true\n",
      "xnext - x = 5.0e-324\n",
      "0 | 00000000000 | 1000000000000000000000000000000000000000000000000000\n",
      "0 | 00000000000 | 1000000000000000000000000000000000000000000000000001\n",
      "0 | 00000000000 | 0000000000000000000000000000000000000000000000000001\n"
     ]
    }
   ],
   "source": [
    "x = 2.0^(-1023);\n",
    "xnext = nextfloat(x);\n",
    "@show x;\n",
    "@show xnext;\n",
    "@show issubnormal(xnext);\n",
    "@show xnext-x;\n",
    "println( floatbits(x) )\n",
    "println( floatbits(xnext) )\n",
    "println( floatbits(xnext-x) )"
   ]
  },
  {
   "cell_type": "markdown",
   "id": "4d39320e-bef2-4268-a1aa-6a9d090979f1",
   "metadata": {
    "editable": true,
    "slideshow": {
     "slide_type": "subslide"
    },
    "tags": []
   },
   "source": [
    "### Try `nextfloat()` to a (normal) Number\n",
    "\n",
    "- Ask: `? nextfloat`"
   ]
  },
  {
   "cell_type": "code",
   "execution_count": 88,
   "id": "13e8d671-55e9-42ec-af22-c012a24a1f63",
   "metadata": {
    "editable": true,
    "slideshow": {
     "slide_type": "fragment"
    },
    "tags": []
   },
   "outputs": [
    {
     "name": "stdout",
     "output_type": "stream",
     "text": [
      "x = 16.0\n",
      "issubnormal(x) = false\n",
      "xnext = 16.000000000000004\n",
      "issubnormal(xnext) = false\n",
      "xnext - x = 3.552713678800501e-15\n",
      "0 | 10000000011 | 0000000000000000000000000000000000000000000000000000\n",
      "0 | 10000000011 | 0000000000000000000000000000000000000000000000000001\n",
      "0 | 01111001111 | 0000000000000000000000000000000000000000000000000000\n"
     ]
    }
   ],
   "source": [
    "x = 2.0^(4);\n",
    "xnext = nextfloat(x);\n",
    "@show x;\n",
    "@show issubnormal(x);\n",
    "@show xnext;\n",
    "@show issubnormal(xnext);\n",
    "@show xnext-x;\n",
    "println( floatbits(x) )\n",
    "println( floatbits(xnext) )\n",
    "println( floatbits(xnext-x) )"
   ]
  },
  {
   "cell_type": "markdown",
   "id": "ba61ce7e-023d-45f3-b3bd-99129d162f6c",
   "metadata": {
    "editable": true,
    "slideshow": {
     "slide_type": ""
    },
    "tags": []
   },
   "source": [
    "### The machine `eps()`\n",
    "\n",
    "- No continuous `Numbers`\n",
    "- `eps(x) = nextfloat(x) - x`\n",
    "- Smallest Number that can be added to the current (default: 1)"
   ]
  },
  {
   "cell_type": "code",
   "execution_count": 93,
   "id": "b647f4ed-4cf4-4664-95a3-573e8872987a",
   "metadata": {
    "editable": true,
    "slideshow": {
     "slide_type": ""
    },
    "tags": []
   },
   "outputs": [
    {
     "name": "stdout",
     "output_type": "stream",
     "text": [
      "x₀ = 1.0\n",
      "eps(x₀) = 2.220446049250313e-16\n",
      "ϵ = 5.8018444091574694e-11\n",
      "ϵ + x₀ = 1.0000000000580185\n",
      "x₀ + eps(x₀) / 2 = 1.0\n"
     ]
    }
   ],
   "source": [
    "x₀ = 1.0\n",
    "@show x₀;\n",
    "@show eps(x₀);\n",
    "ϵ = 1e-10*rand();\n",
    "@show ϵ;\n",
    "@show ϵ + x₀;\n",
    "@show x₀ + eps(x₀)/2;"
   ]
  },
  {
   "cell_type": "markdown",
   "id": "c66e0ea6-3ce9-4784-ae0e-5c8193715ec3",
   "metadata": {
    "editable": true,
    "slideshow": {
     "slide_type": "subslide"
    },
    "tags": []
   },
   "source": [
    "### Truncation error\n",
    "\n",
    "- `@assert (x + y) - x == y` is not always `true`\n",
    "- Care with equality conditions\n",
    "- Even for zeros (since there are two zeros), just to be sure"
   ]
  },
  {
   "cell_type": "code",
   "execution_count": 116,
   "id": "bf962c68-4693-4971-9076-7bfb4c92afd9",
   "metadata": {
    "editable": true,
    "slideshow": {
     "slide_type": ""
    },
    "tags": []
   },
   "outputs": [
    {
     "name": "stdout",
     "output_type": "stream",
     "text": [
      "ϵ_plus1 - x₀ = 5.801847891007128e-11\n",
      "ϵPrime = 5.801847891007128e-11\n",
      "ϵPrime - ϵ = 3.481849658637908e-17\n",
      "0 | 01111011100 | 1111111001010101111010111110110110110010011000111101\n",
      "0 | 01111011100 | 1111111001010110000000000000000000000000000000000000\n",
      "0 | 01111011100 | 1111111001010110000000000000000000000000000000000001\n",
      "-0.0 === 0.0 = false\n",
      "-0.0 == 0.0 = true\n"
     ]
    },
    {
     "data": {
      "text/plain": [
       "true"
      ]
     },
     "execution_count": 116,
     "metadata": {},
     "output_type": "execute_result"
    }
   ],
   "source": [
    "ϵ_plus1 = ϵ + x₀;\n",
    "@show ϵ_plus1 - x₀;\n",
    "ϵPrime = ϵ_plus1 - x₀;\n",
    "@show ϵPrime;\n",
    "@show ϵPrime - ϵ;\n",
    "println( floatbits(ϵ) );\n",
    "println( floatbits(ϵPrime) );\n",
    "println( floatbits( nextfloat(ϵPrime) ) );\n",
    "@show -0.0 === 0.0\n",
    "@show -0.0 == 0.0"
   ]
  },
  {
   "cell_type": "markdown",
   "id": "8c0e3e00-bab3-4f9f-bbf9-76009d402979",
   "metadata": {
    "editable": true,
    "slideshow": {
     "slide_type": "slide"
    },
    "tags": []
   },
   "source": [
    "## `Numbers` overflow\n",
    "\n",
    "- !! Julia has no overflow check.\n",
    "- Scientifically The physical constants[^1] are small\n",
    "    - Avogadro number $N_A \\sim 10^{23}$\n",
    "    - Speed of light $c \\sim 10^8$\n",
    "    - Planck constant $\\hbar \\sim 10^{-34}$\n",
    "    - Cosmological constant $\\Lambda \\sim 10^{-52}$\n",
    "- Constant coefficients removable; normalized variables in governing equations\n",
    " \n",
    "[^1]: [physical constants](https://en.wikipedia.org/wiki/List_of_physical_constants)"
   ]
  },
  {
   "cell_type": "markdown",
   "id": "60914173-97e0-4eda-9067-1db3e37c3093",
   "metadata": {
    "editable": true,
    "slideshow": {
     "slide_type": "subslide"
    },
    "tags": []
   },
   "source": [
    "### Dynamic Range\n",
    "\n",
    "- Know the expected maximum and minimum values required\n",
    "- Choose for appropriate data type **for the dynamic range**.\n",
    "- Normalize where applicable, from fundamental level (e.g. working equations)\n",
    "- Minimize under- and overflows : Avoid boundaries between subnormal and normal `Numbers`"
   ]
  },
  {
   "cell_type": "markdown",
   "id": "0edc2879-cd46-4659-9b7d-0b02c6f0bb7a",
   "metadata": {
    "editable": true,
    "slideshow": {
     "slide_type": "subslide"
    },
    "tags": []
   },
   "source": [
    "### `Float`s and overflows"
   ]
  },
  {
   "cell_type": "code",
   "execution_count": 4,
   "id": "24ce79bc-5bfb-4ddb-98ce-58b12266d3c7",
   "metadata": {
    "editable": true,
    "slideshow": {
     "slide_type": ""
    },
    "tags": []
   },
   "outputs": [
    {
     "name": "stdout",
     "output_type": "stream",
     "text": [
      "xMax = Inf\n",
      "xPrv = 1.7976931348623157e308\n",
      "Inf + 1.0 = Inf\n",
      "0 | 11111111111 | 0000000000000000000000000000000000000000000000000000\n",
      "0 | 11111111110 | 1111111111111111111111111111111111111111111111111111\n",
      "0 | 11111111111 | 0000000000000000000000000000000000000000000000000000\n"
     ]
    }
   ],
   "source": [
    "xMax = typemax(Float64);\n",
    "xPrv = prevfloat(xMax);\n",
    "@show xMax;\n",
    "@show xPrv;\n",
    "@show Inf + 1.0;\n",
    "printfloatbits(xMax);\n",
    "printfloatbits(xPrv);\n",
    "printfloatbits(xMax + 1.0);"
   ]
  },
  {
   "cell_type": "markdown",
   "id": "5462f881-4f52-46b3-af4c-fb2226164b25",
   "metadata": {
    "editable": true,
    "slideshow": {
     "slide_type": "subslide"
    },
    "tags": []
   },
   "source": [
    "### Counting `Int`s better than `Float`s\n",
    "\n",
    "- Check if your loop requires unit changes"
   ]
  },
  {
   "cell_type": "code",
   "execution_count": 16,
   "id": "006bede3-2d0f-4798-beff-4fab703f9319",
   "metadata": {
    "editable": true,
    "slideshow": {
     "slide_type": ""
    },
    "tags": []
   },
   "outputs": [
    {
     "name": "stdout",
     "output_type": "stream",
     "text": [
      "n = maxintfloat(Float64, Int64) = 9.007199254740992e15\n",
      "prevfloat(typemax(Float64)) = 1.7976931348623157e308\n",
      "float(typemax(Int64)) = 9.223372036854776e18\n",
      "float(typemax(Int32)) = 2.147483647e9\n"
     ]
    }
   ],
   "source": [
    "@show n = maxintfloat(Float64,Int64);\n",
    "@show prevfloat( typemax(Float64) );\n",
    "@show float(typemax(Int64));\n",
    "@show float(typemax(Int32));"
   ]
  },
  {
   "cell_type": "markdown",
   "id": "49a812c7-bbe5-42fe-8153-12a59213cc49",
   "metadata": {
    "editable": true,
    "slideshow": {
     "slide_type": "subslide"
    },
    "tags": []
   },
   "source": [
    "### `Float` types have unit change detection limit\n",
    "\n",
    "- `Float` types have max for unit changes due to `eps()`"
   ]
  },
  {
   "cell_type": "code",
   "execution_count": 28,
   "id": "5ebc4256-e200-4e88-b100-339701bbd182",
   "metadata": {
    "editable": true,
    "slideshow": {
     "slide_type": ""
    },
    "tags": []
   },
   "outputs": [
    {
     "name": "stdout",
     "output_type": "stream",
     "text": [
      "typeof(n) = Float64\n",
      "(n + 1) - n = 0.0\n",
      "0 | 10000110100 | 0000000000000000000000000000000000000000000000000000\n",
      "parse(Int, \"10000110100\"; base = 2) - 1023 = 53\n",
      "(prevfloat(n) + 1) - prevfloat(n) = 1.0\n"
     ]
    }
   ],
   "source": [
    "@show typeof(n)\n",
    "@show (n+1) - n\n",
    "printfloatbits(n)\n",
    "@show parse(Int,\"10000110100\";base=2)-1023;\n",
    "@show ( prevfloat(n)+1 ) - prevfloat(n);"
   ]
  },
  {
   "cell_type": "markdown",
   "id": "cd6f1f81-9416-4bfe-a18e-b83dd07bbc37",
   "metadata": {
    "editable": true,
    "slideshow": {
     "slide_type": "slide"
    },
    "tags": []
   },
   "source": [
    "## Solving over- and underflows\n",
    "\n",
    "- Using `Big` `Numbers` [^1]\n",
    "- Making `Numbers` go `big()`\n",
    "\n",
    "[^1]: For floating-point representation, there's [GNU Multiple-Precision Floating-point computations with correct Rounding](https://www.mpfr.org), and for integers there's [the GMP or GNU Multiple Precision Arithmetic Library](https://gmplib.org)."
   ]
  },
  {
   "cell_type": "markdown",
   "id": "43118c15-9faa-4fdb-b845-757dd3d51f34",
   "metadata": {
    "editable": true,
    "slideshow": {
     "slide_type": "subslide"
    },
    "tags": []
   },
   "source": [
    "#### `BigInt` is `big(n::Int)`"
   ]
  },
  {
   "cell_type": "code",
   "execution_count": 50,
   "id": "3fdcfcca-ab89-4250-a733-c2a043bbd687",
   "metadata": {
    "editable": true,
    "slideshow": {
     "slide_type": ""
    },
    "tags": []
   },
   "outputs": [
    {
     "name": "stdout",
     "output_type": "stream",
     "text": [
      "typeof(nMax) = Int64\n",
      "nMax = 9223372036854775807\n",
      "nMax + 1 = -9223372036854775808\n",
      "sizeof(nMax) = 8\n",
      "typeof(nBig) = BigInt\n",
      "nBig = 9223372036854775807\n",
      "nBig + 1 = 9223372036854775808\n",
      "sizeof(nBig) = 16\n",
      "Sized up by 2.0 times!\n"
     ]
    }
   ],
   "source": [
    "nMax = typemax(Int);\n",
    "@show typeof(nMax);\n",
    "@show nMax;\n",
    "@show nMax + 1;\n",
    "@show sizeof(nMax);\n",
    "\n",
    "nBig = big( typemax(Int) );\n",
    "@show typeof(nBig)\n",
    "@show nBig;\n",
    "@show nBig + 1;\n",
    "@show sizeof(nBig)\n",
    "println( \"Sized up by $( sizeof(nBig) / sizeof(nMax) ) times!\" )"
   ]
  },
  {
   "cell_type": "markdown",
   "id": "4da96b1a-d9b0-4ea5-bb36-578cb2eba688",
   "metadata": {
    "editable": true,
    "slideshow": {
     "slide_type": "subslide"
    },
    "tags": []
   },
   "source": [
    "#### `BigFloat` is `big(Float64)`"
   ]
  },
  {
   "cell_type": "code",
   "execution_count": 49,
   "id": "412a90e0-2446-401e-8662-ea1ba8f2f253",
   "metadata": {
    "editable": true,
    "slideshow": {
     "slide_type": ""
    },
    "tags": []
   },
   "outputs": [
    {
     "name": "stdout",
     "output_type": "stream",
     "text": [
      "typeof(xMax) = Float64\n",
      "xMax = 1.7976931348623157e308\n",
      "xMax + 1 = 1.7976931348623157e308\n",
      "sizeof(xMax) = 8\n",
      "typeof(xBig) = BigFloat\n",
      "xBig = 1.797693134862315708145274237317043567980705675258449965989174768031572607800285e+308\n",
      "xBig + 1 = 1.797693134862315708145274237317043567980705675258449965989174768031572607800285e+308\n",
      "sizeof(xBig) = 40\n",
      "Sized up by 5.0 times!\n"
     ]
    }
   ],
   "source": [
    "xMax = prevfloat( typemax(Float64) );\n",
    "@show typeof(xMax);\n",
    "@show xMax;\n",
    "@show xMax + 1;\n",
    "@show sizeof(xMax);\n",
    "\n",
    "xBig = big( prevfloat( typemax(Float64) ) );\n",
    "@show typeof(xBig)\n",
    "@show xBig;\n",
    "@show xBig + 1;\n",
    "\n",
    "@show sizeof(xBig);\n",
    "println( \"Sized up by $( sizeof(xBig) / sizeof(xMax) ) times!\" )"
   ]
  },
  {
   "cell_type": "markdown",
   "id": "972f5c2f-5121-4383-8b14-a275e55144a8",
   "metadata": {
    "editable": true,
    "slideshow": {
     "slide_type": "subslide"
    },
    "tags": []
   },
   "source": [
    "## Speed always against convinience\n",
    "\n",
    "- Compute time is needed for checking over- and underflows.\n",
    "- Allocation time is needed for at least doubling the variable size."
   ]
  },
  {
   "cell_type": "code",
   "execution_count": 12,
   "id": "1ac18e0d-66c2-4965-af9c-b10d9e508bf4",
   "metadata": {
    "editable": true,
    "slideshow": {
     "slide_type": ""
    },
    "tags": []
   },
   "outputs": [],
   "source": [
    "m = rand(Int32);\n",
    "n = rand(Int32);\n",
    "\n",
    "markBig = @benchmark $(BigInt(m)) + $(BigInt(n));\n",
    "mark32 = @benchmark $(Int32(m)) + $(Int32(n));\n",
    "mark64 = @benchmark $(Int64(m)) + $(Int64(n));\n",
    "mark128 = @benchmark $(Int128(m)) + $(Int128(n));"
   ]
  },
  {
   "cell_type": "code",
   "execution_count": 9,
   "id": "f0142334-f2f3-4750-acc8-be8860634dab",
   "metadata": {
    "editable": true,
    "slideshow": {
     "slide_type": "subslide"
    },
    "tags": []
   },
   "outputs": [
    {
     "data": {
      "text/plain": [
       "BenchmarkTools.Trial: 10000 samples with 979 evaluations.\n",
       " Range \u001b[90m(\u001b[39m\u001b[36m\u001b[1mmin\u001b[22m\u001b[39m … \u001b[35mmax\u001b[39m\u001b[90m):  \u001b[39m\u001b[36m\u001b[1m 59.586 ns\u001b[22m\u001b[39m … \u001b[35m170.306 μs\u001b[39m  \u001b[90m┊\u001b[39m GC \u001b[90m(\u001b[39mmin … max\u001b[90m): \u001b[39m 0.00% … 47.72%\n",
       " Time  \u001b[90m(\u001b[39m\u001b[34m\u001b[1mmedian\u001b[22m\u001b[39m\u001b[90m):     \u001b[39m\u001b[34m\u001b[1m 69.434 ns               \u001b[22m\u001b[39m\u001b[90m┊\u001b[39m GC \u001b[90m(\u001b[39mmedian\u001b[90m):    \u001b[39m 0.00%\n",
       " Time  \u001b[90m(\u001b[39m\u001b[32m\u001b[1mmean\u001b[22m\u001b[39m ± \u001b[32mσ\u001b[39m\u001b[90m):   \u001b[39m\u001b[32m\u001b[1m159.228 ns\u001b[22m\u001b[39m ± \u001b[32m  3.507 μs\u001b[39m  \u001b[90m┊\u001b[39m GC \u001b[90m(\u001b[39mmean ± σ\u001b[90m):  \u001b[39m23.96% ±  1.11%\n",
       "\n",
       "  \u001b[39m▂\u001b[39m▃\u001b[39m▆\u001b[39m█\u001b[39m█\u001b[34m▇\u001b[39m\u001b[39m▆\u001b[39m▅\u001b[39m▃\u001b[39m▂\u001b[39m▂\u001b[39m▁\u001b[39m \u001b[39m \u001b[39m▁\u001b[39m▁\u001b[39m▁\u001b[39m▁\u001b[39m▁\u001b[39m▁\u001b[39m▁\u001b[39m▁\u001b[39m \u001b[39m \u001b[39m \u001b[39m \u001b[39m \u001b[39m \u001b[39m \u001b[39m \u001b[39m \u001b[39m \u001b[39m \u001b[39m \u001b[39m \u001b[39m \u001b[39m \u001b[39m \u001b[39m \u001b[39m \u001b[39m \u001b[39m \u001b[39m \u001b[39m \u001b[39m \u001b[39m \u001b[39m \u001b[39m \u001b[32m \u001b[39m\u001b[39m \u001b[39m \u001b[39m \u001b[39m \u001b[39m \u001b[39m \u001b[39m \u001b[39m \u001b[39m \u001b[39m \u001b[39m \u001b[39m \u001b[39m \u001b[39m▂\n",
       "  \u001b[39m█\u001b[39m█\u001b[39m█\u001b[39m█\u001b[39m█\u001b[34m█\u001b[39m\u001b[39m█\u001b[39m█\u001b[39m█\u001b[39m█\u001b[39m█\u001b[39m█\u001b[39m█\u001b[39m█\u001b[39m█\u001b[39m█\u001b[39m█\u001b[39m█\u001b[39m█\u001b[39m█\u001b[39m█\u001b[39m█\u001b[39m▇\u001b[39m▆\u001b[39m▆\u001b[39m▇\u001b[39m▆\u001b[39m▆\u001b[39m▇\u001b[39m█\u001b[39m▇\u001b[39m▇\u001b[39m▆\u001b[39m▆\u001b[39m▅\u001b[39m▆\u001b[39m▆\u001b[39m▆\u001b[39m▅\u001b[39m▆\u001b[39m▅\u001b[39m▆\u001b[39m▅\u001b[39m▅\u001b[39m▅\u001b[39m▆\u001b[39m▆\u001b[39m▄\u001b[32m▅\u001b[39m\u001b[39m▅\u001b[39m▅\u001b[39m▅\u001b[39m▃\u001b[39m▄\u001b[39m▅\u001b[39m▄\u001b[39m▅\u001b[39m▄\u001b[39m▄\u001b[39m▄\u001b[39m▄\u001b[39m \u001b[39m█\n",
       "  59.6 ns\u001b[90m       \u001b[39m\u001b[90mHistogram: \u001b[39m\u001b[90m\u001b[1mlog(\u001b[22m\u001b[39m\u001b[90mfrequency\u001b[39m\u001b[90m\u001b[1m)\u001b[22m\u001b[39m\u001b[90m by time\u001b[39m        187 ns \u001b[0m\u001b[1m<\u001b[22m\n",
       "\n",
       " Memory estimate\u001b[90m: \u001b[39m\u001b[33m48 bytes\u001b[39m, allocs estimate\u001b[90m: \u001b[39m\u001b[33m2\u001b[39m."
      ]
     },
     "execution_count": 9,
     "metadata": {},
     "output_type": "execute_result"
    }
   ],
   "source": [
    "markBig"
   ]
  },
  {
   "cell_type": "code",
   "execution_count": 14,
   "id": "b1047e9e-32a8-4606-a3ef-ad812387d418",
   "metadata": {
    "editable": true,
    "slideshow": {
     "slide_type": "subslide"
    },
    "tags": []
   },
   "outputs": [
    {
     "data": {
      "text/plain": [
       "BenchmarkTools.Trial: 10000 samples with 1000 evaluations.\n",
       " Range \u001b[90m(\u001b[39m\u001b[36m\u001b[1mmin\u001b[22m\u001b[39m … \u001b[35mmax\u001b[39m\u001b[90m):  \u001b[39m\u001b[36m\u001b[1m2.258 ns\u001b[22m\u001b[39m … \u001b[35m42.566 ns\u001b[39m  \u001b[90m┊\u001b[39m GC \u001b[90m(\u001b[39mmin … max\u001b[90m): \u001b[39m0.00% … 0.00%\n",
       " Time  \u001b[90m(\u001b[39m\u001b[34m\u001b[1mmedian\u001b[22m\u001b[39m\u001b[90m):     \u001b[39m\u001b[34m\u001b[1m2.278 ns              \u001b[22m\u001b[39m\u001b[90m┊\u001b[39m GC \u001b[90m(\u001b[39mmedian\u001b[90m):    \u001b[39m0.00%\n",
       " Time  \u001b[90m(\u001b[39m\u001b[32m\u001b[1mmean\u001b[22m\u001b[39m ± \u001b[32mσ\u001b[39m\u001b[90m):   \u001b[39m\u001b[32m\u001b[1m2.350 ns\u001b[22m\u001b[39m ± \u001b[32m 1.195 ns\u001b[39m  \u001b[90m┊\u001b[39m GC \u001b[90m(\u001b[39mmean ± σ\u001b[90m):  \u001b[39m0.00% ± 0.00%\n",
       "\n",
       "  \u001b[39m \u001b[39m \u001b[39m \u001b[39m \u001b[39m \u001b[39m \u001b[39m \u001b[39m▂\u001b[39m▅\u001b[39m█\u001b[39m▁\u001b[39m▆\u001b[34m▃\u001b[39m\u001b[39m \u001b[39m \u001b[39m \u001b[39m \u001b[39m \u001b[39m \u001b[39m \u001b[39m \u001b[39m \u001b[39m \u001b[39m \u001b[39m \u001b[39m \u001b[39m \u001b[39m \u001b[39m \u001b[39m \u001b[39m \u001b[39m \u001b[39m \u001b[39m \u001b[39m \u001b[39m \u001b[39m \u001b[39m \u001b[39m \u001b[39m \u001b[39m \u001b[39m \u001b[39m \u001b[39m \u001b[39m \u001b[39m \u001b[39m \u001b[39m \u001b[39m \u001b[39m▂\u001b[39m▁\u001b[39m \u001b[39m \u001b[39m \u001b[32m \u001b[39m\u001b[39m \u001b[39m \u001b[39m \u001b[39m \u001b[39m \n",
       "  \u001b[39m▂\u001b[39m▂\u001b[39m▂\u001b[39m▂\u001b[39m▃\u001b[39m▃\u001b[39m▅\u001b[39m█\u001b[39m█\u001b[39m█\u001b[39m█\u001b[39m█\u001b[34m█\u001b[39m\u001b[39m▄\u001b[39m▄\u001b[39m▂\u001b[39m▂\u001b[39m▂\u001b[39m▂\u001b[39m▂\u001b[39m▂\u001b[39m▂\u001b[39m▂\u001b[39m▂\u001b[39m▂\u001b[39m▂\u001b[39m▂\u001b[39m▁\u001b[39m▁\u001b[39m▂\u001b[39m▂\u001b[39m▂\u001b[39m▁\u001b[39m▁\u001b[39m▁\u001b[39m▁\u001b[39m▂\u001b[39m▁\u001b[39m▂\u001b[39m▂\u001b[39m▂\u001b[39m▂\u001b[39m▂\u001b[39m▃\u001b[39m▃\u001b[39m▅\u001b[39m█\u001b[39m▆\u001b[39m█\u001b[39m█\u001b[39m█\u001b[39m▄\u001b[39m▄\u001b[39m▃\u001b[32m▂\u001b[39m\u001b[39m▂\u001b[39m▂\u001b[39m▂\u001b[39m \u001b[39m▃\n",
       "  2.26 ns\u001b[90m        Histogram: frequency by time\u001b[39m        2.36 ns \u001b[0m\u001b[1m<\u001b[22m\n",
       "\n",
       " Memory estimate\u001b[90m: \u001b[39m\u001b[33m0 bytes\u001b[39m, allocs estimate\u001b[90m: \u001b[39m\u001b[33m0\u001b[39m."
      ]
     },
     "execution_count": 14,
     "metadata": {},
     "output_type": "execute_result"
    }
   ],
   "source": [
    "mark128"
   ]
  },
  {
   "cell_type": "code",
   "execution_count": 13,
   "id": "7ec67d69-ba4f-4f72-bf1d-a36d574f801c",
   "metadata": {
    "editable": true,
    "slideshow": {
     "slide_type": "subslide"
    },
    "tags": []
   },
   "outputs": [
    {
     "name": "stdout",
     "output_type": "stream",
     "text": [
      "median(markBig.times) = 70.35234215885947\n",
      "median(mark32.times) = 2.057\n",
      "median(mark64.times) = 2.05\n",
      "median(mark128.times) = 2.278\n"
     ]
    }
   ],
   "source": [
    "@show median(markBig.times);\n",
    "@show median(mark32.times);\n",
    "@show median(mark64.times);\n",
    "@show median(mark128.times);"
   ]
  },
  {
   "cell_type": "code",
   "execution_count": 17,
   "id": "5294ece4-1583-4a20-a7d8-a3a123f6e863",
   "metadata": {
    "editable": true,
    "slideshow": {
     "slide_type": "subslide"
    },
    "tags": []
   },
   "outputs": [
    {
     "data": {
      "text/plain": [
       "BenchmarkTools.Trial: 10000 samples with 992 evaluations.\n",
       " Range \u001b[90m(\u001b[39m\u001b[36m\u001b[1mmin\u001b[22m\u001b[39m … \u001b[35mmax\u001b[39m\u001b[90m):  \u001b[39m\u001b[36m\u001b[1m37.685 ns\u001b[22m\u001b[39m … \u001b[35m 2.568 μs\u001b[39m  \u001b[90m┊\u001b[39m GC \u001b[90m(\u001b[39mmin … max\u001b[90m): \u001b[39m0.00% … 96.72%\n",
       " Time  \u001b[90m(\u001b[39m\u001b[34m\u001b[1mmedian\u001b[22m\u001b[39m\u001b[90m):     \u001b[39m\u001b[34m\u001b[1m40.486 ns              \u001b[22m\u001b[39m\u001b[90m┊\u001b[39m GC \u001b[90m(\u001b[39mmedian\u001b[90m):    \u001b[39m0.00%\n",
       " Time  \u001b[90m(\u001b[39m\u001b[32m\u001b[1mmean\u001b[22m\u001b[39m ± \u001b[32mσ\u001b[39m\u001b[90m):   \u001b[39m\u001b[32m\u001b[1m46.041 ns\u001b[22m\u001b[39m ± \u001b[32m80.256 ns\u001b[39m  \u001b[90m┊\u001b[39m GC \u001b[90m(\u001b[39mmean ± σ\u001b[90m):  \u001b[39m7.41% ±  4.19%\n",
       "\n",
       "  \u001b[39m▄\u001b[39m▇\u001b[39m█\u001b[39m█\u001b[34m█\u001b[39m\u001b[39m▇\u001b[39m▄\u001b[39m▂\u001b[39m▂\u001b[39m▃\u001b[39m▁\u001b[32m \u001b[39m\u001b[39m \u001b[39m▂\u001b[39m▃\u001b[39m▁\u001b[39m \u001b[39m \u001b[39m \u001b[39m \u001b[39m \u001b[39m \u001b[39m \u001b[39m \u001b[39m \u001b[39m \u001b[39m \u001b[39m \u001b[39m \u001b[39m \u001b[39m \u001b[39m \u001b[39m \u001b[39m \u001b[39m \u001b[39m \u001b[39m \u001b[39m \u001b[39m \u001b[39m \u001b[39m \u001b[39m \u001b[39m \u001b[39m \u001b[39m \u001b[39m \u001b[39m \u001b[39m \u001b[39m \u001b[39m \u001b[39m \u001b[39m \u001b[39m \u001b[39m \u001b[39m \u001b[39m \u001b[39m \u001b[39m \u001b[39m \u001b[39m \u001b[39m▂\n",
       "  \u001b[39m█\u001b[39m█\u001b[39m█\u001b[39m█\u001b[34m█\u001b[39m\u001b[39m█\u001b[39m█\u001b[39m█\u001b[39m█\u001b[39m█\u001b[39m█\u001b[32m█\u001b[39m\u001b[39m█\u001b[39m█\u001b[39m█\u001b[39m█\u001b[39m▇\u001b[39m▄\u001b[39m▄\u001b[39m▄\u001b[39m▅\u001b[39m▆\u001b[39m▆\u001b[39m▇\u001b[39m▇\u001b[39m█\u001b[39m▆\u001b[39m▆\u001b[39m▇\u001b[39m█\u001b[39m█\u001b[39m▇\u001b[39m▆\u001b[39m▅\u001b[39m▅\u001b[39m▆\u001b[39m▇\u001b[39m▇\u001b[39m▆\u001b[39m▆\u001b[39m▅\u001b[39m▆\u001b[39m▅\u001b[39m▅\u001b[39m▆\u001b[39m▆\u001b[39m▇\u001b[39m▇\u001b[39m▆\u001b[39m▅\u001b[39m▆\u001b[39m▆\u001b[39m█\u001b[39m▆\u001b[39m▅\u001b[39m▆\u001b[39m▅\u001b[39m▅\u001b[39m▄\u001b[39m \u001b[39m█\n",
       "  37.7 ns\u001b[90m      \u001b[39m\u001b[90mHistogram: \u001b[39m\u001b[90m\u001b[1mlog(\u001b[22m\u001b[39m\u001b[90mfrequency\u001b[39m\u001b[90m\u001b[1m)\u001b[22m\u001b[39m\u001b[90m by time\u001b[39m      81.5 ns \u001b[0m\u001b[1m<\u001b[22m\n",
       "\n",
       " Memory estimate\u001b[90m: \u001b[39m\u001b[33m104 bytes\u001b[39m, allocs estimate\u001b[90m: \u001b[39m\u001b[33m2\u001b[39m."
      ]
     },
     "execution_count": 17,
     "metadata": {},
     "output_type": "execute_result"
    }
   ],
   "source": [
    "markBigF"
   ]
  },
  {
   "cell_type": "code",
   "execution_count": 18,
   "id": "327bbc44-2da0-4fb0-a86a-d4ca0e3a265e",
   "metadata": {
    "editable": true,
    "slideshow": {
     "slide_type": "subslide"
    },
    "tags": []
   },
   "outputs": [
    {
     "data": {
      "text/plain": [
       "BenchmarkTools.Trial: 10000 samples with 1000 evaluations.\n",
       " Range \u001b[90m(\u001b[39m\u001b[36m\u001b[1mmin\u001b[22m\u001b[39m … \u001b[35mmax\u001b[39m\u001b[90m):  \u001b[39m\u001b[36m\u001b[1m2.034 ns\u001b[22m\u001b[39m … \u001b[35m262.129 ns\u001b[39m  \u001b[90m┊\u001b[39m GC \u001b[90m(\u001b[39mmin … max\u001b[90m): \u001b[39m0.00% … 0.00%\n",
       " Time  \u001b[90m(\u001b[39m\u001b[34m\u001b[1mmedian\u001b[22m\u001b[39m\u001b[90m):     \u001b[39m\u001b[34m\u001b[1m2.054 ns               \u001b[22m\u001b[39m\u001b[90m┊\u001b[39m GC \u001b[90m(\u001b[39mmedian\u001b[90m):    \u001b[39m0.00%\n",
       " Time  \u001b[90m(\u001b[39m\u001b[32m\u001b[1mmean\u001b[22m\u001b[39m ± \u001b[32mσ\u001b[39m\u001b[90m):   \u001b[39m\u001b[32m\u001b[1m2.151 ns\u001b[22m\u001b[39m ± \u001b[32m  2.851 ns\u001b[39m  \u001b[90m┊\u001b[39m GC \u001b[90m(\u001b[39mmean ± σ\u001b[90m):  \u001b[39m0.00% ± 0.00%\n",
       "\n",
       "  \u001b[39m█\u001b[34m█\u001b[39m\u001b[39m▂\u001b[39m \u001b[39m▂\u001b[39m▁\u001b[39m \u001b[32m \u001b[39m\u001b[39m \u001b[39m \u001b[39m \u001b[39m \u001b[39m \u001b[39m \u001b[39m \u001b[39m \u001b[39m \u001b[39m \u001b[39m \u001b[39m \u001b[39m \u001b[39m \u001b[39m \u001b[39m \u001b[39m \u001b[39m \u001b[39m \u001b[39m \u001b[39m \u001b[39m \u001b[39m \u001b[39m \u001b[39m \u001b[39m \u001b[39m \u001b[39m \u001b[39m \u001b[39m \u001b[39m \u001b[39m \u001b[39m \u001b[39m \u001b[39m \u001b[39m \u001b[39m \u001b[39m \u001b[39m \u001b[39m \u001b[39m \u001b[39m \u001b[39m \u001b[39m \u001b[39m \u001b[39m \u001b[39m \u001b[39m \u001b[39m \u001b[39m \u001b[39m \u001b[39m \u001b[39m▂\n",
       "  \u001b[39m█\u001b[34m█\u001b[39m\u001b[39m█\u001b[39m▇\u001b[39m█\u001b[39m█\u001b[39m▆\u001b[32m▅\u001b[39m\u001b[39m▄\u001b[39m▃\u001b[39m▄\u001b[39m▃\u001b[39m▃\u001b[39m▃\u001b[39m▁\u001b[39m▁\u001b[39m▃\u001b[39m▁\u001b[39m▁\u001b[39m▁\u001b[39m▁\u001b[39m▁\u001b[39m▁\u001b[39m▁\u001b[39m▃\u001b[39m▁\u001b[39m▁\u001b[39m▁\u001b[39m▁\u001b[39m▁\u001b[39m▁\u001b[39m▁\u001b[39m▁\u001b[39m▁\u001b[39m▃\u001b[39m▁\u001b[39m▁\u001b[39m▁\u001b[39m▁\u001b[39m▁\u001b[39m▁\u001b[39m▃\u001b[39m▁\u001b[39m▃\u001b[39m▁\u001b[39m▁\u001b[39m▁\u001b[39m▁\u001b[39m▁\u001b[39m▁\u001b[39m▁\u001b[39m▁\u001b[39m▁\u001b[39m▁\u001b[39m▁\u001b[39m▃\u001b[39m▄\u001b[39m▁\u001b[39m█\u001b[39m \u001b[39m█\n",
       "  2.03 ns\u001b[90m      \u001b[39m\u001b[90mHistogram: \u001b[39m\u001b[90m\u001b[1mlog(\u001b[22m\u001b[39m\u001b[90mfrequency\u001b[39m\u001b[90m\u001b[1m)\u001b[22m\u001b[39m\u001b[90m by time\u001b[39m      2.99 ns \u001b[0m\u001b[1m<\u001b[22m\n",
       "\n",
       " Memory estimate\u001b[90m: \u001b[39m\u001b[33m0 bytes\u001b[39m, allocs estimate\u001b[90m: \u001b[39m\u001b[33m0\u001b[39m."
      ]
     },
     "execution_count": 18,
     "metadata": {},
     "output_type": "execute_result"
    }
   ],
   "source": [
    "markF64"
   ]
  },
  {
   "cell_type": "code",
   "execution_count": 15,
   "id": "28ec6f0e-871f-4c4e-ab64-d12b974af2eb",
   "metadata": {
    "editable": true,
    "slideshow": {
     "slide_type": "subslide"
    },
    "tags": []
   },
   "outputs": [],
   "source": [
    "x = rand(Float16);\n",
    "y = rand(Float16);\n",
    "\n",
    "markBigF = @benchmark $(BigFloat(x)) + $(BigFloat(y));\n",
    "markF16 = @benchmark $(Float16(x)) + $(Float16(y));\n",
    "markF32 = @benchmark $(Float32(x)) + $(Float32(y));\n",
    "markF64 = @benchmark $(Float64(x)) + $(Float64(y));"
   ]
  },
  {
   "cell_type": "code",
   "execution_count": 16,
   "id": "d3a6456b-d738-4e44-aea2-b0b4c5168795",
   "metadata": {
    "editable": true,
    "slideshow": {
     "slide_type": "subslide"
    },
    "tags": []
   },
   "outputs": [
    {
     "name": "stdout",
     "output_type": "stream",
     "text": [
      "median(markBigF.times) = 40.48588709677419\n",
      "median(markF16.times) = 2.769\n",
      "median(markF32.times) = 2.109\n",
      "median(markF64.times) = 2.054\n"
     ]
    }
   ],
   "source": [
    "@show median(markBigF.times);\n",
    "@show median(markF16.times);\n",
    "@show median(markF32.times);\n",
    "@show median(markF64.times);"
   ]
  },
  {
   "cell_type": "markdown",
   "id": "35afb29c-dc4c-4754-ab98-3703cf4b38a5",
   "metadata": {
    "editable": true,
    "slideshow": {
     "slide_type": "slide"
    },
    "tags": []
   },
   "source": [
    "## Trading performance for accuracy\n",
    "\n",
    "- `@fastmath` switch to non-standard algorithms\n",
    "    - `-ffast-math` option in `clang` or `gcc` compilers\n",
    "    - `-fast` option in FORTRAN\n",
    "    - `-Ox` additional options for some `clang` and FORTRAN\n",
    "- Non-standard algorihtms can speed up\n",
    "- Speed vs accuracy"
   ]
  },
  {
   "cell_type": "markdown",
   "id": "002ea29c-1a83-4827-9075-7a395e0f77da",
   "metadata": {
    "editable": true,
    "slideshow": {
     "slide_type": "subslide"
    },
    "tags": []
   },
   "source": [
    "### Sample intergration-like function\n",
    "\n",
    "- Involves repeating mathematical operations\n",
    "- Cumulative or collective algorithms\n",
    "- Passing of data between processes (functions or methods)"
   ]
  },
  {
   "cell_type": "markdown",
   "id": "d6af2202-941c-4aa6-a0b2-5796583e8fa5",
   "metadata": {
    "editable": true,
    "slideshow": {
     "slide_type": "subslide"
    },
    "tags": []
   },
   "source": [
    "### Usual implementation of a `sum_diff()`"
   ]
  },
  {
   "cell_type": "code",
   "execution_count": 43,
   "id": "0a4ee3e4-4a4a-4874-bbe5-b645d3b55e15",
   "metadata": {
    "editable": true,
    "slideshow": {
     "slide_type": ""
    },
    "tags": []
   },
   "outputs": [
    {
     "data": {
      "text/plain": [
       "sum_diff (generic function with 1 method)"
      ]
     },
     "execution_count": 43,
     "metadata": {},
     "output_type": "execute_result"
    }
   ],
   "source": [
    "function sum_diff(x)\n",
    "    n = length(x)\n",
    "    d = 1/(n-1)\n",
    "    s = zero( eltype(x) ) #ensure type stability\n",
    "    s = s + (x[2] - x[1]) / d\n",
    "    for nn in 2:(n-1)\n",
    "        s = s + (x[nn] - x[nn-1]) / (2*d)\n",
    "    end\n",
    "    s = s + (x[n] - x[n-1]) / d\n",
    "    return s\n",
    "end"
   ]
  },
  {
   "cell_type": "code",
   "execution_count": 49,
   "id": "654d1930-7cf5-46ff-931e-46f8f09dcb12",
   "metadata": {
    "editable": true,
    "slideshow": {
     "slide_type": "subslide"
    },
    "tags": []
   },
   "outputs": [
    {
     "name": "stdout",
     "output_type": "stream",
     "text": [
      "s0 = 1106.840504653594\n"
     ]
    }
   ],
   "source": [
    "x = rand(2_000);\n",
    "\n",
    "s0 = sum_diff(x);\n",
    "@show s0;"
   ]
  },
  {
   "cell_type": "code",
   "execution_count": 50,
   "id": "0a2a802e-24d5-45e5-86c2-f6522f85af31",
   "metadata": {
    "editable": true,
    "slideshow": {
     "slide_type": "subslide"
    },
    "tags": []
   },
   "outputs": [
    {
     "data": {
      "text/plain": [
       "BenchmarkTools.Trial: 10000 samples with 9 evaluations.\n",
       " Range \u001b[90m(\u001b[39m\u001b[36m\u001b[1mmin\u001b[22m\u001b[39m … \u001b[35mmax\u001b[39m\u001b[90m):  \u001b[39m\u001b[36m\u001b[1m2.238 μs\u001b[22m\u001b[39m … \u001b[35m 45.336 μs\u001b[39m  \u001b[90m┊\u001b[39m GC \u001b[90m(\u001b[39mmin … max\u001b[90m): \u001b[39m0.00% … 0.00%\n",
       " Time  \u001b[90m(\u001b[39m\u001b[34m\u001b[1mmedian\u001b[22m\u001b[39m\u001b[90m):     \u001b[39m\u001b[34m\u001b[1m2.370 μs               \u001b[22m\u001b[39m\u001b[90m┊\u001b[39m GC \u001b[90m(\u001b[39mmedian\u001b[90m):    \u001b[39m0.00%\n",
       " Time  \u001b[90m(\u001b[39m\u001b[32m\u001b[1mmean\u001b[22m\u001b[39m ± \u001b[32mσ\u001b[39m\u001b[90m):   \u001b[39m\u001b[32m\u001b[1m2.417 μs\u001b[22m\u001b[39m ± \u001b[32m762.132 ns\u001b[39m  \u001b[90m┊\u001b[39m GC \u001b[90m(\u001b[39mmean ± σ\u001b[90m):  \u001b[39m0.00% ± 0.00%\n",
       "\n",
       "  \u001b[39m▆\u001b[39m▇\u001b[39m█\u001b[34m▃\u001b[39m\u001b[32m \u001b[39m\u001b[39m \u001b[39m \u001b[39m \u001b[39m \u001b[39m \u001b[39m \u001b[39m \u001b[39m \u001b[39m \u001b[39m \u001b[39m \u001b[39m \u001b[39m \u001b[39m \u001b[39m \u001b[39m \u001b[39m \u001b[39m \u001b[39m \u001b[39m \u001b[39m \u001b[39m \u001b[39m \u001b[39m \u001b[39m \u001b[39m \u001b[39m \u001b[39m \u001b[39m \u001b[39m \u001b[39m \u001b[39m \u001b[39m \u001b[39m \u001b[39m \u001b[39m \u001b[39m \u001b[39m \u001b[39m \u001b[39m \u001b[39m \u001b[39m \u001b[39m \u001b[39m \u001b[39m \u001b[39m \u001b[39m \u001b[39m \u001b[39m \u001b[39m \u001b[39m \u001b[39m \u001b[39m \u001b[39m \u001b[39m \u001b[39m▂\n",
       "  \u001b[39m█\u001b[39m█\u001b[39m█\u001b[34m█\u001b[39m\u001b[32m█\u001b[39m\u001b[39m▆\u001b[39m▅\u001b[39m▅\u001b[39m▆\u001b[39m▅\u001b[39m▃\u001b[39m▅\u001b[39m▄\u001b[39m▄\u001b[39m▆\u001b[39m▇\u001b[39m▆\u001b[39m▃\u001b[39m▁\u001b[39m▁\u001b[39m▃\u001b[39m▄\u001b[39m▄\u001b[39m▃\u001b[39m▃\u001b[39m▃\u001b[39m▄\u001b[39m▁\u001b[39m▃\u001b[39m▄\u001b[39m▃\u001b[39m▃\u001b[39m▅\u001b[39m▁\u001b[39m▅\u001b[39m▆\u001b[39m▇\u001b[39m▆\u001b[39m▅\u001b[39m▄\u001b[39m▁\u001b[39m▄\u001b[39m▅\u001b[39m▇\u001b[39m▆\u001b[39m▄\u001b[39m▃\u001b[39m▄\u001b[39m▁\u001b[39m▅\u001b[39m▄\u001b[39m▃\u001b[39m▁\u001b[39m▁\u001b[39m▄\u001b[39m▃\u001b[39m▃\u001b[39m▃\u001b[39m▄\u001b[39m \u001b[39m█\n",
       "  2.24 μs\u001b[90m      \u001b[39m\u001b[90mHistogram: \u001b[39m\u001b[90m\u001b[1mlog(\u001b[22m\u001b[39m\u001b[90mfrequency\u001b[39m\u001b[90m\u001b[1m)\u001b[22m\u001b[39m\u001b[90m by time\u001b[39m      5.26 μs \u001b[0m\u001b[1m<\u001b[22m\n",
       "\n",
       " Memory estimate\u001b[90m: \u001b[39m\u001b[33m0 bytes\u001b[39m, allocs estimate\u001b[90m: \u001b[39m\u001b[33m0\u001b[39m."
      ]
     },
     "execution_count": 50,
     "metadata": {},
     "output_type": "execute_result"
    }
   ],
   "source": [
    "mark0 = @benchmark s0 = sum_diff($x);\n",
    "mark0"
   ]
  },
  {
   "cell_type": "markdown",
   "id": "6dcdcfe2-6b33-46f2-a5f5-a4892800170d",
   "metadata": {
    "editable": true,
    "slideshow": {
     "slide_type": "subslide"
    },
    "tags": []
   },
   "source": [
    "### Quick and dirty but `@fastmath`"
   ]
  },
  {
   "cell_type": "code",
   "execution_count": 53,
   "id": "7de5faab-41c6-4f47-8aa4-4df3a5553cfb",
   "metadata": {
    "editable": true,
    "slideshow": {
     "slide_type": ""
    },
    "tags": []
   },
   "outputs": [
    {
     "data": {
      "text/plain": [
       "sum_diff_fast (generic function with 1 method)"
      ]
     },
     "execution_count": 53,
     "metadata": {},
     "output_type": "execute_result"
    }
   ],
   "source": [
    "function sum_diff_fast(x)\n",
    "    n = length(x)\n",
    "    d = 1/(n-1)\n",
    "    s = zero( eltype(x) ) #ensure type stabilitya\n",
    "    @fastmath s = s + (x[2] - x[1]) / d   # fast and dirty\n",
    "    @fastmath for nn in 2:(n-1)           # fast and dirty\n",
    "        s = s + (x[nn] - x[nn-1]) / (2*d)\n",
    "    end\n",
    "    @fastmath s = s + (x[n] - x[n-1]) / d # fast and dirty\n",
    "    return s\n",
    "end"
   ]
  },
  {
   "cell_type": "markdown",
   "id": "a5011d21-c2f7-41d0-bd9d-08534e90e7b4",
   "metadata": {
    "editable": true,
    "slideshow": {
     "slide_type": "subslide"
    },
    "tags": []
   },
   "source": [
    "#### Compare results and `@benchmark`s"
   ]
  },
  {
   "cell_type": "code",
   "execution_count": 57,
   "id": "349181ae-1b22-4c20-ba91-1b10dd4bd1bc",
   "metadata": {
    "editable": true,
    "slideshow": {
     "slide_type": ""
    },
    "tags": []
   },
   "outputs": [
    {
     "name": "stdout",
     "output_type": "stream",
     "text": [
      "s0 = 408.7318703763275\n",
      "s1 = 408.73187037632266\n",
      "abs(s1 - s0) = 4.831690603168681e-12\n",
      "eps(s0) = 5.684341886080802e-14\n"
     ]
    }
   ],
   "source": [
    "x = rand(2_000);\n",
    "s0 = sum_diff(x);\n",
    "s1 = sum_diff_fast(x);\n",
    "@show s0;\n",
    "@show s1;\n",
    "@show abs(s1-s0);\n",
    "@show eps(s0);"
   ]
  },
  {
   "cell_type": "code",
   "execution_count": 40,
   "id": "6c16c519-e709-4038-b357-fa5d5ffa2d83",
   "metadata": {
    "editable": true,
    "slideshow": {
     "slide_type": "subslide"
    },
    "tags": []
   },
   "outputs": [
    {
     "data": {
      "text/plain": [
       "BenchmarkTools.Trial: 10000 samples with 714 evaluations.\n",
       " Range \u001b[90m(\u001b[39m\u001b[36m\u001b[1mmin\u001b[22m\u001b[39m … \u001b[35mmax\u001b[39m\u001b[90m):  \u001b[39m\u001b[36m\u001b[1m174.690 ns\u001b[22m\u001b[39m … \u001b[35m846.989 ns\u001b[39m  \u001b[90m┊\u001b[39m GC \u001b[90m(\u001b[39mmin … max\u001b[90m): \u001b[39m0.00% … 0.00%\n",
       " Time  \u001b[90m(\u001b[39m\u001b[34m\u001b[1mmedian\u001b[22m\u001b[39m\u001b[90m):     \u001b[39m\u001b[34m\u001b[1m190.377 ns               \u001b[22m\u001b[39m\u001b[90m┊\u001b[39m GC \u001b[90m(\u001b[39mmedian\u001b[90m):    \u001b[39m0.00%\n",
       " Time  \u001b[90m(\u001b[39m\u001b[32m\u001b[1mmean\u001b[22m\u001b[39m ± \u001b[32mσ\u001b[39m\u001b[90m):   \u001b[39m\u001b[32m\u001b[1m196.163 ns\u001b[22m\u001b[39m ± \u001b[32m 27.601 ns\u001b[39m  \u001b[90m┊\u001b[39m GC \u001b[90m(\u001b[39mmean ± σ\u001b[90m):  \u001b[39m0.00% ± 0.00%\n",
       "\n",
       "  \u001b[39m▄\u001b[39m \u001b[39m▃\u001b[39m \u001b[39m▇\u001b[39m▄\u001b[34m▇\u001b[39m\u001b[39m█\u001b[39m▃\u001b[32m▁\u001b[39m\u001b[39m▂\u001b[39m \u001b[39m \u001b[39m \u001b[39m \u001b[39m \u001b[39m \u001b[39m \u001b[39m \u001b[39m▁\u001b[39m \u001b[39m \u001b[39m \u001b[39m \u001b[39m \u001b[39m \u001b[39m \u001b[39m \u001b[39m \u001b[39m \u001b[39m \u001b[39m \u001b[39m \u001b[39m \u001b[39m \u001b[39m \u001b[39m \u001b[39m \u001b[39m \u001b[39m \u001b[39m \u001b[39m \u001b[39m \u001b[39m \u001b[39m \u001b[39m \u001b[39m \u001b[39m \u001b[39m \u001b[39m \u001b[39m \u001b[39m \u001b[39m \u001b[39m \u001b[39m \u001b[39m \u001b[39m \u001b[39m \u001b[39m \u001b[39m \u001b[39m \u001b[39m \u001b[39m▂\n",
       "  \u001b[39m█\u001b[39m█\u001b[39m█\u001b[39m▆\u001b[39m█\u001b[39m█\u001b[34m█\u001b[39m\u001b[39m█\u001b[39m█\u001b[32m█\u001b[39m\u001b[39m█\u001b[39m▇\u001b[39m▇\u001b[39m▇\u001b[39m█\u001b[39m█\u001b[39m▇\u001b[39m█\u001b[39m▇\u001b[39m█\u001b[39m▇\u001b[39m▇\u001b[39m▆\u001b[39m▇\u001b[39m█\u001b[39m█\u001b[39m▇\u001b[39m▆\u001b[39m▆\u001b[39m▆\u001b[39m▅\u001b[39m▅\u001b[39m▆\u001b[39m▅\u001b[39m▆\u001b[39m▇\u001b[39m▆\u001b[39m▆\u001b[39m▆\u001b[39m▆\u001b[39m▆\u001b[39m▅\u001b[39m▅\u001b[39m▆\u001b[39m▆\u001b[39m▆\u001b[39m▆\u001b[39m▅\u001b[39m▅\u001b[39m▅\u001b[39m▅\u001b[39m▄\u001b[39m▅\u001b[39m▄\u001b[39m▅\u001b[39m▄\u001b[39m▅\u001b[39m▃\u001b[39m▄\u001b[39m▄\u001b[39m▅\u001b[39m \u001b[39m█\n",
       "  175 ns\u001b[90m        \u001b[39m\u001b[90mHistogram: \u001b[39m\u001b[90m\u001b[1mlog(\u001b[22m\u001b[39m\u001b[90mfrequency\u001b[39m\u001b[90m\u001b[1m)\u001b[22m\u001b[39m\u001b[90m by time\u001b[39m        324 ns \u001b[0m\u001b[1m<\u001b[22m\n",
       "\n",
       " Memory estimate\u001b[90m: \u001b[39m\u001b[33m0 bytes\u001b[39m, allocs estimate\u001b[90m: \u001b[39m\u001b[33m0\u001b[39m."
      ]
     },
     "execution_count": 40,
     "metadata": {},
     "output_type": "execute_result"
    }
   ],
   "source": [
    "mark1 = @benchmark s1 = sum_diff_fast($x);\n",
    "mark1"
   ]
  },
  {
   "cell_type": "code",
   "execution_count": 58,
   "id": "3044fc25-08b5-4d92-b852-08385f08c4d3",
   "metadata": {
    "editable": true,
    "slideshow": {
     "slide_type": "fragment"
    },
    "tags": []
   },
   "outputs": [
    {
     "name": "stdout",
     "output_type": "stream",
     "text": [
      "Speedup of 12.447786045952743 times.\n"
     ]
    }
   ],
   "source": [
    "println(\"Speedup of $( median(mark0.times) / median(mark1.times) ) times.\")"
   ]
  },
  {
   "cell_type": "markdown",
   "id": "eb6eb6ec",
   "metadata": {
    "editable": true,
    "slideshow": {
     "slide_type": "slide"
    },
    "tags": []
   },
   "source": [
    "# Fin\n",
    "\n",
    "- [X] Analyzed the floating point layout or architecture used by your Julia installation.\n",
    "- [X] Demonstrated tradeoff between runtime speed and over- or underflow checks in [number representations in Julia](https://docs.julialang.org/en/v1/manual/integers-and-floating-point-numbers/).\n",
    "- [X] Shown how much `@fastmath` macro speeds up computation with a trades off in some level of accuracy. The `sum_diff()` function in the main book reference may be replicated for this purpose."
   ]
  }
 ],
 "metadata": {
  "@webio": {
   "lastCommId": null,
   "lastKernelId": null
  },
  "celltoolbar": "Slideshow",
  "kernelspec": {
   "display_name": "Julia 1.10.1",
   "language": "julia",
   "name": "julia-1.10"
  },
  "language_info": {
   "file_extension": ".jl",
   "mimetype": "application/julia",
   "name": "julia",
   "version": "1.10.1"
  }
 },
 "nbformat": 4,
 "nbformat_minor": 5
}
