{
 "cells": [
  {
   "cell_type": "code",
   "execution_count": 2,
   "id": "9f2746c8",
   "metadata": {
    "scrolled": false,
    "slideshow": {
     "slide_type": "slide"
    }
   },
   "outputs": [
    {
     "name": "stderr",
     "output_type": "stream",
     "text": [
      "\u001b[32m\u001b[1m  Activating\u001b[22m\u001b[39m project at `~/Documents/GitHub/Phys215-202223-1/04-Fast-Calls`\n",
      "\u001b[32m\u001b[1m   Resolving\u001b[22m\u001b[39m package versions...\n",
      "\u001b[32m\u001b[1m  No Changes\u001b[22m\u001b[39m to `~/Documents/GitHub/Phys215-202223-1/04-Fast-Calls/Project.toml`\n",
      "\u001b[32m\u001b[1m  No Changes\u001b[22m\u001b[39m to `~/Documents/GitHub/Phys215-202223-1/04-Fast-Calls/Manifest.toml`\n",
      "\u001b[32m\u001b[1m   Resolving\u001b[22m\u001b[39m package versions...\n",
      "\u001b[32m\u001b[1m  No Changes\u001b[22m\u001b[39m to `~/Documents/GitHub/Phys215-202223-1/04-Fast-Calls/Project.toml`\n",
      "\u001b[32m\u001b[1m  No Changes\u001b[22m\u001b[39m to `~/Documents/GitHub/Phys215-202223-1/04-Fast-Calls/Manifest.toml`\n"
     ]
    }
   ],
   "source": [
    "using Pkg;\n",
    "Pkg.activate(\".\")\n",
    "Pkg.add(\"BenchmarkTools\")\n",
    "Pkg.add(\"DataFrames\")\n",
    "\n",
    "using BenchmarkTools\n",
    "using DataFrames"
   ]
  },
  {
   "cell_type": "markdown",
   "id": "675f5c88",
   "metadata": {
    "slideshow": {
     "slide_type": "slide"
    }
   },
   "source": [
    "# Session 4: Fast function calls\n",
    "\n",
    "Since function is the basic procedural structure in Julia, one needs to understand the behavior of different ways of implementing the same function.\n",
    "Implementation / coding style can drastically change the performance of Julia code.\n",
    "\n",
    "- Using globals\n",
    "- Inlining\n",
    "- Constant propagation\n",
    "- Macros\n",
    "- Generated functions (optional)\n",
    "- Named parameters (optional)"
   ]
  },
  {
   "cell_type": "markdown",
   "id": "04a74073",
   "metadata": {
    "slideshow": {
     "slide_type": "subslide"
    }
   },
   "source": [
    "## Session 4 OKR\n",
    "\n",
    "**OBJECTIVE**: Compare benchmark times of different implementation of functions that can be expressed as a recursion relation.\n",
    " - [ ] **KR1:** Benchmarked at least two(2) different implementation of the same function or process (e.g. raising each element of an array to some power `p`, random array may be used) that utilizes some parameter that can be considered a constant or declared globally.\n",
    " Typical methods: (1) Global variable, (2) Constant global variable, and (3) Named parameter variable.\n",
    " - [ ] **KR2:** Replicated the naive implementation of the polynomial in the textbook.\n",
    " - [ ] **KR3:** Replicated the naive implementation of the Horner's method for the same polynomial.\n",
    " - [ ] **KR4:** Replicated the macro implementation of the Horner's method of the same polynomial.\n",
    " - [ ] **KR5:** Table showing how many _minutes_ will the function evaluations in both KR3 and KR4 be reduced if KR2 requires 24hours of runtime."
   ]
  },
  {
   "cell_type": "markdown",
   "id": "4a754823",
   "metadata": {
    "slideshow": {
     "slide_type": "slide"
    }
   },
   "source": [
    "# Global variables\n",
    "\n",
    "Function call is affected by the presence of global variables in them.\n",
    "The best option is to use a constant."
   ]
  },
  {
   "cell_type": "code",
   "execution_count": 3,
   "id": "c3e92981",
   "metadata": {
    "slideshow": {
     "slide_type": "-"
    }
   },
   "outputs": [
    {
     "data": {
      "text/plain": [
       "raisetop (generic function with 1 method)"
      ]
     },
     "execution_count": 3,
     "metadata": {},
     "output_type": "execute_result"
    }
   ],
   "source": [
    "p = 2;\n",
    "\n",
    "function raisetop(x::Vector)\n",
    "    s = zero(eltype(x));\n",
    "    for xel in x\n",
    "        s = s + xel^p\n",
    "    end\n",
    "    return s\n",
    "end"
   ]
  },
  {
   "cell_type": "code",
   "execution_count": 4,
   "id": "1503b1d9",
   "metadata": {
    "slideshow": {
     "slide_type": "fragment"
    }
   },
   "outputs": [],
   "source": [
    "data = rand(100_000);"
   ]
  },
  {
   "cell_type": "code",
   "execution_count": 5,
   "id": "82f1c3b7",
   "metadata": {
    "slideshow": {
     "slide_type": "subslide"
    }
   },
   "outputs": [
    {
     "data": {
      "text/plain": [
       "BenchmarkTools.Trial: 854 samples with 1 evaluation.\n",
       " Range \u001b[90m(\u001b[39m\u001b[36m\u001b[1mmin\u001b[22m\u001b[39m … \u001b[35mmax\u001b[39m\u001b[90m):  \u001b[39m\u001b[36m\u001b[1m5.606 ms\u001b[22m\u001b[39m … \u001b[35m  7.402 ms\u001b[39m  \u001b[90m┊\u001b[39m GC \u001b[90m(\u001b[39mmin … max\u001b[90m): \u001b[39m0.00% … 17.73%\n",
       " Time  \u001b[90m(\u001b[39m\u001b[34m\u001b[1mmedian\u001b[22m\u001b[39m\u001b[90m):     \u001b[39m\u001b[34m\u001b[1m5.723 ms               \u001b[22m\u001b[39m\u001b[90m┊\u001b[39m GC \u001b[90m(\u001b[39mmedian\u001b[90m):    \u001b[39m0.00%\n",
       " Time  \u001b[90m(\u001b[39m\u001b[32m\u001b[1mmean\u001b[22m\u001b[39m ± \u001b[32mσ\u001b[39m\u001b[90m):   \u001b[39m\u001b[32m\u001b[1m5.851 ms\u001b[22m\u001b[39m ± \u001b[32m364.007 μs\u001b[39m  \u001b[90m┊\u001b[39m GC \u001b[90m(\u001b[39mmean ± σ\u001b[90m):  \u001b[39m1.80% ±  4.66%\n",
       "\n",
       "  \u001b[39m \u001b[39m \u001b[39m \u001b[39m▆\u001b[39m█\u001b[34m▅\u001b[39m\u001b[39m▁\u001b[39m \u001b[39m \u001b[39m \u001b[39m \u001b[32m \u001b[39m\u001b[39m \u001b[39m \u001b[39m \u001b[39m \u001b[39m \u001b[39m \u001b[39m \u001b[39m \u001b[39m \u001b[39m \u001b[39m \u001b[39m \u001b[39m \u001b[39m \u001b[39m \u001b[39m \u001b[39m \u001b[39m \u001b[39m \u001b[39m \u001b[39m \u001b[39m \u001b[39m \u001b[39m \u001b[39m \u001b[39m \u001b[39m \u001b[39m \u001b[39m \u001b[39m \u001b[39m \u001b[39m \u001b[39m \u001b[39m \u001b[39m \u001b[39m \u001b[39m \u001b[39m \u001b[39m \u001b[39m \u001b[39m \u001b[39m \u001b[39m \u001b[39m \u001b[39m \u001b[39m \u001b[39m \u001b[39m \u001b[39m \n",
       "  \u001b[39m▃\u001b[39m▄\u001b[39m▇\u001b[39m█\u001b[39m█\u001b[34m█\u001b[39m\u001b[39m█\u001b[39m▅\u001b[39m▄\u001b[39m▃\u001b[39m▃\u001b[32m▂\u001b[39m\u001b[39m▂\u001b[39m▂\u001b[39m▂\u001b[39m▁\u001b[39m▂\u001b[39m▂\u001b[39m▂\u001b[39m▁\u001b[39m▂\u001b[39m▂\u001b[39m▂\u001b[39m▂\u001b[39m▂\u001b[39m▂\u001b[39m▂\u001b[39m▂\u001b[39m▁\u001b[39m▂\u001b[39m▁\u001b[39m▁\u001b[39m▁\u001b[39m▁\u001b[39m▁\u001b[39m▂\u001b[39m▁\u001b[39m▁\u001b[39m▂\u001b[39m▁\u001b[39m▁\u001b[39m▂\u001b[39m▁\u001b[39m▁\u001b[39m▁\u001b[39m▁\u001b[39m▂\u001b[39m▂\u001b[39m▂\u001b[39m▂\u001b[39m▂\u001b[39m▂\u001b[39m▂\u001b[39m▃\u001b[39m▃\u001b[39m▃\u001b[39m▃\u001b[39m▃\u001b[39m▃\u001b[39m \u001b[39m▃\n",
       "  5.61 ms\u001b[90m         Histogram: frequency by time\u001b[39m        6.98 ms \u001b[0m\u001b[1m<\u001b[22m\n",
       "\n",
       " Memory estimate\u001b[90m: \u001b[39m\u001b[33m4.58 MiB\u001b[39m, allocs estimate\u001b[90m: \u001b[39m\u001b[33m300000\u001b[39m."
      ]
     },
     "execution_count": 5,
     "metadata": {},
     "output_type": "execute_result"
    }
   ],
   "source": [
    "mark0 = @benchmark raisetop($data)"
   ]
  },
  {
   "cell_type": "code",
   "execution_count": 6,
   "id": "4a627fa5",
   "metadata": {
    "scrolled": false,
    "slideshow": {
     "slide_type": "subslide"
    }
   },
   "outputs": [
    {
     "name": "stdout",
     "output_type": "stream",
     "text": [
      "MethodInstance for raisetop(::Vector{Float64})\n",
      "  from raisetop(x::Vector) in Main at In[3]:3\n",
      "Arguments\n",
      "  #self#\u001b[36m::Core.Const(raisetop)\u001b[39m\n",
      "  x\u001b[36m::Vector{Float64}\u001b[39m\n",
      "Locals\n",
      "  @_3\u001b[33m\u001b[1m::Union{Nothing, Tuple{Float64, Int64}}\u001b[22m\u001b[39m\n",
      "  s\u001b[91m\u001b[1m::Any\u001b[22m\u001b[39m\n",
      "  xel\u001b[36m::Float64\u001b[39m\n",
      "Body\u001b[91m\u001b[1m::Any\u001b[22m\u001b[39m\n",
      "\u001b[90m1 ─\u001b[39m %1  = Main.eltype(x)\u001b[36m::Core.Const(Float64)\u001b[39m\n",
      "\u001b[90m│  \u001b[39m       (s = Main.zero(%1))\n",
      "\u001b[90m│  \u001b[39m %3  = x\u001b[36m::Vector{Float64}\u001b[39m\n",
      "\u001b[90m│  \u001b[39m       (@_3 = Base.iterate(%3))\n",
      "\u001b[90m│  \u001b[39m %5  = (@_3 === nothing)\u001b[36m::Bool\u001b[39m\n",
      "\u001b[90m│  \u001b[39m %6  = Base.not_int(%5)\u001b[36m::Bool\u001b[39m\n",
      "\u001b[90m└──\u001b[39m       goto #4 if not %6\n",
      "\u001b[90m2 ┄\u001b[39m %8  = @_3\u001b[36m::Tuple{Float64, Int64}\u001b[39m\n",
      "\u001b[90m│  \u001b[39m       (xel = Core.getfield(%8, 1))\n",
      "\u001b[90m│  \u001b[39m %10 = Core.getfield(%8, 2)\u001b[36m::Int64\u001b[39m\n",
      "\u001b[90m│  \u001b[39m %11 = s\u001b[91m\u001b[1m::Any\u001b[22m\u001b[39m\n",
      "\u001b[90m│  \u001b[39m %12 = (xel ^ Main.p)\u001b[91m\u001b[1m::Any\u001b[22m\u001b[39m\n",
      "\u001b[90m│  \u001b[39m       (s = %11 + %12)\n",
      "\u001b[90m│  \u001b[39m       (@_3 = Base.iterate(%3, %10))\n",
      "\u001b[90m│  \u001b[39m %15 = (@_3 === nothing)\u001b[36m::Bool\u001b[39m\n",
      "\u001b[90m│  \u001b[39m %16 = Base.not_int(%15)\u001b[36m::Bool\u001b[39m\n",
      "\u001b[90m└──\u001b[39m       goto #4 if not %16\n",
      "\u001b[90m3 ─\u001b[39m       goto #2\n",
      "\u001b[90m4 ┄\u001b[39m       return s\n",
      "\n"
     ]
    }
   ],
   "source": [
    "@code_warntype raisetop(data)"
   ]
  },
  {
   "cell_type": "code",
   "execution_count": 7,
   "id": "e0d11c75",
   "metadata": {
    "slideshow": {
     "slide_type": "subslide"
    }
   },
   "outputs": [
    {
     "data": {
      "text/plain": [
       "raisetop_const (generic function with 1 method)"
      ]
     },
     "execution_count": 7,
     "metadata": {},
     "output_type": "execute_result"
    }
   ],
   "source": [
    "const pconst = 2;\n",
    "\n",
    "function raisetop_const(x::Vector)\n",
    "    s = zero(eltype(x));\n",
    "    for xel in x\n",
    "        s = s + xel^pconst # <<the only difference!\n",
    "    end\n",
    "    return s\n",
    "end"
   ]
  },
  {
   "cell_type": "code",
   "execution_count": 8,
   "id": "9c8c9467",
   "metadata": {
    "scrolled": true,
    "slideshow": {
     "slide_type": "subslide"
    }
   },
   "outputs": [
    {
     "data": {
      "text/plain": [
       "BenchmarkTools.Trial: 8266 samples with 1 evaluation.\n",
       " Range \u001b[90m(\u001b[39m\u001b[36m\u001b[1mmin\u001b[22m\u001b[39m … \u001b[35mmax\u001b[39m\u001b[90m):  \u001b[39m\u001b[36m\u001b[1m584.707 μs\u001b[22m\u001b[39m … \u001b[35m 1.066 ms\u001b[39m  \u001b[90m┊\u001b[39m GC \u001b[90m(\u001b[39mmin … max\u001b[90m): \u001b[39m0.00% … 0.00%\n",
       " Time  \u001b[90m(\u001b[39m\u001b[34m\u001b[1mmedian\u001b[22m\u001b[39m\u001b[90m):     \u001b[39m\u001b[34m\u001b[1m585.081 μs              \u001b[22m\u001b[39m\u001b[90m┊\u001b[39m GC \u001b[90m(\u001b[39mmedian\u001b[90m):    \u001b[39m0.00%\n",
       " Time  \u001b[90m(\u001b[39m\u001b[32m\u001b[1mmean\u001b[22m\u001b[39m ± \u001b[32mσ\u001b[39m\u001b[90m):   \u001b[39m\u001b[32m\u001b[1m600.909 μs\u001b[22m\u001b[39m ± \u001b[32m45.292 μs\u001b[39m  \u001b[90m┊\u001b[39m GC \u001b[90m(\u001b[39mmean ± σ\u001b[90m):  \u001b[39m0.00% ± 0.00%\n",
       "\n",
       "  \u001b[34m█\u001b[39m\u001b[39m▅\u001b[39m▂\u001b[39m▁\u001b[32m▂\u001b[39m\u001b[39m \u001b[39m▂\u001b[39m \u001b[39m \u001b[39m \u001b[39m \u001b[39m \u001b[39m \u001b[39m \u001b[39m \u001b[39m \u001b[39m \u001b[39m \u001b[39m \u001b[39m \u001b[39m \u001b[39m \u001b[39m \u001b[39m \u001b[39m \u001b[39m \u001b[39m \u001b[39m \u001b[39m \u001b[39m \u001b[39m \u001b[39m \u001b[39m \u001b[39m \u001b[39m \u001b[39m \u001b[39m \u001b[39m \u001b[39m \u001b[39m \u001b[39m \u001b[39m \u001b[39m \u001b[39m \u001b[39m \u001b[39m \u001b[39m \u001b[39m \u001b[39m \u001b[39m \u001b[39m \u001b[39m \u001b[39m \u001b[39m \u001b[39m \u001b[39m \u001b[39m \u001b[39m \u001b[39m \u001b[39m \u001b[39m \u001b[39m▁\n",
       "  \u001b[34m█\u001b[39m\u001b[39m█\u001b[39m█\u001b[39m█\u001b[32m█\u001b[39m\u001b[39m█\u001b[39m█\u001b[39m█\u001b[39m█\u001b[39m▇\u001b[39m█\u001b[39m▇\u001b[39m▇\u001b[39m█\u001b[39m▇\u001b[39m▇\u001b[39m▇\u001b[39m▇\u001b[39m▆\u001b[39m▇\u001b[39m▇\u001b[39m▇\u001b[39m▇\u001b[39m▆\u001b[39m▇\u001b[39m▆\u001b[39m▆\u001b[39m▆\u001b[39m▆\u001b[39m▅\u001b[39m▆\u001b[39m▆\u001b[39m▆\u001b[39m▆\u001b[39m▆\u001b[39m▆\u001b[39m▆\u001b[39m▆\u001b[39m▅\u001b[39m▄\u001b[39m▅\u001b[39m▅\u001b[39m▄\u001b[39m▅\u001b[39m▃\u001b[39m▄\u001b[39m▅\u001b[39m▄\u001b[39m▄\u001b[39m▄\u001b[39m▅\u001b[39m▅\u001b[39m▄\u001b[39m▄\u001b[39m▄\u001b[39m▃\u001b[39m▃\u001b[39m▄\u001b[39m▃\u001b[39m▃\u001b[39m \u001b[39m█\n",
       "  585 μs\u001b[90m        \u001b[39m\u001b[90mHistogram: \u001b[39m\u001b[90m\u001b[1mlog(\u001b[22m\u001b[39m\u001b[90mfrequency\u001b[39m\u001b[90m\u001b[1m)\u001b[22m\u001b[39m\u001b[90m by time\u001b[39m       828 μs \u001b[0m\u001b[1m<\u001b[22m\n",
       "\n",
       " Memory estimate\u001b[90m: \u001b[39m\u001b[33m0 bytes\u001b[39m, allocs estimate\u001b[90m: \u001b[39m\u001b[33m0\u001b[39m."
      ]
     },
     "execution_count": 8,
     "metadata": {},
     "output_type": "execute_result"
    }
   ],
   "source": [
    "mark1 = @benchmark raisetop_const($data)"
   ]
  },
  {
   "cell_type": "code",
   "execution_count": 9,
   "id": "73504e4e",
   "metadata": {
    "slideshow": {
     "slide_type": "subslide"
    }
   },
   "outputs": [
    {
     "name": "stdout",
     "output_type": "stream",
     "text": [
      "\u001b[1m2×2 DataFrame\u001b[0m\n",
      "\u001b[1m Row \u001b[0m│\u001b[1m Method   \u001b[0m\u001b[1m Speedup \u001b[0m\n",
      "\u001b[1m     \u001b[0m│\u001b[90m String   \u001b[0m\u001b[90m Float64 \u001b[0m\n",
      "─────┼───────────────────\n",
      "   1 │ Global    1.0\n",
      "   2 │ Constant  9.78071"
     ]
    }
   ],
   "source": [
    "speedup1 = median(mark0.times) / median(mark1.times);\n",
    "table = DataFrame(\"Method\"=>[\"Global\",\"Constant\"],\"Speedup\" => [1.0, speedup1]);\n",
    "\n",
    "print(table)"
   ]
  },
  {
   "cell_type": "code",
   "execution_count": 10,
   "id": "3b83f8b2",
   "metadata": {
    "slideshow": {
     "slide_type": "subslide"
    }
   },
   "outputs": [
    {
     "name": "stdout",
     "output_type": "stream",
     "text": [
      "MethodInstance for raisetop_const(::Vector{Float64})\n",
      "  from raisetop_const(x::Vector) in Main at In[7]:3\n",
      "Arguments\n",
      "  #self#\u001b[36m::Core.Const(raisetop_const)\u001b[39m\n",
      "  x\u001b[36m::Vector{Float64}\u001b[39m\n",
      "Locals\n",
      "  @_3\u001b[33m\u001b[1m::Union{Nothing, Tuple{Float64, Int64}}\u001b[22m\u001b[39m\n",
      "  s\u001b[36m::Float64\u001b[39m\n",
      "  xel\u001b[36m::Float64\u001b[39m\n",
      "Body\u001b[36m::Float64\u001b[39m\n",
      "\u001b[90m1 ─\u001b[39m %1  = Main.eltype(x)\u001b[36m::Core.Const(Float64)\u001b[39m\n",
      "\u001b[90m│  \u001b[39m       (s = Main.zero(%1))\n",
      "\u001b[90m│  \u001b[39m %3  = x\u001b[36m::Vector{Float64}\u001b[39m\n",
      "\u001b[90m│  \u001b[39m       (@_3 = Base.iterate(%3))\n",
      "\u001b[90m│  \u001b[39m %5  = (@_3 === nothing)\u001b[36m::Bool\u001b[39m\n",
      "\u001b[90m│  \u001b[39m %6  = Base.not_int(%5)\u001b[36m::Bool\u001b[39m\n",
      "\u001b[90m└──\u001b[39m       goto #4 if not %6\n",
      "\u001b[90m2 ┄\u001b[39m %8  = @_3\u001b[36m::Tuple{Float64, Int64}\u001b[39m\n",
      "\u001b[90m│  \u001b[39m       (xel = Core.getfield(%8, 1))\n",
      "\u001b[90m│  \u001b[39m %10 = Core.getfield(%8, 2)\u001b[36m::Int64\u001b[39m\n",
      "\u001b[90m│  \u001b[39m %11 = s\u001b[36m::Float64\u001b[39m\n",
      "\u001b[90m│  \u001b[39m %12 = (xel ^ Main.pconst)\u001b[36m::Float64\u001b[39m\n",
      "\u001b[90m│  \u001b[39m       (s = %11 + %12)\n",
      "\u001b[90m│  \u001b[39m       (@_3 = Base.iterate(%3, %10))\n",
      "\u001b[90m│  \u001b[39m %15 = (@_3 === nothing)\u001b[36m::Bool\u001b[39m\n",
      "\u001b[90m│  \u001b[39m %16 = Base.not_int(%15)\u001b[36m::Bool\u001b[39m\n",
      "\u001b[90m└──\u001b[39m       goto #4 if not %16\n",
      "\u001b[90m3 ─\u001b[39m       goto #2\n",
      "\u001b[90m4 ┄\u001b[39m       return s\n",
      "\n"
     ]
    }
   ],
   "source": [
    "@code_warntype raisetop_const(data)"
   ]
  },
  {
   "cell_type": "markdown",
   "id": "34f044ca",
   "metadata": {
    "slideshow": {
     "slide_type": "subslide"
    }
   },
   "source": [
    "**Global variables are of type `Any` in current Julia version**"
   ]
  },
  {
   "cell_type": "code",
   "execution_count": 11,
   "id": "79b402bd",
   "metadata": {
    "scrolled": false
   },
   "outputs": [
    {
     "data": {
      "text/plain": [
       "raisetop_Int64 (generic function with 1 method)"
      ]
     },
     "execution_count": 11,
     "metadata": {},
     "output_type": "execute_result"
    }
   ],
   "source": [
    "const pInt::Int64 = 2 #forced type, available in Julia 1.8 onwards\n",
    "\n",
    "function raisetop_Int64(x::Vector)\n",
    "    s = zero(eltype(x));\n",
    "    for xel in x\n",
    "        s = s + xel^pconst # <<the only difference!\n",
    "    end\n",
    "    return s\n",
    "end"
   ]
  },
  {
   "cell_type": "code",
   "execution_count": 12,
   "id": "0d1d1331",
   "metadata": {
    "slideshow": {
     "slide_type": "subslide"
    }
   },
   "outputs": [
    {
     "name": "stdout",
     "output_type": "stream",
     "text": [
      "MethodInstance for raisetop_Int64(::Vector{Float64})\n",
      "  from raisetop_Int64(x::Vector) in Main at In[11]:3\n",
      "Arguments\n",
      "  #self#\u001b[36m::Core.Const(raisetop_Int64)\u001b[39m\n",
      "  x\u001b[36m::Vector{Float64}\u001b[39m\n",
      "Locals\n",
      "  @_3\u001b[33m\u001b[1m::Union{Nothing, Tuple{Float64, Int64}}\u001b[22m\u001b[39m\n",
      "  s\u001b[36m::Float64\u001b[39m\n",
      "  xel\u001b[36m::Float64\u001b[39m\n",
      "Body\u001b[36m::Float64\u001b[39m\n",
      "\u001b[90m1 ─\u001b[39m %1  = Main.eltype(x)\u001b[36m::Core.Const(Float64)\u001b[39m\n",
      "\u001b[90m│  \u001b[39m       (s = Main.zero(%1))\n",
      "\u001b[90m│  \u001b[39m %3  = x\u001b[36m::Vector{Float64}\u001b[39m\n",
      "\u001b[90m│  \u001b[39m       (@_3 = Base.iterate(%3))\n",
      "\u001b[90m│  \u001b[39m %5  = (@_3 === nothing)\u001b[36m::Bool\u001b[39m\n",
      "\u001b[90m│  \u001b[39m %6  = Base.not_int(%5)\u001b[36m::Bool\u001b[39m\n",
      "\u001b[90m└──\u001b[39m       goto #4 if not %6\n",
      "\u001b[90m2 ┄\u001b[39m %8  = @_3\u001b[36m::Tuple{Float64, Int64}\u001b[39m\n",
      "\u001b[90m│  \u001b[39m       (xel = Core.getfield(%8, 1))\n",
      "\u001b[90m│  \u001b[39m %10 = Core.getfield(%8, 2)\u001b[36m::Int64\u001b[39m\n",
      "\u001b[90m│  \u001b[39m %11 = s\u001b[36m::Float64\u001b[39m\n",
      "\u001b[90m│  \u001b[39m %12 = (xel ^ Main.pconst)\u001b[36m::Float64\u001b[39m\n",
      "\u001b[90m│  \u001b[39m       (s = %11 + %12)\n",
      "\u001b[90m│  \u001b[39m       (@_3 = Base.iterate(%3, %10))\n",
      "\u001b[90m│  \u001b[39m %15 = (@_3 === nothing)\u001b[36m::Bool\u001b[39m\n",
      "\u001b[90m│  \u001b[39m %16 = Base.not_int(%15)\u001b[36m::Bool\u001b[39m\n",
      "\u001b[90m└──\u001b[39m       goto #4 if not %16\n",
      "\u001b[90m3 ─\u001b[39m       goto #2\n",
      "\u001b[90m4 ┄\u001b[39m       return s\n",
      "\n"
     ]
    }
   ],
   "source": [
    "@code_warntype raisetop_Int64(data)"
   ]
  },
  {
   "cell_type": "code",
   "execution_count": 13,
   "id": "f9e3bbae",
   "metadata": {
    "scrolled": true,
    "slideshow": {
     "slide_type": "subslide"
    }
   },
   "outputs": [
    {
     "data": {
      "text/plain": [
       "BenchmarkTools.Trial: 8249 samples with 1 evaluation.\n",
       " Range \u001b[90m(\u001b[39m\u001b[36m\u001b[1mmin\u001b[22m\u001b[39m … \u001b[35mmax\u001b[39m\u001b[90m):  \u001b[39m\u001b[36m\u001b[1m584.694 μs\u001b[22m\u001b[39m … \u001b[35m 1.102 ms\u001b[39m  \u001b[90m┊\u001b[39m GC \u001b[90m(\u001b[39mmin … max\u001b[90m): \u001b[39m0.00% … 0.00%\n",
       " Time  \u001b[90m(\u001b[39m\u001b[34m\u001b[1mmedian\u001b[22m\u001b[39m\u001b[90m):     \u001b[39m\u001b[34m\u001b[1m585.313 μs              \u001b[22m\u001b[39m\u001b[90m┊\u001b[39m GC \u001b[90m(\u001b[39mmedian\u001b[90m):    \u001b[39m0.00%\n",
       " Time  \u001b[90m(\u001b[39m\u001b[32m\u001b[1mmean\u001b[22m\u001b[39m ± \u001b[32mσ\u001b[39m\u001b[90m):   \u001b[39m\u001b[32m\u001b[1m601.814 μs\u001b[22m\u001b[39m ± \u001b[32m41.651 μs\u001b[39m  \u001b[90m┊\u001b[39m GC \u001b[90m(\u001b[39mmean ± σ\u001b[90m):  \u001b[39m0.00% ± 0.00%\n",
       "\n",
       "  \u001b[34m█\u001b[39m\u001b[39m▅\u001b[39m▃\u001b[39m▂\u001b[39m▁\u001b[32m▁\u001b[39m\u001b[39m▁\u001b[39m▃\u001b[39m \u001b[39m▁\u001b[39m \u001b[39m \u001b[39m \u001b[39m \u001b[39m \u001b[39m \u001b[39m \u001b[39m \u001b[39m \u001b[39m \u001b[39m \u001b[39m \u001b[39m \u001b[39m \u001b[39m \u001b[39m \u001b[39m \u001b[39m \u001b[39m \u001b[39m \u001b[39m \u001b[39m \u001b[39m \u001b[39m \u001b[39m \u001b[39m \u001b[39m \u001b[39m \u001b[39m \u001b[39m \u001b[39m \u001b[39m \u001b[39m \u001b[39m \u001b[39m \u001b[39m \u001b[39m \u001b[39m \u001b[39m \u001b[39m \u001b[39m \u001b[39m \u001b[39m \u001b[39m \u001b[39m \u001b[39m \u001b[39m \u001b[39m \u001b[39m \u001b[39m \u001b[39m \u001b[39m▁\n",
       "  \u001b[34m█\u001b[39m\u001b[39m█\u001b[39m█\u001b[39m█\u001b[39m█\u001b[32m█\u001b[39m\u001b[39m█\u001b[39m█\u001b[39m█\u001b[39m█\u001b[39m█\u001b[39m█\u001b[39m█\u001b[39m█\u001b[39m█\u001b[39m█\u001b[39m█\u001b[39m█\u001b[39m█\u001b[39m▇\u001b[39m▇\u001b[39m▇\u001b[39m▇\u001b[39m█\u001b[39m▇\u001b[39m▆\u001b[39m▇\u001b[39m▆\u001b[39m▆\u001b[39m▇\u001b[39m▆\u001b[39m▆\u001b[39m▇\u001b[39m▆\u001b[39m▆\u001b[39m▆\u001b[39m▆\u001b[39m▆\u001b[39m▆\u001b[39m▅\u001b[39m▆\u001b[39m▆\u001b[39m▅\u001b[39m▄\u001b[39m▅\u001b[39m▅\u001b[39m▅\u001b[39m▅\u001b[39m▅\u001b[39m▃\u001b[39m▅\u001b[39m▄\u001b[39m▄\u001b[39m▅\u001b[39m▅\u001b[39m▄\u001b[39m▃\u001b[39m▄\u001b[39m▄\u001b[39m▄\u001b[39m \u001b[39m█\n",
       "  585 μs\u001b[90m        \u001b[39m\u001b[90mHistogram: \u001b[39m\u001b[90m\u001b[1mlog(\u001b[22m\u001b[39m\u001b[90mfrequency\u001b[39m\u001b[90m\u001b[1m)\u001b[22m\u001b[39m\u001b[90m by time\u001b[39m       792 μs \u001b[0m\u001b[1m<\u001b[22m\n",
       "\n",
       " Memory estimate\u001b[90m: \u001b[39m\u001b[33m0 bytes\u001b[39m, allocs estimate\u001b[90m: \u001b[39m\u001b[33m0\u001b[39m."
      ]
     },
     "execution_count": 13,
     "metadata": {},
     "output_type": "execute_result"
    }
   ],
   "source": [
    "mark1a = @benchmark raisetop_Int64($data)"
   ]
  },
  {
   "cell_type": "code",
   "execution_count": 14,
   "id": "19cf7616",
   "metadata": {
    "slideshow": {
     "slide_type": "subslide"
    }
   },
   "outputs": [
    {
     "name": "stdout",
     "output_type": "stream",
     "text": [
      "\u001b[1m3×2 DataFrame\u001b[0m\n",
      "\u001b[1m Row \u001b[0m│\u001b[1m Method     \u001b[0m\u001b[1m Speedup \u001b[0m\n",
      "\u001b[1m     \u001b[0m│\u001b[90m String     \u001b[0m\u001b[90m Float64 \u001b[0m\n",
      "─────┼─────────────────────\n",
      "   1 │ Global      1.0\n",
      "   2 │ Constant    9.78071\n",
      "   3 │ ConstTyped  9.77683"
     ]
    }
   ],
   "source": [
    "speedup1a = median(mark0.times) / median(mark1a.times)\n",
    "push!(table, [\"ConstTyped\", speedup1a]);\n",
    "\n",
    "print(table)"
   ]
  },
  {
   "cell_type": "code",
   "execution_count": 15,
   "id": "3928ef2c",
   "metadata": {
    "slideshow": {
     "slide_type": "subslide"
    }
   },
   "outputs": [
    {
     "data": {
      "text/plain": [
       "raisetop_param (generic function with 1 method)"
      ]
     },
     "execution_count": 15,
     "metadata": {},
     "output_type": "execute_result"
    }
   ],
   "source": [
    "function raisetop_param(x::Vector; pow=2)\n",
    "    s = zero(eltype(x));\n",
    "    for xel in x\n",
    "        s = s + xel^pow # <<the only difference!\n",
    "    end\n",
    "    return s    \n",
    "end"
   ]
  },
  {
   "cell_type": "code",
   "execution_count": 16,
   "id": "b6f36164",
   "metadata": {
    "slideshow": {
     "slide_type": "subslide"
    }
   },
   "outputs": [
    {
     "data": {
      "text/plain": [
       "BenchmarkTools.Trial: 9748 samples with 1 evaluation.\n",
       " Range \u001b[90m(\u001b[39m\u001b[36m\u001b[1mmin\u001b[22m\u001b[39m … \u001b[35mmax\u001b[39m\u001b[90m):  \u001b[39m\u001b[36m\u001b[1m503.014 μs\u001b[22m\u001b[39m … \u001b[35m843.231 μs\u001b[39m  \u001b[90m┊\u001b[39m GC \u001b[90m(\u001b[39mmin … max\u001b[90m): \u001b[39m0.00% … 0.00%\n",
       " Time  \u001b[90m(\u001b[39m\u001b[34m\u001b[1mmedian\u001b[22m\u001b[39m\u001b[90m):     \u001b[39m\u001b[34m\u001b[1m508.281 μs               \u001b[22m\u001b[39m\u001b[90m┊\u001b[39m GC \u001b[90m(\u001b[39mmedian\u001b[90m):    \u001b[39m0.00%\n",
       " Time  \u001b[90m(\u001b[39m\u001b[32m\u001b[1mmean\u001b[22m\u001b[39m ± \u001b[32mσ\u001b[39m\u001b[90m):   \u001b[39m\u001b[32m\u001b[1m510.265 μs\u001b[22m\u001b[39m ± \u001b[32m 13.298 μs\u001b[39m  \u001b[90m┊\u001b[39m GC \u001b[90m(\u001b[39mmean ± σ\u001b[90m):  \u001b[39m0.00% ± 0.00%\n",
       "\n",
       "  \u001b[39m▇\u001b[39m \u001b[39m▃\u001b[39m█\u001b[34m▇\u001b[39m\u001b[32m▅\u001b[39m\u001b[39m▅\u001b[39m▃\u001b[39m▃\u001b[39m \u001b[39m \u001b[39m \u001b[39m \u001b[39m \u001b[39m \u001b[39m \u001b[39m \u001b[39m \u001b[39m \u001b[39m▁\u001b[39m▁\u001b[39m \u001b[39m \u001b[39m \u001b[39m \u001b[39m \u001b[39m \u001b[39m \u001b[39m \u001b[39m \u001b[39m▁\u001b[39m \u001b[39m \u001b[39m \u001b[39m \u001b[39m \u001b[39m \u001b[39m \u001b[39m \u001b[39m \u001b[39m \u001b[39m \u001b[39m \u001b[39m \u001b[39m \u001b[39m \u001b[39m \u001b[39m \u001b[39m \u001b[39m \u001b[39m \u001b[39m \u001b[39m \u001b[39m \u001b[39m \u001b[39m \u001b[39m \u001b[39m \u001b[39m \u001b[39m \u001b[39m \u001b[39m \u001b[39m▂\n",
       "  \u001b[39m█\u001b[39m█\u001b[39m█\u001b[39m█\u001b[34m█\u001b[39m\u001b[32m█\u001b[39m\u001b[39m█\u001b[39m█\u001b[39m█\u001b[39m█\u001b[39m▇\u001b[39m▇\u001b[39m▆\u001b[39m▆\u001b[39m▆\u001b[39m▅\u001b[39m▄\u001b[39m▆\u001b[39m▆\u001b[39m█\u001b[39m█\u001b[39m█\u001b[39m█\u001b[39m▆\u001b[39m▅\u001b[39m▄\u001b[39m▅\u001b[39m▅\u001b[39m▆\u001b[39m▅\u001b[39m█\u001b[39m▄\u001b[39m▅\u001b[39m▆\u001b[39m▄\u001b[39m▄\u001b[39m▄\u001b[39m▄\u001b[39m▃\u001b[39m▄\u001b[39m▄\u001b[39m▄\u001b[39m▄\u001b[39m▃\u001b[39m▃\u001b[39m▃\u001b[39m▄\u001b[39m▃\u001b[39m▅\u001b[39m▅\u001b[39m▄\u001b[39m▄\u001b[39m▄\u001b[39m▃\u001b[39m▃\u001b[39m▃\u001b[39m▄\u001b[39m▃\u001b[39m▄\u001b[39m▁\u001b[39m▅\u001b[39m \u001b[39m█\n",
       "  503 μs\u001b[90m        \u001b[39m\u001b[90mHistogram: \u001b[39m\u001b[90m\u001b[1mlog(\u001b[22m\u001b[39m\u001b[90mfrequency\u001b[39m\u001b[90m\u001b[1m)\u001b[22m\u001b[39m\u001b[90m by time\u001b[39m        584 μs \u001b[0m\u001b[1m<\u001b[22m\n",
       "\n",
       " Memory estimate\u001b[90m: \u001b[39m\u001b[33m48 bytes\u001b[39m, allocs estimate\u001b[90m: \u001b[39m\u001b[33m3\u001b[39m."
      ]
     },
     "execution_count": 16,
     "metadata": {},
     "output_type": "execute_result"
    }
   ],
   "source": [
    "mark2 = @benchmark raisetop_param($data, pow=p)"
   ]
  },
  {
   "cell_type": "code",
   "execution_count": 17,
   "id": "c6ffc553",
   "metadata": {
    "scrolled": true,
    "slideshow": {
     "slide_type": "-"
    }
   },
   "outputs": [
    {
     "data": {
      "text/plain": [
       "BenchmarkTools.Trial: 8446 samples with 1 evaluation.\n",
       " Range \u001b[90m(\u001b[39m\u001b[36m\u001b[1mmin\u001b[22m\u001b[39m … \u001b[35mmax\u001b[39m\u001b[90m):  \u001b[39m\u001b[36m\u001b[1m584.690 μs\u001b[22m\u001b[39m … \u001b[35m995.246 μs\u001b[39m  \u001b[90m┊\u001b[39m GC \u001b[90m(\u001b[39mmin … max\u001b[90m): \u001b[39m0.00% … 0.00%\n",
       " Time  \u001b[90m(\u001b[39m\u001b[34m\u001b[1mmedian\u001b[22m\u001b[39m\u001b[90m):     \u001b[39m\u001b[34m\u001b[1m584.812 μs               \u001b[22m\u001b[39m\u001b[90m┊\u001b[39m GC \u001b[90m(\u001b[39mmedian\u001b[90m):    \u001b[39m0.00%\n",
       " Time  \u001b[90m(\u001b[39m\u001b[32m\u001b[1mmean\u001b[22m\u001b[39m ± \u001b[32mσ\u001b[39m\u001b[90m):   \u001b[39m\u001b[32m\u001b[1m589.314 μs\u001b[22m\u001b[39m ± \u001b[32m 19.534 μs\u001b[39m  \u001b[90m┊\u001b[39m GC \u001b[90m(\u001b[39mmean ± σ\u001b[90m):  \u001b[39m0.00% ± 0.00%\n",
       "\n",
       "  \u001b[34m█\u001b[39m\u001b[39m▃\u001b[39m▅\u001b[39m▂\u001b[32m \u001b[39m\u001b[39m▅\u001b[39m▁\u001b[39m \u001b[39m \u001b[39m \u001b[39m \u001b[39m \u001b[39m \u001b[39m \u001b[39m \u001b[39m \u001b[39m \u001b[39m \u001b[39m \u001b[39m▂\u001b[39m▁\u001b[39m \u001b[39m \u001b[39m \u001b[39m \u001b[39m \u001b[39m \u001b[39m \u001b[39m \u001b[39m \u001b[39m \u001b[39m \u001b[39m \u001b[39m \u001b[39m \u001b[39m \u001b[39m \u001b[39m \u001b[39m \u001b[39m \u001b[39m \u001b[39m \u001b[39m \u001b[39m \u001b[39m \u001b[39m \u001b[39m \u001b[39m \u001b[39m \u001b[39m \u001b[39m \u001b[39m \u001b[39m \u001b[39m \u001b[39m \u001b[39m \u001b[39m \u001b[39m \u001b[39m \u001b[39m \u001b[39m \u001b[39m \u001b[39m▁\n",
       "  \u001b[34m█\u001b[39m\u001b[39m█\u001b[39m█\u001b[39m█\u001b[32m█\u001b[39m\u001b[39m█\u001b[39m█\u001b[39m█\u001b[39m▇\u001b[39m▅\u001b[39m▇\u001b[39m▆\u001b[39m▆\u001b[39m▆\u001b[39m▅\u001b[39m▆\u001b[39m▆\u001b[39m▅\u001b[39m▅\u001b[39m█\u001b[39m█\u001b[39m▇\u001b[39m▅\u001b[39m▆\u001b[39m▅\u001b[39m▅\u001b[39m▅\u001b[39m▆\u001b[39m▅\u001b[39m▅\u001b[39m▆\u001b[39m▅\u001b[39m▅\u001b[39m▆\u001b[39m▅\u001b[39m▄\u001b[39m▅\u001b[39m▅\u001b[39m▅\u001b[39m▅\u001b[39m▅\u001b[39m▅\u001b[39m▁\u001b[39m▄\u001b[39m▅\u001b[39m▅\u001b[39m▄\u001b[39m▅\u001b[39m▄\u001b[39m▅\u001b[39m▄\u001b[39m▄\u001b[39m▃\u001b[39m▅\u001b[39m▃\u001b[39m▃\u001b[39m▅\u001b[39m▄\u001b[39m▁\u001b[39m▄\u001b[39m▅\u001b[39m \u001b[39m█\n",
       "  585 μs\u001b[90m        \u001b[39m\u001b[90mHistogram: \u001b[39m\u001b[90m\u001b[1mlog(\u001b[22m\u001b[39m\u001b[90mfrequency\u001b[39m\u001b[90m\u001b[1m)\u001b[22m\u001b[39m\u001b[90m by time\u001b[39m        661 μs \u001b[0m\u001b[1m<\u001b[22m\n",
       "\n",
       " Memory estimate\u001b[90m: \u001b[39m\u001b[33m0 bytes\u001b[39m, allocs estimate\u001b[90m: \u001b[39m\u001b[33m0\u001b[39m."
      ]
     },
     "execution_count": 17,
     "metadata": {},
     "output_type": "execute_result"
    }
   ],
   "source": [
    "mark2a = @benchmark raisetop_param($data, pow=2)"
   ]
  },
  {
   "cell_type": "code",
   "execution_count": 18,
   "id": "bcec3962",
   "metadata": {
    "slideshow": {
     "slide_type": "-"
    }
   },
   "outputs": [
    {
     "data": {
      "text/plain": [
       "BenchmarkTools.Trial: 8430 samples with 1 evaluation.\n",
       " Range \u001b[90m(\u001b[39m\u001b[36m\u001b[1mmin\u001b[22m\u001b[39m … \u001b[35mmax\u001b[39m\u001b[90m):  \u001b[39m\u001b[36m\u001b[1m584.689 μs\u001b[22m\u001b[39m … \u001b[35m 1.065 ms\u001b[39m  \u001b[90m┊\u001b[39m GC \u001b[90m(\u001b[39mmin … max\u001b[90m): \u001b[39m0.00% … 0.00%\n",
       " Time  \u001b[90m(\u001b[39m\u001b[34m\u001b[1mmedian\u001b[22m\u001b[39m\u001b[90m):     \u001b[39m\u001b[34m\u001b[1m584.807 μs              \u001b[22m\u001b[39m\u001b[90m┊\u001b[39m GC \u001b[90m(\u001b[39mmedian\u001b[90m):    \u001b[39m0.00%\n",
       " Time  \u001b[90m(\u001b[39m\u001b[32m\u001b[1mmean\u001b[22m\u001b[39m ± \u001b[32mσ\u001b[39m\u001b[90m):   \u001b[39m\u001b[32m\u001b[1m590.417 μs\u001b[22m\u001b[39m ± \u001b[32m27.836 μs\u001b[39m  \u001b[90m┊\u001b[39m GC \u001b[90m(\u001b[39mmean ± σ\u001b[90m):  \u001b[39m0.00% ± 0.00%\n",
       "\n",
       "  \u001b[34m█\u001b[39m\u001b[39m▅\u001b[32m▄\u001b[39m\u001b[39m▁\u001b[39m \u001b[39m \u001b[39m \u001b[39m \u001b[39m \u001b[39m \u001b[39m▂\u001b[39m \u001b[39m \u001b[39m \u001b[39m \u001b[39m \u001b[39m \u001b[39m \u001b[39m \u001b[39m \u001b[39m \u001b[39m \u001b[39m \u001b[39m \u001b[39m \u001b[39m \u001b[39m \u001b[39m \u001b[39m \u001b[39m \u001b[39m \u001b[39m \u001b[39m \u001b[39m \u001b[39m \u001b[39m \u001b[39m \u001b[39m \u001b[39m \u001b[39m \u001b[39m \u001b[39m \u001b[39m \u001b[39m \u001b[39m \u001b[39m \u001b[39m \u001b[39m \u001b[39m \u001b[39m \u001b[39m \u001b[39m \u001b[39m \u001b[39m \u001b[39m \u001b[39m \u001b[39m \u001b[39m \u001b[39m \u001b[39m \u001b[39m \u001b[39m▁\n",
       "  \u001b[34m█\u001b[39m\u001b[39m█\u001b[32m█\u001b[39m\u001b[39m█\u001b[39m▇\u001b[39m▆\u001b[39m▆\u001b[39m▆\u001b[39m▆\u001b[39m█\u001b[39m█\u001b[39m▆\u001b[39m▆\u001b[39m▅\u001b[39m▅\u001b[39m▅\u001b[39m▄\u001b[39m▅\u001b[39m▅\u001b[39m▅\u001b[39m▅\u001b[39m▄\u001b[39m▅\u001b[39m▄\u001b[39m▅\u001b[39m▄\u001b[39m▅\u001b[39m▅\u001b[39m▅\u001b[39m▅\u001b[39m▄\u001b[39m▅\u001b[39m▄\u001b[39m▅\u001b[39m▅\u001b[39m▃\u001b[39m▅\u001b[39m▃\u001b[39m▃\u001b[39m▄\u001b[39m▅\u001b[39m▅\u001b[39m▄\u001b[39m▄\u001b[39m▃\u001b[39m▄\u001b[39m▄\u001b[39m▄\u001b[39m▁\u001b[39m▃\u001b[39m▁\u001b[39m▄\u001b[39m▁\u001b[39m▄\u001b[39m▃\u001b[39m▄\u001b[39m▃\u001b[39m▄\u001b[39m▃\u001b[39m▃\u001b[39m \u001b[39m█\n",
       "  585 μs\u001b[90m        \u001b[39m\u001b[90mHistogram: \u001b[39m\u001b[90m\u001b[1mlog(\u001b[22m\u001b[39m\u001b[90mfrequency\u001b[39m\u001b[90m\u001b[1m)\u001b[22m\u001b[39m\u001b[90m by time\u001b[39m       735 μs \u001b[0m\u001b[1m<\u001b[22m\n",
       "\n",
       " Memory estimate\u001b[90m: \u001b[39m\u001b[33m0 bytes\u001b[39m, allocs estimate\u001b[90m: \u001b[39m\u001b[33m0\u001b[39m."
      ]
     },
     "execution_count": 18,
     "metadata": {},
     "output_type": "execute_result"
    }
   ],
   "source": [
    "mark2b = @benchmark raisetop_param($data, pow=pconst)"
   ]
  },
  {
   "cell_type": "code",
   "execution_count": 19,
   "id": "53d5bef6",
   "metadata": {
    "slideshow": {
     "slide_type": "subslide"
    }
   },
   "outputs": [
    {
     "name": "stdout",
     "output_type": "stream",
     "text": [
      "\u001b[1m6×2 DataFrame\u001b[0m\n",
      "\u001b[1m Row \u001b[0m│\u001b[1m Method                 \u001b[0m\u001b[1m Speedup  \u001b[0m\n",
      "\u001b[1m     \u001b[0m│\u001b[90m String                 \u001b[0m\u001b[90m Float64  \u001b[0m\n",
      "─────┼──────────────────────────────────\n",
      "   1 │ Global                   1.0\n",
      "   2 │ Constant                 9.78071\n",
      "   3 │ ConstTyped               9.77683\n",
      "   4 │ Parametrized            11.2585\n",
      "   5 │ Parametrized const.exp   9.78521\n",
      "   6 │ Parametrized const.imp   9.78529"
     ]
    }
   ],
   "source": [
    "speedup2 = median(mark0.times) / median(mark2.times)\n",
    "speedup2a = median(mark0.times) / median(mark2a.times)\n",
    "speedup2b = median(mark0.times) / median(mark2b.times)\n",
    "\n",
    "push!(table, [\"Parametrized\", speedup2]);\n",
    "push!(table, [\"Parametrized const.exp\", speedup2a]);\n",
    "push!(table, [\"Parametrized const.imp\", speedup2b]);\n",
    "\n",
    "print(table)"
   ]
  },
  {
   "cell_type": "code",
   "execution_count": 20,
   "id": "dee4457c",
   "metadata": {
    "slideshow": {
     "slide_type": "subslide"
    }
   },
   "outputs": [
    {
     "name": "stdout",
     "output_type": "stream",
     "text": [
      "MethodInstance for (::var\"#raisetop_param##kw\")(::NamedTuple{(:pow,), Tuple{Int64}}, ::typeof(raisetop_param), ::Vector{Float64})\n",
      "  from (::var\"#raisetop_param##kw\")(::Any, ::typeof(raisetop_param), x::Vector) in Main at In[15]:1\n",
      "Arguments\n",
      "  _\u001b[36m::Core.Const(var\"#raisetop_param##kw\"())\u001b[39m\n",
      "  @_2\u001b[36m::NamedTuple{(:pow,), Tuple{Int64}}\u001b[39m\n",
      "  @_3\u001b[36m::Core.Const(raisetop_param)\u001b[39m\n",
      "  x\u001b[36m::Vector{Float64}\u001b[39m\n",
      "Locals\n",
      "  pow\u001b[36m::Int64\u001b[39m\n",
      "  @_6\u001b[36m::Int64\u001b[39m\n",
      "Body\u001b[36m::Float64\u001b[39m\n",
      "\u001b[90m1 ─\u001b[39m %1  = Base.haskey(@_2, :pow)\u001b[36m::Core.Const(true)\u001b[39m\n",
      "\u001b[90m│  \u001b[39m       Core.typeassert(%1, Core.Bool)\n",
      "\u001b[90m│  \u001b[39m       (@_6 = Base.getindex(@_2, :pow))\n",
      "\u001b[90m└──\u001b[39m       goto #3\n",
      "\u001b[90m2 ─\u001b[39m       Core.Const(:(@_6 = 2))\n",
      "\u001b[90m3 ┄\u001b[39m %6  = @_6\u001b[36m::Int64\u001b[39m\n",
      "\u001b[90m│  \u001b[39m       (pow = %6)\n",
      "\u001b[90m│  \u001b[39m %8  = (:pow,)\u001b[36m::Core.Const((:pow,))\u001b[39m\n",
      "\u001b[90m│  \u001b[39m %9  = Core.apply_type(Core.NamedTuple, %8)\u001b[36m::Core.Const(NamedTuple{(:pow,)})\u001b[39m\n",
      "\u001b[90m│  \u001b[39m %10 = Base.structdiff(@_2, %9)\u001b[36m::Core.Const(NamedTuple())\u001b[39m\n",
      "\u001b[90m│  \u001b[39m %11 = Base.pairs(%10)\u001b[36m::Core.Const(Base.Pairs{Symbol, Union{}, Tuple{}, NamedTuple{(), Tuple{}}}())\u001b[39m\n",
      "\u001b[90m│  \u001b[39m %12 = Base.isempty(%11)\u001b[36m::Core.Const(true)\u001b[39m\n",
      "\u001b[90m│  \u001b[39m       Core.typeassert(%12, Core.Bool)\n",
      "\u001b[90m└──\u001b[39m       goto #5\n",
      "\u001b[90m4 ─\u001b[39m       Core.Const(:(Base.kwerr(@_2, @_3, x)))\n",
      "\u001b[90m5 ┄\u001b[39m %16 = Main.:(var\"#raisetop_param#1\")(pow, @_3, x)\u001b[36m::Float64\u001b[39m\n",
      "\u001b[90m└──\u001b[39m       return %16\n",
      "\n"
     ]
    }
   ],
   "source": [
    "@code_warntype raisetop_param(data; pow=pconst)"
   ]
  },
  {
   "cell_type": "markdown",
   "id": "ba588c72",
   "metadata": {
    "slideshow": {
     "slide_type": "subslide"
    }
   },
   "source": [
    "## Using `Base.map()`"
   ]
  },
  {
   "cell_type": "code",
   "execution_count": 21,
   "id": "519034cf",
   "metadata": {},
   "outputs": [
    {
     "data": {
      "text/plain": [
       "raisetop_map (generic function with 1 method)"
      ]
     },
     "execution_count": 21,
     "metadata": {},
     "output_type": "execute_result"
    }
   ],
   "source": [
    "function raisetop_map(data; pow=pconst)\n",
    "    raised = zeros(size(data))\n",
    "    map!(x->x^pow, raised, data)\n",
    "    return sum(raised)\n",
    "end"
   ]
  },
  {
   "cell_type": "code",
   "execution_count": 22,
   "id": "f359c502",
   "metadata": {
    "slideshow": {
     "slide_type": "subslide"
    }
   },
   "outputs": [
    {
     "data": {
      "text/plain": [
       "BenchmarkTools.Trial: 4870 samples with 1 evaluation.\n",
       " Range \u001b[90m(\u001b[39m\u001b[36m\u001b[1mmin\u001b[22m\u001b[39m … \u001b[35mmax\u001b[39m\u001b[90m):  \u001b[39m\u001b[36m\u001b[1m601.702 μs\u001b[22m\u001b[39m … \u001b[35m  6.707 ms\u001b[39m  \u001b[90m┊\u001b[39m GC \u001b[90m(\u001b[39mmin … max\u001b[90m): \u001b[39m0.00% … 63.26%\n",
       " Time  \u001b[90m(\u001b[39m\u001b[34m\u001b[1mmedian\u001b[22m\u001b[39m\u001b[90m):     \u001b[39m\u001b[34m\u001b[1m  1.046 ms               \u001b[22m\u001b[39m\u001b[90m┊\u001b[39m GC \u001b[90m(\u001b[39mmedian\u001b[90m):    \u001b[39m0.00%\n",
       " Time  \u001b[90m(\u001b[39m\u001b[32m\u001b[1mmean\u001b[22m\u001b[39m ± \u001b[32mσ\u001b[39m\u001b[90m):   \u001b[39m\u001b[32m\u001b[1m  1.019 ms\u001b[22m\u001b[39m ± \u001b[32m444.079 μs\u001b[39m  \u001b[90m┊\u001b[39m GC \u001b[90m(\u001b[39mmean ± σ\u001b[90m):  \u001b[39m4.57% ±  9.05%\n",
       "\n",
       "  \u001b[39m▇\u001b[39m▃\u001b[39m▂\u001b[39m \u001b[39m \u001b[39m \u001b[39m \u001b[32m█\u001b[39m\u001b[34m█\u001b[39m\u001b[39m▅\u001b[39m▄\u001b[39m▃\u001b[39m▂\u001b[39m \u001b[39m \u001b[39m \u001b[39m \u001b[39m \u001b[39m \u001b[39m \u001b[39m \u001b[39m \u001b[39m \u001b[39m \u001b[39m \u001b[39m \u001b[39m \u001b[39m \u001b[39m \u001b[39m \u001b[39m \u001b[39m \u001b[39m \u001b[39m \u001b[39m \u001b[39m \u001b[39m \u001b[39m \u001b[39m \u001b[39m \u001b[39m \u001b[39m \u001b[39m \u001b[39m \u001b[39m \u001b[39m \u001b[39m \u001b[39m \u001b[39m \u001b[39m \u001b[39m \u001b[39m \u001b[39m \u001b[39m \u001b[39m \u001b[39m \u001b[39m \u001b[39m \u001b[39m \u001b[39m \u001b[39m \u001b[39m \u001b[39m▁\n",
       "  \u001b[39m█\u001b[39m█\u001b[39m█\u001b[39m█\u001b[39m▇\u001b[39m▅\u001b[39m▅\u001b[32m█\u001b[39m\u001b[34m█\u001b[39m\u001b[39m█\u001b[39m█\u001b[39m█\u001b[39m█\u001b[39m█\u001b[39m▇\u001b[39m▇\u001b[39m▆\u001b[39m▄\u001b[39m▄\u001b[39m▁\u001b[39m▁\u001b[39m▃\u001b[39m▃\u001b[39m▁\u001b[39m▁\u001b[39m▁\u001b[39m▁\u001b[39m▁\u001b[39m▁\u001b[39m▁\u001b[39m▁\u001b[39m▁\u001b[39m▁\u001b[39m▁\u001b[39m▁\u001b[39m▁\u001b[39m▁\u001b[39m▁\u001b[39m▁\u001b[39m▁\u001b[39m▁\u001b[39m▁\u001b[39m▁\u001b[39m▁\u001b[39m▁\u001b[39m▁\u001b[39m▁\u001b[39m▁\u001b[39m▁\u001b[39m▁\u001b[39m▁\u001b[39m▁\u001b[39m▁\u001b[39m▁\u001b[39m▁\u001b[39m▃\u001b[39m▄\u001b[39m▆\u001b[39m▅\u001b[39m▅\u001b[39m▆\u001b[39m \u001b[39m█\n",
       "  602 μs\u001b[90m        \u001b[39m\u001b[90mHistogram: \u001b[39m\u001b[90m\u001b[1mlog(\u001b[22m\u001b[39m\u001b[90mfrequency\u001b[39m\u001b[90m\u001b[1m)\u001b[22m\u001b[39m\u001b[90m by time\u001b[39m       4.03 ms \u001b[0m\u001b[1m<\u001b[22m\n",
       "\n",
       " Memory estimate\u001b[90m: \u001b[39m\u001b[33m781.30 KiB\u001b[39m, allocs estimate\u001b[90m: \u001b[39m\u001b[33m2\u001b[39m."
      ]
     },
     "execution_count": 22,
     "metadata": {},
     "output_type": "execute_result"
    }
   ],
   "source": [
    "mark3 = @benchmark raisetop_map($data, pow=pconst)"
   ]
  },
  {
   "cell_type": "code",
   "execution_count": 23,
   "id": "48f5eb2d",
   "metadata": {
    "slideshow": {
     "slide_type": "subslide"
    }
   },
   "outputs": [
    {
     "name": "stdout",
     "output_type": "stream",
     "text": [
      "\u001b[1m7×2 DataFrame\u001b[0m\n",
      "\u001b[1m Row \u001b[0m│\u001b[1m Method                 \u001b[0m\u001b[1m Speedup  \u001b[0m\n",
      "\u001b[1m     \u001b[0m│\u001b[90m String                 \u001b[0m\u001b[90m Float64  \u001b[0m\n",
      "─────┼──────────────────────────────────\n",
      "   1 │ Global                   1.0\n",
      "   2 │ Constant                 9.78071\n",
      "   3 │ ConstTyped               9.77683\n",
      "   4 │ Parametrized            11.2585\n",
      "   5 │ Parametrized const.exp   9.78521\n",
      "   6 │ Parametrized const.imp   9.78529\n",
      "   7 │ Base.mapped!             5.4683"
     ]
    }
   ],
   "source": [
    "speedup3 = median(mark0.times) / median(mark3.times)\n",
    "\n",
    "push!(table, [\"Base.mapped!\", speedup3]);\n",
    "\n",
    "print(table)"
   ]
  },
  {
   "cell_type": "markdown",
   "id": "d0c00b6c",
   "metadata": {
    "slideshow": {
     "slide_type": "slide"
    }
   },
   "source": [
    "# Inlining\n",
    "\n",
    "Used in generating the LLVM Intermediate Representation (IR) that can reduce expressions *at* compile time to reduce function calls."
   ]
  },
  {
   "cell_type": "code",
   "execution_count": 24,
   "id": "0f116dff",
   "metadata": {},
   "outputs": [
    {
     "data": {
      "text/plain": [
       "g (generic function with 1 method)"
      ]
     },
     "execution_count": 24,
     "metadata": {},
     "output_type": "execute_result"
    }
   ],
   "source": [
    "function f(x)\n",
    "    a = 5x\n",
    "    b = a + 2\n",
    "end\n",
    "\n",
    "g(x) = f(4x)"
   ]
  },
  {
   "cell_type": "code",
   "execution_count": 25,
   "id": "65940c60",
   "metadata": {
    "slideshow": {
     "slide_type": "subslide"
    }
   },
   "outputs": [
    {
     "data": {
      "text/plain": [
       "CodeInfo(\n",
       "\u001b[90m1 ─\u001b[39m %1 = Base.mul_int(4, x)\u001b[36m::Int64\u001b[39m\n",
       "\u001b[90m│  \u001b[39m %2 = Base.mul_int(5, %1)\u001b[36m::Int64\u001b[39m\n",
       "\u001b[90m│  \u001b[39m %3 = Base.add_int(%2, 2)\u001b[36m::Int64\u001b[39m\n",
       "\u001b[90m└──\u001b[39m      return %3\n",
       ") => Int64"
      ]
     },
     "execution_count": 25,
     "metadata": {},
     "output_type": "execute_result"
    }
   ],
   "source": [
    "@code_typed g(3)"
   ]
  },
  {
   "cell_type": "code",
   "execution_count": 26,
   "id": "83d30686",
   "metadata": {
    "slideshow": {
     "slide_type": "-"
    }
   },
   "outputs": [
    {
     "name": "stdout",
     "output_type": "stream",
     "text": [
      "\u001b[90m;  @ In[24]:6 within `g`\u001b[39m\n",
      "\u001b[95mdefine\u001b[39m \u001b[36mi64\u001b[39m \u001b[93m@julia_g_4497\u001b[39m\u001b[33m(\u001b[39m\u001b[36mi64\u001b[39m \u001b[95msignext\u001b[39m \u001b[0m%0\u001b[33m)\u001b[39m \u001b[0m#0 \u001b[33m{\u001b[39m\n",
      "\u001b[91mtop:\u001b[39m\n",
      "\u001b[90m; ┌ @ In[24]:2 within `f`\u001b[39m\n",
      "\u001b[90m; │┌ @ int.jl:88 within `*`\u001b[39m\n",
      "    \u001b[0m%1 \u001b[0m= \u001b[96m\u001b[1mmul\u001b[22m\u001b[39m \u001b[36mi64\u001b[39m \u001b[0m%0\u001b[0m, \u001b[33m20\u001b[39m\n",
      "\u001b[90m; │└\u001b[39m\n",
      "\u001b[90m; │ @ In[24]:3 within `f`\u001b[39m\n",
      "\u001b[90m; │┌ @ int.jl:87 within `+`\u001b[39m\n",
      "    \u001b[0m%2 \u001b[0m= \u001b[96m\u001b[1mor\u001b[22m\u001b[39m \u001b[36mi64\u001b[39m \u001b[0m%1\u001b[0m, \u001b[33m2\u001b[39m\n",
      "\u001b[90m; └└\u001b[39m\n",
      "  \u001b[96m\u001b[1mret\u001b[22m\u001b[39m \u001b[36mi64\u001b[39m \u001b[0m%2\n",
      "\u001b[33m}\u001b[39m\n"
     ]
    }
   ],
   "source": [
    "@code_llvm g(3)"
   ]
  },
  {
   "cell_type": "markdown",
   "id": "5350ce82",
   "metadata": {
    "slideshow": {
     "slide_type": "subslide"
    }
   },
   "source": [
    "## Inlining can be controlled\n",
    "\n",
    "The automatic inlining may be based on the number of lines or operations that your code does.\n",
    "\n",
    "Since the advantage of inline is related to constants that may be involved, it is best to _force_ Julia to do inlining using the macro `@inline`.\n",
    "The inline seems to be a default in the later versions of Julia.\n",
    "\n",
    "Inlining can be disabled in Julia using the `@noinline` macro."
   ]
  },
  {
   "cell_type": "code",
   "execution_count": 27,
   "id": "b6967a8c",
   "metadata": {},
   "outputs": [
    {
     "data": {
      "text/plain": [
       "g_ni (generic function with 1 method)"
      ]
     },
     "execution_count": 27,
     "metadata": {},
     "output_type": "execute_result"
    }
   ],
   "source": [
    "@noinline function f_ni(x)\n",
    "    a = x*5\n",
    "    b = a + 3\n",
    "end\n",
    "\n",
    "g_ni(x) = f_ni(2*x)"
   ]
  },
  {
   "cell_type": "code",
   "execution_count": 28,
   "id": "7adbfbb6",
   "metadata": {
    "slideshow": {
     "slide_type": "subslide"
    }
   },
   "outputs": [
    {
     "data": {
      "text/plain": [
       "CodeInfo(\n",
       "\u001b[90m1 ─\u001b[39m %1 = Base.mul_int(2, x)\u001b[36m::Int64\u001b[39m\n",
       "\u001b[90m│  \u001b[39m %2 = invoke Main.f_ni(%1::Int64)\u001b[36m::Int64\u001b[39m\n",
       "\u001b[90m└──\u001b[39m      return %2\n",
       ") => Int64"
      ]
     },
     "execution_count": 28,
     "metadata": {},
     "output_type": "execute_result"
    }
   ],
   "source": [
    "@code_typed g_ni(3)"
   ]
  },
  {
   "cell_type": "code",
   "execution_count": 29,
   "id": "9126d2cf",
   "metadata": {
    "scrolled": true
   },
   "outputs": [
    {
     "name": "stdout",
     "output_type": "stream",
     "text": [
      "\u001b[90m;  @ In[27]:6 within `g_ni`\u001b[39m\n",
      "\u001b[95mdefine\u001b[39m \u001b[36mi64\u001b[39m \u001b[93m@julia_g_ni_4549\u001b[39m\u001b[33m(\u001b[39m\u001b[36mi64\u001b[39m \u001b[95msignext\u001b[39m \u001b[0m%0\u001b[33m)\u001b[39m \u001b[0m#0 \u001b[33m{\u001b[39m\n",
      "\u001b[91mtop:\u001b[39m\n",
      "\u001b[90m; ┌ @ int.jl:88 within `*`\u001b[39m\n",
      "   \u001b[0m%1 \u001b[0m= \u001b[96m\u001b[1mshl\u001b[22m\u001b[39m \u001b[36mi64\u001b[39m \u001b[0m%0\u001b[0m, \u001b[33m1\u001b[39m\n",
      "\u001b[90m; └\u001b[39m\n",
      "  \u001b[0m%2 \u001b[0m= \u001b[96m\u001b[1mcall\u001b[22m\u001b[39m \u001b[36mi64\u001b[39m \u001b[93m@j_f_ni_4551\u001b[39m\u001b[33m(\u001b[39m\u001b[36mi64\u001b[39m \u001b[95msignext\u001b[39m \u001b[0m%1\u001b[33m)\u001b[39m \u001b[0m#0\n",
      "  \u001b[96m\u001b[1mret\u001b[22m\u001b[39m \u001b[36mi64\u001b[39m \u001b[0m%2\n",
      "\u001b[33m}\u001b[39m\n"
     ]
    }
   ],
   "source": [
    "@code_llvm g_ni(3)"
   ]
  },
  {
   "cell_type": "markdown",
   "id": "f58d8d70",
   "metadata": {
    "slideshow": {
     "slide_type": "subslide"
    }
   },
   "source": [
    "The main difference is the `invoke` that translates to a `call` step instead of doing the operation almost _symbolically_ before encoding.\n",
    "\n",
    "However, the advantage of inlining depends on the complexity of the function and of the call overhead."
   ]
  },
  {
   "cell_type": "code",
   "execution_count": 54,
   "id": "c5e82204",
   "metadata": {},
   "outputs": [
    {
     "data": {
      "text/plain": [
       "BenchmarkTools.Trial: 10000 samples with 1000 evaluations.\n",
       " Range \u001b[90m(\u001b[39m\u001b[36m\u001b[1mmin\u001b[22m\u001b[39m … \u001b[35mmax\u001b[39m\u001b[90m):  \u001b[39m\u001b[36m\u001b[1m1.698 ns\u001b[22m\u001b[39m … \u001b[35m64.792 ns\u001b[39m  \u001b[90m┊\u001b[39m GC \u001b[90m(\u001b[39mmin … max\u001b[90m): \u001b[39m0.00% … 0.00%\n",
       " Time  \u001b[90m(\u001b[39m\u001b[34m\u001b[1mmedian\u001b[22m\u001b[39m\u001b[90m):     \u001b[39m\u001b[34m\u001b[1m1.710 ns              \u001b[22m\u001b[39m\u001b[90m┊\u001b[39m GC \u001b[90m(\u001b[39mmedian\u001b[90m):    \u001b[39m0.00%\n",
       " Time  \u001b[90m(\u001b[39m\u001b[32m\u001b[1mmean\u001b[22m\u001b[39m ± \u001b[32mσ\u001b[39m\u001b[90m):   \u001b[39m\u001b[32m\u001b[1m1.722 ns\u001b[22m\u001b[39m ± \u001b[32m 0.635 ns\u001b[39m  \u001b[90m┊\u001b[39m GC \u001b[90m(\u001b[39mmean ± σ\u001b[90m):  \u001b[39m0.00% ± 0.00%\n",
       "\n",
       "  \u001b[39m \u001b[39m \u001b[39m \u001b[39m \u001b[39m \u001b[39m \u001b[39m \u001b[39m \u001b[39m▂\u001b[39m▃\u001b[39m \u001b[39m▅\u001b[39m \u001b[39m▅\u001b[39m█\u001b[39m \u001b[39m▅\u001b[39m \u001b[39m▄\u001b[39m▃\u001b[34m \u001b[39m\u001b[39m \u001b[39m \u001b[39m▂\u001b[39m \u001b[39m \u001b[39m \u001b[39m \u001b[39m \u001b[39m \u001b[39m \u001b[39m▄\u001b[39m \u001b[39m \u001b[39m▂\u001b[39m \u001b[39m \u001b[39m \u001b[39m \u001b[39m \u001b[32m \u001b[39m\u001b[39m \u001b[39m \u001b[39m \u001b[39m \u001b[39m \u001b[39m \u001b[39m \u001b[39m \u001b[39m \u001b[39m \u001b[39m \u001b[39m \u001b[39m \u001b[39m \u001b[39m \u001b[39m \u001b[39m \u001b[39m \u001b[39m \n",
       "  \u001b[39m▂\u001b[39m▂\u001b[39m▁\u001b[39m▂\u001b[39m▅\u001b[39m▁\u001b[39m▆\u001b[39m▁\u001b[39m█\u001b[39m█\u001b[39m▁\u001b[39m█\u001b[39m▁\u001b[39m█\u001b[39m█\u001b[39m▁\u001b[39m█\u001b[39m▁\u001b[39m█\u001b[39m█\u001b[34m▁\u001b[39m\u001b[39m▇\u001b[39m▁\u001b[39m█\u001b[39m▆\u001b[39m▁\u001b[39m▇\u001b[39m▁\u001b[39m▆\u001b[39m▅\u001b[39m▁\u001b[39m█\u001b[39m▁\u001b[39m▅\u001b[39m█\u001b[39m▁\u001b[39m▇\u001b[39m▁\u001b[39m▆\u001b[39m█\u001b[32m▁\u001b[39m\u001b[39m▄\u001b[39m▁\u001b[39m▅\u001b[39m▃\u001b[39m▁\u001b[39m▃\u001b[39m▁\u001b[39m▃\u001b[39m▃\u001b[39m▁\u001b[39m▃\u001b[39m▁\u001b[39m▃\u001b[39m▃\u001b[39m▁\u001b[39m▃\u001b[39m▂\u001b[39m \u001b[39m▄\n",
       "  1.7 ns\u001b[90m         Histogram: frequency by time\u001b[39m        1.73 ns \u001b[0m\u001b[1m<\u001b[22m\n",
       "\n",
       " Memory estimate\u001b[90m: \u001b[39m\u001b[33m0 bytes\u001b[39m, allocs estimate\u001b[90m: \u001b[39m\u001b[33m0\u001b[39m."
      ]
     },
     "execution_count": 54,
     "metadata": {},
     "output_type": "execute_result"
    }
   ],
   "source": [
    "mark0 = @benchmark for _ in 1:10_000_000 g_ni(3) end"
   ]
  },
  {
   "cell_type": "code",
   "execution_count": 55,
   "id": "21194ae3",
   "metadata": {},
   "outputs": [
    {
     "data": {
      "text/plain": [
       "BenchmarkTools.Trial: 10000 samples with 1000 evaluations.\n",
       " Range \u001b[90m(\u001b[39m\u001b[36m\u001b[1mmin\u001b[22m\u001b[39m … \u001b[35mmax\u001b[39m\u001b[90m):  \u001b[39m\u001b[36m\u001b[1m1.700 ns\u001b[22m\u001b[39m … \u001b[35m8.283 ns\u001b[39m  \u001b[90m┊\u001b[39m GC \u001b[90m(\u001b[39mmin … max\u001b[90m): \u001b[39m0.00% … 0.00%\n",
       " Time  \u001b[90m(\u001b[39m\u001b[34m\u001b[1mmedian\u001b[22m\u001b[39m\u001b[90m):     \u001b[39m\u001b[34m\u001b[1m1.714 ns             \u001b[22m\u001b[39m\u001b[90m┊\u001b[39m GC \u001b[90m(\u001b[39mmedian\u001b[90m):    \u001b[39m0.00%\n",
       " Time  \u001b[90m(\u001b[39m\u001b[32m\u001b[1mmean\u001b[22m\u001b[39m ± \u001b[32mσ\u001b[39m\u001b[90m):   \u001b[39m\u001b[32m\u001b[1m1.722 ns\u001b[22m\u001b[39m ± \u001b[32m0.199 ns\u001b[39m  \u001b[90m┊\u001b[39m GC \u001b[90m(\u001b[39mmean ± σ\u001b[90m):  \u001b[39m0.00% ± 0.00%\n",
       "\n",
       "  \u001b[39m \u001b[39m \u001b[39m \u001b[39m \u001b[39m \u001b[39m \u001b[39m \u001b[39m \u001b[39m \u001b[39m \u001b[39m▁\u001b[39m▃\u001b[39m \u001b[39m▃\u001b[39m \u001b[39m▄\u001b[39m▆\u001b[39m \u001b[39m▃\u001b[39m \u001b[39m█\u001b[39m▁\u001b[39m \u001b[34m▄\u001b[39m\u001b[39m \u001b[39m▁\u001b[39m \u001b[39m \u001b[39m▃\u001b[39m \u001b[39m \u001b[39m▂\u001b[39m \u001b[39m \u001b[39m \u001b[39m \u001b[32m▂\u001b[39m\u001b[39m \u001b[39m \u001b[39m \u001b[39m \u001b[39m \u001b[39m \u001b[39m \u001b[39m \u001b[39m \u001b[39m \u001b[39m \u001b[39m \u001b[39m \u001b[39m \u001b[39m \u001b[39m \u001b[39m \u001b[39m \u001b[39m \u001b[39m \u001b[39m \u001b[39m \n",
       "  \u001b[39m▂\u001b[39m▂\u001b[39m▁\u001b[39m▃\u001b[39m▁\u001b[39m▄\u001b[39m▅\u001b[39m▁\u001b[39m▇\u001b[39m▁\u001b[39m█\u001b[39m█\u001b[39m▁\u001b[39m█\u001b[39m▁\u001b[39m█\u001b[39m█\u001b[39m▁\u001b[39m█\u001b[39m▁\u001b[39m█\u001b[39m█\u001b[39m▁\u001b[34m█\u001b[39m\u001b[39m▁\u001b[39m█\u001b[39m▇\u001b[39m▁\u001b[39m█\u001b[39m▁\u001b[39m▅\u001b[39m█\u001b[39m▁\u001b[39m▇\u001b[39m▁\u001b[39m▇\u001b[32m█\u001b[39m\u001b[39m▁\u001b[39m▆\u001b[39m▁\u001b[39m█\u001b[39m▆\u001b[39m▁\u001b[39m▆\u001b[39m▁\u001b[39m▅\u001b[39m▄\u001b[39m▁\u001b[39m▃\u001b[39m▁\u001b[39m▃\u001b[39m▃\u001b[39m▁\u001b[39m▃\u001b[39m▁\u001b[39m▃\u001b[39m▂\u001b[39m \u001b[39m▄\n",
       "  1.7 ns\u001b[90m         Histogram: frequency by time\u001b[39m       1.73 ns \u001b[0m\u001b[1m<\u001b[22m\n",
       "\n",
       " Memory estimate\u001b[90m: \u001b[39m\u001b[33m0 bytes\u001b[39m, allocs estimate\u001b[90m: \u001b[39m\u001b[33m0\u001b[39m."
      ]
     },
     "execution_count": 55,
     "metadata": {},
     "output_type": "execute_result"
    }
   ],
   "source": [
    "mark1 = @benchmark for _ in 1:10_000_000 g(3) end"
   ]
  },
  {
   "cell_type": "markdown",
   "id": "e09b3ef2",
   "metadata": {
    "slideshow": {
     "slide_type": "slide"
    }
   },
   "source": [
    "# Propagation of constant value\n",
    "\n",
    "Sometimes, constants are evaluated at compile time (JIT) resulting to more efficient execution at runtime.\n",
    "> When a function is called with an argument that is known at compile time, the invocation can happen once at compile time, and the call is then replaced with a constant value at runtime.\n",
    "\n",
    "Such constant propagation happens even across functions resulting further optimization.\n",
    "\n",
    "Consider the two functions that follow."
   ]
  },
  {
   "cell_type": "code",
   "execution_count": 33,
   "id": "69fd0c6f",
   "metadata": {},
   "outputs": [
    {
     "data": {
      "text/plain": [
       "sqrlog2 (generic function with 1 method)"
      ]
     },
     "execution_count": 33,
     "metadata": {},
     "output_type": "execute_result"
    }
   ],
   "source": [
    "sqr(x) = x*x\n",
    "sqr2() = sqr(2)\n",
    "\n",
    "sqrlog(x) = log(x*x)\n",
    "sqrlog2() = sqrlog(2.0)"
   ]
  },
  {
   "cell_type": "code",
   "execution_count": 34,
   "id": "acc878fe",
   "metadata": {
    "slideshow": {
     "slide_type": "subslide"
    }
   },
   "outputs": [
    {
     "data": {
      "text/plain": [
       "CodeInfo(\n",
       "\u001b[90m1 ─\u001b[39m     return 4\n",
       ") => Int64"
      ]
     },
     "execution_count": 34,
     "metadata": {},
     "output_type": "execute_result"
    }
   ],
   "source": [
    "@code_typed sqr2()"
   ]
  },
  {
   "cell_type": "code",
   "execution_count": 35,
   "id": "1ecc70d6",
   "metadata": {},
   "outputs": [
    {
     "data": {
      "text/plain": [
       "true"
      ]
     },
     "execution_count": 35,
     "metadata": {},
     "output_type": "execute_result"
    }
   ],
   "source": [
    "sqr2() === 4"
   ]
  },
  {
   "cell_type": "code",
   "execution_count": 36,
   "id": "a78320ee",
   "metadata": {
    "slideshow": {
     "slide_type": "subslide"
    }
   },
   "outputs": [
    {
     "name": "stdout",
     "output_type": "stream",
     "text": [
      "\u001b[90m;  @ In[33]:2 within `sqr2`\u001b[39m\n",
      "\u001b[95mdefine\u001b[39m \u001b[36mi64\u001b[39m \u001b[93m@julia_sqr2_4704\u001b[39m\u001b[33m(\u001b[39m\u001b[33m)\u001b[39m \u001b[0m#0 \u001b[33m{\u001b[39m\n",
      "\u001b[91mtop:\u001b[39m\n",
      "  \u001b[96m\u001b[1mret\u001b[22m\u001b[39m \u001b[36mi64\u001b[39m \u001b[33m4\u001b[39m\n",
      "\u001b[33m}\u001b[39m\n"
     ]
    }
   ],
   "source": [
    "@code_llvm sqr2()"
   ]
  },
  {
   "cell_type": "code",
   "execution_count": 37,
   "id": "d668006c",
   "metadata": {
    "slideshow": {
     "slide_type": "subslide"
    }
   },
   "outputs": [
    {
     "data": {
      "text/plain": [
       "CodeInfo(\n",
       "\u001b[90m1 ─\u001b[39m     return 1.3862943611198906\n",
       ") => Float64"
      ]
     },
     "execution_count": 37,
     "metadata": {},
     "output_type": "execute_result"
    }
   ],
   "source": [
    "@code_typed sqrlog2()"
   ]
  },
  {
   "cell_type": "markdown",
   "id": "f9f53583",
   "metadata": {
    "slideshow": {
     "slide_type": "subslide"
    }
   },
   "source": [
    "The result is truly a constant being equivalent to the actual memory value."
   ]
  },
  {
   "cell_type": "code",
   "execution_count": 38,
   "id": "dd061ecd",
   "metadata": {},
   "outputs": [
    {
     "name": "stdout",
     "output_type": "stream",
     "text": [
      "\u001b[90m;  @ In[33]:5 within `sqrlog2`\u001b[39m\n",
      "\u001b[95mdefine\u001b[39m \u001b[36mdouble\u001b[39m \u001b[93m@julia_sqrlog2_4710\u001b[39m\u001b[33m(\u001b[39m\u001b[33m)\u001b[39m \u001b[0m#0 \u001b[33m{\u001b[39m\n",
      "\u001b[91mtop:\u001b[39m\n",
      "  \u001b[96m\u001b[1mret\u001b[22m\u001b[39m \u001b[36mdouble\u001b[39m \u001b[33m0x3FF62E42FEFA39EF\u001b[39m\n",
      "\u001b[33m}\u001b[39m\n"
     ]
    }
   ],
   "source": [
    "@code_llvm sqrlog2()"
   ]
  },
  {
   "cell_type": "code",
   "execution_count": 39,
   "id": "e0df65f7",
   "metadata": {},
   "outputs": [
    {
     "data": {
      "text/plain": [
       "true"
      ]
     },
     "execution_count": 39,
     "metadata": {},
     "output_type": "execute_result"
    }
   ],
   "source": [
    "sqrlog2() === log(4.0)"
   ]
  },
  {
   "cell_type": "markdown",
   "id": "18f7bb34",
   "metadata": {
    "slideshow": {
     "slide_type": "fragment"
    }
   },
   "source": [
    "## Notes\n",
    "\n",
    "> Constant propagation is likely to be applied only to functions that are pure – in other words, functions that do not have side effects. This means that these functions not only do not modify or mutate any of its arguments, but they also do not change any global state."
   ]
  },
  {
   "cell_type": "code",
   "execution_count": null,
   "id": "3d8b71b2",
   "metadata": {
    "slideshow": {
     "slide_type": "skip"
    }
   },
   "outputs": [],
   "source": []
  },
  {
   "cell_type": "markdown",
   "id": "cc55a09b",
   "metadata": {
    "slideshow": {
     "slide_type": "slide"
    }
   },
   "source": [
    "# Julia macro\n",
    "\n",
    "Macros are used to make a sequence of computing instructions available to the programmer as a single program statement, making the programming task less tedious and less error-prone.\n",
    "(Thus, they are called \"macros\" because a \"big\" block of code can be expanded from a \"small\" sequence of characters.)[^1]\n",
    "\n",
    "In general, a macro is a way to generate the code before compilation.\n",
    "> Macros are usually used as a means to reduce repetitive code, whereby large volumes of code with a common pattern can be generated from a smaller set of primitives. [textbook]\n",
    "\n",
    "[^1]:https://en.wikipedia.org/wiki/Macro_(computer_science)"
   ]
  },
  {
   "cell_type": "markdown",
   "id": "7f032ace",
   "metadata": {
    "slideshow": {
     "slide_type": "subslide"
    }
   },
   "source": [
    "# Polynomial evaluation\n",
    "\n",
    "Special functions have already been implemented in several packages.\n",
    "However, it is interesting to know that often a more efficient implementation can be obtained via macros.\n",
    "\n",
    "Consider a simple polynomial evaluation via the naive expression.\n",
    "$$\n",
    "p(x) = \\sum_{i=0}^{n} a_i x^i = a_0 + a_1 x + a_2 x^2 + \\cdots + a_n x^n\n",
    "$$\n",
    "\n",
    "A simplistic implementation is then as follows."
   ]
  },
  {
   "cell_type": "code",
   "execution_count": 40,
   "id": "4cf4390f",
   "metadata": {},
   "outputs": [
    {
     "data": {
      "text/plain": [
       "poly_naive (generic function with 1 method)"
      ]
     },
     "execution_count": 40,
     "metadata": {},
     "output_type": "execute_result"
    }
   ],
   "source": [
    "function poly_naive(x, a...) #uses splat operator `...`\n",
    "    p = zero(x)\n",
    "    for i in eachindex(a)\n",
    "        p = p + a[i] * x^(i-1)\n",
    "    end\n",
    "    return p\n",
    "end"
   ]
  },
  {
   "cell_type": "code",
   "execution_count": 41,
   "id": "6ccf8e26",
   "metadata": {
    "slideshow": {
     "slide_type": "subslide"
    }
   },
   "outputs": [
    {
     "data": {
      "text/plain": [
       "f_naive (generic function with 1 method)"
      ]
     },
     "execution_count": 41,
     "metadata": {},
     "output_type": "execute_result"
    }
   ],
   "source": [
    "f_naive(x) = poly_naive(x, 1,2,3,4,5,6,7,8,9)"
   ]
  },
  {
   "cell_type": "code",
   "execution_count": 42,
   "id": "6ffa8567",
   "metadata": {},
   "outputs": [
    {
     "data": {
      "text/plain": [
       "3.5"
      ]
     },
     "execution_count": 42,
     "metadata": {},
     "output_type": "execute_result"
    }
   ],
   "source": [
    "x = 3.5"
   ]
  },
  {
   "cell_type": "code",
   "execution_count": 43,
   "id": "83d1688a",
   "metadata": {},
   "outputs": [
    {
     "data": {
      "text/plain": [
       "BenchmarkTools.Trial: 10000 samples with 990 evaluations.\n",
       " Range \u001b[90m(\u001b[39m\u001b[36m\u001b[1mmin\u001b[22m\u001b[39m … \u001b[35mmax\u001b[39m\u001b[90m):  \u001b[39m\u001b[36m\u001b[1m43.345 ns\u001b[22m\u001b[39m … \u001b[35m155.839 ns\u001b[39m  \u001b[90m┊\u001b[39m GC \u001b[90m(\u001b[39mmin … max\u001b[90m): \u001b[39m0.00% … 0.00%\n",
       " Time  \u001b[90m(\u001b[39m\u001b[34m\u001b[1mmedian\u001b[22m\u001b[39m\u001b[90m):     \u001b[39m\u001b[34m\u001b[1m44.796 ns               \u001b[22m\u001b[39m\u001b[90m┊\u001b[39m GC \u001b[90m(\u001b[39mmedian\u001b[90m):    \u001b[39m0.00%\n",
       " Time  \u001b[90m(\u001b[39m\u001b[32m\u001b[1mmean\u001b[22m\u001b[39m ± \u001b[32mσ\u001b[39m\u001b[90m):   \u001b[39m\u001b[32m\u001b[1m45.245 ns\u001b[22m\u001b[39m ± \u001b[32m  3.663 ns\u001b[39m  \u001b[90m┊\u001b[39m GC \u001b[90m(\u001b[39mmean ± σ\u001b[90m):  \u001b[39m0.00% ± 0.00%\n",
       "\n",
       "  \u001b[39m \u001b[39m \u001b[39m \u001b[39m \u001b[39m \u001b[39m \u001b[39m \u001b[39m \u001b[39m \u001b[34m█\u001b[39m\u001b[39m \u001b[39m \u001b[32m \u001b[39m\u001b[39m \u001b[39m \u001b[39m \u001b[39m \u001b[39m \u001b[39m \u001b[39m▃\u001b[39m \u001b[39m \u001b[39m \u001b[39m \u001b[39m \u001b[39m \u001b[39m \u001b[39m \u001b[39m \u001b[39m \u001b[39m \u001b[39m \u001b[39m \u001b[39m \u001b[39m \u001b[39m \u001b[39m \u001b[39m \u001b[39m \u001b[39m \u001b[39m \u001b[39m \u001b[39m \u001b[39m \u001b[39m \u001b[39m \u001b[39m \u001b[39m \u001b[39m \u001b[39m \u001b[39m \u001b[39m \u001b[39m \u001b[39m \u001b[39m \u001b[39m \u001b[39m \u001b[39m \u001b[39m \u001b[39m \u001b[39m \u001b[39m \n",
       "  \u001b[39m▂\u001b[39m█\u001b[39m▇\u001b[39m▅\u001b[39m▄\u001b[39m▂\u001b[39m▂\u001b[39m▂\u001b[39m▃\u001b[34m█\u001b[39m\u001b[39m▂\u001b[39m▄\u001b[32m▂\u001b[39m\u001b[39m▂\u001b[39m▄\u001b[39m▂\u001b[39m▃\u001b[39m▄\u001b[39m▂\u001b[39m█\u001b[39m▂\u001b[39m▂\u001b[39m▂\u001b[39m▂\u001b[39m▂\u001b[39m▂\u001b[39m▂\u001b[39m▂\u001b[39m▂\u001b[39m▂\u001b[39m▂\u001b[39m▁\u001b[39m▂\u001b[39m▂\u001b[39m▁\u001b[39m▂\u001b[39m▁\u001b[39m▁\u001b[39m▂\u001b[39m▂\u001b[39m▂\u001b[39m▁\u001b[39m▂\u001b[39m▂\u001b[39m▂\u001b[39m▂\u001b[39m▂\u001b[39m▂\u001b[39m▂\u001b[39m▂\u001b[39m▂\u001b[39m▂\u001b[39m▂\u001b[39m▂\u001b[39m▂\u001b[39m▂\u001b[39m▂\u001b[39m▂\u001b[39m▁\u001b[39m▂\u001b[39m \u001b[39m▂\n",
       "  43.3 ns\u001b[90m         Histogram: frequency by time\u001b[39m         52.8 ns \u001b[0m\u001b[1m<\u001b[22m\n",
       "\n",
       " Memory estimate\u001b[90m: \u001b[39m\u001b[33m0 bytes\u001b[39m, allocs estimate\u001b[90m: \u001b[39m\u001b[33m0\u001b[39m."
      ]
     },
     "execution_count": 43,
     "metadata": {},
     "output_type": "execute_result"
    }
   ],
   "source": [
    "mark0 = @benchmark f_naive($x)"
   ]
  },
  {
   "cell_type": "markdown",
   "id": "0100a3b6",
   "metadata": {
    "slideshow": {
     "slide_type": "subslide"
    }
   },
   "source": [
    "## Horner's method for polynomial evaluation\n",
    "\n",
    "This method uses the following recursion relation\n",
    "$$\\begin{eqnarray}\n",
    "b_n &=& a_n \\\\\n",
    "b_{n-1} &=& a_{n-1} + b_n x \\\\\n",
    "b_{n-2} &=& a_{n-2} + b_{n-1} x \\\\\n",
    "&\\vdots& \\\\\n",
    "b_0 &=& a_0 + b_1 x\n",
    "\\end{eqnarray}$$\n",
    "such that $p(x) = b_0$."
   ]
  },
  {
   "cell_type": "code",
   "execution_count": 44,
   "id": "03c97598",
   "metadata": {},
   "outputs": [
    {
     "data": {
      "text/plain": [
       "poly_h (generic function with 1 method)"
      ]
     },
     "execution_count": 44,
     "metadata": {},
     "output_type": "execute_result"
    }
   ],
   "source": [
    "function poly_h(x, a...)\n",
    "    b = zero(x)\n",
    "    for i in reverse(eachindex(a))\n",
    "        b = a[i] + b*x\n",
    "    end\n",
    "    return b\n",
    "end"
   ]
  },
  {
   "cell_type": "code",
   "execution_count": 45,
   "id": "ecc49b53",
   "metadata": {
    "slideshow": {
     "slide_type": "subslide"
    }
   },
   "outputs": [
    {
     "data": {
      "text/plain": [
       "f_h (generic function with 1 method)"
      ]
     },
     "execution_count": 45,
     "metadata": {},
     "output_type": "execute_result"
    }
   ],
   "source": [
    "f_h(x) = poly_h(x, 1,2,3,4,5,6,7,8,9)"
   ]
  },
  {
   "cell_type": "code",
   "execution_count": 46,
   "id": "3223836e",
   "metadata": {},
   "outputs": [
    {
     "data": {
      "text/plain": [
       "BenchmarkTools.Trial: 10000 samples with 1000 evaluations.\n",
       " Range \u001b[90m(\u001b[39m\u001b[36m\u001b[1mmin\u001b[22m\u001b[39m … \u001b[35mmax\u001b[39m\u001b[90m):  \u001b[39m\u001b[36m\u001b[1m4.886 ns\u001b[22m\u001b[39m … \u001b[35m65.340 ns\u001b[39m  \u001b[90m┊\u001b[39m GC \u001b[90m(\u001b[39mmin … max\u001b[90m): \u001b[39m0.00% … 0.00%\n",
       " Time  \u001b[90m(\u001b[39m\u001b[34m\u001b[1mmedian\u001b[22m\u001b[39m\u001b[90m):     \u001b[39m\u001b[34m\u001b[1m5.018 ns              \u001b[22m\u001b[39m\u001b[90m┊\u001b[39m GC \u001b[90m(\u001b[39mmedian\u001b[90m):    \u001b[39m0.00%\n",
       " Time  \u001b[90m(\u001b[39m\u001b[32m\u001b[1mmean\u001b[22m\u001b[39m ± \u001b[32mσ\u001b[39m\u001b[90m):   \u001b[39m\u001b[32m\u001b[1m5.105 ns\u001b[22m\u001b[39m ± \u001b[32m 1.522 ns\u001b[39m  \u001b[90m┊\u001b[39m GC \u001b[90m(\u001b[39mmean ± σ\u001b[90m):  \u001b[39m0.00% ± 0.00%\n",
       "\n",
       "  \u001b[39m \u001b[39m \u001b[39m \u001b[39m \u001b[39m \u001b[39m \u001b[39m \u001b[39m \u001b[39m \u001b[39m \u001b[39m \u001b[39m \u001b[39m \u001b[39m \u001b[39m \u001b[39m \u001b[39m \u001b[39m \u001b[39m \u001b[39m \u001b[39m▂\u001b[39m▆\u001b[34m█\u001b[39m\u001b[39m█\u001b[39m▄\u001b[39m \u001b[39m \u001b[39m \u001b[39m \u001b[39m \u001b[39m \u001b[39m \u001b[39m \u001b[39m \u001b[39m \u001b[39m \u001b[39m \u001b[32m \u001b[39m\u001b[39m \u001b[39m \u001b[39m \u001b[39m \u001b[39m \u001b[39m \u001b[39m \u001b[39m \u001b[39m \u001b[39m \u001b[39m \u001b[39m \u001b[39m \u001b[39m \u001b[39m \u001b[39m \u001b[39m \u001b[39m \u001b[39m \u001b[39m \u001b[39m \u001b[39m \n",
       "  \u001b[39m▂\u001b[39m▂\u001b[39m▂\u001b[39m▃\u001b[39m▅\u001b[39m▅\u001b[39m▅\u001b[39m▅\u001b[39m▄\u001b[39m▃\u001b[39m▂\u001b[39m▂\u001b[39m▂\u001b[39m▂\u001b[39m▂\u001b[39m▂\u001b[39m▂\u001b[39m▂\u001b[39m▃\u001b[39m▅\u001b[39m█\u001b[39m█\u001b[34m█\u001b[39m\u001b[39m█\u001b[39m█\u001b[39m▇\u001b[39m▄\u001b[39m▃\u001b[39m▂\u001b[39m▂\u001b[39m▂\u001b[39m▂\u001b[39m▂\u001b[39m▂\u001b[39m▂\u001b[39m▂\u001b[39m▂\u001b[32m▂\u001b[39m\u001b[39m▂\u001b[39m▂\u001b[39m▂\u001b[39m▂\u001b[39m▂\u001b[39m▂\u001b[39m▂\u001b[39m▁\u001b[39m▁\u001b[39m▁\u001b[39m▂\u001b[39m▁\u001b[39m▁\u001b[39m▂\u001b[39m▂\u001b[39m▁\u001b[39m▂\u001b[39m▁\u001b[39m▂\u001b[39m▂\u001b[39m \u001b[39m▃\n",
       "  4.89 ns\u001b[90m        Histogram: frequency by time\u001b[39m        5.23 ns \u001b[0m\u001b[1m<\u001b[22m\n",
       "\n",
       " Memory estimate\u001b[90m: \u001b[39m\u001b[33m0 bytes\u001b[39m, allocs estimate\u001b[90m: \u001b[39m\u001b[33m0\u001b[39m."
      ]
     },
     "execution_count": 46,
     "metadata": {},
     "output_type": "execute_result"
    }
   ],
   "source": [
    "mark1 = @benchmark f_h($x)"
   ]
  },
  {
   "cell_type": "code",
   "execution_count": 47,
   "id": "34aa997d",
   "metadata": {
    "slideshow": {
     "slide_type": "subslide"
    }
   },
   "outputs": [
    {
     "name": "stdout",
     "output_type": "stream",
     "text": [
      "\u001b[1m2×2 DataFrame\u001b[0m\n",
      "\u001b[1m Row \u001b[0m│\u001b[1m Method \u001b[0m\u001b[1m Speedup \u001b[0m\n",
      "\u001b[1m     \u001b[0m│\u001b[90m String \u001b[0m\u001b[90m Float64 \u001b[0m\n",
      "─────┼─────────────────\n",
      "   1 │ Naive   1.0\n",
      "   2 │ Horner  8.92705"
     ]
    }
   ],
   "source": [
    "speedup1 = median(mark0.times) / median(mark1.times)\n",
    "\n",
    "table = DataFrame(\"Method\"=>[\"Naive\",\"Horner\"],\"Speedup\" => [1.0, speedup1]);\n",
    "\n",
    "print(table)"
   ]
  },
  {
   "cell_type": "markdown",
   "id": "9ab2c03d",
   "metadata": {
    "slideshow": {
     "slide_type": "subslide"
    }
   },
   "source": [
    "## Using macro with Horner's method\n",
    "\n",
    "This requires the recognition that there's an existing function called `muladd()` and exploit this for generating the expanded code for the Horner's method.\n",
    "With `muladd()` we have the following recursion.\n",
    "```\n",
    "b = a[n]\n",
    "b = muladd( x, b, a[n-1] ) = muladd( x, a[n], a[n-1] )\n",
    "b = muladd( x, b, a[n-2] ) = muladd( x, muladd( x, a[n], a[n-1] ), a[n-2] )\n",
    "b = muladd( x, b, a[n-3] ) = muladd( x, muladd( x, muladd( x, a[n], a[n-1] ), a[n-2] ), a[n-3] )\n",
    "...\n",
    "b = = muladd( x, ..., muladd( x, muladd( x, a[n], a[n-1] ), a[n-2] ), a[n-3], ..., a[1] )\n",
    "```"
   ]
  },
  {
   "cell_type": "code",
   "execution_count": 48,
   "id": "660819df",
   "metadata": {},
   "outputs": [
    {
     "data": {
      "text/plain": [
       "@horner (macro with 1 method)"
      ]
     },
     "execution_count": 48,
     "metadata": {},
     "output_type": "execute_result"
    }
   ],
   "source": [
    "macro horner(x, p...)\n",
    "    ex = esc(p[end])\n",
    "    for i in length(p)-1:-1:1\n",
    "        ex = :(muladd(t,$(ex), $(esc(p[i]))))\n",
    "    end\n",
    "    Expr(:block, :(t=$(esc(x))), ex)\n",
    "end"
   ]
  },
  {
   "cell_type": "code",
   "execution_count": 49,
   "id": "d984195c",
   "metadata": {
    "slideshow": {
     "slide_type": "subslide"
    }
   },
   "outputs": [
    {
     "data": {
      "text/plain": [
       "f_h_macro (generic function with 1 method)"
      ]
     },
     "execution_count": 49,
     "metadata": {},
     "output_type": "execute_result"
    }
   ],
   "source": [
    "f_h_macro(x) = @horner(x, 1,2,3,4,5,6,7,8,9)"
   ]
  },
  {
   "cell_type": "code",
   "execution_count": 50,
   "id": "2c471b5a",
   "metadata": {},
   "outputs": [
    {
     "data": {
      "text/plain": [
       "BenchmarkTools.Trial: 10000 samples with 1000 evaluations.\n",
       " Range \u001b[90m(\u001b[39m\u001b[36m\u001b[1mmin\u001b[22m\u001b[39m … \u001b[35mmax\u001b[39m\u001b[90m):  \u001b[39m\u001b[36m\u001b[1m0.041 ns\u001b[22m\u001b[39m … \u001b[35m0.125 ns\u001b[39m  \u001b[90m┊\u001b[39m GC \u001b[90m(\u001b[39mmin … max\u001b[90m): \u001b[39m0.00% … 0.00%\n",
       " Time  \u001b[90m(\u001b[39m\u001b[34m\u001b[1mmedian\u001b[22m\u001b[39m\u001b[90m):     \u001b[39m\u001b[34m\u001b[1m0.046 ns             \u001b[22m\u001b[39m\u001b[90m┊\u001b[39m GC \u001b[90m(\u001b[39mmedian\u001b[90m):    \u001b[39m0.00%\n",
       " Time  \u001b[90m(\u001b[39m\u001b[32m\u001b[1mmean\u001b[22m\u001b[39m ± \u001b[32mσ\u001b[39m\u001b[90m):   \u001b[39m\u001b[32m\u001b[1m0.049 ns\u001b[22m\u001b[39m ± \u001b[32m0.005 ns\u001b[39m  \u001b[90m┊\u001b[39m GC \u001b[90m(\u001b[39mmean ± σ\u001b[90m):  \u001b[39m0.00% ± 0.00%\n",
       "\n",
       "  \u001b[39m \u001b[39m \u001b[39m \u001b[39m \u001b[39m \u001b[39m \u001b[39m \u001b[39m \u001b[39m \u001b[39m \u001b[39m \u001b[39m \u001b[39m█\u001b[39m \u001b[39m \u001b[39m▃\u001b[34m \u001b[39m\u001b[39m \u001b[39m \u001b[39m \u001b[39m \u001b[39m \u001b[39m \u001b[39m \u001b[32m \u001b[39m\u001b[39m \u001b[39m \u001b[39m \u001b[39m \u001b[39m \u001b[39m \u001b[39m \u001b[39m \u001b[39m \u001b[39m \u001b[39m \u001b[39m \u001b[39m \u001b[39m \u001b[39m \u001b[39m \u001b[39m \u001b[39m \u001b[39m \u001b[39m \u001b[39m \u001b[39m \u001b[39m \u001b[39m \u001b[39m \u001b[39m \u001b[39m \u001b[39m \u001b[39m \u001b[39m \u001b[39m \u001b[39m \u001b[39m \u001b[39m \n",
       "  \u001b[39m▂\u001b[39m▁\u001b[39m▁\u001b[39m▂\u001b[39m▁\u001b[39m▁\u001b[39m▄\u001b[39m▁\u001b[39m▁\u001b[39m▇\u001b[39m▁\u001b[39m▁\u001b[39m█\u001b[39m▁\u001b[39m▁\u001b[39m█\u001b[34m▁\u001b[39m\u001b[39m▁\u001b[39m█\u001b[39m▁\u001b[39m▁\u001b[39m▁\u001b[39m▃\u001b[39m▁\u001b[32m▁\u001b[39m\u001b[39m▂\u001b[39m▁\u001b[39m▁\u001b[39m▃\u001b[39m▁\u001b[39m▁\u001b[39m▂\u001b[39m▁\u001b[39m▁\u001b[39m▂\u001b[39m▁\u001b[39m▁\u001b[39m▂\u001b[39m▁\u001b[39m▁\u001b[39m▁\u001b[39m▃\u001b[39m▁\u001b[39m▁\u001b[39m▅\u001b[39m▁\u001b[39m▁\u001b[39m▆\u001b[39m▁\u001b[39m▁\u001b[39m▆\u001b[39m▁\u001b[39m▁\u001b[39m▃\u001b[39m▁\u001b[39m▁\u001b[39m▂\u001b[39m \u001b[39m▃\n",
       "  0.041 ns\u001b[90m       Histogram: frequency by time\u001b[39m      0.059 ns \u001b[0m\u001b[1m<\u001b[22m\n",
       "\n",
       " Memory estimate\u001b[90m: \u001b[39m\u001b[33m0 bytes\u001b[39m, allocs estimate\u001b[90m: \u001b[39m\u001b[33m0\u001b[39m."
      ]
     },
     "execution_count": 50,
     "metadata": {},
     "output_type": "execute_result"
    }
   ],
   "source": [
    "mark2 = @benchmark f_h_macro($x)"
   ]
  },
  {
   "cell_type": "code",
   "execution_count": 51,
   "id": "4ed94bc7",
   "metadata": {
    "slideshow": {
     "slide_type": "subslide"
    }
   },
   "outputs": [
    {
     "name": "stdout",
     "output_type": "stream",
     "text": [
      "\u001b[1m3×2 DataFrame\u001b[0m\n",
      "\u001b[1m Row \u001b[0m│\u001b[1m Method \u001b[0m\u001b[1m Speedup   \u001b[0m\n",
      "\u001b[1m     \u001b[0m│\u001b[90m String \u001b[0m\u001b[90m Float64   \u001b[0m\n",
      "─────┼───────────────────\n",
      "   1 │ Naive     1.0\n",
      "   2 │ Horner    8.92705\n",
      "   3 │ Macro   973.825"
     ]
    }
   ],
   "source": [
    "speedup2 = median(mark0.times) / median(mark2.times)\n",
    "\n",
    "push!(table, [\"Macro\", speedup2]);\n",
    "\n",
    "print(table)"
   ]
  },
  {
   "cell_type": "code",
   "execution_count": 52,
   "id": "7caf9d0d",
   "metadata": {
    "slideshow": {
     "slide_type": "subslide"
    }
   },
   "outputs": [
    {
     "name": "stdout",
     "output_type": "stream",
     "text": [
      "1440.0 mins for Naive method.\n",
      "161.3074050689997 mins for Horner method.\n",
      "1.4787047893929828 mins for Macro method.\n"
     ]
    }
   ],
   "source": [
    "for r in eachrow(table)\n",
    "    println(\"$(24*60/r.Speedup) mins for $(r.Method) method.\")\n",
    "end"
   ]
  },
  {
   "cell_type": "code",
   "execution_count": 53,
   "id": "a0ea2256",
   "metadata": {},
   "outputs": [
    {
     "name": "stdout",
     "output_type": "stream",
     "text": [
      "\u001b[1m3×3 DataFrame\u001b[0m\n",
      "\u001b[1m Row \u001b[0m│\u001b[1m Method \u001b[0m\u001b[1m Speedup   \u001b[0m\u001b[1m Time(mins) \u001b[0m\n",
      "\u001b[1m     \u001b[0m│\u001b[90m String \u001b[0m\u001b[90m Float64   \u001b[0m\u001b[90m Float64    \u001b[0m\n",
      "─────┼───────────────────────────────\n",
      "   1 │ Naive     1.0       1440.0\n",
      "   2 │ Horner    8.92705    161.307\n",
      "   3 │ Macro   973.825        1.4787"
     ]
    }
   ],
   "source": [
    "transform!(table,:Speedup=>ByRow(x->24*60/x)=>:\"Time(mins)\")\n",
    "print(table)"
   ]
  },
  {
   "cell_type": "markdown",
   "id": "7d72ab02",
   "metadata": {},
   "source": [
    "# Fin. [Back](./)."
   ]
  }
 ],
 "metadata": {
  "celltoolbar": "Slideshow",
  "kernelspec": {
   "display_name": "Julia 1.8.2",
   "language": "julia",
   "name": "julia-1.8"
  },
  "language_info": {
   "file_extension": ".jl",
   "mimetype": "application/julia",
   "name": "julia",
   "version": "1.8.2"
  }
 },
 "nbformat": 4,
 "nbformat_minor": 5
}
