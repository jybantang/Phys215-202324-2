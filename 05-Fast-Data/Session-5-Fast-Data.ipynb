{
 "cells": [
  {
   "cell_type": "markdown",
   "id": "3a6f3bfb",
   "metadata": {
    "slideshow": {
     "slide_type": "slide"
    }
   },
   "source": [
    "# Session 5: Fast Data\n",
    "\n",
    "In this session, we cover the following major topics:\n",
    "1. Fast Numbers, and\n",
    "2. Using `Arrays`."
   ]
  },
  {
   "cell_type": "code",
   "execution_count": 2,
   "id": "baf8b725",
   "metadata": {
    "scrolled": true
   },
   "outputs": [
    {
     "name": "stderr",
     "output_type": "stream",
     "text": [
      "\u001b[32m\u001b[1m  Activating\u001b[22m\u001b[39m environment at `~/Documents/GitHub/Phys215-202122-1/05-Fast-Data/Project.toml`\n",
      "\u001b[32m\u001b[1m   Resolving\u001b[22m\u001b[39m package versions...\n",
      "\u001b[32m\u001b[1m  No Changes\u001b[22m\u001b[39m to `~/Documents/GitHub/Phys215-202122-1/05-Fast-Data/Project.toml`\n",
      "\u001b[32m\u001b[1m  No Changes\u001b[22m\u001b[39m to `~/Documents/GitHub/Phys215-202122-1/05-Fast-Data/Manifest.toml`\n"
     ]
    }
   ],
   "source": [
    "using Pkg;\n",
    "Pkg.activate(\".\");\n",
    "Pkg.add(\"BenchmarkTools\");\n",
    "\n",
    "using BenchmarkTools"
   ]
  },
  {
   "cell_type": "markdown",
   "id": "b7e86a7c",
   "metadata": {
    "slideshow": {
     "slide_type": "subslide"
    }
   },
   "source": [
    "# Session 5 OKR\n",
    "\n",
    "**OBJECTIVE:** Examine fast data types and structures in Julia\n",
    "\n",
    " - [ ] **KR1:** Shown that the default integer type of your Julia instance is the same as the machine word size. Note that most computers today operates with 64-bit processors or that `WORD_SIZE` is now usually 64.\n",
    " - [ ] **KR2:** Explored the different sizes of known _basic data types_ such as `Int8`, `Int16`, ..., `Float16`, `Float32`, `Float64`, and their corresponding `Big*` variables (i.e. `BigInt` and `BigFloat`) in terms of the following: \n",
    "     + Explain the result of `sizeof()` for `Int` in relation to your machine word size.\n",
    "     + `typemax()`, `typemin()` and `eps()` values\n",
    "     + `maxintfloat()` value\n",
    "     + `bitstring()` output and `lengths(bitstring())` output\n",
    "     + Differentiate between the results of `bitstring(3)` and `bitstring(3.0)`\n",
    " - [ ] **KR3:** Discuss the practicality of using `Float64` in many ordinary computational problems. Can we use `Float64` to represent numbers beyond its `typemax()`? The functions in KR2 may be useful in this regard.\n",
    " \n",
    "The IEEE 754 standard for double-precision floating-point format[^1] is universal.\n",
    "\n",
    "[^1]:https://en.wikipedia.org/wiki/Double-precision_floating-point_format#IEEE_754_double-precision_binary_floating-point_format:_binary64"
   ]
  },
  {
   "cell_type": "markdown",
   "id": "c46e61fe",
   "metadata": {
    "slideshow": {
     "slide_type": "slide"
    }
   },
   "source": [
    "# Fast numbers in Julia\n",
    "\n",
    "> Integers in Julia are stored as system integers.... The `Int` type alias represents the actual integer type used by the system. [`Int32` for 32-bit machines; `Int64` for 64-bit machines.]\n",
    "\n",
    "[^1]:Sengupta,Avik. Julia High Performance: Optimizations, distributed computing, multithreading, and GPU programming with Julia 1.0 and beyond, 2nd Edition (p. 77). Packt Publishing."
   ]
  },
  {
   "cell_type": "markdown",
   "id": "c7fb1a85",
   "metadata": {
    "slideshow": {
     "slide_type": "subslide"
    }
   },
   "source": [
    "## Machine/Processor bit size\n",
    "\n",
    "FOR BASH-like CLI: You can use `uname -m` to examine the processor type of your machine.\n",
    "The command `uname -a` provide `a`ll the relevant machine information."
   ]
  },
  {
   "cell_type": "code",
   "execution_count": 3,
   "id": "d2a20243",
   "metadata": {},
   "outputs": [
    {
     "name": "stdout",
     "output_type": "stream",
     "text": [
      "x86_64\n"
     ]
    }
   ],
   "source": [
    ";uname -m"
   ]
  },
  {
   "cell_type": "markdown",
   "id": "7dfe6e96",
   "metadata": {},
   "source": [
    "**Note** that the semicolon indicates that the command is a bash command.\n",
    "You may need to modify that for non-bash CLI."
   ]
  },
  {
   "cell_type": "markdown",
   "id": "8fe3abe2",
   "metadata": {
    "slideshow": {
     "slide_type": "subslide"
    }
   },
   "source": [
    "Thus, the system `WORD_SIZE` becomes the `Int` size (_in bits_) of the Julia installed.\n",
    "Check out `?sizeof()` for the output of the command."
   ]
  },
  {
   "cell_type": "code",
   "execution_count": 4,
   "id": "91bb0bfe",
   "metadata": {},
   "outputs": [
    {
     "data": {
      "text/plain": [
       "64"
      ]
     },
     "execution_count": 4,
     "metadata": {},
     "output_type": "execute_result"
    }
   ],
   "source": [
    "Sys.WORD_SIZE"
   ]
  },
  {
   "cell_type": "code",
   "execution_count": 5,
   "id": "d2195efa",
   "metadata": {
    "slideshow": {
     "slide_type": "-"
    }
   },
   "outputs": [
    {
     "data": {
      "text/plain": [
       "8"
      ]
     },
     "execution_count": 5,
     "metadata": {},
     "output_type": "execute_result"
    }
   ],
   "source": [
    "sizeof(Int)"
   ]
  },
  {
   "cell_type": "code",
   "execution_count": 6,
   "id": "f53d476f",
   "metadata": {},
   "outputs": [
    {
     "data": {
      "text/plain": [
       "true"
      ]
     },
     "execution_count": 6,
     "metadata": {},
     "output_type": "execute_result"
    }
   ],
   "source": [
    "sizeof(Int) == sizeof(Int64)"
   ]
  },
  {
   "cell_type": "markdown",
   "id": "4b027510",
   "metadata": {
    "slideshow": {
     "slide_type": "subslide"
    }
   },
   "source": [
    "## Mem size and allocation scheme\n",
    "\n",
    "Simple `Int` type and `FloatX` type."
   ]
  },
  {
   "cell_type": "code",
   "execution_count": 7,
   "id": "6d7a33bf",
   "metadata": {
    "slideshow": {
     "slide_type": "-"
    }
   },
   "outputs": [
    {
     "name": "stdout",
     "output_type": "stream",
     "text": [
      "0000000000000000000000000000000000000000000000000000000000000011\n"
     ]
    },
    {
     "data": {
      "text/plain": [
       "64"
      ]
     },
     "execution_count": 7,
     "metadata": {},
     "output_type": "execute_result"
    }
   ],
   "source": [
    "println(bitstring(3))\n",
    "length(bitstring(3))"
   ]
  },
  {
   "cell_type": "code",
   "execution_count": 8,
   "id": "d549a598",
   "metadata": {},
   "outputs": [
    {
     "name": "stdout",
     "output_type": "stream",
     "text": [
      "0100000000001000000000000000000000000000000000000000000000000000\n"
     ]
    },
    {
     "data": {
      "text/plain": [
       "64"
      ]
     },
     "execution_count": 8,
     "metadata": {},
     "output_type": "execute_result"
    }
   ],
   "source": [
    "println(bitstring(3.0))\n",
    "length(bitstring(3.0))"
   ]
  },
  {
   "cell_type": "markdown",
   "id": "0816b649",
   "metadata": {},
   "source": [
    "- 💡 Same length; different meaning.\n",
    "- 📖 Check out floating point representation standards for the bit assignment for `Float64`"
   ]
  },
  {
   "cell_type": "markdown",
   "id": "303a7fa3",
   "metadata": {
    "slideshow": {
     "slide_type": "subslide"
    }
   },
   "source": [
    "## The more `const` the better?\n",
    "\n",
    "It seems that Julia accesses memory references that are constant.\n",
    "In `c/c++` static variables are preferred for speed.\n",
    "\n",
    "Imutable objects are better than mutable ones."
   ]
  },
  {
   "cell_type": "code",
   "execution_count": 9,
   "id": "1ae4d894",
   "metadata": {},
   "outputs": [
    {
     "name": "stdout",
     "output_type": "stream",
     "text": [
      "Same value? true\n",
      "Same reference? true\n"
     ]
    }
   ],
   "source": [
    "p_CONST = 1.0\n",
    "p = 1.0\n",
    "\n",
    "println(\"Same value? \", p == p_CONST)\n",
    "println(\"Same reference? \", p === p_CONST)"
   ]
  },
  {
   "cell_type": "code",
   "execution_count": 10,
   "id": "cece4108",
   "metadata": {},
   "outputs": [
    {
     "name": "stdout",
     "output_type": "stream",
     "text": [
      "Const is faster by: 0.948\n"
     ]
    }
   ],
   "source": [
    "markconst = @benchmark for _ in 1:1_000_000 x = p_CONST end\n",
    "markvarbl = @benchmark for _ in 1:1_000_000 x = p end\n",
    "\n",
    "println(\"Const is faster by: \", round( median(markvarbl.times)/median(markconst.times) ,digits=3))"
   ]
  },
  {
   "cell_type": "markdown",
   "id": "bf8493d9",
   "metadata": {},
   "source": [
    "Thus, there's not much difference!"
   ]
  },
  {
   "cell_type": "markdown",
   "id": "c5e14a08",
   "metadata": {
    "slideshow": {
     "slide_type": "slide"
    }
   },
   "source": [
    "# Fast Array operations\n",
    "\n",
    "Specific types:\n",
    "1. `Vector{T}`: Alias of `Array{T,1}`\n",
    "2. `Matrix{T}`: Alias of `Array{T,2}`"
   ]
  },
  {
   "cell_type": "code",
   "execution_count": 11,
   "id": "62e6913c",
   "metadata": {},
   "outputs": [
    {
     "data": {
      "text/plain": [
       "Vector{T} where T (alias for Array{T, 1} where T)"
      ]
     },
     "execution_count": 11,
     "metadata": {},
     "output_type": "execute_result"
    }
   ],
   "source": [
    "Vector"
   ]
  },
  {
   "cell_type": "code",
   "execution_count": 12,
   "id": "64816b23",
   "metadata": {},
   "outputs": [
    {
     "data": {
      "text/plain": [
       "Matrix{T} where T (alias for Array{T, 2} where T)"
      ]
     },
     "execution_count": 12,
     "metadata": {},
     "output_type": "execute_result"
    }
   ],
   "source": [
    "Matrix"
   ]
  },
  {
   "cell_type": "markdown",
   "id": "3c738234",
   "metadata": {
    "slideshow": {
     "slide_type": "subslide"
    }
   },
   "source": [
    "## Memory arrangement (column major)\n",
    "\n",
    "Use `A[row,col]` instead of `A[col,row]`.\n",
    "\n",
    "Fast access with `col`s first."
   ]
  },
  {
   "cell_type": "code",
   "execution_count": 13,
   "id": "9848d262",
   "metadata": {},
   "outputs": [
    {
     "data": {
      "text/plain": [
       "4×5 Matrix{Float64}:\n",
       " 0.773986  0.0607674  0.555536  0.481478    0.676385\n",
       " 0.890183  0.882493   0.505842  0.0892964   0.298351\n",
       " 0.657413  0.916998   0.684062  0.74147     0.00115984\n",
       " 0.51517   0.403219   0.946533  0.00211842  0.571155"
      ]
     },
     "execution_count": 13,
     "metadata": {},
     "output_type": "execute_result"
    }
   ],
   "source": [
    "A = rand(4,5)"
   ]
  },
  {
   "cell_type": "code",
   "execution_count": 14,
   "id": "00399db8",
   "metadata": {},
   "outputs": [
    {
     "data": {
      "text/plain": [
       "0.0607673802450337"
      ]
     },
     "execution_count": 14,
     "metadata": {},
     "output_type": "execute_result"
    }
   ],
   "source": [
    "A[1,2]"
   ]
  },
  {
   "cell_type": "markdown",
   "id": "2fb8468c",
   "metadata": {
    "slideshow": {
     "slide_type": "subslide"
    }
   },
   "source": [
    "## `Array`s behave like strided 1D array"
   ]
  },
  {
   "cell_type": "code",
   "execution_count": 15,
   "id": "89730f9a",
   "metadata": {},
   "outputs": [
    {
     "data": {
      "text/plain": [
       "20-element Vector{Float64}:\n",
       " 0.773985633498228\n",
       " 0.8901833282400999\n",
       " 0.6574128340826788\n",
       " 0.5151695175457838\n",
       " 0.0607673802450337\n",
       " 0.8824928834811963\n",
       " 0.9169978560490541\n",
       " 0.40321870930746906\n",
       " 0.555535704032674\n",
       " 0.505841963806104\n",
       " 0.6840618238541907\n",
       " 0.9465327075479595\n",
       " 0.48147841952693615\n",
       " 0.08929639754408236\n",
       " 0.7414696497347621\n",
       " 0.0021184176915254316\n",
       " 0.6763848269555364\n",
       " 0.29835087718167186\n",
       " 0.0011598410956996652\n",
       " 0.5711547788662754"
      ]
     },
     "execution_count": 15,
     "metadata": {},
     "output_type": "execute_result"
    }
   ],
   "source": [
    "A[:]"
   ]
  },
  {
   "cell_type": "markdown",
   "id": "55cbb047",
   "metadata": {
    "slideshow": {
     "slide_type": "subslide"
    }
   },
   "source": [
    "## Different `Array` \"modes\""
   ]
  },
  {
   "cell_type": "code",
   "execution_count": 16,
   "id": "846f122b",
   "metadata": {},
   "outputs": [
    {
     "name": "stdout",
     "output_type": "stream",
     "text": [
      "nrows = 4\n",
      "ncols = 5\n",
      "length(A) = 20\n"
     ]
    }
   ],
   "source": [
    "(nrows,ncols) = size(A)\n",
    "\n",
    "println(\"nrows = \", nrows)\n",
    "println(\"ncols = \", ncols)\n",
    "println(\"length(A) = \", length(A))"
   ]
  },
  {
   "cell_type": "markdown",
   "id": "0e9b20df",
   "metadata": {
    "slideshow": {
     "slide_type": "subslide"
    }
   },
   "source": [
    "### ASIDE: `size(::Array) ::Tuple`\n",
    "\n",
    "`Tuple` is **like** an ordered list.\n",
    "Look for it via `?Tuple`."
   ]
  },
  {
   "cell_type": "code",
   "execution_count": 17,
   "id": "0c854a77",
   "metadata": {},
   "outputs": [
    {
     "name": "stdout",
     "output_type": "stream",
     "text": [
      "typeof(tt) : Tuple{Int64, Int64, Int64}\n",
      "typeof(pp) : Pair{Int64, Int64}\n",
      "        pp : 1 => 2\n"
     ]
    }
   ],
   "source": [
    "tt = (1,2,3)\n",
    "println(\"typeof(tt) : \", typeof(tt))\n",
    "\n",
    "pp = 1 => 2\n",
    "println(\"typeof(pp) : \", typeof(pp))\n",
    "println(\"        pp : \", pp)"
   ]
  },
  {
   "cell_type": "markdown",
   "id": "5ce5bac1",
   "metadata": {
    "slideshow": {
     "slide_type": "subslide"
    }
   },
   "source": [
    "## Different `Array` \"modes\""
   ]
  },
  {
   "cell_type": "code",
   "execution_count": 47,
   "id": "b5227a9f",
   "metadata": {
    "scrolled": false,
    "slideshow": {
     "slide_type": "-"
    }
   },
   "outputs": [
    {
     "data": {
      "text/plain": [
       "4×5 Matrix{Float64}:\n",
       " 0.0133033  0.555081   0.0967906  0.149183  0.504905\n",
       " 0.458832   0.30625    0.99031    0.763878  0.0997921\n",
       " 0.240462   0.936124   0.0803992  0.504495  0.603295\n",
       " 0.45288    0.0465646  0.0555126  0.574368  0.729041"
      ]
     },
     "metadata": {},
     "output_type": "display_data"
    },
    {
     "data": {
      "text/plain": [
       "4-element Vector{Float64}:\n",
       " 0.013303303793349652\n",
       " 0.4588317808692648\n",
       " 0.24046219556526394\n",
       " 0.4528802542164465"
      ]
     },
     "metadata": {},
     "output_type": "display_data"
    },
    {
     "data": {
      "text/plain": [
       "5-element Vector{Float64}:\n",
       " 0.013303303793349652\n",
       " 0.5550808839989219\n",
       " 0.09679063279937639\n",
       " 0.14918315796445736\n",
       " 0.5049052299806962"
      ]
     },
     "metadata": {},
     "output_type": "display_data"
    }
   ],
   "source": [
    "display(A)\n",
    "display(A[:,1])\n",
    "display(A[1,:])"
   ]
  },
  {
   "cell_type": "markdown",
   "id": "7755b731",
   "metadata": {
    "slideshow": {
     "slide_type": "subslide"
    }
   },
   "source": [
    "## Speed of accessing `Array` elements\n",
    "\n",
    "Given difference in the column-major storage arrangement (`MATLAB`, Julia, etc) from the usual row-major arrangement (`c/c++`, etc), access speed differs depending on how the elements are accessed."
   ]
  },
  {
   "cell_type": "code",
   "execution_count": null,
   "id": "2b26b569",
   "metadata": {},
   "outputs": [],
   "source": []
  },
  {
   "cell_type": "code",
   "execution_count": null,
   "id": "2617aae6",
   "metadata": {},
   "outputs": [],
   "source": []
  },
  {
   "cell_type": "code",
   "execution_count": null,
   "id": "6b527127",
   "metadata": {},
   "outputs": [],
   "source": []
  },
  {
   "cell_type": "code",
   "execution_count": null,
   "id": "dee34caf",
   "metadata": {},
   "outputs": [],
   "source": []
  },
  {
   "cell_type": "code",
   "execution_count": null,
   "id": "99b8f015",
   "metadata": {},
   "outputs": [],
   "source": []
  },
  {
   "cell_type": "code",
   "execution_count": null,
   "id": "63972ed2",
   "metadata": {},
   "outputs": [],
   "source": []
  },
  {
   "cell_type": "markdown",
   "id": "7b45027a",
   "metadata": {
    "slideshow": {
     "slide_type": "slide"
    }
   },
   "source": [
    "## Pass by reference within pass-by-sharing\n",
    "\n",
    "Passing the reference variable is often faster than passing by value.\n",
    "The _pass by sharing_ seems enigmatic than I thought!"
   ]
  },
  {
   "cell_type": "code",
   "execution_count": 145,
   "id": "36ba2b2c",
   "metadata": {},
   "outputs": [],
   "source": [
    "vold = rand(5);"
   ]
  },
  {
   "cell_type": "code",
   "execution_count": 146,
   "id": "d118ca56",
   "metadata": {},
   "outputs": [
    {
     "data": {
      "text/plain": [
       "assign (generic function with 2 methods)"
      ]
     },
     "execution_count": 146,
     "metadata": {},
     "output_type": "execute_result"
    }
   ],
   "source": [
    "function assign(vou::Array, vin::Array)\n",
    "    vou = vin\n",
    "end"
   ]
  },
  {
   "cell_type": "code",
   "execution_count": 147,
   "id": "6af5e708",
   "metadata": {
    "slideshow": {
     "slide_type": "subslide"
    }
   },
   "outputs": [
    {
     "name": "stdout",
     "output_type": "stream",
     "text": [
      "vold = [0.85893, 0.73287, 0.23025, 0.6831, 0.37286]\n",
      "assign(vnew<-vold):\n",
      "new:\n",
      "    [0.0, 0.0, 0.0, 0.0, 0.0]\n",
      "same values? false\n",
      "same reference? false\n"
     ]
    }
   ],
   "source": [
    "println(\"vold = \", round.(vold,digits=5))\n",
    "println(\"assign(vnew<-vold):\")\n",
    "vnew = zeros(Float64,5)\n",
    "assign(vnew,vold)\n",
    "println(\"new:\")\n",
    "println(\"    \", round.(vnew,digits=5))\n",
    "println(\"same values? \", vnew == vold)\n",
    "println(\"same reference? \", vnew === vold)"
   ]
  },
  {
   "cell_type": "markdown",
   "id": "f81dab34",
   "metadata": {},
   "source": [
    "+ 👍 Simple assignment **within** the function is local and does not affect the outside value."
   ]
  },
  {
   "cell_type": "markdown",
   "id": "e96be895",
   "metadata": {
    "slideshow": {
     "slide_type": "subslide"
    }
   },
   "source": [
    "## Forced mutation\n",
    "\n",
    "Values of the pointed values gets modified."
   ]
  },
  {
   "cell_type": "code",
   "execution_count": 148,
   "id": "f9a4633f",
   "metadata": {},
   "outputs": [
    {
     "data": {
      "text/plain": [
       "assign! (generic function with 2 methods)"
      ]
     },
     "execution_count": 148,
     "metadata": {},
     "output_type": "execute_result"
    }
   ],
   "source": [
    "function assign!(vou::Array, vin::Array)\n",
    "    vou[:] = vin[:]\n",
    "end"
   ]
  },
  {
   "cell_type": "code",
   "execution_count": 149,
   "id": "42b418fc",
   "metadata": {
    "slideshow": {
     "slide_type": "subslide"
    }
   },
   "outputs": [
    {
     "name": "stdout",
     "output_type": "stream",
     "text": [
      "vold = [0.85893, 0.73287, 0.23025, 0.6831, 0.37286]\n",
      "assign!(vnew[:]<-vold[:]):\n",
      "new:\n",
      "    [0.85893, 0.73287, 0.23025, 0.6831, 0.37286]\n",
      "same values? true\n",
      "same reference? false\n"
     ]
    }
   ],
   "source": [
    "println(\"vold = \", round.(vold,digits=5))\n",
    "println(\"assign!(vnew[:]<-vold[:]):\")\n",
    "vnew = zeros(Float64,5)\n",
    "assign!(vnew,vold)\n",
    "println(\"new:\")\n",
    "println(\"    \", round.(vnew,digits=5))\n",
    "println(\"same values? \", vnew == vold)\n",
    "println(\"same reference? \", vnew === vold) "
   ]
  },
  {
   "cell_type": "markdown",
   "id": "94b4b169",
   "metadata": {},
   "source": [
    "- 👍 Values are copied if the reference is used to assign.\n",
    "- 💡 The use of `vnew[:]` and `vold[:]` forces Julia to use references (?)."
   ]
  },
  {
   "cell_type": "markdown",
   "id": "525a097f",
   "metadata": {
    "slideshow": {
     "slide_type": "subslide"
    }
   },
   "source": [
    "## Naive implementations\n",
    "\n",
    "`Base` functions:\n",
    " + In-place `copy!()`\n",
    " + In-place `map!()`"
   ]
  },
  {
   "cell_type": "code",
   "execution_count": 152,
   "id": "3650d658",
   "metadata": {
    "slideshow": {
     "slide_type": "subslide"
    }
   },
   "outputs": [
    {
     "name": "stdout",
     "output_type": "stream",
     "text": [
      "search: \u001b[0m\u001b[1mc\u001b[22m\u001b[0m\u001b[1mo\u001b[22m\u001b[0m\u001b[1mp\u001b[22m\u001b[0m\u001b[1my\u001b[22m\u001b[0m\u001b[1m!\u001b[22m \u001b[0m\u001b[1mc\u001b[22m\u001b[0m\u001b[1mo\u001b[22m\u001b[0m\u001b[1mp\u001b[22m\u001b[0m\u001b[1my\u001b[22mto\u001b[0m\u001b[1m!\u001b[22m \u001b[0m\u001b[1mc\u001b[22mircc\u001b[0m\u001b[1mo\u001b[22m\u001b[0m\u001b[1mp\u001b[22m\u001b[0m\u001b[1my\u001b[22m\u001b[0m\u001b[1m!\u001b[22m unsafe_\u001b[0m\u001b[1mc\u001b[22m\u001b[0m\u001b[1mo\u001b[22m\u001b[0m\u001b[1mp\u001b[22m\u001b[0m\u001b[1my\u001b[22mto\u001b[0m\u001b[1m!\u001b[22m \u001b[0m\u001b[1mc\u001b[22m\u001b[0m\u001b[1mo\u001b[22m\u001b[0m\u001b[1mp\u001b[22m\u001b[0m\u001b[1my\u001b[22m \u001b[0m\u001b[1mc\u001b[22m\u001b[0m\u001b[1mo\u001b[22m\u001b[0m\u001b[1mp\u001b[22m\u001b[0m\u001b[1my\u001b[22msign deep\u001b[0m\u001b[1mc\u001b[22m\u001b[0m\u001b[1mo\u001b[22m\u001b[0m\u001b[1mp\u001b[22m\u001b[0m\u001b[1my\u001b[22m\n",
      "\n"
     ]
    },
    {
     "data": {
      "text/latex": [
       "\\begin{verbatim}\n",
       "copy!(dst, src) -> dst\n",
       "\\end{verbatim}\n",
       "In-place \\href{@ref}{\\texttt{copy}} of \\texttt{src} into \\texttt{dst}, discarding any pre-existing elements in \\texttt{dst}. If \\texttt{dst} and \\texttt{src} are of the same type, \\texttt{dst == src} should hold after the call. If \\texttt{dst} and \\texttt{src} are multidimensional arrays, they must have equal \\href{@ref}{\\texttt{axes}}. See also \\href{@ref}{\\texttt{copyto!}}.\n",
       "\n",
       "\\begin{quote}\n",
       "\\textbf{compat}\n",
       "\n",
       "Julia 1.1\n",
       "\n",
       "This method requires at least Julia 1.1. In Julia 1.0 this method is available from the \\texttt{Future} standard library as \\texttt{Future.copy!}.\n",
       "\n",
       "\\end{quote}\n"
      ],
      "text/markdown": [
       "```\n",
       "copy!(dst, src) -> dst\n",
       "```\n",
       "\n",
       "In-place [`copy`](@ref) of `src` into `dst`, discarding any pre-existing elements in `dst`. If `dst` and `src` are of the same type, `dst == src` should hold after the call. If `dst` and `src` are multidimensional arrays, they must have equal [`axes`](@ref). See also [`copyto!`](@ref).\n",
       "\n",
       "!!! compat \"Julia 1.1\"\n",
       "    This method requires at least Julia 1.1. In Julia 1.0 this method is available from the `Future` standard library as `Future.copy!`.\n",
       "\n"
      ],
      "text/plain": [
       "\u001b[36m  copy!(dst, src) -> dst\u001b[39m\n",
       "\n",
       "  In-place \u001b[36mcopy\u001b[39m of \u001b[36msrc\u001b[39m into \u001b[36mdst\u001b[39m, discarding any pre-existing elements in \u001b[36mdst\u001b[39m.\n",
       "  If \u001b[36mdst\u001b[39m and \u001b[36msrc\u001b[39m are of the same type, \u001b[36mdst == src\u001b[39m should hold after the call.\n",
       "  If \u001b[36mdst\u001b[39m and \u001b[36msrc\u001b[39m are multidimensional arrays, they must have equal \u001b[36maxes\u001b[39m. See\n",
       "  also \u001b[36mcopyto!\u001b[39m.\n",
       "\n",
       "\u001b[39m\u001b[1m  │ \u001b[22m\u001b[39m\u001b[1mJulia 1.1\u001b[22m\n",
       "\u001b[39m\u001b[1m  │\u001b[22m\n",
       "\u001b[39m\u001b[1m  │\u001b[22m  This method requires at least Julia 1.1. In Julia 1.0 this method\n",
       "\u001b[39m\u001b[1m  │\u001b[22m  is available from the \u001b[36mFuture\u001b[39m standard library as \u001b[36mFuture.copy!\u001b[39m."
      ]
     },
     "execution_count": 152,
     "metadata": {},
     "output_type": "execute_result"
    }
   ],
   "source": [
    "?copy!"
   ]
  },
  {
   "cell_type": "code",
   "execution_count": 153,
   "id": "877b0331",
   "metadata": {
    "slideshow": {
     "slide_type": "subslide"
    }
   },
   "outputs": [
    {
     "name": "stdout",
     "output_type": "stream",
     "text": [
      "search: \u001b[0m\u001b[1mm\u001b[22m\u001b[0m\u001b[1ma\u001b[22m\u001b[0m\u001b[1mp\u001b[22m\u001b[0m\u001b[1m!\u001b[22m async\u001b[0m\u001b[1mm\u001b[22m\u001b[0m\u001b[1ma\u001b[22m\u001b[0m\u001b[1mp\u001b[22m\u001b[0m\u001b[1m!\u001b[22m \u001b[0m\u001b[1mm\u001b[22m\u001b[0m\u001b[1ma\u001b[22m\u001b[0m\u001b[1mp\u001b[22m \u001b[0m\u001b[1mm\u001b[22m\u001b[0m\u001b[1ma\u001b[22m\u001b[0m\u001b[1mp\u001b[22mfoldr \u001b[0m\u001b[1mm\u001b[22m\u001b[0m\u001b[1ma\u001b[22m\u001b[0m\u001b[1mp\u001b[22mfoldl \u001b[0m\u001b[1mm\u001b[22m\u001b[0m\u001b[1ma\u001b[22m\u001b[0m\u001b[1mp\u001b[22mslices \u001b[0m\u001b[1mm\u001b[22m\u001b[0m\u001b[1ma\u001b[22m\u001b[0m\u001b[1mp\u001b[22mreduce async\u001b[0m\u001b[1mm\u001b[22m\u001b[0m\u001b[1ma\u001b[22m\u001b[0m\u001b[1mp\u001b[22m\n",
      "\n"
     ]
    },
    {
     "data": {
      "text/latex": [
       "\\begin{verbatim}\n",
       "map!(function, destination, collection...)\n",
       "\\end{verbatim}\n",
       "Like \\href{@ref}{\\texttt{map}}, but stores the result in \\texttt{destination} rather than a new collection. \\texttt{destination} must be at least as large as the first collection.\n",
       "\n",
       "\\section{Examples}\n",
       "\\begin{verbatim}\n",
       "julia> a = zeros(3);\n",
       "\n",
       "julia> map!(x -> x * 2, a, [1, 2, 3]);\n",
       "\n",
       "julia> a\n",
       "3-element Vector{Float64}:\n",
       " 2.0\n",
       " 4.0\n",
       " 6.0\n",
       "\\end{verbatim}\n",
       "\\rule{\\textwidth}{1pt}\n",
       "\\begin{verbatim}\n",
       "map!(f, values(dict::AbstractDict))\n",
       "\\end{verbatim}\n",
       "Modifies \\texttt{dict} by transforming each value from \\texttt{val} to \\texttt{f(val)}. Note that the type of \\texttt{dict} cannot be changed: if \\texttt{f(val)} is not an instance of the value type of \\texttt{dict} then it will be converted to the value type if possible and otherwise raise an error.\n",
       "\n",
       "\\begin{quote}\n",
       "\\textbf{compat}\n",
       "\n",
       "Julia 1.2\n",
       "\n",
       "\\texttt{map!(f, values(dict::AbstractDict))} requires Julia 1.2 or later.\n",
       "\n",
       "\\end{quote}\n",
       "\\section{Examples}\n",
       "\\begin{verbatim}\n",
       "julia> d = Dict(:a => 1, :b => 2)\n",
       "Dict{Symbol, Int64} with 2 entries:\n",
       "  :a => 1\n",
       "  :b => 2\n",
       "\n",
       "julia> map!(v -> v-1, values(d))\n",
       "ValueIterator for a Dict{Symbol, Int64} with 2 entries. Values:\n",
       "  0\n",
       "  1\n",
       "\\end{verbatim}\n"
      ],
      "text/markdown": [
       "```\n",
       "map!(function, destination, collection...)\n",
       "```\n",
       "\n",
       "Like [`map`](@ref), but stores the result in `destination` rather than a new collection. `destination` must be at least as large as the first collection.\n",
       "\n",
       "# Examples\n",
       "\n",
       "```jldoctest\n",
       "julia> a = zeros(3);\n",
       "\n",
       "julia> map!(x -> x * 2, a, [1, 2, 3]);\n",
       "\n",
       "julia> a\n",
       "3-element Vector{Float64}:\n",
       " 2.0\n",
       " 4.0\n",
       " 6.0\n",
       "```\n",
       "\n",
       "---\n",
       "\n",
       "```\n",
       "map!(f, values(dict::AbstractDict))\n",
       "```\n",
       "\n",
       "Modifies `dict` by transforming each value from `val` to `f(val)`. Note that the type of `dict` cannot be changed: if `f(val)` is not an instance of the value type of `dict` then it will be converted to the value type if possible and otherwise raise an error.\n",
       "\n",
       "!!! compat \"Julia 1.2\"\n",
       "    `map!(f, values(dict::AbstractDict))` requires Julia 1.2 or later.\n",
       "\n",
       "\n",
       "# Examples\n",
       "\n",
       "```jldoctest\n",
       "julia> d = Dict(:a => 1, :b => 2)\n",
       "Dict{Symbol, Int64} with 2 entries:\n",
       "  :a => 1\n",
       "  :b => 2\n",
       "\n",
       "julia> map!(v -> v-1, values(d))\n",
       "ValueIterator for a Dict{Symbol, Int64} with 2 entries. Values:\n",
       "  0\n",
       "  1\n",
       "```\n"
      ],
      "text/plain": [
       "\u001b[36m  map!(function, destination, collection...)\u001b[39m\n",
       "\n",
       "  Like \u001b[36mmap\u001b[39m, but stores the result in \u001b[36mdestination\u001b[39m rather than a new collection.\n",
       "  \u001b[36mdestination\u001b[39m must be at least as large as the first collection.\n",
       "\n",
       "\u001b[1m  Examples\u001b[22m\n",
       "\u001b[1m  ≡≡≡≡≡≡≡≡≡≡\u001b[22m\n",
       "\n",
       "\u001b[36m  julia> a = zeros(3);\u001b[39m\n",
       "\u001b[36m  \u001b[39m\n",
       "\u001b[36m  julia> map!(x -> x * 2, a, [1, 2, 3]);\u001b[39m\n",
       "\u001b[36m  \u001b[39m\n",
       "\u001b[36m  julia> a\u001b[39m\n",
       "\u001b[36m  3-element Vector{Float64}:\u001b[39m\n",
       "\u001b[36m   2.0\u001b[39m\n",
       "\u001b[36m   4.0\u001b[39m\n",
       "\u001b[36m   6.0\u001b[39m\n",
       "\n",
       "  ────────────────────────────────────────────────────────────────────────────\n",
       "\n",
       "\u001b[36m  map!(f, values(dict::AbstractDict))\u001b[39m\n",
       "\n",
       "  Modifies \u001b[36mdict\u001b[39m by transforming each value from \u001b[36mval\u001b[39m to \u001b[36mf(val)\u001b[39m. Note that the\n",
       "  type of \u001b[36mdict\u001b[39m cannot be changed: if \u001b[36mf(val)\u001b[39m is not an instance of the value\n",
       "  type of \u001b[36mdict\u001b[39m then it will be converted to the value type if possible and\n",
       "  otherwise raise an error.\n",
       "\n",
       "\u001b[39m\u001b[1m  │ \u001b[22m\u001b[39m\u001b[1mJulia 1.2\u001b[22m\n",
       "\u001b[39m\u001b[1m  │\u001b[22m\n",
       "\u001b[39m\u001b[1m  │\u001b[22m  \u001b[36mmap!(f, values(dict::AbstractDict))\u001b[39m requires Julia 1.2 or later.\n",
       "\n",
       "\u001b[1m  Examples\u001b[22m\n",
       "\u001b[1m  ≡≡≡≡≡≡≡≡≡≡\u001b[22m\n",
       "\n",
       "\u001b[36m  julia> d = Dict(:a => 1, :b => 2)\u001b[39m\n",
       "\u001b[36m  Dict{Symbol, Int64} with 2 entries:\u001b[39m\n",
       "\u001b[36m    :a => 1\u001b[39m\n",
       "\u001b[36m    :b => 2\u001b[39m\n",
       "\u001b[36m  \u001b[39m\n",
       "\u001b[36m  julia> map!(v -> v-1, values(d))\u001b[39m\n",
       "\u001b[36m  ValueIterator for a Dict{Symbol, Int64} with 2 entries. Values:\u001b[39m\n",
       "\u001b[36m    0\u001b[39m\n",
       "\u001b[36m    1\u001b[39m"
      ]
     },
     "execution_count": 153,
     "metadata": {},
     "output_type": "execute_result"
    }
   ],
   "source": [
    "?map!"
   ]
  },
  {
   "cell_type": "code",
   "execution_count": 154,
   "id": "161d48b9",
   "metadata": {
    "slideshow": {
     "slide_type": "subslide"
    }
   },
   "outputs": [
    {
     "name": "stdout",
     "output_type": "stream",
     "text": [
      "map!(): mark0a/mark0 ≈ 1.05375\n",
      "Naive: mark1/mark0 ≈ 23.75206\n"
     ]
    }
   ],
   "source": [
    "mvold = rand(5_000);\n",
    "mvnew = zeros(Float64, 5_000);\n",
    "mark0 = @benchmark copy!($mvnew,$mvold)\n",
    "mark0a = @benchmark map!(x->x,mvnew,mvold)\n",
    "mark1 = @benchmark assign!($mvnew,$mvold)\n",
    "\n",
    "println(\"map!(): mark0a/mark0 ≈ \", round( median(mark0a.times)/median(mark0.times), digits=5 ))\n",
    "println(\"Naive: mark1/mark0 ≈ \", round( median(mark1.times)/median(mark0.times), digits=5 ))"
   ]
  },
  {
   "cell_type": "markdown",
   "id": "bc442423",
   "metadata": {},
   "source": [
    " - 💡 `map!()` fares the same with `copy!()`\n",
    " - ❗ Naive implementation via a function that ensures copying **fares much worse**."
   ]
  },
  {
   "cell_type": "markdown",
   "id": "ec751fd2",
   "metadata": {
    "slideshow": {
     "slide_type": "subslide"
    }
   },
   "source": [
    "## Bang or no bang\n",
    "\n",
    "❗: That is the question."
   ]
  },
  {
   "cell_type": "code",
   "execution_count": 155,
   "id": "254da1be",
   "metadata": {},
   "outputs": [
    {
     "data": {
      "text/plain": [
       "assign_nobang (generic function with 1 method)"
      ]
     },
     "execution_count": 155,
     "metadata": {},
     "output_type": "execute_result"
    }
   ],
   "source": [
    "function assign_nobang(vou::Array, vin::Array)\n",
    "    vou[:] = vin[:]\n",
    "end"
   ]
  },
  {
   "cell_type": "markdown",
   "id": "1e6f4be9",
   "metadata": {
    "slideshow": {
     "slide_type": "subslide"
    }
   },
   "source": [
    "❗Effect is same:"
   ]
  },
  {
   "cell_type": "code",
   "execution_count": 156,
   "id": "aaa45dc8",
   "metadata": {
    "slideshow": {
     "slide_type": "-"
    }
   },
   "outputs": [
    {
     "name": "stdout",
     "output_type": "stream",
     "text": [
      "assign_nobang(vnew[:]<-vold[:]):\n",
      "new:\n",
      "    [0.85893, 0.73287, 0.23025, 0.6831, 0.37286]\n",
      "same values? true\n",
      "same reference? false\n"
     ]
    }
   ],
   "source": [
    "println(\"assign_nobang(vnew[:]<-vold[:]):\")\n",
    "vnew = zeros(Float64,5)\n",
    "assign_nobang(vnew,vold)\n",
    "println(\"new:\")\n",
    "println(\"    \", round.(vnew,digits=5))\n",
    "println(\"same values? \", vnew == vold)\n",
    "println(\"same reference? \", vnew === vold)"
   ]
  },
  {
   "cell_type": "markdown",
   "id": "d6795109",
   "metadata": {},
   "source": [
    "- 📓 Using the bang `!` after the function name is **only** used to indicate **--not force--** changes in the arguments.\n",
    "- 💡 Function name has nothing to do with modifying the argument.\n",
    "- 💡 No modifications to the argument naming or style to ensure modification."
   ]
  },
  {
   "cell_type": "markdown",
   "id": "f0ada34f",
   "metadata": {
    "slideshow": {
     "slide_type": "subslide"
    }
   },
   "source": [
    "## _Manual_ loop ends up faster\n",
    "\n",
    "The loop per element is almost always better in Julia.\n",
    "The effects can be the same."
   ]
  },
  {
   "cell_type": "code",
   "execution_count": 157,
   "id": "69409718",
   "metadata": {},
   "outputs": [
    {
     "data": {
      "text/plain": [
       "assign_vect! (generic function with 1 method)"
      ]
     },
     "execution_count": 157,
     "metadata": {},
     "output_type": "execute_result"
    }
   ],
   "source": [
    "function assign_loop!(vou::Array, vin::Array)\n",
    "    for i in eachindex(vin)\n",
    "        vou[i] = vin[i]\n",
    "    end\n",
    "end\n",
    "\n",
    "function assign_vect!(vou::Array, vin::Array)\n",
    "    vou .= vin # broadcasting loop, a.k.a. \"vectorized\"\n",
    "end"
   ]
  },
  {
   "cell_type": "code",
   "execution_count": 158,
   "id": "08be6d6b",
   "metadata": {
    "scrolled": true
   },
   "outputs": [
    {
     "name": "stdout",
     "output_type": "stream",
     "text": [
      "assign_loop!(for loop):\n",
      "new:\n",
      "    [0.85893, 0.73287, 0.23025, 0.6831, 0.37286]\n",
      "same values? true\n",
      "same reference? false\n"
     ]
    }
   ],
   "source": [
    "println(\"assign_loop!(for loop):\")\n",
    "vnew = zeros(Float64,5)\n",
    "assign_loop!(vnew,vold)\n",
    "println(\"new:\")\n",
    "println(\"    \", round.(vnew,digits=5))\n",
    "println(\"same values? \", vnew == vold)\n",
    "println(\"same reference? \", vnew === vold)"
   ]
  },
  {
   "cell_type": "code",
   "execution_count": 159,
   "id": "ab721cc1",
   "metadata": {
    "slideshow": {
     "slide_type": "subslide"
    }
   },
   "outputs": [
    {
     "name": "stdout",
     "output_type": "stream",
     "text": [
      "map!(): mark0a/mark0 ≈ 1.05375\n",
      "Naive: mark1/mark0 ≈ 23.75206\n",
      "Loops: mark2/mark0 ≈ 0.00665\n",
      "Broadcast: mark3/mark0 ≈ 0.02003\n",
      "Loop vs Broadcast ≈ 3.01387\n"
     ]
    }
   ],
   "source": [
    "mark2 = @benchmark assign_loop!($vnew,$vold)\n",
    "mark3 = @benchmark assign_vect!($vnew,$vold)\n",
    "\n",
    "println(\"map!(): mark0a/mark0 ≈ \", round( median(mark0a.times)/median(mark0.times), digits=5 ))\n",
    "println(\"Naive: mark1/mark0 ≈ \", round( median(mark1.times)/median(mark0.times), digits=5 ))\n",
    "println(\"Loops: mark2/mark0 ≈ \", round( median(mark2.times)/median(mark0.times), digits=5 ))\n",
    "println(\"Broadcast: mark3/mark0 ≈ \", round( median(mark3.times)/median(mark0.times), digits=5 ))\n",
    "println(\"Loop vs Broadcast ≈ \", round( median(mark3.times)/median(mark2.times), digits=5 ))"
   ]
  },
  {
   "cell_type": "markdown",
   "id": "8b3c2192",
   "metadata": {},
   "source": [
    "❗Looping can be more efficient than broadcasting. Or there are broadcasting loops faster than what's used here?"
   ]
  },
  {
   "cell_type": "code",
   "execution_count": 162,
   "id": "25dbaeb9",
   "metadata": {},
   "outputs": [
    {
     "data": {
      "text/plain": [
       "assign_return (generic function with 1 method)"
      ]
     },
     "execution_count": 162,
     "metadata": {},
     "output_type": "execute_result"
    }
   ],
   "source": [
    "function assign_return(vin::Array)\n",
    "    vou = vin;\n",
    "    return vou\n",
    "end"
   ]
  },
  {
   "cell_type": "code",
   "execution_count": 164,
   "id": "314ebdd8",
   "metadata": {},
   "outputs": [
    {
     "name": "stdout",
     "output_type": "stream",
     "text": [
      "map!(): mark0a/mark0 ≈ 1.05375\n",
      "Naive: mark1/mark0 ≈ 23.75206\n",
      "Loops: mark2/mark0 ≈ 0.00665\n",
      "Broadcast: mark3/mark0 ≈ 0.02003\n",
      "Loop vs Broadcast ≈ 3.01387\n",
      "Return: mark4/mark0 ≈ 0.0018\n",
      "Return vs Loop ≈ 3.69117\n"
     ]
    }
   ],
   "source": [
    "mark4 = @benchmark vnew = assign_return($vold)\n",
    "\n",
    "println(\"map!(): mark0a/mark0 ≈ \", round( median(mark0a.times)/median(mark0.times), digits=5 ))\n",
    "println(\"Naive: mark1/mark0 ≈ \", round( median(mark1.times)/median(mark0.times), digits=5 ))\n",
    "println(\"Loops: mark2/mark0 ≈ \", round( median(mark2.times)/median(mark0.times), digits=5 ))\n",
    "println(\"Broadcast: mark3/mark0 ≈ \", round( median(mark3.times)/median(mark0.times), digits=5 ))\n",
    "println(\"Loop vs Broadcast ≈ \", round( median(mark3.times)/median(mark2.times), digits=5 ))\n",
    "println(\"Return: mark4/mark0 ≈ \",  round( median(mark4.times)/median(mark0.times), digits=5 ))\n",
    "println(\"Return vs Loop ≈ \",  round( median(mark2.times)/median(mark4.times), digits=5 ))"
   ]
  },
  {
   "cell_type": "markdown",
   "id": "66118905",
   "metadata": {
    "slideshow": {
     "slide_type": "slide"
    }
   },
   "source": [
    "# Structured data\n",
    "\n"
   ]
  }
 ],
 "metadata": {
  "celltoolbar": "Slideshow",
  "kernelspec": {
   "display_name": "Julia 1.6.3",
   "language": "julia",
   "name": "julia-1.6"
  },
  "language_info": {
   "file_extension": ".jl",
   "mimetype": "application/julia",
   "name": "julia",
   "version": "1.6.3"
  }
 },
 "nbformat": 4,
 "nbformat_minor": 5
}
