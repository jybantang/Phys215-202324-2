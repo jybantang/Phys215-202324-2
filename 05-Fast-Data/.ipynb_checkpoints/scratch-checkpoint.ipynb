{
 "cells": [
  {
   "cell_type": "code",
   "execution_count": 2,
   "id": "455f670f",
   "metadata": {
    "scrolled": false
   },
   "outputs": [
    {
     "name": "stderr",
     "output_type": "stream",
     "text": [
      "\u001b[32m\u001b[1m  Activating\u001b[22m\u001b[39m environment at `~/Documents/GitHub/Phys215-202122-1/05-Fast-Data/Project.toml`\n",
      "\u001b[32m\u001b[1m   Resolving\u001b[22m\u001b[39m package versions...\n",
      "\u001b[32m\u001b[1m  No Changes\u001b[22m\u001b[39m to `~/Documents/GitHub/Phys215-202122-1/05-Fast-Data/Project.toml`\n",
      "\u001b[32m\u001b[1m  No Changes\u001b[22m\u001b[39m to `~/Documents/GitHub/Phys215-202122-1/05-Fast-Data/Manifest.toml`\n",
      "\u001b[32m\u001b[1m   Resolving\u001b[22m\u001b[39m package versions...\n",
      "\u001b[32m\u001b[1m  No Changes\u001b[22m\u001b[39m to `~/Documents/GitHub/Phys215-202122-1/05-Fast-Data/Project.toml`\n",
      "\u001b[32m\u001b[1m  No Changes\u001b[22m\u001b[39m to `~/Documents/GitHub/Phys215-202122-1/05-Fast-Data/Manifest.toml`\n"
     ]
    }
   ],
   "source": [
    "using Pkg;\n",
    "Pkg.activate(\".\")\n",
    "Pkg.add(\"Plots\")\n",
    "Pkg.add(\"BenchmarkTools\")\n",
    "\n",
    "using Plots\n",
    "using BenchmarkTools"
   ]
  },
  {
   "cell_type": "code",
   "execution_count": 3,
   "id": "c8f09348",
   "metadata": {
    "scrolled": true
   },
   "outputs": [
    {
     "data": {
      "text/plain": [
       "10-element Vector{Int64}:\n",
       " 0\n",
       " 0\n",
       " 1\n",
       " 1\n",
       " 0\n",
       " 0\n",
       " 1\n",
       " 1\n",
       " 1\n",
       " 1"
      ]
     },
     "execution_count": 3,
     "metadata": {},
     "output_type": "execute_result"
    }
   ],
   "source": [
    "ca = rand([0,1],10)"
   ]
  },
  {
   "cell_type": "code",
   "execution_count": 29,
   "id": "5bc2e419",
   "metadata": {},
   "outputs": [
    {
     "data": {
      "text/plain": [
       "rule (generic function with 2 methods)"
      ]
     },
     "execution_count": 29,
     "metadata": {},
     "output_type": "execute_result"
    }
   ],
   "source": [
    "@inline function rule(r::Vector{Int})\n",
    "    return Dict(\n",
    "     [1,1,1]=>r[1]\n",
    "    ,[1,1,0]=>r[2]\n",
    "    ,[1,0,1]=>r[3]\n",
    "    ,[1,0,0]=>r[4]\n",
    "    ,[0,1,1]=>r[5]\n",
    "    ,[0,1,0]=>r[6]\n",
    "    ,[0,0,1]=>r[7]\n",
    "    ,[0,0,0]=>r[8]\n",
    "    )\n",
    "end\n",
    "\n",
    "@inline function rule(r::Int) #output is rule\n",
    "    #convert r into rr, to vector of binary digits\n",
    "    #rr = digits( parse(Int,bitstring(r),base=2), base=2, pad=8 )\n",
    "    #println(\"Creating rule $(r)..\")\n",
    "    #println(\"  R = \",string(r,base=2,pad=8))\n",
    "    rr = reverse( digits( parse(Int,string(r,base=2,pad=8)), pad=8) )\n",
    "    return rule(rr)\n",
    "end"
   ]
  },
  {
   "cell_type": "code",
   "execution_count": 30,
   "id": "5ff30dba",
   "metadata": {},
   "outputs": [
    {
     "name": "stdout",
     "output_type": "stream",
     "text": [
      "185\n"
     ]
    },
    {
     "data": {
      "text/plain": [
       "Dict{Vector{Int64}, Int64} with 8 entries:\n",
       "  [1, 1, 1] => 0\n",
       "  [0, 0, 0] => 0\n",
       "  [1, 1, 0] => 0\n",
       "  [0, 0, 1] => 1\n",
       "  [1, 0, 0] => 1\n",
       "  [0, 1, 1] => 1\n",
       "  [1, 0, 1] => 0\n",
       "  [0, 1, 0] => 1"
      ]
     },
     "execution_count": 30,
     "metadata": {},
     "output_type": "execute_result"
    }
   ],
   "source": [
    "wolfram = rand(0:254)\n",
    "println(wolfram)\n",
    "\n",
    "R = rule(wolfram)\n",
    "R = rule(30)"
   ]
  },
  {
   "cell_type": "code",
   "execution_count": 6,
   "id": "499b457c",
   "metadata": {},
   "outputs": [
    {
     "data": {
      "text/plain": [
       "0"
      ]
     },
     "execution_count": 6,
     "metadata": {},
     "output_type": "execute_result"
    }
   ],
   "source": [
    "R[[1,1,0]]"
   ]
  },
  {
   "cell_type": "code",
   "execution_count": null,
   "id": "d76a4860",
   "metadata": {},
   "outputs": [],
   "source": []
  },
  {
   "cell_type": "code",
   "execution_count": 89,
   "id": "5909a358",
   "metadata": {},
   "outputs": [
    {
     "data": {
      "text/plain": [
       "apply_sub! (generic function with 2 methods)"
      ]
     },
     "execution_count": 89,
     "metadata": {},
     "output_type": "execute_result"
    }
   ],
   "source": [
    "function apply!(vout::Vector{Int}, vin::Vector{Int}, rule::Dict{Vector{Int}, Int})\n",
    "    L = length(vin);\n",
    "    vout[1] = R[ vin[[L,1,2]] ]\n",
    "    vout[L] = R[ vin[[L-1,L,1]] ]\n",
    "    for i in 2:L-1 #ends not included\n",
    "        vout[i] = R[vin[i-1:i+1]]\n",
    "    end\n",
    "    return nothing;\n",
    "end\n",
    "\n",
    "@views function apply_sub!(vout::SubArray, vin::SubArray, rule::Dict{Vector{Int}, Int})\n",
    "    L = length(vin);\n",
    "    vout[1] = R[ vin[[L,1,2]] ]\n",
    "    vout[L] = R[ vin[[L-1,L,1]] ]\n",
    "    for i in 2:L-1 #ends not included\n",
    "        vout[i] = R[vin[i-1:i+1]]\n",
    "    end\n",
    "    return nothing;\n",
    "end"
   ]
  },
  {
   "cell_type": "code",
   "execution_count": 33,
   "id": "4cd40afc",
   "metadata": {},
   "outputs": [
    {
     "data": {
      "text/plain": [
       "apply (generic function with 2 methods)"
      ]
     },
     "execution_count": 33,
     "metadata": {},
     "output_type": "execute_result"
    }
   ],
   "source": [
    "function apply(vin::Vector{Int}, rule::Dict{Vector{Int}, Int})\n",
    "    vout = copy(vin);\n",
    "    L = length(vin);\n",
    "    vout[1] = R[ vin[[L,1,2]] ]\n",
    "    vout[L] = R[ vin[[L-1,L,1]] ]\n",
    "    for i in 2:L-1 #ends not included\n",
    "        vout[i] = R[ vin[i-1:i+1] ]\n",
    "    end\n",
    "    return vout;\n",
    "end\n",
    "\n",
    "function apply(vin::Vector{Int}, rule::Dict{Vector{Int}, Int}, p::Float64)\n",
    "    vout = copy(vin);\n",
    "    L = length(vin);\n",
    "    vout[1] = R[ vin[[L,1,2]] ]\n",
    "    vout[L] = R[ vin[[L-1,L,1]] ]\n",
    "    for i in 2:L-1 #ends not included\n",
    "        vout[i] = R[ vin[i-1:i+1] ]\n",
    "        p>0.0 && vout[i]==1 && ( vout[i] = rand()<1-p ? 1 : 0 );\n",
    "    end\n",
    "    return vout;\n",
    "end"
   ]
  },
  {
   "cell_type": "code",
   "execution_count": 43,
   "id": "affc0252",
   "metadata": {
    "scrolled": false
   },
   "outputs": [
    {
     "data": {
      "text/plain": [
       "tester0 (generic function with 1 method)"
      ]
     },
     "execution_count": 43,
     "metadata": {},
     "output_type": "execute_result"
    }
   ],
   "source": [
    "function tester0()\n",
    "    L = 256\n",
    "    T = 10L\n",
    "    M = zeros(Int,L,T);\n",
    "    \n",
    "    # Initialize..\n",
    "    M[Int(L/2),1] = 1;\n",
    "    M[:,1] = rand([0,1],L);\n",
    "    # ..ensure boundaries are zero..\n",
    "    M[1,1] = 0;\n",
    "    M[L,1] = 0;\n",
    "    \n",
    "    R = rule(30)\n",
    "    \n",
    "    # Apply rule R..\n",
    "    for t in 1:T-1\n",
    "        #M[:,t+1] = apply(M[:,t], R, 0.39) #0.38)\n",
    "        #M[:,t+1] = apply(M[:,t], R, 0.0001)\n",
    "        M[:,t+1] = apply(M[:,t], R)\n",
    "    #    println(M[:,t+1])\n",
    "    end\n",
    "        \n",
    "    return nothing;\n",
    "end"
   ]
  },
  {
   "cell_type": "code",
   "execution_count": 12,
   "id": "d39e4a52",
   "metadata": {},
   "outputs": [],
   "source": [
    "tester0()"
   ]
  },
  {
   "cell_type": "code",
   "execution_count": null,
   "id": "c41e5151",
   "metadata": {},
   "outputs": [],
   "source": []
  },
  {
   "cell_type": "code",
   "execution_count": 35,
   "id": "e4fc34ea",
   "metadata": {
    "scrolled": false
   },
   "outputs": [
    {
     "data": {
      "text/plain": [
       "tester0a (generic function with 1 method)"
      ]
     },
     "execution_count": 35,
     "metadata": {},
     "output_type": "execute_result"
    }
   ],
   "source": [
    "function apply_simd(vin::Vector{Int}, rule::Dict{Vector{Int}, Int})\n",
    "    vout = copy(vin);\n",
    "    L = length(vin);\n",
    "    vout[1] = R[ vin[[L,1,2]] ]\n",
    "    vout[L] = R[ vin[[L-1,L,1]] ]\n",
    "    @simd for i in 2:L-1 #ends not included\n",
    "        vout[i] = R[ vin[i-1:i+1] ]\n",
    "    end\n",
    "    return vout;\n",
    "end\n",
    "\n",
    "\n",
    "function tester0a()\n",
    "    L = 256\n",
    "    T = 10L\n",
    "    M = zeros(Int,L,T);\n",
    "    \n",
    "    # Initialize..\n",
    "    M[Int(L/2),1] = 1;\n",
    "    M[:,1] = rand([0,1],L);\n",
    "    # ..ensure boundaries are zero..\n",
    "    M[1,1] = 0;\n",
    "    M[L,1] = 0;\n",
    "    \n",
    "    R = rule(30)\n",
    "    \n",
    "    # Apply rule R..\n",
    "    for t in 1:T-1\n",
    "        M[:,t+1] = apply_simd(M[:,t], R)\n",
    "    end\n",
    "    \n",
    "    return nothing;\n",
    "end"
   ]
  },
  {
   "cell_type": "code",
   "execution_count": 52,
   "id": "d127d412",
   "metadata": {},
   "outputs": [
    {
     "name": "stdout",
     "output_type": "stream",
     "text": [
      "Dict([1, 1, 1] => 0, [0, 0, 0] => 0, [1, 1, 0] => 0, [0, 0, 1] => 1, [1, 0, 0] => 1, [0, 1, 1] => 1, [1, 0, 1] => 0, [0, 1, 0] => 1)\n"
     ]
    }
   ],
   "source": [
    "L = 8\n",
    "T = 10L\n",
    "M = zeros(Int,L,T);\n",
    "\n",
    "# Initialize..\n",
    "M[Int(L/2),1] = 1;\n",
    "M[:,1] = rand([0,1],L);\n",
    "# ..ensure boundaries are zero..\n",
    "M[1,1] = 0;\n",
    "M[L,1] = 0;\n",
    "\n",
    "#println(M[:,1])\n",
    "#println(M[:,2])\n",
    "\n",
    "R = rule(30)\n",
    "println(R)"
   ]
  },
  {
   "cell_type": "code",
   "execution_count": 55,
   "id": "015948c5",
   "metadata": {},
   "outputs": [
    {
     "name": "stdout",
     "output_type": "stream",
     "text": [
      "[0, 1, 0, 0, 1, 0, 0, 0]\n",
      "[1, 1, 1, 1, 1, 1, 0, 0]\n",
      "---\n",
      "[1, 1, 1, 1, 1, 1, 0, 0]\n"
     ]
    }
   ],
   "source": [
    "println(M[:,1])\n",
    "v = M[:,2]\n",
    "apply!(v,M[:,1],R)\n",
    "M[:,2] = v\n",
    "println(M[:,2])\n",
    "println(\"---\")\n",
    "println(v)"
   ]
  },
  {
   "cell_type": "code",
   "execution_count": 464,
   "id": "8f64d021",
   "metadata": {},
   "outputs": [
    {
     "data": {
      "text/plain": [
       "8-element Vector{Int64}:\n",
       " 0\n",
       " 0\n",
       " 0\n",
       " 0\n",
       " 0\n",
       " 0\n",
       " 0\n",
       " 0"
      ]
     },
     "execution_count": 464,
     "metadata": {},
     "output_type": "execute_result"
    }
   ],
   "source": [
    "M[:,2]"
   ]
  },
  {
   "cell_type": "code",
   "execution_count": 108,
   "id": "14e60a95",
   "metadata": {},
   "outputs": [
    {
     "data": {
      "text/plain": [
       "test! (generic function with 1 method)"
      ]
     },
     "execution_count": 108,
     "metadata": {},
     "output_type": "execute_result"
    }
   ],
   "source": [
    "function test!(vout::Vector{Int}, vin::Vector{Int})\n",
    "    vout[3] = vin[3]+1;\n",
    "end"
   ]
  },
  {
   "cell_type": "code",
   "execution_count": 109,
   "id": "476c2321",
   "metadata": {},
   "outputs": [
    {
     "data": {
      "text/plain": [
       "5-element Vector{Int64}:\n",
       " 0\n",
       " 0\n",
       " 1\n",
       " 0\n",
       " 0"
      ]
     },
     "execution_count": 109,
     "metadata": {},
     "output_type": "execute_result"
    }
   ],
   "source": [
    "v = zeros(Int,5)\n",
    "test!(v,v)\n",
    "v"
   ]
  },
  {
   "cell_type": "code",
   "execution_count": null,
   "id": "889d136c",
   "metadata": {},
   "outputs": [],
   "source": []
  },
  {
   "cell_type": "code",
   "execution_count": null,
   "id": "9805d21e",
   "metadata": {},
   "outputs": [],
   "source": []
  },
  {
   "cell_type": "code",
   "execution_count": null,
   "id": "331f3629",
   "metadata": {},
   "outputs": [],
   "source": []
  },
  {
   "cell_type": "markdown",
   "id": "b4d07231",
   "metadata": {},
   "source": [
    "# Application `!` ensuring allocation reuse"
   ]
  },
  {
   "cell_type": "code",
   "execution_count": 97,
   "id": "fd28cec6",
   "metadata": {},
   "outputs": [
    {
     "data": {
      "text/plain": [
       "tester1 (generic function with 1 method)"
      ]
     },
     "execution_count": 97,
     "metadata": {},
     "output_type": "execute_result"
    }
   ],
   "source": [
    "@views function tester1()\n",
    "    L = 256\n",
    "    T = 10L\n",
    "    M = zeros(Int,L,T);\n",
    "    \n",
    "    # Initialize..\n",
    "    M[Int(L/2),1] = 1;\n",
    "    M[:,1] = rand([0,1],L);\n",
    "    # ..ensure boundaries are zero..\n",
    "    M[1,1] = 0;\n",
    "    M[L,1] = 0;\n",
    "    \n",
    "    R = rule(30)\n",
    "    \n",
    "    # Apply rule R..\n",
    "    # .. allocate..\n",
    "    for t in 1:T-1\n",
    "        apply_sub!(M[:,t+1], M[:,t],R)\n",
    "    end\n",
    "        \n",
    "    return nothing;\n",
    "end"
   ]
  },
  {
   "cell_type": "code",
   "execution_count": 90,
   "id": "4b6b740a",
   "metadata": {},
   "outputs": [
    {
     "data": {
      "text/plain": [
       "tester2 (generic function with 1 method)"
      ]
     },
     "execution_count": 90,
     "metadata": {},
     "output_type": "execute_result"
    }
   ],
   "source": [
    "function tester2()\n",
    "    L = 256\n",
    "    T = 10L\n",
    "    M = zeros(Int,L,T);\n",
    "    \n",
    "    # Initialize..\n",
    "    M[Int(L/2),1] = 1;\n",
    "    M[:,1] = rand([0,1],L);\n",
    "    # ..ensure boundaries are zero..\n",
    "    M[1,1] = 0;\n",
    "    M[L,1] = 0;\n",
    "    \n",
    "    R = rule(30)\n",
    "    \n",
    "    # Apply rule R..\n",
    "    # .. allocate..\n",
    "    @views for t in 1:T-1\n",
    "        vou = M[:,t+1]\n",
    "        vin = M[:,t]\n",
    "        apply_sub!(vou, vin, R)\n",
    "    end\n",
    "    \n",
    "    return nothing;\n",
    "end"
   ]
  },
  {
   "cell_type": "code",
   "execution_count": 59,
   "id": "45598bbc",
   "metadata": {},
   "outputs": [],
   "source": [
    "tester1()"
   ]
  },
  {
   "cell_type": "code",
   "execution_count": 102,
   "id": "9ef4b44a",
   "metadata": {},
   "outputs": [
    {
     "data": {
      "text/plain": [
       "BenchmarkTools.Trial: 40 samples with 1 evaluation.\n",
       " Range \u001b[90m(\u001b[39m\u001b[36m\u001b[1mmin\u001b[22m\u001b[39m … \u001b[35mmax\u001b[39m\u001b[90m):  \u001b[39m\u001b[36m\u001b[1m118.753 ms\u001b[22m\u001b[39m … \u001b[35m143.865 ms\u001b[39m  \u001b[90m┊\u001b[39m GC \u001b[90m(\u001b[39mmin … max\u001b[90m): \u001b[39m1.21% … 1.92%\n",
       " Time  \u001b[90m(\u001b[39m\u001b[34m\u001b[1mmedian\u001b[22m\u001b[39m\u001b[90m):     \u001b[39m\u001b[34m\u001b[1m125.504 ms               \u001b[22m\u001b[39m\u001b[90m┊\u001b[39m GC \u001b[90m(\u001b[39mmedian\u001b[90m):    \u001b[39m2.30%\n",
       " Time  \u001b[90m(\u001b[39m\u001b[32m\u001b[1mmean\u001b[22m\u001b[39m ± \u001b[32mσ\u001b[39m\u001b[90m):   \u001b[39m\u001b[32m\u001b[1m128.228 ms\u001b[22m\u001b[39m ± \u001b[32m  6.560 ms\u001b[39m  \u001b[90m┊\u001b[39m GC \u001b[90m(\u001b[39mmean ± σ\u001b[90m):  \u001b[39m2.13% ± 0.45%\n",
       "\n",
       "  \u001b[39m \u001b[39m \u001b[39m \u001b[39m \u001b[39m \u001b[39m \u001b[39m▁\u001b[39m \u001b[39m \u001b[39m▁\u001b[39m \u001b[39m█\u001b[39m \u001b[39m█\u001b[39m▁\u001b[39m▁\u001b[34m \u001b[39m\u001b[39m▁\u001b[39m \u001b[39m \u001b[39m \u001b[39m \u001b[39m▁\u001b[32m▁\u001b[39m\u001b[39m \u001b[39m \u001b[39m \u001b[39m \u001b[39m \u001b[39m \u001b[39m \u001b[39m \u001b[39m \u001b[39m \u001b[39m \u001b[39m \u001b[39m \u001b[39m \u001b[39m \u001b[39m \u001b[39m \u001b[39m \u001b[39m \u001b[39m \u001b[39m \u001b[39m \u001b[39m \u001b[39m \u001b[39m \u001b[39m \u001b[39m \u001b[39m \u001b[39m \u001b[39m \u001b[39m \u001b[39m \u001b[39m \u001b[39m \u001b[39m \u001b[39m \u001b[39m \u001b[39m \u001b[39m \n",
       "  \u001b[39m▆\u001b[39m▁\u001b[39m▁\u001b[39m▁\u001b[39m▁\u001b[39m▁\u001b[39m█\u001b[39m▆\u001b[39m▁\u001b[39m█\u001b[39m▆\u001b[39m█\u001b[39m▆\u001b[39m█\u001b[39m█\u001b[39m█\u001b[34m▁\u001b[39m\u001b[39m█\u001b[39m▁\u001b[39m▆\u001b[39m▁\u001b[39m▁\u001b[39m█\u001b[32m█\u001b[39m\u001b[39m▆\u001b[39m▁\u001b[39m▁\u001b[39m▁\u001b[39m▁\u001b[39m▆\u001b[39m▆\u001b[39m▁\u001b[39m▁\u001b[39m▁\u001b[39m▆\u001b[39m▁\u001b[39m▆\u001b[39m▁\u001b[39m▆\u001b[39m▆\u001b[39m▁\u001b[39m▁\u001b[39m▆\u001b[39m▁\u001b[39m▁\u001b[39m▁\u001b[39m▁\u001b[39m▁\u001b[39m▆\u001b[39m▁\u001b[39m▁\u001b[39m▁\u001b[39m▆\u001b[39m▁\u001b[39m▁\u001b[39m▁\u001b[39m▁\u001b[39m▆\u001b[39m▆\u001b[39m▁\u001b[39m▆\u001b[39m \u001b[39m▁\n",
       "  119 ms\u001b[90m           Histogram: frequency by time\u001b[39m          144 ms \u001b[0m\u001b[1m<\u001b[22m\n",
       "\n",
       " Memory estimate\u001b[90m: \u001b[39m\u001b[33m86.14 MiB\u001b[39m, allocs estimate\u001b[90m: \u001b[39m\u001b[33m665360\u001b[39m."
      ]
     },
     "execution_count": 102,
     "metadata": {},
     "output_type": "execute_result"
    }
   ],
   "source": [
    "mark0 = @benchmark tester0()"
   ]
  },
  {
   "cell_type": "code",
   "execution_count": 98,
   "id": "f3157fd7",
   "metadata": {},
   "outputs": [
    {
     "data": {
      "text/plain": [
       "BenchmarkTools.Trial: 47 samples with 1 evaluation.\n",
       " Range \u001b[90m(\u001b[39m\u001b[36m\u001b[1mmin\u001b[22m\u001b[39m … \u001b[35mmax\u001b[39m\u001b[90m):  \u001b[39m\u001b[36m\u001b[1m102.100 ms\u001b[22m\u001b[39m … \u001b[35m112.958 ms\u001b[39m  \u001b[90m┊\u001b[39m GC \u001b[90m(\u001b[39mmin … max\u001b[90m): \u001b[39m1.92% … 3.48%\n",
       " Time  \u001b[90m(\u001b[39m\u001b[34m\u001b[1mmedian\u001b[22m\u001b[39m\u001b[90m):     \u001b[39m\u001b[34m\u001b[1m109.285 ms               \u001b[22m\u001b[39m\u001b[90m┊\u001b[39m GC \u001b[90m(\u001b[39mmedian\u001b[90m):    \u001b[39m1.81%\n",
       " Time  \u001b[90m(\u001b[39m\u001b[32m\u001b[1mmean\u001b[22m\u001b[39m ± \u001b[32mσ\u001b[39m\u001b[90m):   \u001b[39m\u001b[32m\u001b[1m108.458 ms\u001b[22m\u001b[39m ± \u001b[32m  2.806 ms\u001b[39m  \u001b[90m┊\u001b[39m GC \u001b[90m(\u001b[39mmean ± σ\u001b[90m):  \u001b[39m2.19% ± 0.73%\n",
       "\n",
       "  \u001b[39m \u001b[39m \u001b[39m \u001b[39m \u001b[39m \u001b[39m \u001b[39m \u001b[39m \u001b[39m \u001b[39m \u001b[39m \u001b[39m \u001b[39m \u001b[39m \u001b[39m \u001b[39m \u001b[39m \u001b[39m \u001b[39m \u001b[39m \u001b[39m \u001b[39m \u001b[39m \u001b[39m \u001b[39m \u001b[39m \u001b[39m \u001b[39m \u001b[39m \u001b[39m \u001b[39m \u001b[39m \u001b[39m \u001b[39m \u001b[39m \u001b[39m \u001b[32m \u001b[39m\u001b[39m \u001b[39m \u001b[39m \u001b[34m \u001b[39m\u001b[39m \u001b[39m \u001b[39m \u001b[39m \u001b[39m \u001b[39m \u001b[39m█\u001b[39m \u001b[39m \u001b[39m \u001b[39m \u001b[39m \u001b[39m \u001b[39m \u001b[39m \u001b[39m \u001b[39m \u001b[39m \u001b[39m \u001b[39m \u001b[39m \u001b[39m \n",
       "  \u001b[39m▄\u001b[39m▁\u001b[39m▇\u001b[39m▁\u001b[39m▁\u001b[39m▁\u001b[39m▄\u001b[39m▁\u001b[39m▄\u001b[39m▁\u001b[39m▁\u001b[39m▁\u001b[39m▄\u001b[39m▁\u001b[39m▁\u001b[39m▄\u001b[39m▁\u001b[39m▄\u001b[39m▄\u001b[39m▁\u001b[39m▁\u001b[39m▄\u001b[39m▁\u001b[39m▄\u001b[39m▁\u001b[39m▄\u001b[39m▄\u001b[39m▇\u001b[39m▁\u001b[39m▁\u001b[39m▄\u001b[39m▁\u001b[39m▁\u001b[39m▁\u001b[39m▄\u001b[39m▁\u001b[32m▄\u001b[39m\u001b[39m▄\u001b[39m▇\u001b[39m▇\u001b[34m▄\u001b[39m\u001b[39m▁\u001b[39m▇\u001b[39m▇\u001b[39m▄\u001b[39m▇\u001b[39m▇\u001b[39m█\u001b[39m▄\u001b[39m▇\u001b[39m▄\u001b[39m▄\u001b[39m▁\u001b[39m▁\u001b[39m▁\u001b[39m▄\u001b[39m▄\u001b[39m▁\u001b[39m▁\u001b[39m▁\u001b[39m▄\u001b[39m \u001b[39m▁\n",
       "  102 ms\u001b[90m           Histogram: frequency by time\u001b[39m          113 ms \u001b[0m\u001b[1m<\u001b[22m\n",
       "\n",
       " Memory estimate\u001b[90m: \u001b[39m\u001b[33m55.45 MiB\u001b[39m, allocs estimate\u001b[90m: \u001b[39m\u001b[33m1315091\u001b[39m."
      ]
     },
     "execution_count": 98,
     "metadata": {},
     "output_type": "execute_result"
    }
   ],
   "source": [
    "mark1 = @benchmark tester1()"
   ]
  },
  {
   "cell_type": "code",
   "execution_count": 103,
   "id": "ae796f27",
   "metadata": {},
   "outputs": [
    {
     "data": {
      "text/plain": [
       "0.8707740527896833"
      ]
     },
     "execution_count": 103,
     "metadata": {},
     "output_type": "execute_result"
    }
   ],
   "source": [
    "median(mark1.times)/median(mark0.times)"
   ]
  },
  {
   "cell_type": "code",
   "execution_count": 40,
   "id": "0ec0665e",
   "metadata": {},
   "outputs": [
    {
     "data": {
      "text/plain": [
       "BenchmarkTools.Trial: 39 samples with 1 evaluation.\n",
       " Range \u001b[90m(\u001b[39m\u001b[36m\u001b[1mmin\u001b[22m\u001b[39m … \u001b[35mmax\u001b[39m\u001b[90m):  \u001b[39m\u001b[36m\u001b[1m118.098 ms\u001b[22m\u001b[39m … \u001b[35m137.120 ms\u001b[39m  \u001b[90m┊\u001b[39m GC \u001b[90m(\u001b[39mmin … max\u001b[90m): \u001b[39m1.08% … 1.99%\n",
       " Time  \u001b[90m(\u001b[39m\u001b[34m\u001b[1mmedian\u001b[22m\u001b[39m\u001b[90m):     \u001b[39m\u001b[34m\u001b[1m129.536 ms               \u001b[22m\u001b[39m\u001b[90m┊\u001b[39m GC \u001b[90m(\u001b[39mmedian\u001b[90m):    \u001b[39m2.14%\n",
       " Time  \u001b[90m(\u001b[39m\u001b[32m\u001b[1mmean\u001b[22m\u001b[39m ± \u001b[32mσ\u001b[39m\u001b[90m):   \u001b[39m\u001b[32m\u001b[1m129.268 ms\u001b[22m\u001b[39m ± \u001b[32m  5.417 ms\u001b[39m  \u001b[90m┊\u001b[39m GC \u001b[90m(\u001b[39mmean ± σ\u001b[90m):  \u001b[39m2.03% ± 0.39%\n",
       "\n",
       "  \u001b[39m \u001b[39m \u001b[39m \u001b[39m \u001b[39m \u001b[39m \u001b[39m \u001b[39m \u001b[39m \u001b[39m \u001b[39m \u001b[39m \u001b[39m \u001b[39m \u001b[39m \u001b[39m \u001b[39m \u001b[39m \u001b[39m \u001b[39m \u001b[39m \u001b[39m \u001b[39m▁\u001b[39m \u001b[39m \u001b[39m \u001b[39m \u001b[39m \u001b[39m \u001b[39m \u001b[39m \u001b[39m \u001b[39m \u001b[39m \u001b[39m \u001b[39m \u001b[34m▁\u001b[39m\u001b[39m \u001b[39m \u001b[39m \u001b[39m \u001b[39m \u001b[39m \u001b[39m \u001b[39m \u001b[39m \u001b[39m \u001b[39m \u001b[39m▁\u001b[39m \u001b[39m \u001b[39m \u001b[39m▁\u001b[39m \u001b[39m \u001b[39m \u001b[39m \u001b[39m \u001b[39m \u001b[39m \u001b[39m█\u001b[39m \u001b[39m \n",
       "  \u001b[39m▆\u001b[39m▁\u001b[39m▁\u001b[39m▁\u001b[39m▁\u001b[39m▆\u001b[39m▁\u001b[39m▁\u001b[39m▁\u001b[39m▆\u001b[39m▆\u001b[39m▆\u001b[39m▁\u001b[39m▆\u001b[39m▁\u001b[39m▆\u001b[39m▁\u001b[39m▁\u001b[39m▁\u001b[39m▆\u001b[39m▁\u001b[39m▁\u001b[39m█\u001b[39m▆\u001b[39m▁\u001b[39m▆\u001b[39m▆\u001b[39m▆\u001b[39m▁\u001b[39m▆\u001b[39m▁\u001b[39m▆\u001b[39m▁\u001b[39m▆\u001b[39m▁\u001b[39m▆\u001b[34m█\u001b[39m\u001b[39m▆\u001b[39m▁\u001b[39m▆\u001b[39m▆\u001b[39m▆\u001b[39m▆\u001b[39m▁\u001b[39m▁\u001b[39m▆\u001b[39m▆\u001b[39m▁\u001b[39m█\u001b[39m▁\u001b[39m▆\u001b[39m▁\u001b[39m█\u001b[39m▁\u001b[39m▁\u001b[39m▆\u001b[39m▆\u001b[39m▁\u001b[39m▁\u001b[39m▆\u001b[39m█\u001b[39m \u001b[39m▁\n",
       "  118 ms\u001b[90m           Histogram: frequency by time\u001b[39m          137 ms \u001b[0m\u001b[1m<\u001b[22m\n",
       "\n",
       " Memory estimate\u001b[90m: \u001b[39m\u001b[33m86.14 MiB\u001b[39m, allocs estimate\u001b[90m: \u001b[39m\u001b[33m665360\u001b[39m."
      ]
     },
     "execution_count": 40,
     "metadata": {},
     "output_type": "execute_result"
    }
   ],
   "source": [
    "mark0a = @benchmark tester0a()"
   ]
  },
  {
   "cell_type": "code",
   "execution_count": 41,
   "id": "af0de9d2",
   "metadata": {},
   "outputs": [
    {
     "data": {
      "text/plain": [
       "1.164886390596164"
      ]
     },
     "execution_count": 41,
     "metadata": {},
     "output_type": "execute_result"
    }
   ],
   "source": [
    "median(mark0a.times)/median(mark0.times)"
   ]
  },
  {
   "cell_type": "code",
   "execution_count": 100,
   "id": "6036b1d5",
   "metadata": {},
   "outputs": [
    {
     "data": {
      "text/plain": [
       "BenchmarkTools.Trial: 44 samples with 1 evaluation.\n",
       " Range \u001b[90m(\u001b[39m\u001b[36m\u001b[1mmin\u001b[22m\u001b[39m … \u001b[35mmax\u001b[39m\u001b[90m):  \u001b[39m\u001b[36m\u001b[1m106.473 ms\u001b[22m\u001b[39m … \u001b[35m137.755 ms\u001b[39m  \u001b[90m┊\u001b[39m GC \u001b[90m(\u001b[39mmin … max\u001b[90m): \u001b[39m1.79% … 1.71%\n",
       " Time  \u001b[90m(\u001b[39m\u001b[34m\u001b[1mmedian\u001b[22m\u001b[39m\u001b[90m):     \u001b[39m\u001b[34m\u001b[1m113.058 ms               \u001b[22m\u001b[39m\u001b[90m┊\u001b[39m GC \u001b[90m(\u001b[39mmedian\u001b[90m):    \u001b[39m1.88%\n",
       " Time  \u001b[90m(\u001b[39m\u001b[32m\u001b[1mmean\u001b[22m\u001b[39m ± \u001b[32mσ\u001b[39m\u001b[90m):   \u001b[39m\u001b[32m\u001b[1m114.221 ms\u001b[22m\u001b[39m ± \u001b[32m  6.557 ms\u001b[39m  \u001b[90m┊\u001b[39m GC \u001b[90m(\u001b[39mmean ± σ\u001b[90m):  \u001b[39m2.18% ± 0.71%\n",
       "\n",
       "  \u001b[39m▄\u001b[39m▁\u001b[39m \u001b[39m \u001b[39m \u001b[39m▄\u001b[39m▄\u001b[39m▁\u001b[39m▁\u001b[39m \u001b[39m \u001b[39m \u001b[39m█\u001b[34m▄\u001b[39m\u001b[39m \u001b[32m \u001b[39m\u001b[39m▄\u001b[39m▁\u001b[39m▁\u001b[39m \u001b[39m \u001b[39m \u001b[39m \u001b[39m \u001b[39m \u001b[39m \u001b[39m \u001b[39m \u001b[39m \u001b[39m \u001b[39m \u001b[39m \u001b[39m \u001b[39m \u001b[39m \u001b[39m \u001b[39m \u001b[39m \u001b[39m \u001b[39m \u001b[39m \u001b[39m \u001b[39m \u001b[39m \u001b[39m \u001b[39m \u001b[39m \u001b[39m \u001b[39m \u001b[39m \u001b[39m \u001b[39m \u001b[39m \u001b[39m \u001b[39m \u001b[39m \u001b[39m \u001b[39m \u001b[39m \u001b[39m \u001b[39m \u001b[39m \u001b[39m \n",
       "  \u001b[39m█\u001b[39m█\u001b[39m▆\u001b[39m▁\u001b[39m▆\u001b[39m█\u001b[39m█\u001b[39m█\u001b[39m█\u001b[39m▆\u001b[39m▆\u001b[39m▁\u001b[39m█\u001b[34m█\u001b[39m\u001b[39m▁\u001b[32m▁\u001b[39m\u001b[39m█\u001b[39m█\u001b[39m█\u001b[39m▆\u001b[39m▁\u001b[39m▆\u001b[39m▁\u001b[39m▆\u001b[39m▆\u001b[39m▆\u001b[39m▁\u001b[39m▆\u001b[39m▆\u001b[39m▆\u001b[39m▁\u001b[39m▁\u001b[39m▁\u001b[39m▁\u001b[39m▁\u001b[39m▁\u001b[39m▁\u001b[39m▁\u001b[39m▁\u001b[39m▁\u001b[39m▆\u001b[39m▁\u001b[39m▁\u001b[39m▁\u001b[39m▁\u001b[39m▁\u001b[39m▁\u001b[39m▁\u001b[39m▁\u001b[39m▁\u001b[39m▆\u001b[39m▁\u001b[39m▁\u001b[39m▁\u001b[39m▁\u001b[39m▁\u001b[39m▁\u001b[39m▁\u001b[39m▁\u001b[39m▁\u001b[39m▆\u001b[39m \u001b[39m▁\n",
       "  106 ms\u001b[90m           Histogram: frequency by time\u001b[39m          138 ms \u001b[0m\u001b[1m<\u001b[22m\n",
       "\n",
       " Memory estimate\u001b[90m: \u001b[39m\u001b[33m55.45 MiB\u001b[39m, allocs estimate\u001b[90m: \u001b[39m\u001b[33m1315091\u001b[39m."
      ]
     },
     "execution_count": 100,
     "metadata": {},
     "output_type": "execute_result"
    }
   ],
   "source": [
    "mark2 = @benchmark tester2()"
   ]
  },
  {
   "cell_type": "code",
   "execution_count": 104,
   "id": "ed903e8c",
   "metadata": {},
   "outputs": [
    {
     "data": {
      "text/plain": [
       "0.9008350365563247"
      ]
     },
     "execution_count": 104,
     "metadata": {},
     "output_type": "execute_result"
    }
   ],
   "source": [
    "median(mark2.times)/median(mark0.times)"
   ]
  },
  {
   "cell_type": "code",
   "execution_count": null,
   "id": "0d1f3dbd",
   "metadata": {},
   "outputs": [],
   "source": []
  },
  {
   "cell_type": "code",
   "execution_count": null,
   "id": "cfecc332",
   "metadata": {},
   "outputs": [],
   "source": []
  },
  {
   "cell_type": "code",
   "execution_count": null,
   "id": "69faf3ad",
   "metadata": {},
   "outputs": [],
   "source": []
  },
  {
   "cell_type": "code",
   "execution_count": 63,
   "id": "cf48aebd",
   "metadata": {},
   "outputs": [
    {
     "data": {
      "text/plain": [
       "5×5 Matrix{Float64}:\n",
       " 0.469011  0.715243  0.445719  0.0491054  0.0885741\n",
       " 0.529462  0.766705  0.906707  0.358262   0.654144\n",
       " 0.583304  0.252865  0.807627  0.164025   0.523424\n",
       " 0.231291  0.18598   0.713221  0.968958   0.186563\n",
       " 0.557086  0.56739   0.556388  0.885632   0.319981"
      ]
     },
     "execution_count": 63,
     "metadata": {},
     "output_type": "execute_result"
    }
   ],
   "source": [
    "m = rand(5,5)"
   ]
  },
  {
   "cell_type": "code",
   "execution_count": 64,
   "id": "2fa910dc",
   "metadata": {},
   "outputs": [
    {
     "data": {
      "text/plain": [
       "5-element Vector{Float64}:\n",
       " 0.4690114950934292\n",
       " 0.5294618071184556\n",
       " 0.5833042780564572\n",
       " 0.2312910362133458\n",
       " 0.5570858346828655"
      ]
     },
     "execution_count": 64,
     "metadata": {},
     "output_type": "execute_result"
    }
   ],
   "source": [
    "v = m[:,1]"
   ]
  },
  {
   "cell_type": "code",
   "execution_count": 65,
   "id": "32adfcc4",
   "metadata": {},
   "outputs": [
    {
     "data": {
      "text/plain": [
       "1.0"
      ]
     },
     "execution_count": 65,
     "metadata": {},
     "output_type": "execute_result"
    }
   ],
   "source": [
    "v[1] = 1.0"
   ]
  },
  {
   "cell_type": "code",
   "execution_count": 67,
   "id": "d9c2d816",
   "metadata": {},
   "outputs": [
    {
     "data": {
      "text/plain": [
       "5-element Vector{Float64}:\n",
       " 1.0\n",
       " 0.5294618071184556\n",
       " 0.5833042780564572\n",
       " 0.2312910362133458\n",
       " 0.5570858346828655"
      ]
     },
     "execution_count": 67,
     "metadata": {},
     "output_type": "execute_result"
    }
   ],
   "source": [
    "v"
   ]
  },
  {
   "cell_type": "code",
   "execution_count": null,
   "id": "39162892",
   "metadata": {},
   "outputs": [],
   "source": []
  },
  {
   "cell_type": "code",
   "execution_count": null,
   "id": "7820fddd",
   "metadata": {},
   "outputs": [],
   "source": []
  },
  {
   "cell_type": "code",
   "execution_count": null,
   "id": "30262d59",
   "metadata": {},
   "outputs": [],
   "source": []
  },
  {
   "cell_type": "markdown",
   "id": "97883cac",
   "metadata": {},
   "source": [
    "# `Particle` trajectory\n",
    "\n",
    "Here's a simple computation of a trajectory of a particle of unit mass under the uniform gravity.\n",
    "\n",
    "Use the usual $xy$-axes with $\\vec{r}=\\langle{x,y}\\rangle$ and that $y$ is positive \"upwards\" giving $\\vec{g} = \\langle{0,-g}\\rangle$."
   ]
  },
  {
   "cell_type": "code",
   "execution_count": 38,
   "id": "f2e21fd6",
   "metadata": {},
   "outputs": [
    {
     "data": {
      "text/plain": [
       "Particle"
      ]
     },
     "execution_count": 38,
     "metadata": {},
     "output_type": "execute_result"
    }
   ],
   "source": [
    "struct Particle\n",
    "    r::Vector\n",
    "    v::Vector\n",
    "    a::Vector\n",
    "end\n",
    "\n",
    "g_CONST = [0.0,-9.80]\n",
    "\n",
    "Particle() = Particle([0.0,10.0], [0.0,10.0], g_CONST) #default constructor method"
   ]
  },
  {
   "cell_type": "code",
   "execution_count": null,
   "id": "4c2de07f",
   "metadata": {},
   "outputs": [],
   "source": []
  },
  {
   "cell_type": "code",
   "execution_count": 39,
   "id": "f7de8e90",
   "metadata": {},
   "outputs": [
    {
     "data": {
      "text/plain": [
       "Particle([0.0, 10.0], [0.0, 10.0], [0.0, -9.8])"
      ]
     },
     "execution_count": 39,
     "metadata": {},
     "output_type": "execute_result"
    }
   ],
   "source": [
    "p = Particle()"
   ]
  },
  {
   "cell_type": "code",
   "execution_count": 40,
   "id": "2609d87d",
   "metadata": {},
   "outputs": [
    {
     "ename": "LoadError",
     "evalue": "setfield! immutable struct of type Particle cannot be changed",
     "output_type": "error",
     "traceback": [
      "setfield! immutable struct of type Particle cannot be changed",
      "",
      "Stacktrace:",
      " [1] setproperty!(x::Particle, f::Symbol, v::Vector{Float64})",
      "   @ Base ./Base.jl:34",
      " [2] top-level scope",
      "   @ In[40]:1",
      " [3] eval",
      "   @ ./boot.jl:360 [inlined]",
      " [4] include_string(mapexpr::typeof(REPL.softscope), mod::Module, code::String, filename::String)",
      "   @ Base ./loading.jl:1116"
     ]
    }
   ],
   "source": [
    "p.r = [0.0, 0.0]"
   ]
  },
  {
   "cell_type": "code",
   "execution_count": 41,
   "id": "cd56b5a8",
   "metadata": {},
   "outputs": [
    {
     "data": {
      "text/plain": [
       "move_im (generic function with 2 methods)"
      ]
     },
     "execution_count": 41,
     "metadata": {},
     "output_type": "execute_result"
    }
   ],
   "source": [
    "function move_im(pp::Particle, dt=0.01)\n",
    "    r = zeros(2);\n",
    "    v = zeros(2);\n",
    "    r .= pp.r .+ pp.v .* dt + (0.5 .* pp.a .* (dt * dt))\n",
    "    v .= pp.v .+ pp.a .* dt\n",
    "    return Particle(r,v,pp.a)\n",
    "end"
   ]
  },
  {
   "cell_type": "code",
   "execution_count": 42,
   "id": "7f73af16",
   "metadata": {},
   "outputs": [
    {
     "data": {
      "text/plain": [
       "move_ex (generic function with 2 methods)"
      ]
     },
     "execution_count": 42,
     "metadata": {},
     "output_type": "execute_result"
    }
   ],
   "source": [
    "function move_ex(pp::Particle, dt=0.01)\n",
    "    r = zeros(2);\n",
    "    v = zeros(2);\n",
    "    r[1] = pp.r[1] + pp.v[1] * dt + (0.5 * pp.a[1] * (dt * dt))\n",
    "    r[2] = pp.r[2] + pp.v[2] * dt + (0.5 * pp.a[2] * (dt * dt))\n",
    "    v[1] = pp.v[1] + pp.a[1] * dt\n",
    "    v[2] = pp.v[2] + pp.a[2] * dt\n",
    "    return Particle(r,v,pp.a)\n",
    "end"
   ]
  },
  {
   "cell_type": "code",
   "execution_count": 53,
   "id": "472a180d",
   "metadata": {},
   "outputs": [
    {
     "name": "stdout",
     "output_type": "stream",
     "text": [
      "Advantage of ex- / implicit : 3.994\n"
     ]
    }
   ],
   "source": [
    "mark0im = @benchmark begin\n",
    "    p = Particle()\n",
    "    pnew = Particle()\n",
    "    for _ in 1:100\n",
    "        p = move_im(p);\n",
    "#        p = pnew;\n",
    "    end\n",
    "end\n",
    "\n",
    "mark0ex = @benchmark begin\n",
    "    p = Particle()\n",
    "    pnew = Particle()\n",
    "    for _ in 1:100\n",
    "        p = move_ex(p);\n",
    "#        p = pnew;\n",
    "    end\n",
    "end\n",
    "\n",
    "println( \"Advantage of ex- / implicit : \", round( median(mark0im.times)/median(mark0ex.times), digits=3 ) )"
   ]
  },
  {
   "cell_type": "code",
   "execution_count": 44,
   "id": "ff870943",
   "metadata": {
    "scrolled": true
   },
   "outputs": [
    {
     "data": {
      "text/plain": [
       "MParticle"
      ]
     },
     "execution_count": 44,
     "metadata": {},
     "output_type": "execute_result"
    }
   ],
   "source": [
    "mutable struct MParticle\n",
    "    r::Vector\n",
    "    v::Vector\n",
    "    a::Vector\n",
    "end\n",
    "\n",
    "g_CONST = [0.0,-9.80]\n",
    "\n",
    "MParticle() = MParticle([0.0,10.0], [0.0,10.0], g_CONST)"
   ]
  },
  {
   "cell_type": "code",
   "execution_count": 45,
   "id": "9a33ea98",
   "metadata": {},
   "outputs": [
    {
     "data": {
      "text/plain": [
       "MParticle([0.0, 10.0], [0.0, 10.0], [0.0, -9.8])"
      ]
     },
     "execution_count": 45,
     "metadata": {},
     "output_type": "execute_result"
    }
   ],
   "source": [
    "mp = MParticle()"
   ]
  },
  {
   "cell_type": "code",
   "execution_count": 46,
   "id": "dd63cd54",
   "metadata": {},
   "outputs": [
    {
     "data": {
      "text/plain": [
       "MParticle([0.0, 10.0], [0.0, 10.0], [0.0, -9.8])"
      ]
     },
     "metadata": {},
     "output_type": "display_data"
    },
    {
     "data": {
      "text/plain": [
       "MParticle([0.0, 210.0], [0.0, 10.0], [0.0, -9.8])"
      ]
     },
     "metadata": {},
     "output_type": "display_data"
    }
   ],
   "source": [
    "display(mp)\n",
    "mp.r = [0.0, 210.0]\n",
    "display(mp)"
   ]
  },
  {
   "cell_type": "code",
   "execution_count": 47,
   "id": "16e201ca",
   "metadata": {},
   "outputs": [
    {
     "data": {
      "text/plain": [
       "move_im! (generic function with 2 methods)"
      ]
     },
     "execution_count": 47,
     "metadata": {},
     "output_type": "execute_result"
    }
   ],
   "source": [
    "function move_im!(pp::MParticle, dt=0.01)\n",
    "    pp.r .= pp.r .+ (pp.v .* dt) .+ (0.5 .* pp.a .* (dt * dt))\n",
    "    pp.v .= pp.v .+ (pp.a[2] .* dt)\n",
    "    return nothing;\n",
    "end"
   ]
  },
  {
   "cell_type": "code",
   "execution_count": 48,
   "id": "6d122f15",
   "metadata": {},
   "outputs": [
    {
     "data": {
      "text/plain": [
       "move_ex! (generic function with 2 methods)"
      ]
     },
     "execution_count": 48,
     "metadata": {},
     "output_type": "execute_result"
    }
   ],
   "source": [
    "function move_ex!(pp::MParticle, dt=0.01)\n",
    "    pp.r[1] = pp.r[1] + (pp.v[1] * dt) + (0.5 * pp.a[1] * (dt * dt))\n",
    "    pp.r[2] = pp.r[2] + (pp.v[2] * dt) + (0.5 * pp.a[2] * (dt * dt))\n",
    "    pp.v[1] = pp.v[1] + (pp.a[1] * dt)\n",
    "    pp.v[2] = pp.v[2] + (pp.a[2] * dt)\n",
    "    return nothing;\n",
    "end"
   ]
  },
  {
   "cell_type": "code",
   "execution_count": 54,
   "id": "992f1c06",
   "metadata": {},
   "outputs": [
    {
     "name": "stdout",
     "output_type": "stream",
     "text": [
      "Immutable: Advantage of ex- / implicit : 3.994\n",
      "Mutable  : Advantage of ex- / implicit : 5.211\n",
      "Explicit : Advantage of Mutable / Immutable : 1.196\n",
      "Implicit : Advantage of Mutable / Immutable : 0.917\n"
     ]
    }
   ],
   "source": [
    "mark1ex = @benchmark begin\n",
    "    p = MParticle()\n",
    "    for _ in 1:100\n",
    "        move_ex!(p);\n",
    "    end\n",
    "end\n",
    "\n",
    "mark1im = @benchmark begin\n",
    "    p = MParticle()\n",
    "    for _ in 1:100\n",
    "        move_im!(p);\n",
    "    end\n",
    "end\n",
    "\n",
    "println( \"Immutable: Advantage of ex- / implicit : \", round( median(mark0im.times)/median(mark0ex.times), digits=3 ) )\n",
    "println( \"Mutable  : Advantage of ex- / implicit : \", round( median(mark1im.times)/median(mark1ex.times), digits=3 ) )\n",
    "println( \"Explicit : Advantage of Mutable / Immutable : \", round( median(mark0ex.times)/median(mark1ex.times), digits=3 ) )\n",
    "println( \"Implicit : Advantage of Mutable / Immutable : \", round( median(mark0im.times)/median(mark1im.times), digits=3 ) )"
   ]
  },
  {
   "cell_type": "code",
   "execution_count": null,
   "id": "c95f9c57",
   "metadata": {},
   "outputs": [],
   "source": []
  },
  {
   "cell_type": "code",
   "execution_count": null,
   "id": "fb4c37a4",
   "metadata": {},
   "outputs": [],
   "source": []
  },
  {
   "cell_type": "markdown",
   "id": "299e02af",
   "metadata": {},
   "source": [
    "# Pass by object (\"by sharing\")\n",
    "\n",
    "+ Objects are passed by copying to local variables the address or reference that object variables points to\n",
    "+ Immutable variables as objects therefore are passed by value since they contain values, rather than reference"
   ]
  },
  {
   "cell_type": "code",
   "execution_count": 6,
   "id": "94b773d0",
   "metadata": {},
   "outputs": [
    {
     "name": "stdout",
     "output_type": "stream",
     "text": [
      "change_name(): name = My name is John.\n",
      "now, name = My name\n",
      "change_name(): name = My name is Johnny.\n",
      "now, name = My name is Johnny.\n"
     ]
    }
   ],
   "source": [
    "name = \"My name\"\n",
    "\n",
    "function change_name(n::String)\n",
    "    n *= \" is John.\"\n",
    "    println(\"change_name(): name = \", n)\n",
    "    return nothing\n",
    "end\n",
    "\n",
    "mutable struct Name\n",
    "    val::String\n",
    "end\n",
    "\n",
    "change_name(name)\n",
    "println(\"now, name = \", name)\n",
    "\n",
    "name = Name(\"My name\")\n",
    "function change_name!(n::Name)\n",
    "    n.val *= \" is Johnny.\"\n",
    "    println(\"change_name(): name = \", n.val)\n",
    "    return nothing\n",
    "end\n",
    "\n",
    "change_name!(name)\n",
    "println(\"now, name = \", name.val)"
   ]
  },
  {
   "cell_type": "code",
   "execution_count": 17,
   "id": "0722a3fb",
   "metadata": {},
   "outputs": [
    {
     "name": "stdout",
     "output_type": "stream",
     "text": [
      "x = CoolNumbers([0.016303370673339757, 0.1172113440415814, 0.6162099207980105])\n",
      "y = CoolNumbers([0.7076542822068044, 0.4047643644559309, 0.5571097005435184, 0.3645053956512674])\n",
      "x = CoolNumbers([0.016303370673339757, 0.1172113440415814, 3.0])\n",
      "y = CoolNumbers([0.7076542822068044, 0.4047643644559309, 0.5571097005435184, 0.3645053956512674])\n"
     ]
    }
   ],
   "source": [
    "struct CoolNumbers\n",
    "    num::Vector{Float64}\n",
    "end\n",
    "\n",
    "x = CoolNumbers( rand(3) )\n",
    "y = CoolNumbers( rand(4) )\n",
    "\n",
    "println(\"x = \", x)\n",
    "println(\"y = \", y)\n",
    "\n",
    "x.num[3] = 3.0\n",
    "\n",
    "println(\"x = \", x)\n",
    "println(\"y = \", y)"
   ]
  },
  {
   "cell_type": "code",
   "execution_count": 18,
   "id": "b4d785a1",
   "metadata": {},
   "outputs": [
    {
     "name": "stdout",
     "output_type": "stream",
     "text": [
      "CoolNumbers([0.016303370673339757, 0.1172113440415814, 3.0])\n",
      "CoolNumbers([0.14082142257177832, 0.16692381066472706, 3.0])\n"
     ]
    }
   ],
   "source": [
    "function changeNos!(x::CoolNumbers)\n",
    "    x.num[:] .= rand(3)\n",
    "    x.num[3] = 3.0\n",
    "    return nothing\n",
    "end\n",
    "\n",
    "println(x)\n",
    "changeNos!(x)\n",
    "println(x)"
   ]
  },
  {
   "cell_type": "markdown",
   "id": "66709aff",
   "metadata": {},
   "source": [
    "**Think:** Julia objects can be thought of Namespaces **of references** (not of values)"
   ]
  },
  {
   "cell_type": "code",
   "execution_count": null,
   "id": "8ec2932f",
   "metadata": {},
   "outputs": [],
   "source": []
  },
  {
   "cell_type": "code",
   "execution_count": null,
   "id": "2de448b2",
   "metadata": {},
   "outputs": [],
   "source": []
  }
 ],
 "metadata": {
  "kernelspec": {
   "display_name": "Julia 1.6.3",
   "language": "julia",
   "name": "julia-1.6"
  },
  "language_info": {
   "file_extension": ".jl",
   "mimetype": "application/julia",
   "name": "julia",
   "version": "1.6.3"
  }
 },
 "nbformat": 4,
 "nbformat_minor": 5
}
