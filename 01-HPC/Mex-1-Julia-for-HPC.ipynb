{
 "cells": [
  {
   "cell_type": "markdown",
   "id": "e7fda9d3",
   "metadata": {},
   "source": [
    "# MEx 1: The Julia framework for HPC\n",
    "\n",
    "## **OBJECTIVE**: Explore Julia framework for HPC\n",
    "- [ ] KR1: Ran different versions of `@code_[mode]` to examine a simple expression (replace `[mode]` with `native`, `typed`, `warntype`, etc.\n",
    "- [ ] KR2: Showed that constants in codes are passed on after constant function or expression evaluations. May have gone beyond replicating those done in class.\n",
    "- [ ] KR3: Created two versions of the same function such as `pos(x)` in the book, one with type-instability and the other fixed.\n",
    "- [ ] KR4: Demonstrated Julia's type-inference and multiple dispatch using the `iam()` function sample as discussed in class. (See Chapter 3)\n",
    "- [ ] KR5: Ran a function `poly(A,x)` that evaluates the $N$-th order polynomial via a naive approach.\n",
    "- [ ] KR6: Evaluated the same polynomial using [the package `Polynomials` in Julia](https://juliamath.github.io/Polynomials.jl/stable/).\n",
    "- [ ] KR7. Used `BenchmarkTools` to plot timing distribution and obtain the best time via the macro `@btime` evaluated at some random number. (See Chapter 2)\n",
    "- [ ] KR8 (Bonus): Plotted of the time $T$ it takes for the function to run using `@time` macro for different polynomial lengths $N$.\n",
    "\n",
    "[Full documentation is found here.](./README.md)"
   ]
  },
  {
   "cell_type": "code",
   "execution_count": null,
   "id": "56cbf14c",
   "metadata": {},
   "outputs": [],
   "source": []
  }
 ],
 "metadata": {
  "kernelspec": {
   "display_name": "Julia 1.10.1",
   "language": "julia",
   "name": "julia-1.10"
  },
  "language_info": {
   "file_extension": ".jl",
   "mimetype": "application/julia",
   "name": "julia",
   "version": "1.10.1"
  }
 },
 "nbformat": 4,
 "nbformat_minor": 5
}
