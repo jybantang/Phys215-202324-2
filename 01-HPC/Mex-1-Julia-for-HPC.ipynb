{
 "cells": [
  {
   "cell_type": "markdown",
   "id": "5c1f8ef8",
   "metadata": {
    "slideshow": {
     "slide_type": "slide"
    }
   },
   "source": [
    "# MEx 1: The Julia framework for HPC\n",
    "Johnrob Y. Bantang, Ph.D."
   ]
  },
  {
   "cell_type": "markdown",
   "id": "e7fda9d3",
   "metadata": {
    "slideshow": {
     "slide_type": "slide"
    }
   },
   "source": [
    "## **OBJECTIVE**: Explore Julia framework for HPC\n",
    "- [ ] KR1: Ran different versions of `@code_[mode]` to examine a simple expression (replace `[mode]` with `native`, `typed`, `warntype`, etc.\n",
    "- [ ] KR2: Showed that constants in codes are passed on after constant function or expression evaluations. May have gone beyond replicating those done in class.\n",
    "- [ ] KR3: Created two versions of the same function such as `pos(x)` in the book, one with type-instability and the other fixed.\n",
    "- [ ] KR4: Demonstrated Julia's type-inference and multiple dispatch using the `iam()` function sample as discussed in class. (See Chapter 3)\n",
    "- [ ] KR5: Ran a function `poly(A,x)` that evaluates the $N$-th order polynomial via a naive approach.\n",
    "- [ ] KR6: Evaluated the same polynomial using [the package `Polynomials` in Julia](https://juliamath.github.io/Polynomials.jl/stable/).\n",
    "- [ ] KR7. Used `BenchmarkTools` to plot timing distribution and obtain the best time via the macro `@btime` evaluated at some random number. (See Chapter 2)\n",
    "- [ ] KR8 (Bonus): Plotted of the time $T$ it takes for the function to run using `@time` macro for different polynomial lengths $N$.\n",
    "\n",
    "[Full documentation is found here.](./README.md)"
   ]
  },
  {
   "cell_type": "markdown",
   "id": "2fcff76d",
   "metadata": {
    "slideshow": {
     "slide_type": "slide"
    }
   },
   "source": [
    "## Type hierarchy\n",
    "\n",
    "Type hierarchy in Julia is a tree. With `Any` on top of it. All numbers can be arranged using the recursive call of a function found in [a wikibook](https://en.wikibooks.org/wiki/Introducing_Julia/Types)."
   ]
  },
  {
   "cell_type": "code",
   "execution_count": 1,
   "id": "2a105fb6",
   "metadata": {
    "slideshow": {
     "slide_type": "fragment"
    }
   },
   "outputs": [
    {
     "data": {
      "text/plain": [
       "showsubtree (generic function with 2 methods)"
      ]
     },
     "execution_count": 1,
     "metadata": {},
     "output_type": "execute_result"
    }
   ],
   "source": [
    "function showsubtree( T, level=0 )\n",
    "    println(\"  \"^level, T)\n",
    "    for t in subtypes(T)\n",
    "        showsubtree(t, level+1)\n",
    "    end\n",
    "end"
   ]
  },
  {
   "cell_type": "code",
   "execution_count": 2,
   "id": "8bae1b35",
   "metadata": {
    "slideshow": {
     "slide_type": "subslide"
    }
   },
   "outputs": [
    {
     "name": "stdout",
     "output_type": "stream",
     "text": [
      "Number\n",
      "  Base.MultiplicativeInverses.MultiplicativeInverse\n",
      "    Base.MultiplicativeInverses.SignedMultiplicativeInverse\n",
      "    Base.MultiplicativeInverses.UnsignedMultiplicativeInverse\n",
      "  Complex\n",
      "  Real\n",
      "    AbstractFloat\n",
      "      BigFloat\n",
      "      Float16\n",
      "      Float32\n",
      "      Float64\n",
      "    AbstractIrrational\n",
      "      Irrational\n",
      "    Integer\n",
      "      Bool\n",
      "      Signed\n",
      "        BigInt\n",
      "        Int128\n",
      "        Int16\n",
      "        Int32\n",
      "        Int64\n",
      "        Int8\n",
      "      Unsigned\n",
      "        UInt128\n",
      "        UInt16\n",
      "        UInt32\n",
      "        UInt64\n",
      "        UInt8\n",
      "    Rational\n"
     ]
    }
   ],
   "source": [
    "showsubtree(Number)"
   ]
  },
  {
   "cell_type": "markdown",
   "id": "86a220c8",
   "metadata": {
    "slideshow": {
     "slide_type": "slide"
    }
   },
   "source": [
    "## Memory address and value\n",
    "\n",
    "In programming, variables are symbols that _point_ to a memory location and therefore they contain a memory address. Their values are obtained as a reading of the site state according to the appropriate size and/or stride size, with directions and sequence peculiar to a given implementation, i.e. programming language.\n",
    "\n",
    "There are two equality tests in Julia: address equality (physical, [===, also ≡ (`\\equiv`)](https://docs.julialang.org/en/v1/base/base/#Core.:===)) and value equality (logical, [==](https://docs.julialang.org/en/v1/base/math/#Base.:==)). There is also a related and similar native function [`isequal()`](https://docs.julialang.org/en/v1/base/base/#Base.isequal)."
   ]
  },
  {
   "cell_type": "markdown",
   "id": "f72995c8",
   "metadata": {
    "slideshow": {
     "slide_type": "subslide"
    }
   },
   "source": [
    "## Memory architecture\n",
    "\n",
    "Due to differences in the physical layout and design (physical and relational) according to manufacturers, actual speeds may vary between specific machines and across models.\n",
    "The most common architecture is [the x86-64, the 64-bit version of the x86 instruction set](https://en.wikipedia.org/wiki/X86-64)."
   ]
  },
  {
   "cell_type": "markdown",
   "id": "1d334762",
   "metadata": {
    "slideshow": {
     "slide_type": "fragment"
    }
   },
   "source": [
    "### Hence:\n",
    "Specify machine architecture in all numerical work."
   ]
  },
  {
   "cell_type": "markdown",
   "id": "48d852ce",
   "metadata": {
    "slideshow": {
     "slide_type": "subslide"
    }
   },
   "source": [
    "## Equality and equivalence\n",
    "\n",
    "- Recommended _model_:\n",
    "    - equality is _by value_ and\n",
    "    - equivalence is by _memory location or reference_.\n",
    "\n",
    "- In `c/c++` functions either do _value-passing_ or _reference-passing_ between functions.\n",
    "\n",
    "- Obvious difference: variables beyond the native fundamental types\n",
    "    - `struct`\n",
    "    - other structures and containers (`Array`s)."
   ]
  },
  {
   "cell_type": "markdown",
   "id": "8d9faf07",
   "metadata": {
    "slideshow": {
     "slide_type": "subslide"
    }
   },
   "source": [
    "## Case in `Point`"
   ]
  },
  {
   "cell_type": "code",
   "execution_count": 3,
   "id": "9ab0c642",
   "metadata": {},
   "outputs": [
    {
     "data": {
      "text/plain": [
       "Point"
      ]
     },
     "execution_count": 3,
     "metadata": {},
     "output_type": "execute_result"
    }
   ],
   "source": [
    "struct Point\n",
    "    x::Int\n",
    "    y::Int\n",
    "end\n",
    "\n",
    "Point() = Point(0,1) #Default object constructor"
   ]
  },
  {
   "cell_type": "markdown",
   "id": "592aa1d3",
   "metadata": {
    "slideshow": {
     "slide_type": "fragment"
    }
   },
   "source": [
    "**QUESTION:** Why not use a two-element `Vector` instead?"
   ]
  },
  {
   "cell_type": "markdown",
   "id": "96dfd405",
   "metadata": {
    "slideshow": {
     "slide_type": "subslide"
    }
   },
   "source": [
    "## Structure elements are references\n",
    "\n",
    "- References are _by default_ fixed (constant).\n",
    "- However: References pointed to by those elements **may** be references themselves whose values can be modified."
   ]
  },
  {
   "cell_type": "code",
   "execution_count": 4,
   "id": "f099bbe8",
   "metadata": {
    "slideshow": {
     "slide_type": "subslide"
    }
   },
   "outputs": [
    {
     "name": "stdout",
     "output_type": "stream",
     "text": [
      "pt1 = Point(0, 1)\n",
      "pt2 = Point(0, 1)\n",
      "pt1 == pt2 = true\n",
      "pt1 === pt2 = true\n",
      "pt1.x === pt2.x = true\n",
      "pt1.y === pt2.y = true\n"
     ]
    }
   ],
   "source": [
    "pt1 = Point();\n",
    "pt2 = Point();\n",
    "\n",
    "@show pt1\n",
    "@show pt2\n",
    "\n",
    "@show pt1 == pt2\n",
    "@show pt1 === pt2\n",
    "@show pt1.x === pt2.x\n",
    "@show pt1.y === pt2.y;"
   ]
  },
  {
   "cell_type": "code",
   "execution_count": 5,
   "id": "130d92b1",
   "metadata": {
    "slideshow": {
     "slide_type": "subslide"
    }
   },
   "outputs": [
    {
     "name": "stdout",
     "output_type": "stream",
     "text": [
      "pt3 = Point(1, 1)\n"
     ]
    }
   ],
   "source": [
    "pt3 = Point(1,1)\n",
    "@show pt3;"
   ]
  },
  {
   "cell_type": "code",
   "execution_count": 6,
   "id": "d6b0a818",
   "metadata": {
    "slideshow": {
     "slide_type": "fragment"
    }
   },
   "outputs": [
    {
     "name": "stdout",
     "output_type": "stream",
     "text": [
      "pt2 === pt3 = false\n"
     ]
    }
   ],
   "source": [
    "@show pt2 === pt3;"
   ]
  },
  {
   "cell_type": "markdown",
   "id": "a760be4d",
   "metadata": {
    "slideshow": {
     "slide_type": "subslide"
    }
   },
   "source": [
    "## Default: immutable struct\n",
    "While elements are accessible (\"exposed\" or \"public\"), they are not mutable."
   ]
  },
  {
   "cell_type": "code",
   "execution_count": 7,
   "id": "24119316",
   "metadata": {
    "scrolled": true
   },
   "outputs": [
    {
     "ename": "LoadError",
     "evalue": "UndefVarError: `pt4` not defined",
     "output_type": "error",
     "traceback": [
      "UndefVarError: `pt4` not defined",
      "",
      "Stacktrace:",
      " [1] macro expansion",
      "   @ show.jl:1181 [inlined]",
      " [2] top-level scope",
      "   @ In[7]:1"
     ]
    }
   ],
   "source": [
    "@show pt4\n",
    "\n",
    "println(\"Changing x-value of pt4...\")\n",
    "pt4.x = 0"
   ]
  },
  {
   "cell_type": "markdown",
   "id": "afae8974",
   "metadata": {
    "slideshow": {
     "slide_type": "slide"
    }
   },
   "source": [
    "## LLVM\n",
    "\n",
    "- Low-level generator of code from high-level codes (Low Level Virtual Machine)\n",
    "- Dependent on:\n",
    "    1. Multiple dispatch, and\n",
    "    1. Type stability"
   ]
  },
  {
   "cell_type": "markdown",
   "id": "885ecdf2",
   "metadata": {
    "slideshow": {
     "slide_type": "slide"
    }
   },
   "source": [
    "## Default inlining\n",
    "\n",
    "Consider the two functions\n",
    "$$f(x) = 5x + 3$$\n",
    "and\n",
    "$$g(x) = f(2x)$$"
   ]
  },
  {
   "cell_type": "code",
   "execution_count": 47,
   "id": "c253226a",
   "metadata": {},
   "outputs": [
    {
     "data": {
      "text/plain": [
       "g (generic function with 1 method)"
      ]
     },
     "execution_count": 47,
     "metadata": {},
     "output_type": "execute_result"
    }
   ],
   "source": [
    "f(x) = 5x + 3\n",
    "g(x) = f(2x)"
   ]
  },
  {
   "cell_type": "code",
   "execution_count": 48,
   "id": "59a5c210",
   "metadata": {
    "scrolled": true,
    "slideshow": {
     "slide_type": "subslide"
    }
   },
   "outputs": [
    {
     "data": {
      "text/plain": [
       "CodeInfo(\n",
       "\u001b[90m1 ─\u001b[39m %1 = Base.mul_int(2, x)\u001b[36m::Int64\u001b[39m\n",
       "\u001b[90m│  \u001b[39m %2 = Base.mul_int(5, %1)\u001b[36m::Int64\u001b[39m\n",
       "\u001b[90m│  \u001b[39m %3 = Base.add_int(%2, 3)\u001b[36m::Int64\u001b[39m\n",
       "\u001b[90m└──\u001b[39m      return %3\n",
       ") => Int64"
      ]
     },
     "execution_count": 48,
     "metadata": {},
     "output_type": "execute_result"
    }
   ],
   "source": [
    "@code_typed g(3)"
   ]
  },
  {
   "cell_type": "markdown",
   "id": "c3d9b348",
   "metadata": {
    "slideshow": {
     "slide_type": "subslide"
    }
   },
   "source": [
    "## Inlined result\n",
    "\n",
    "Note that\n",
    "$$g(x) = f(2x) = 5(2x) + 3 = 10x + 3$$\n",
    "and the LLVM processed code now looks as follows."
   ]
  },
  {
   "cell_type": "code",
   "execution_count": 51,
   "id": "09d9e4e7",
   "metadata": {
    "scrolled": true
   },
   "outputs": [
    {
     "name": "stdout",
     "output_type": "stream",
     "text": [
      "\u001b[90m;  @ In[47]:2 within `g`\u001b[39m\n",
      "\u001b[95mdefine\u001b[39m \u001b[36mi64\u001b[39m \u001b[93m@julia_g_4193\u001b[39m\u001b[33m(\u001b[39m\u001b[36mi64\u001b[39m \u001b[95msignext\u001b[39m \u001b[0m%0\u001b[33m)\u001b[39m \u001b[0m#0 \u001b[33m{\u001b[39m\n",
      "\u001b[91mtop:\u001b[39m\n",
      "\u001b[90m; ┌ @ In[47]:1 within `f`\u001b[39m\n",
      "\u001b[90m; │┌ @ int.jl:88 within `*`\u001b[39m\n",
      "    \u001b[0m%1 \u001b[0m= \u001b[96m\u001b[1mmul\u001b[22m\u001b[39m \u001b[36mi64\u001b[39m \u001b[0m%0\u001b[0m, \u001b[33m10\u001b[39m\n",
      "\u001b[90m; │└\u001b[39m\n",
      "\u001b[90m; │┌ @ int.jl:87 within `+`\u001b[39m\n",
      "    \u001b[0m%2 \u001b[0m= \u001b[96m\u001b[1madd\u001b[22m\u001b[39m \u001b[36mi64\u001b[39m \u001b[0m%1\u001b[0m, \u001b[33m3\u001b[39m\n",
      "\u001b[90m; └└\u001b[39m\n",
      "  \u001b[96m\u001b[1mret\u001b[22m\u001b[39m \u001b[36mi64\u001b[39m \u001b[0m%2\n",
      "\u001b[33m}\u001b[39m\n"
     ]
    }
   ],
   "source": [
    "@code_llvm g(3)"
   ]
  },
  {
   "cell_type": "markdown",
   "id": "7ca54b36",
   "metadata": {},
   "source": [
    "The inlined multiplication $(5 \\cdot 2)x$ are combined to form $10x$ within the function."
   ]
  },
  {
   "cell_type": "markdown",
   "id": "27a21854",
   "metadata": {
    "slideshow": {
     "slide_type": "slide"
    }
   },
   "source": [
    "## Method (function)\n",
    "\n",
    "Mapping of the input `Tuple` to the output `Tuple`\n",
    "\n",
    "## Multiple dispatch\n",
    "\n",
    "- Unique machine codeblocks for each unique mapping (\"method\")\n",
    "- Similar to polymorphism in other programming languages"
   ]
  },
  {
   "cell_type": "code",
   "execution_count": 8,
   "id": "37f8a880",
   "metadata": {
    "slideshow": {
     "slide_type": "subslide"
    }
   },
   "outputs": [
    {
     "data": {
      "text/latex": [
       "\\begin{verbatim}\n",
       "^(x, y)\n",
       "\\end{verbatim}\n",
       "Exponentiation operator. If \\texttt{x} is a matrix, computes matrix exponentiation.\n",
       "\n",
       "If \\texttt{y} is an \\texttt{Int} literal (e.g. \\texttt{2} in \\texttt{x\\^{}2} or \\texttt{-3} in \\texttt{x\\^{}-3}), the Julia code \\texttt{x\\^{}y} is transformed by the compiler to \\texttt{Base.literal\\_pow(\\^{}, x, Val(y))}, to enable compile-time specialization on the value of the exponent. (As a default fallback we have \\texttt{Base.literal\\_pow(\\^{}, x, Val(y)) = \\^{}(x,y)}, where usually \\texttt{\\^{} == Base.\\^{}} unless \\texttt{\\^{}} has been defined in the calling namespace.) If \\texttt{y} is a negative integer literal, then \\texttt{Base.literal\\_pow} transforms the operation to \\texttt{inv(x)\\^{}-y} by default, where \\texttt{-y} is positive.\n",
       "\n",
       "\\section{Examples}\n",
       "\\begin{verbatim}\n",
       "julia> 3^5\n",
       "243\n",
       "\n",
       "julia> A = [1 2; 3 4]\n",
       "2×2 Matrix{Int64}:\n",
       " 1  2\n",
       " 3  4\n",
       "\n",
       "julia> A^3\n",
       "2×2 Matrix{Int64}:\n",
       " 37   54\n",
       " 81  118\n",
       "\\end{verbatim}\n"
      ],
      "text/markdown": [
       "```\n",
       "^(x, y)\n",
       "```\n",
       "\n",
       "Exponentiation operator. If `x` is a matrix, computes matrix exponentiation.\n",
       "\n",
       "If `y` is an `Int` literal (e.g. `2` in `x^2` or `-3` in `x^-3`), the Julia code `x^y` is transformed by the compiler to `Base.literal_pow(^, x, Val(y))`, to enable compile-time specialization on the value of the exponent. (As a default fallback we have `Base.literal_pow(^, x, Val(y)) = ^(x,y)`, where usually `^ == Base.^` unless `^` has been defined in the calling namespace.) If `y` is a negative integer literal, then `Base.literal_pow` transforms the operation to `inv(x)^-y` by default, where `-y` is positive.\n",
       "\n",
       "# Examples\n",
       "\n",
       "```jldoctest\n",
       "julia> 3^5\n",
       "243\n",
       "\n",
       "julia> A = [1 2; 3 4]\n",
       "2×2 Matrix{Int64}:\n",
       " 1  2\n",
       " 3  4\n",
       "\n",
       "julia> A^3\n",
       "2×2 Matrix{Int64}:\n",
       " 37   54\n",
       " 81  118\n",
       "```\n"
      ],
      "text/plain": [
       "\u001b[36m  ^(x, y)\u001b[39m\n",
       "\n",
       "  Exponentiation operator. If \u001b[36mx\u001b[39m is a matrix, computes matrix exponentiation.\n",
       "\n",
       "  If \u001b[36my\u001b[39m is an \u001b[36mInt\u001b[39m literal (e.g. \u001b[36m2\u001b[39m in \u001b[36mx^2\u001b[39m or \u001b[36m-3\u001b[39m in \u001b[36mx^-3\u001b[39m), the Julia code \u001b[36mx^y\u001b[39m is\n",
       "  transformed by the compiler to \u001b[36mBase.literal_pow(^, x, Val(y))\u001b[39m, to enable\n",
       "  compile-time specialization on the value of the exponent. (As a default\n",
       "  fallback we have \u001b[36mBase.literal_pow(^, x, Val(y)) = ^(x,y)\u001b[39m, where usually \u001b[36m^ ==\n",
       "  Base.^\u001b[39m unless \u001b[36m^\u001b[39m has been defined in the calling namespace.) If \u001b[36my\u001b[39m is a\n",
       "  negative integer literal, then \u001b[36mBase.literal_pow\u001b[39m transforms the operation to\n",
       "  \u001b[36minv(x)^-y\u001b[39m by default, where \u001b[36m-y\u001b[39m is positive.\n",
       "\n",
       "\u001b[1m  Examples\u001b[22m\n",
       "\u001b[1m  ≡≡≡≡≡≡≡≡\u001b[22m\n",
       "\n",
       "\u001b[36m  julia> 3^5\u001b[39m\n",
       "\u001b[36m  243\u001b[39m\n",
       "\u001b[36m  \u001b[39m\n",
       "\u001b[36m  julia> A = [1 2; 3 4]\u001b[39m\n",
       "\u001b[36m  2×2 Matrix{Int64}:\u001b[39m\n",
       "\u001b[36m   1  2\u001b[39m\n",
       "\u001b[36m   3  4\u001b[39m\n",
       "\u001b[36m  \u001b[39m\n",
       "\u001b[36m  julia> A^3\u001b[39m\n",
       "\u001b[36m  2×2 Matrix{Int64}:\u001b[39m\n",
       "\u001b[36m   37   54\u001b[39m\n",
       "\u001b[36m   81  118\u001b[39m"
      ]
     },
     "execution_count": 8,
     "metadata": {},
     "output_type": "execute_result"
    }
   ],
   "source": [
    "? ^(x::Number,y::Number)"
   ]
  },
  {
   "cell_type": "code",
   "execution_count": 9,
   "id": "95b12dd3",
   "metadata": {
    "slideshow": {
     "slide_type": "subslide"
    }
   },
   "outputs": [
    {
     "data": {
      "text/plain": [
       "CodeInfo(\n",
       "\u001b[90m1 ─\u001b[39m %1 = invoke Base.power_by_squaring(x::Int64, p::Int64)\u001b[36m::Int64\u001b[39m\n",
       "\u001b[90m└──\u001b[39m      return %1\n",
       ") => Int64"
      ]
     },
     "execution_count": 9,
     "metadata": {},
     "output_type": "execute_result"
    }
   ],
   "source": [
    "@code_typed 3^5"
   ]
  },
  {
   "cell_type": "code",
   "execution_count": 10,
   "id": "02041d74",
   "metadata": {
    "slideshow": {
     "slide_type": "fragment"
    }
   },
   "outputs": [
    {
     "data": {
      "text/plain": [
       "CodeInfo(\n",
       "\u001b[90m1 ─\u001b[39m %1 = Base.sitofp(Float64, x)\u001b[36m::Float64\u001b[39m\n",
       "\u001b[90m│  \u001b[39m %2 = invoke Base.:^(%1::Float64, y::Float64)\u001b[36m::Float64\u001b[39m\n",
       "\u001b[90m└──\u001b[39m      return %2\n",
       ") => Float64"
      ]
     },
     "execution_count": 10,
     "metadata": {},
     "output_type": "execute_result"
    }
   ],
   "source": [
    "@code_typed 3^5.0"
   ]
  },
  {
   "cell_type": "code",
   "execution_count": 11,
   "id": "269e2dc8",
   "metadata": {
    "slideshow": {
     "slide_type": "subslide"
    }
   },
   "outputs": [
    {
     "data": {
      "text/plain": [
       "\"33333\""
      ]
     },
     "execution_count": 11,
     "metadata": {},
     "output_type": "execute_result"
    }
   ],
   "source": [
    "\"3\"^5"
   ]
  },
  {
   "cell_type": "code",
   "execution_count": 12,
   "id": "06cca275",
   "metadata": {
    "slideshow": {
     "slide_type": "fragment"
    }
   },
   "outputs": [
    {
     "data": {
      "text/plain": [
       "CodeInfo(\n",
       "\u001b[90m1 ─\u001b[39m %1 = invoke Base.repeat(s::String, r::Int64)\u001b[36m::String\u001b[39m\n",
       "\u001b[90m└──\u001b[39m      return %1\n",
       ") => String"
      ]
     },
     "execution_count": 12,
     "metadata": {},
     "output_type": "execute_result"
    }
   ],
   "source": [
    "@code_typed \"3\"^5"
   ]
  },
  {
   "cell_type": "code",
   "execution_count": 13,
   "id": "42b14479",
   "metadata": {
    "scrolled": true,
    "slideshow": {
     "slide_type": "subslide"
    }
   },
   "outputs": [
    {
     "data": {
      "text/html": [
       "# 68 methods for generic function <b>^</b> from \u001b[90mBase\u001b[39m:<ul><li> ^(x::<b>Bool</b>, y::<b>BigInt</b>) in Base.GMP at <a href=\"https://github.com/JuliaLang/julia/tree/7790d6f06411be1fd5aec7cb6fffdb38c89c0c2a/base/gmp.jl#L656\" target=\"_blank\">gmp.jl:656</a></li> <li> ^(x::<b>Bool</b>, y::<b>Bool</b>) in Base at <a href=\"https://github.com/JuliaLang/julia/tree/7790d6f06411be1fd5aec7cb6fffdb38c89c0c2a/base/bool.jl#L169\" target=\"_blank\">bool.jl:169</a></li> <li> ^(r::<b>Regex</b>, i::<b>Integer</b>) in Base at <a href=\"https://github.com/JuliaLang/julia/tree/7790d6f06411be1fd5aec7cb6fffdb38c89c0c2a/base/regex.jl#L863\" target=\"_blank\">regex.jl:863</a></li> <li> ^(x::<b>Float16</b>, y::<b>Integer</b>) in Base.Math at <a href=\"https://github.com/JuliaLang/julia/tree/7790d6f06411be1fd5aec7cb6fffdb38c89c0c2a/base/math.jl#L1283\" target=\"_blank\">math.jl:1283</a></li> <li> ^(::<b>Irrational{:ℯ}</b>, A::<b>AbstractMatrix</b>) in LinearAlgebra at <a href=\"file:///Users/julia/.julia/scratchspaces/a66863c6-20e8-4ff4-8a62-49f30b1f605e/agent-cache/default-macmini-x64-5.0/build/default-macmini-x64-5-0/julialang/julia-release-1-dot-10/usr/share/julia/stdlib/v1.10/LinearAlgebra/src/dense.jl\" target=\"_blank\">/Users/johnrob/.julia/juliaup/julia-1.10.1+0.x64.apple.darwin14/share/julia/stdlib/v1.10/LinearAlgebra/src/dense.jl:645</a></li> <li> ^(::<b>Irrational{:ℯ}</b>, x::<b>Complex</b>) in Base.MathConstants at <a href=\"https://github.com/JuliaLang/julia/tree/7790d6f06411be1fd5aec7cb6fffdb38c89c0c2a/base/mathconstants.jl#L119\" target=\"_blank\">mathconstants.jl:119</a></li> <li> ^(::<b>Irrational{:ℯ}</b>, x::<b>Integer</b>) in Base.MathConstants at <a href=\"https://github.com/JuliaLang/julia/tree/7790d6f06411be1fd5aec7cb6fffdb38c89c0c2a/base/mathconstants.jl#L119\" target=\"_blank\">mathconstants.jl:119</a></li> <li> ^(::<b>Irrational{:ℯ}</b>, x::<b>Rational</b>) in Base.MathConstants at <a href=\"https://github.com/JuliaLang/julia/tree/7790d6f06411be1fd5aec7cb6fffdb38c89c0c2a/base/mathconstants.jl#L119\" target=\"_blank\">mathconstants.jl:119</a></li> <li> ^(::<b>Irrational{:ℯ}</b>, x::<b>AbstractIrrational</b>) in Base.MathConstants at <a href=\"https://github.com/JuliaLang/julia/tree/7790d6f06411be1fd5aec7cb6fffdb38c89c0c2a/base/mathconstants.jl#L119\" target=\"_blank\">mathconstants.jl:119</a></li> <li> ^(x::<b>Float32</b>, n::<b>Integer</b>) in Base.Math at <a href=\"https://github.com/JuliaLang/julia/tree/7790d6f06411be1fd5aec7cb6fffdb38c89c0c2a/base/math.jl#L1277\" target=\"_blank\">math.jl:1277</a></li> <li> ^(x::<b>Float64</b>, n::<b>Integer</b>) in Base.Math at <a href=\"https://github.com/JuliaLang/julia/tree/7790d6f06411be1fd5aec7cb6fffdb38c89c0c2a/base/math.jl#L1246\" target=\"_blank\">math.jl:1246</a></li> <li> ^(x::<b>BigInt</b>, y::<b>Bool</b>) in Base.GMP at <a href=\"https://github.com/JuliaLang/julia/tree/7790d6f06411be1fd5aec7cb6fffdb38c89c0c2a/base/gmp.jl#L653\" target=\"_blank\">gmp.jl:653</a></li> <li> ^(x::<b>BigInt</b>, y::<b>BigInt</b>) in Base.GMP at <a href=\"https://github.com/JuliaLang/julia/tree/7790d6f06411be1fd5aec7cb6fffdb38c89c0c2a/base/gmp.jl#L652\" target=\"_blank\">gmp.jl:652</a></li> <li> ^(x::<b>BigInt</b>, y::<b>UInt64</b>) in Base.GMP at <a href=\"https://github.com/JuliaLang/julia/tree/7790d6f06411be1fd5aec7cb6fffdb38c89c0c2a/base/gmp.jl#L628\" target=\"_blank\">gmp.jl:628</a></li> <li> ^(x::<b>BigInt</b>, y::<b>Integer</b>) in Base.GMP at <a href=\"https://github.com/JuliaLang/julia/tree/7790d6f06411be1fd5aec7cb6fffdb38c89c0c2a/base/gmp.jl#L654\" target=\"_blank\">gmp.jl:654</a></li> <li> ^(x::<b>Integer</b>, y::<b>BigInt</b>) in Base.GMP at <a href=\"https://github.com/JuliaLang/julia/tree/7790d6f06411be1fd5aec7cb6fffdb38c89c0c2a/base/gmp.jl#L655\" target=\"_blank\">gmp.jl:655</a></li> <li> ^(x::<b>Integer</b>, y::<b>Bool</b>) in Base at <a href=\"https://github.com/JuliaLang/julia/tree/7790d6f06411be1fd5aec7cb6fffdb38c89c0c2a/base/bool.jl#L170\" target=\"_blank\">bool.jl:170</a></li> <li> ^(x::<b>BigFloat</b>, y::<b>BigInt</b>) in Base.MPFR at <a href=\"https://github.com/JuliaLang/julia/tree/7790d6f06411be1fd5aec7cb6fffdb38c89c0c2a/base/mpfr.jl#L664\" target=\"_blank\">mpfr.jl:664</a></li> <li> ^(x::<b>BigFloat</b>, y::<b>Union{UInt16, UInt32, UInt64, UInt8}</b>) in Base.MPFR at <a href=\"https://github.com/JuliaLang/julia/tree/7790d6f06411be1fd5aec7cb6fffdb38c89c0c2a/base/mpfr.jl#L652\" target=\"_blank\">mpfr.jl:652</a></li> <li> ^(x::<b>BigFloat</b>, y::<b>Unsigned</b>) in Base.MPFR at <a href=\"https://github.com/JuliaLang/julia/tree/7790d6f06411be1fd5aec7cb6fffdb38c89c0c2a/base/mpfr.jl#L671\" target=\"_blank\">mpfr.jl:671</a></li> <li> ^(x::<b>BigFloat</b>, y::<b>Union{Int16, Int32, Int64, Int8}</b>) in Base.MPFR at <a href=\"https://github.com/JuliaLang/julia/tree/7790d6f06411be1fd5aec7cb6fffdb38c89c0c2a/base/mpfr.jl#L658\" target=\"_blank\">mpfr.jl:658</a></li> <li> ^(x::<b>BigFloat</b>, y::<b>Integer</b>) in Base.MPFR at <a href=\"https://github.com/JuliaLang/julia/tree/7790d6f06411be1fd5aec7cb6fffdb38c89c0c2a/base/mpfr.jl#L670\" target=\"_blank\">mpfr.jl:670</a></li> <li> ^(x::<b>T</b>, p::<b>T</b>)<i> where T<:Integer</i> in Base at <a href=\"https://github.com/JuliaLang/julia/tree/7790d6f06411be1fd5aec7cb6fffdb38c89c0c2a/base/intfuncs.jl#L310\" target=\"_blank\">intfuncs.jl:310</a></li> <li> ^(x::<b>Rational</b>, n::<b>Integer</b>) in Base at <a href=\"https://github.com/JuliaLang/julia/tree/7790d6f06411be1fd5aec7cb6fffdb38c89c0c2a/base/rational.jl#L507\" target=\"_blank\">rational.jl:507</a></li> <li> ^(z::<b>Complex{<:Rational}</b>, n::<b>Bool</b>) in Base at <a href=\"https://github.com/JuliaLang/julia/tree/7790d6f06411be1fd5aec7cb6fffdb38c89c0c2a/base/rational.jl#L515\" target=\"_blank\">rational.jl:515</a></li> <li> ^(z::<b>Complex{<:AbstractFloat}</b>, n::<b>Bool</b>) in Base at <a href=\"https://github.com/JuliaLang/julia/tree/7790d6f06411be1fd5aec7cb6fffdb38c89c0c2a/base/complex.jl#L869\" target=\"_blank\">complex.jl:869</a></li> <li> ^(z::<b>Complex{<:Integer}</b>, n::<b>Bool</b>) in Base at <a href=\"https://github.com/JuliaLang/julia/tree/7790d6f06411be1fd5aec7cb6fffdb38c89c0c2a/base/complex.jl#L870\" target=\"_blank\">complex.jl:870</a></li> <li> ^(z::<b>Complex{<:Rational}</b>, n::<b>Integer</b>) in Base at <a href=\"https://github.com/JuliaLang/julia/tree/7790d6f06411be1fd5aec7cb6fffdb38c89c0c2a/base/rational.jl#L516\" target=\"_blank\">rational.jl:516</a></li> <li> ^(z::<b>Complex</b>, n::<b>Bool</b>) in Base at <a href=\"https://github.com/JuliaLang/julia/tree/7790d6f06411be1fd5aec7cb6fffdb38c89c0c2a/base/complex.jl#L866\" target=\"_blank\">complex.jl:866</a></li> <li> ^(z::<b>Complex{<:Integer}</b>, n::<b>Integer</b>) in Base at <a href=\"https://github.com/JuliaLang/julia/tree/7790d6f06411be1fd5aec7cb6fffdb38c89c0c2a/base/complex.jl#L874\" target=\"_blank\">complex.jl:874</a></li> <li> ^(z::<b>Complex{<:AbstractFloat}</b>, n::<b>Integer</b>) in Base at <a href=\"https://github.com/JuliaLang/julia/tree/7790d6f06411be1fd5aec7cb6fffdb38c89c0c2a/base/complex.jl#L872\" target=\"_blank\">complex.jl:872</a></li> <li> ^(z::<b>Complex</b>, n::<b>Integer</b>) in Base at <a href=\"https://github.com/JuliaLang/julia/tree/7790d6f06411be1fd5aec7cb6fffdb38c89c0c2a/base/complex.jl#L867\" target=\"_blank\">complex.jl:867</a></li> <li> ^(x::<b>T</b>, y::<b>Rational</b>)<i> where T<:AbstractFloat</i> in Base at <a href=\"https://github.com/JuliaLang/julia/tree/7790d6f06411be1fd5aec7cb6fffdb38c89c0c2a/base/rational.jl#L512\" target=\"_blank\">rational.jl:512</a></li> <li> ^(z::<b>Complex{T}</b>, p::<b>Rational</b>)<i> where T<:Real</i> in Base at <a href=\"https://github.com/JuliaLang/julia/tree/7790d6f06411be1fd5aec7cb6fffdb38c89c0c2a/base/rational.jl#L513\" target=\"_blank\">rational.jl:513</a></li> <li> ^(::<b>Irrational{:ℯ}</b>, x::<b>Number</b>) in Base.MathConstants at <a href=\"https://github.com/JuliaLang/julia/tree/7790d6f06411be1fd5aec7cb6fffdb38c89c0c2a/base/mathconstants.jl#L119\" target=\"_blank\">mathconstants.jl:119</a></li> <li> ^(z::<b>T</b>, p::<b>Complex{S}</b>)<i> where {T<:Real, S<:Real}</i> in Base at <a href=\"https://github.com/JuliaLang/julia/tree/7790d6f06411be1fd5aec7cb6fffdb38c89c0c2a/base/complex.jl#L880\" target=\"_blank\">complex.jl:880</a></li> <li> ^(z::<b>T</b>, p::<b>Complex{T}</b>)<i> where T<:Real</i> in Base at <a href=\"https://github.com/JuliaLang/julia/tree/7790d6f06411be1fd5aec7cb6fffdb38c89c0c2a/base/complex.jl#L864\" target=\"_blank\">complex.jl:864</a></li> <li> ^(x::<b>Number</b>, p::<b>Integer</b>) in Base at <a href=\"https://github.com/JuliaLang/julia/tree/7790d6f06411be1fd5aec7cb6fffdb38c89c0c2a/base/intfuncs.jl#L311\" target=\"_blank\">intfuncs.jl:311</a></li> <li> ^(z::<b>Complex{T}</b>, p::<b>S</b>)<i> where {T<:Real, S<:Real}</i> in Base at <a href=\"https://github.com/JuliaLang/julia/tree/7790d6f06411be1fd5aec7cb6fffdb38c89c0c2a/base/complex.jl#L876\" target=\"_blank\">complex.jl:876</a></li> <li> ^(x::<b>Number</b>, y::<b>Rational</b>) in Base at <a href=\"https://github.com/JuliaLang/julia/tree/7790d6f06411be1fd5aec7cb6fffdb38c89c0c2a/base/rational.jl#L511\" target=\"_blank\">rational.jl:511</a></li> <li> ^(z::<b>Complex{T}</b>, p::<b>T</b>)<i> where T<:Real</i> in Base at <a href=\"https://github.com/JuliaLang/julia/tree/7790d6f06411be1fd5aec7cb6fffdb38c89c0c2a/base/complex.jl#L863\" target=\"_blank\">complex.jl:863</a></li> <li> ^(x::<b>AbstractIrrational</b>, y::<b>AbstractIrrational</b>) in Base at <a href=\"https://github.com/JuliaLang/julia/tree/7790d6f06411be1fd5aec7cb6fffdb38c89c0c2a/base/irrationals.jl#L161\" target=\"_blank\">irrationals.jl:161</a></li> <li> ^(x::<b>Float64</b>, y::<b>Float64</b>) in Base.Math at <a href=\"https://github.com/JuliaLang/julia/tree/7790d6f06411be1fd5aec7cb6fffdb38c89c0c2a/base/math.jl#L1194\" target=\"_blank\">math.jl:1194</a></li> <li> ^(::<b>Missing</b>, ::<b>Missing</b>) in Base at <a href=\"https://github.com/JuliaLang/julia/tree/7790d6f06411be1fd5aec7cb6fffdb38c89c0c2a/base/missing.jl#L122\" target=\"_blank\">missing.jl:122</a></li> <li> ^(::<b>Missing</b>, ::<b>Integer</b>) in Base at <a href=\"https://github.com/JuliaLang/julia/tree/7790d6f06411be1fd5aec7cb6fffdb38c89c0c2a/base/missing.jl#L165\" target=\"_blank\">missing.jl:165</a></li> <li> ^(::<b>Missing</b>, ::<b>Number</b>) in Base at <a href=\"https://github.com/JuliaLang/julia/tree/7790d6f06411be1fd5aec7cb6fffdb38c89c0c2a/base/missing.jl#L123\" target=\"_blank\">missing.jl:123</a></li> <li> ^(x::<b>BigFloat</b>, y::<b>BigFloat</b>) in Base.MPFR at <a href=\"https://github.com/JuliaLang/julia/tree/7790d6f06411be1fd5aec7cb6fffdb38c89c0c2a/base/mpfr.jl#L646\" target=\"_blank\">mpfr.jl:646</a></li> <li> ^(b::<b>Number</b>, A::<b>AbstractMatrix</b>) in LinearAlgebra at <a href=\"file:///Users/julia/.julia/scratchspaces/a66863c6-20e8-4ff4-8a62-49f30b1f605e/agent-cache/default-macmini-x64-5.0/build/default-macmini-x64-5-0/julialang/julia-release-1-dot-10/usr/share/julia/stdlib/v1.10/LinearAlgebra/src/dense.jl\" target=\"_blank\">/Users/johnrob/.julia/juliaup/julia-1.10.1+0.x64.apple.darwin14/share/julia/stdlib/v1.10/LinearAlgebra/src/dense.jl:643</a></li> <li> ^(::<b>Number</b>, ::<b>Missing</b>) in Base at <a href=\"https://github.com/JuliaLang/julia/tree/7790d6f06411be1fd5aec7cb6fffdb38c89c0c2a/base/missing.jl#L124\" target=\"_blank\">missing.jl:124</a></li> <li> ^(z::<b>Complex{T}</b>, p::<b>Complex{T}</b>)<i> where T<:Real</i> in Base at <a href=\"https://github.com/JuliaLang/julia/tree/7790d6f06411be1fd5aec7cb6fffdb38c89c0c2a/base/complex.jl#L862\" target=\"_blank\">complex.jl:862</a></li> <li> ^(x::<b>T</b>, y::<b>T</b>)<i> where T<:Union{Float16, Float32}</i> in Base.Math at <a href=\"https://github.com/JuliaLang/julia/tree/7790d6f06411be1fd5aec7cb6fffdb38c89c0c2a/base/math.jl#L1224\" target=\"_blank\">math.jl:1224</a></li> <li> ^(x::<b>T</b>, y::<b>T</b>)<i> where T<:Number</i> in Base at <a href=\"https://github.com/JuliaLang/julia/tree/7790d6f06411be1fd5aec7cb6fffdb38c89c0c2a/base/promotion.jl#L511\" target=\"_blank\">promotion.jl:511</a></li> <li> ^(x::<b>Number</b>, y::<b>Number</b>) in Base at <a href=\"https://github.com/JuliaLang/julia/tree/7790d6f06411be1fd5aec7cb6fffdb38c89c0c2a/base/promotion.jl#L456\" target=\"_blank\">promotion.jl:456</a></li> <li> ^(A::<b>LinearAlgebra.Hermitian</b>, p::<b>Integer</b>) in LinearAlgebra at <a href=\"file:///Users/julia/.julia/scratchspaces/a66863c6-20e8-4ff4-8a62-49f30b1f605e/agent-cache/default-macmini-x64-5.0/build/default-macmini-x64-5-0/julialang/julia-release-1-dot-10/usr/share/julia/stdlib/v1.10/LinearAlgebra/src/symmetric.jl\" target=\"_blank\">/Users/johnrob/.julia/juliaup/julia-1.10.1+0.x64.apple.darwin14/share/julia/stdlib/v1.10/LinearAlgebra/src/symmetric.jl:652</a></li> <li> ^(D::<b>LinearAlgebra.Diagonal</b>, a::<b>Integer</b>) in LinearAlgebra at <a href=\"file:///Users/julia/.julia/scratchspaces/a66863c6-20e8-4ff4-8a62-49f30b1f605e/agent-cache/default-macmini-x64-5.0/build/default-macmini-x64-5-0/julialang/julia-release-1-dot-10/usr/share/julia/stdlib/v1.10/LinearAlgebra/src/diagonal.jl\" target=\"_blank\">/Users/johnrob/.julia/juliaup/julia-1.10.1+0.x64.apple.darwin14/share/julia/stdlib/v1.10/LinearAlgebra/src/diagonal.jl:249</a></li> <li> ^(A::<b>LinearAlgebra.Hermitian{T, S} where S<:(AbstractMatrix{<:T})</b>, p::<b>Real</b>)<i> where T</i> in LinearAlgebra at <a href=\"file:///Users/julia/.julia/scratchspaces/a66863c6-20e8-4ff4-8a62-49f30b1f605e/agent-cache/default-macmini-x64-5.0/build/default-macmini-x64-5-0/julialang/julia-release-1-dot-10/usr/share/julia/stdlib/v1.10/LinearAlgebra/src/symmetric.jl\" target=\"_blank\">/Users/johnrob/.julia/juliaup/julia-1.10.1+0.x64.apple.darwin14/share/julia/stdlib/v1.10/LinearAlgebra/src/symmetric.jl:663</a></li> <li> ^(A::<b>AbstractMatrix{T}</b>, p::<b>Integer</b>)<i> where T<:Integer</i> in LinearAlgebra at <a href=\"file:///Users/julia/.julia/scratchspaces/a66863c6-20e8-4ff4-8a62-49f30b1f605e/agent-cache/default-macmini-x64-5.0/build/default-macmini-x64-5-0/julialang/julia-release-1-dot-10/usr/share/julia/stdlib/v1.10/LinearAlgebra/src/dense.jl\" target=\"_blank\">/Users/johnrob/.julia/juliaup/julia-1.10.1+0.x64.apple.darwin14/share/julia/stdlib/v1.10/LinearAlgebra/src/dense.jl:480</a></li> <li> ^(D::<b>LinearAlgebra.Diagonal</b>, a::<b>Real</b>) in LinearAlgebra at <a href=\"file:///Users/julia/.julia/scratchspaces/a66863c6-20e8-4ff4-8a62-49f30b1f605e/agent-cache/default-macmini-x64-5.0/build/default-macmini-x64-5-0/julialang/julia-release-1-dot-10/usr/share/julia/stdlib/v1.10/LinearAlgebra/src/diagonal.jl\" target=\"_blank\">/Users/johnrob/.julia/juliaup/julia-1.10.1+0.x64.apple.darwin14/share/julia/stdlib/v1.10/LinearAlgebra/src/diagonal.jl:248</a></li> <li> ^(A::<b>AbstractMatrix</b>, p::<b>Integer</b>) in LinearAlgebra at <a href=\"file:///Users/julia/.julia/scratchspaces/a66863c6-20e8-4ff4-8a62-49f30b1f605e/agent-cache/default-macmini-x64-5.0/build/default-macmini-x64-5-0/julialang/julia-release-1-dot-10/usr/share/julia/stdlib/v1.10/LinearAlgebra/src/dense.jl\" target=\"_blank\">/Users/johnrob/.julia/juliaup/julia-1.10.1+0.x64.apple.darwin14/share/julia/stdlib/v1.10/LinearAlgebra/src/dense.jl:479</a></li> <li> ^(D::<b>LinearAlgebra.Diagonal</b>, a::<b>Number</b>) in LinearAlgebra at <a href=\"file:///Users/julia/.julia/scratchspaces/a66863c6-20e8-4ff4-8a62-49f30b1f605e/agent-cache/default-macmini-x64-5.0/build/default-macmini-x64-5-0/julialang/julia-release-1-dot-10/usr/share/julia/stdlib/v1.10/LinearAlgebra/src/diagonal.jl\" target=\"_blank\">/Users/johnrob/.julia/juliaup/julia-1.10.1+0.x64.apple.darwin14/share/julia/stdlib/v1.10/LinearAlgebra/src/diagonal.jl:247</a></li> <li> ^(A::<b>AbstractMatrix{T}</b>, p::<b>Real</b>)<i> where T</i> in LinearAlgebra at <a href=\"file:///Users/julia/.julia/scratchspaces/a66863c6-20e8-4ff4-8a62-49f30b1f605e/agent-cache/default-macmini-x64-5.0/build/default-macmini-x64-5-0/julialang/julia-release-1-dot-10/usr/share/julia/stdlib/v1.10/LinearAlgebra/src/dense.jl\" target=\"_blank\">/Users/johnrob/.julia/juliaup/julia-1.10.1+0.x64.apple.darwin14/share/julia/stdlib/v1.10/LinearAlgebra/src/dense.jl:522</a></li> <li> ^(A::<b>LinearAlgebra.Symmetric{var\"#s994\", S} where {var\"#s994\"<:Complex, S<:(AbstractMatrix{<:var\"#s994\"})}</b>, p::<b>Real</b>) in LinearAlgebra at <a href=\"file:///Users/julia/.julia/scratchspaces/a66863c6-20e8-4ff4-8a62-49f30b1f605e/agent-cache/default-macmini-x64-5.0/build/default-macmini-x64-5-0/julialang/julia-release-1-dot-10/usr/share/julia/stdlib/v1.10/LinearAlgebra/src/symmetric.jl\" target=\"_blank\">/Users/johnrob/.julia/juliaup/julia-1.10.1+0.x64.apple.darwin14/share/julia/stdlib/v1.10/LinearAlgebra/src/symmetric.jl:648</a></li> <li> ^(A::<b>LinearAlgebra.Symmetric{var\"#s994\", S} where {var\"#s994\"<:Real, S<:(AbstractMatrix{<:var\"#s994\"})}</b>, p::<b>Real</b>) in LinearAlgebra at <a href=\"file:///Users/julia/.julia/scratchspaces/a66863c6-20e8-4ff4-8a62-49f30b1f605e/agent-cache/default-macmini-x64-5.0/build/default-macmini-x64-5-0/julialang/julia-release-1-dot-10/usr/share/julia/stdlib/v1.10/LinearAlgebra/src/symmetric.jl\" target=\"_blank\">/Users/johnrob/.julia/juliaup/julia-1.10.1+0.x64.apple.darwin14/share/julia/stdlib/v1.10/LinearAlgebra/src/symmetric.jl:639</a></li> <li> ^(A::<b>LinearAlgebra.Symmetric{var\"#s994\", S} where {var\"#s994\"<:Complex, S<:(AbstractMatrix{<:var\"#s994\"})}</b>, p::<b>Integer</b>) in LinearAlgebra at <a href=\"file:///Users/julia/.julia/scratchspaces/a66863c6-20e8-4ff4-8a62-49f30b1f605e/agent-cache/default-macmini-x64-5.0/build/default-macmini-x64-5-0/julialang/julia-release-1-dot-10/usr/share/julia/stdlib/v1.10/LinearAlgebra/src/symmetric.jl\" target=\"_blank\">/Users/johnrob/.julia/juliaup/julia-1.10.1+0.x64.apple.darwin14/share/julia/stdlib/v1.10/LinearAlgebra/src/symmetric.jl:631</a></li> <li> ^(A::<b>LinearAlgebra.Symmetric{var\"#s994\", S} where {var\"#s994\"<:Real, S<:(AbstractMatrix{<:var\"#s994\"})}</b>, p::<b>Integer</b>) in LinearAlgebra at <a href=\"file:///Users/julia/.julia/scratchspaces/a66863c6-20e8-4ff4-8a62-49f30b1f605e/agent-cache/default-macmini-x64-5.0/build/default-macmini-x64-5-0/julialang/julia-release-1-dot-10/usr/share/julia/stdlib/v1.10/LinearAlgebra/src/symmetric.jl\" target=\"_blank\">/Users/johnrob/.julia/juliaup/julia-1.10.1+0.x64.apple.darwin14/share/julia/stdlib/v1.10/LinearAlgebra/src/symmetric.jl:630</a></li> <li> ^(J::<b>LinearAlgebra.UniformScaling</b>, x::<b>Number</b>) in LinearAlgebra at <a href=\"file:///Users/julia/.julia/scratchspaces/a66863c6-20e8-4ff4-8a62-49f30b1f605e/agent-cache/default-macmini-x64-5.0/build/default-macmini-x64-5-0/julialang/julia-release-1-dot-10/usr/share/julia/stdlib/v1.10/LinearAlgebra/src/uniformscaling.jl\" target=\"_blank\">/Users/johnrob/.julia/juliaup/julia-1.10.1+0.x64.apple.darwin14/share/julia/stdlib/v1.10/LinearAlgebra/src/uniformscaling.jl:317</a></li> <li> ^(A::<b>AbstractMatrix</b>, p::<b>Number</b>) in LinearAlgebra at <a href=\"file:///Users/julia/.julia/scratchspaces/a66863c6-20e8-4ff4-8a62-49f30b1f605e/agent-cache/default-macmini-x64-5.0/build/default-macmini-x64-5-0/julialang/julia-release-1-dot-10/usr/share/julia/stdlib/v1.10/LinearAlgebra/src/dense.jl\" target=\"_blank\">/Users/johnrob/.julia/juliaup/julia-1.10.1+0.x64.apple.darwin14/share/julia/stdlib/v1.10/LinearAlgebra/src/dense.jl:563</a></li> <li> ^(s::<b>Union{AbstractChar, AbstractString}</b>, r::<b>Integer</b>) in Base at <a href=\"https://github.com/JuliaLang/julia/tree/7790d6f06411be1fd5aec7cb6fffdb38c89c0c2a/base/strings/basic.jl#L765\" target=\"_blank\">strings/basic.jl:765</a></li> </ul>"
      ],
      "text/plain": [
       "# 68 methods for generic function \"^\" from \u001b[90mBase\u001b[39m:\n",
       "  [1] ^(\u001b[90mx\u001b[39m::\u001b[1mBool\u001b[22m, \u001b[90my\u001b[39m::\u001b[1mBigInt\u001b[22m)\n",
       "\u001b[90m     @\u001b[39m \u001b[90mBase.GMP\u001b[39m \u001b[90m\u001b[4mgmp.jl:656\u001b[24m\u001b[39m\n",
       "  [2] ^(\u001b[90mx\u001b[39m::\u001b[1mBool\u001b[22m, \u001b[90my\u001b[39m::\u001b[1mBool\u001b[22m)\n",
       "\u001b[90m     @\u001b[39m \u001b[90m\u001b[4mbool.jl:169\u001b[24m\u001b[39m\n",
       "  [3] ^(\u001b[90mr\u001b[39m::\u001b[1mRegex\u001b[22m, \u001b[90mi\u001b[39m::\u001b[1mInteger\u001b[22m)\n",
       "\u001b[90m     @\u001b[39m \u001b[90m\u001b[4mregex.jl:863\u001b[24m\u001b[39m\n",
       "  [4] ^(\u001b[90mx\u001b[39m::\u001b[1mFloat16\u001b[22m, \u001b[90my\u001b[39m::\u001b[1mInteger\u001b[22m)\n",
       "\u001b[90m     @\u001b[39m \u001b[90mBase.Math\u001b[39m \u001b[90m\u001b[4mmath.jl:1283\u001b[24m\u001b[39m\n",
       "  [5] ^(::\u001b[1mIrrational\u001b[22m\u001b[0m{:ℯ}, \u001b[90mA\u001b[39m::\u001b[1mAbstractMatrix\u001b[22m)\n",
       "\u001b[90m     @\u001b[39m \u001b[35mLinearAlgebra\u001b[39m \u001b[90m~/.julia/juliaup/julia-1.10.1+0.x64.apple.darwin14/share/julia/stdlib/v1.10/LinearAlgebra/src/\u001b[39m\u001b[90m\u001b[4mdense.jl:645\u001b[24m\u001b[39m\n",
       "  [6] ^(::\u001b[1mIrrational\u001b[22m\u001b[0m{:ℯ}, \u001b[90mx\u001b[39m::\u001b[1mComplex\u001b[22m)\n",
       "\u001b[90m     @\u001b[39m \u001b[90mBase.MathConstants\u001b[39m \u001b[90m\u001b[4mmathconstants.jl:119\u001b[24m\u001b[39m\n",
       "  [7] ^(::\u001b[1mIrrational\u001b[22m\u001b[0m{:ℯ}, \u001b[90mx\u001b[39m::\u001b[1mInteger\u001b[22m)\n",
       "\u001b[90m     @\u001b[39m \u001b[90mBase.MathConstants\u001b[39m \u001b[90m\u001b[4mmathconstants.jl:119\u001b[24m\u001b[39m\n",
       "  [8] ^(::\u001b[1mIrrational\u001b[22m\u001b[0m{:ℯ}, \u001b[90mx\u001b[39m::\u001b[1mRational\u001b[22m)\n",
       "\u001b[90m     @\u001b[39m \u001b[90mBase.MathConstants\u001b[39m \u001b[90m\u001b[4mmathconstants.jl:119\u001b[24m\u001b[39m\n",
       "  [9] ^(::\u001b[1mIrrational\u001b[22m\u001b[0m{:ℯ}, \u001b[90mx\u001b[39m::\u001b[1mAbstractIrrational\u001b[22m)\n",
       "\u001b[90m     @\u001b[39m \u001b[90mBase.MathConstants\u001b[39m \u001b[90m\u001b[4mmathconstants.jl:119\u001b[24m\u001b[39m\n",
       " [10] ^(\u001b[90mx\u001b[39m::\u001b[1mFloat32\u001b[22m, \u001b[90mn\u001b[39m::\u001b[1mInteger\u001b[22m)\n",
       "\u001b[90m     @\u001b[39m \u001b[90mBase.Math\u001b[39m \u001b[90m\u001b[4mmath.jl:1277\u001b[24m\u001b[39m\n",
       " [11] ^(\u001b[90mx\u001b[39m::\u001b[1mFloat64\u001b[22m, \u001b[90mn\u001b[39m::\u001b[1mInteger\u001b[22m)\n",
       "\u001b[90m     @\u001b[39m \u001b[90mBase.Math\u001b[39m \u001b[90m\u001b[4mmath.jl:1246\u001b[24m\u001b[39m\n",
       " [12] ^(\u001b[90mx\u001b[39m::\u001b[1mBigInt\u001b[22m, \u001b[90my\u001b[39m::\u001b[1mBool\u001b[22m)\n",
       "\u001b[90m     @\u001b[39m \u001b[90mBase.GMP\u001b[39m \u001b[90m\u001b[4mgmp.jl:653\u001b[24m\u001b[39m\n",
       " [13] ^(\u001b[90mx\u001b[39m::\u001b[1mBigInt\u001b[22m, \u001b[90my\u001b[39m::\u001b[1mBigInt\u001b[22m)\n",
       "\u001b[90m     @\u001b[39m \u001b[90mBase.GMP\u001b[39m \u001b[90m\u001b[4mgmp.jl:652\u001b[24m\u001b[39m\n",
       " [14] ^(\u001b[90mx\u001b[39m::\u001b[1mBigInt\u001b[22m, \u001b[90my\u001b[39m::\u001b[1mUInt64\u001b[22m)\n",
       "\u001b[90m     @\u001b[39m \u001b[90mBase.GMP\u001b[39m \u001b[90m\u001b[4mgmp.jl:628\u001b[24m\u001b[39m\n",
       " [15] ^(\u001b[90mx\u001b[39m::\u001b[1mBigInt\u001b[22m, \u001b[90my\u001b[39m::\u001b[1mInteger\u001b[22m)\n",
       "\u001b[90m     @\u001b[39m \u001b[90mBase.GMP\u001b[39m \u001b[90m\u001b[4mgmp.jl:654\u001b[24m\u001b[39m\n",
       " [16] ^(\u001b[90mx\u001b[39m::\u001b[1mInteger\u001b[22m, \u001b[90my\u001b[39m::\u001b[1mBigInt\u001b[22m)\n",
       "\u001b[90m     @\u001b[39m \u001b[90mBase.GMP\u001b[39m \u001b[90m\u001b[4mgmp.jl:655\u001b[24m\u001b[39m\n",
       " [17] ^(\u001b[90mx\u001b[39m::\u001b[1mInteger\u001b[22m, \u001b[90my\u001b[39m::\u001b[1mBool\u001b[22m)\n",
       "\u001b[90m     @\u001b[39m \u001b[90m\u001b[4mbool.jl:170\u001b[24m\u001b[39m\n",
       " [18] ^(\u001b[90mx\u001b[39m::\u001b[1mBigFloat\u001b[22m, \u001b[90my\u001b[39m::\u001b[1mBigInt\u001b[22m)\n",
       "\u001b[90m     @\u001b[39m \u001b[90mBase.MPFR\u001b[39m \u001b[90m\u001b[4mmpfr.jl:664\u001b[24m\u001b[39m\n",
       " [19] ^(\u001b[90mx\u001b[39m::\u001b[1mBigFloat\u001b[22m, \u001b[90my\u001b[39m::\u001b[1mUnion\u001b[22m\u001b[0m{UInt16, UInt32, UInt64, UInt8})\n",
       "\u001b[90m     @\u001b[39m \u001b[90mBase.MPFR\u001b[39m \u001b[90m\u001b[4mmpfr.jl:652\u001b[24m\u001b[39m\n",
       " [20] ^(\u001b[90mx\u001b[39m::\u001b[1mBigFloat\u001b[22m, \u001b[90my\u001b[39m::\u001b[1mUnsigned\u001b[22m)\n",
       "\u001b[90m     @\u001b[39m \u001b[90mBase.MPFR\u001b[39m \u001b[90m\u001b[4mmpfr.jl:671\u001b[24m\u001b[39m\n",
       " [21] ^(\u001b[90mx\u001b[39m::\u001b[1mBigFloat\u001b[22m, \u001b[90my\u001b[39m::\u001b[1mUnion\u001b[22m\u001b[0m{Int16, Int32, Int64, Int8})\n",
       "\u001b[90m     @\u001b[39m \u001b[90mBase.MPFR\u001b[39m \u001b[90m\u001b[4mmpfr.jl:658\u001b[24m\u001b[39m\n",
       " [22] ^(\u001b[90mx\u001b[39m::\u001b[1mBigFloat\u001b[22m, \u001b[90my\u001b[39m::\u001b[1mInteger\u001b[22m)\n",
       "\u001b[90m     @\u001b[39m \u001b[90mBase.MPFR\u001b[39m \u001b[90m\u001b[4mmpfr.jl:670\u001b[24m\u001b[39m\n",
       " [23] ^(\u001b[90mx\u001b[39m::\u001b[1mT\u001b[22m, \u001b[90mp\u001b[39m::\u001b[1mT\u001b[22m) where T<:Integer\n",
       "\u001b[90m     @\u001b[39m \u001b[90m\u001b[4mintfuncs.jl:310\u001b[24m\u001b[39m\n",
       " [24] ^(\u001b[90mx\u001b[39m::\u001b[1mRational\u001b[22m, \u001b[90mn\u001b[39m::\u001b[1mInteger\u001b[22m)\n",
       "\u001b[90m     @\u001b[39m \u001b[90m\u001b[4mrational.jl:507\u001b[24m\u001b[39m\n",
       " [25] ^(\u001b[90mz\u001b[39m::\u001b[1mComplex\u001b[22m\u001b[0m{<:Rational}, \u001b[90mn\u001b[39m::\u001b[1mBool\u001b[22m)\n",
       "\u001b[90m     @\u001b[39m \u001b[90m\u001b[4mrational.jl:515\u001b[24m\u001b[39m\n",
       " [26] ^(\u001b[90mz\u001b[39m::\u001b[1mComplex\u001b[22m\u001b[0m{<:AbstractFloat}, \u001b[90mn\u001b[39m::\u001b[1mBool\u001b[22m)\n",
       "\u001b[90m     @\u001b[39m \u001b[90m\u001b[4mcomplex.jl:869\u001b[24m\u001b[39m\n",
       " [27] ^(\u001b[90mz\u001b[39m::\u001b[1mComplex\u001b[22m\u001b[0m{<:Integer}, \u001b[90mn\u001b[39m::\u001b[1mBool\u001b[22m)\n",
       "\u001b[90m     @\u001b[39m \u001b[90m\u001b[4mcomplex.jl:870\u001b[24m\u001b[39m\n",
       " [28] ^(\u001b[90mz\u001b[39m::\u001b[1mComplex\u001b[22m\u001b[0m{<:Rational}, \u001b[90mn\u001b[39m::\u001b[1mInteger\u001b[22m)\n",
       "\u001b[90m     @\u001b[39m \u001b[90m\u001b[4mrational.jl:516\u001b[24m\u001b[39m\n",
       " [29] ^(\u001b[90mz\u001b[39m::\u001b[1mComplex\u001b[22m, \u001b[90mn\u001b[39m::\u001b[1mBool\u001b[22m)\n",
       "\u001b[90m     @\u001b[39m \u001b[90m\u001b[4mcomplex.jl:866\u001b[24m\u001b[39m\n",
       " [30] ^(\u001b[90mz\u001b[39m::\u001b[1mComplex\u001b[22m\u001b[0m{<:Integer}, \u001b[90mn\u001b[39m::\u001b[1mInteger\u001b[22m)\n",
       "\u001b[90m     @\u001b[39m \u001b[90m\u001b[4mcomplex.jl:874\u001b[24m\u001b[39m\n",
       " [31] ^(\u001b[90mz\u001b[39m::\u001b[1mComplex\u001b[22m\u001b[0m{<:AbstractFloat}, \u001b[90mn\u001b[39m::\u001b[1mInteger\u001b[22m)\n",
       "\u001b[90m     @\u001b[39m \u001b[90m\u001b[4mcomplex.jl:872\u001b[24m\u001b[39m\n",
       " [32] ^(\u001b[90mz\u001b[39m::\u001b[1mComplex\u001b[22m, \u001b[90mn\u001b[39m::\u001b[1mInteger\u001b[22m)\n",
       "\u001b[90m     @\u001b[39m \u001b[90m\u001b[4mcomplex.jl:867\u001b[24m\u001b[39m\n",
       " [33] ^(\u001b[90mx\u001b[39m::\u001b[1mT\u001b[22m, \u001b[90my\u001b[39m::\u001b[1mRational\u001b[22m) where T<:AbstractFloat\n",
       "\u001b[90m     @\u001b[39m \u001b[90m\u001b[4mrational.jl:512\u001b[24m\u001b[39m\n",
       " [34] ^(\u001b[90mz\u001b[39m::\u001b[1mComplex\u001b[22m\u001b[0m{T}, \u001b[90mp\u001b[39m::\u001b[1mRational\u001b[22m) where T<:Real\n",
       "\u001b[90m     @\u001b[39m \u001b[90m\u001b[4mrational.jl:513\u001b[24m\u001b[39m\n",
       " [35] ^(::\u001b[1mIrrational\u001b[22m\u001b[0m{:ℯ}, \u001b[90mx\u001b[39m::\u001b[1mNumber\u001b[22m)\n",
       "\u001b[90m     @\u001b[39m \u001b[90mBase.MathConstants\u001b[39m \u001b[90m\u001b[4mmathconstants.jl:119\u001b[24m\u001b[39m\n",
       " [36] ^(\u001b[90mz\u001b[39m::\u001b[1mT\u001b[22m, \u001b[90mp\u001b[39m::\u001b[1mComplex\u001b[22m\u001b[0m{S}) where {T<:Real, S<:Real}\n",
       "\u001b[90m     @\u001b[39m \u001b[90m\u001b[4mcomplex.jl:880\u001b[24m\u001b[39m\n",
       " [37] ^(\u001b[90mz\u001b[39m::\u001b[1mT\u001b[22m, \u001b[90mp\u001b[39m::\u001b[1mComplex\u001b[22m\u001b[0m{T}) where T<:Real\n",
       "\u001b[90m     @\u001b[39m \u001b[90m\u001b[4mcomplex.jl:864\u001b[24m\u001b[39m\n",
       " [38] ^(\u001b[90mx\u001b[39m::\u001b[1mNumber\u001b[22m, \u001b[90mp\u001b[39m::\u001b[1mInteger\u001b[22m)\n",
       "\u001b[90m     @\u001b[39m \u001b[90m\u001b[4mintfuncs.jl:311\u001b[24m\u001b[39m\n",
       " [39] ^(\u001b[90mz\u001b[39m::\u001b[1mComplex\u001b[22m\u001b[0m{T}, \u001b[90mp\u001b[39m::\u001b[1mS\u001b[22m) where {T<:Real, S<:Real}\n",
       "\u001b[90m     @\u001b[39m \u001b[90m\u001b[4mcomplex.jl:876\u001b[24m\u001b[39m\n",
       " [40] ^(\u001b[90mx\u001b[39m::\u001b[1mNumber\u001b[22m, \u001b[90my\u001b[39m::\u001b[1mRational\u001b[22m)\n",
       "\u001b[90m     @\u001b[39m \u001b[90m\u001b[4mrational.jl:511\u001b[24m\u001b[39m\n",
       " [41] ^(\u001b[90mz\u001b[39m::\u001b[1mComplex\u001b[22m\u001b[0m{T}, \u001b[90mp\u001b[39m::\u001b[1mT\u001b[22m) where T<:Real\n",
       "\u001b[90m     @\u001b[39m \u001b[90m\u001b[4mcomplex.jl:863\u001b[24m\u001b[39m\n",
       " [42] ^(\u001b[90mx\u001b[39m::\u001b[1mAbstractIrrational\u001b[22m, \u001b[90my\u001b[39m::\u001b[1mAbstractIrrational\u001b[22m)\n",
       "\u001b[90m     @\u001b[39m \u001b[90m\u001b[4mirrationals.jl:161\u001b[24m\u001b[39m\n",
       " [43] ^(\u001b[90mx\u001b[39m::\u001b[1mFloat64\u001b[22m, \u001b[90my\u001b[39m::\u001b[1mFloat64\u001b[22m)\n",
       "\u001b[90m     @\u001b[39m \u001b[90mBase.Math\u001b[39m \u001b[90m\u001b[4mmath.jl:1194\u001b[24m\u001b[39m\n",
       " [44] ^(::\u001b[1mMissing\u001b[22m, ::\u001b[1mMissing\u001b[22m)\n",
       "\u001b[90m     @\u001b[39m \u001b[90m\u001b[4mmissing.jl:122\u001b[24m\u001b[39m\n",
       " [45] ^(::\u001b[1mMissing\u001b[22m, ::\u001b[1mInteger\u001b[22m)\n",
       "\u001b[90m     @\u001b[39m \u001b[90m\u001b[4mmissing.jl:165\u001b[24m\u001b[39m\n",
       " [46] ^(::\u001b[1mMissing\u001b[22m, ::\u001b[1mNumber\u001b[22m)\n",
       "\u001b[90m     @\u001b[39m \u001b[90m\u001b[4mmissing.jl:123\u001b[24m\u001b[39m\n",
       " [47] ^(\u001b[90mx\u001b[39m::\u001b[1mBigFloat\u001b[22m, \u001b[90my\u001b[39m::\u001b[1mBigFloat\u001b[22m)\n",
       "\u001b[90m     @\u001b[39m \u001b[90mBase.MPFR\u001b[39m \u001b[90m\u001b[4mmpfr.jl:646\u001b[24m\u001b[39m\n",
       " [48] ^(\u001b[90mb\u001b[39m::\u001b[1mNumber\u001b[22m, \u001b[90mA\u001b[39m::\u001b[1mAbstractMatrix\u001b[22m)\n",
       "\u001b[90m     @\u001b[39m \u001b[35mLinearAlgebra\u001b[39m \u001b[90m~/.julia/juliaup/julia-1.10.1+0.x64.apple.darwin14/share/julia/stdlib/v1.10/LinearAlgebra/src/\u001b[39m\u001b[90m\u001b[4mdense.jl:643\u001b[24m\u001b[39m\n",
       " [49] ^(::\u001b[1mNumber\u001b[22m, ::\u001b[1mMissing\u001b[22m)\n",
       "\u001b[90m     @\u001b[39m \u001b[90m\u001b[4mmissing.jl:124\u001b[24m\u001b[39m\n",
       " [50] ^(\u001b[90mz\u001b[39m::\u001b[1mComplex\u001b[22m\u001b[0m{T}, \u001b[90mp\u001b[39m::\u001b[1mComplex\u001b[22m\u001b[0m{T}) where T<:Real\n",
       "\u001b[90m     @\u001b[39m \u001b[90m\u001b[4mcomplex.jl:862\u001b[24m\u001b[39m\n",
       " [51] ^(\u001b[90mx\u001b[39m::\u001b[1mT\u001b[22m, \u001b[90my\u001b[39m::\u001b[1mT\u001b[22m) where T<:Union{Float16, Float32}\n",
       "\u001b[90m     @\u001b[39m \u001b[90mBase.Math\u001b[39m \u001b[90m\u001b[4mmath.jl:1224\u001b[24m\u001b[39m\n",
       " [52] ^(\u001b[90mx\u001b[39m::\u001b[1mT\u001b[22m, \u001b[90my\u001b[39m::\u001b[1mT\u001b[22m) where T<:Number\n",
       "\u001b[90m     @\u001b[39m \u001b[90m\u001b[4mpromotion.jl:511\u001b[24m\u001b[39m\n",
       " [53] ^(\u001b[90mx\u001b[39m::\u001b[1mNumber\u001b[22m, \u001b[90my\u001b[39m::\u001b[1mNumber\u001b[22m)\n",
       "\u001b[90m     @\u001b[39m \u001b[90m\u001b[4mpromotion.jl:456\u001b[24m\u001b[39m\n",
       " [54] ^(\u001b[90mA\u001b[39m::\u001b[1mLinearAlgebra.Hermitian\u001b[22m, \u001b[90mp\u001b[39m::\u001b[1mInteger\u001b[22m)\n",
       "\u001b[90m     @\u001b[39m \u001b[35mLinearAlgebra\u001b[39m \u001b[90m~/.julia/juliaup/julia-1.10.1+0.x64.apple.darwin14/share/julia/stdlib/v1.10/LinearAlgebra/src/\u001b[39m\u001b[90m\u001b[4msymmetric.jl:652\u001b[24m\u001b[39m\n",
       " [55] ^(\u001b[90mD\u001b[39m::\u001b[1mLinearAlgebra.Diagonal\u001b[22m, \u001b[90ma\u001b[39m::\u001b[1mInteger\u001b[22m)\n",
       "\u001b[90m     @\u001b[39m \u001b[35mLinearAlgebra\u001b[39m \u001b[90m~/.julia/juliaup/julia-1.10.1+0.x64.apple.darwin14/share/julia/stdlib/v1.10/LinearAlgebra/src/\u001b[39m\u001b[90m\u001b[4mdiagonal.jl:249\u001b[24m\u001b[39m\n",
       " [56] ^(\u001b[90mA\u001b[39m::\u001b[1mLinearAlgebra.Hermitian\u001b[22m\u001b[0m{T, S} where S<:(AbstractMatrix{<:T}), \u001b[90mp\u001b[39m::\u001b[1mReal\u001b[22m) where T\n",
       "\u001b[90m     @\u001b[39m \u001b[35mLinearAlgebra\u001b[39m \u001b[90m~/.julia/juliaup/julia-1.10.1+0.x64.apple.darwin14/share/julia/stdlib/v1.10/LinearAlgebra/src/\u001b[39m\u001b[90m\u001b[4msymmetric.jl:663\u001b[24m\u001b[39m\n",
       " [57] ^(\u001b[90mA\u001b[39m::\u001b[1mAbstractMatrix\u001b[22m\u001b[0m{T}, \u001b[90mp\u001b[39m::\u001b[1mInteger\u001b[22m) where T<:Integer\n",
       "\u001b[90m     @\u001b[39m \u001b[35mLinearAlgebra\u001b[39m \u001b[90m~/.julia/juliaup/julia-1.10.1+0.x64.apple.darwin14/share/julia/stdlib/v1.10/LinearAlgebra/src/\u001b[39m\u001b[90m\u001b[4mdense.jl:480\u001b[24m\u001b[39m\n",
       " [58] ^(\u001b[90mD\u001b[39m::\u001b[1mLinearAlgebra.Diagonal\u001b[22m, \u001b[90ma\u001b[39m::\u001b[1mReal\u001b[22m)\n",
       "\u001b[90m     @\u001b[39m \u001b[35mLinearAlgebra\u001b[39m \u001b[90m~/.julia/juliaup/julia-1.10.1+0.x64.apple.darwin14/share/julia/stdlib/v1.10/LinearAlgebra/src/\u001b[39m\u001b[90m\u001b[4mdiagonal.jl:248\u001b[24m\u001b[39m\n",
       " [59] ^(\u001b[90mA\u001b[39m::\u001b[1mAbstractMatrix\u001b[22m, \u001b[90mp\u001b[39m::\u001b[1mInteger\u001b[22m)\n",
       "\u001b[90m     @\u001b[39m \u001b[35mLinearAlgebra\u001b[39m \u001b[90m~/.julia/juliaup/julia-1.10.1+0.x64.apple.darwin14/share/julia/stdlib/v1.10/LinearAlgebra/src/\u001b[39m\u001b[90m\u001b[4mdense.jl:479\u001b[24m\u001b[39m\n",
       " [60] ^(\u001b[90mD\u001b[39m::\u001b[1mLinearAlgebra.Diagonal\u001b[22m, \u001b[90ma\u001b[39m::\u001b[1mNumber\u001b[22m)\n",
       "\u001b[90m     @\u001b[39m \u001b[35mLinearAlgebra\u001b[39m \u001b[90m~/.julia/juliaup/julia-1.10.1+0.x64.apple.darwin14/share/julia/stdlib/v1.10/LinearAlgebra/src/\u001b[39m\u001b[90m\u001b[4mdiagonal.jl:247\u001b[24m\u001b[39m\n",
       " [61] ^(\u001b[90mA\u001b[39m::\u001b[1mAbstractMatrix\u001b[22m\u001b[0m{T}, \u001b[90mp\u001b[39m::\u001b[1mReal\u001b[22m) where T\n",
       "\u001b[90m     @\u001b[39m \u001b[35mLinearAlgebra\u001b[39m \u001b[90m~/.julia/juliaup/julia-1.10.1+0.x64.apple.darwin14/share/julia/stdlib/v1.10/LinearAlgebra/src/\u001b[39m\u001b[90m\u001b[4mdense.jl:522\u001b[24m\u001b[39m\n",
       " [62] ^(\u001b[90mA\u001b[39m::\u001b[1mLinearAlgebra.Symmetric\u001b[22m\u001b[0m{var\"#s994\", S} where {var\"#s994\"<:Complex, S<:(AbstractMatrix{<:var\"#s994\"})}, \u001b[90mp\u001b[39m::\u001b[1mReal\u001b[22m)\n",
       "\u001b[90m     @\u001b[39m \u001b[35mLinearAlgebra\u001b[39m \u001b[90m~/.julia/juliaup/julia-1.10.1+0.x64.apple.darwin14/share/julia/stdlib/v1.10/LinearAlgebra/src/\u001b[39m\u001b[90m\u001b[4msymmetric.jl:648\u001b[24m\u001b[39m\n",
       " [63] ^(\u001b[90mA\u001b[39m::\u001b[1mLinearAlgebra.Symmetric\u001b[22m\u001b[0m{var\"#s994\", S} where {var\"#s994\"<:Real, S<:(AbstractMatrix{<:var\"#s994\"})}, \u001b[90mp\u001b[39m::\u001b[1mReal\u001b[22m)\n",
       "\u001b[90m     @\u001b[39m \u001b[35mLinearAlgebra\u001b[39m \u001b[90m~/.julia/juliaup/julia-1.10.1+0.x64.apple.darwin14/share/julia/stdlib/v1.10/LinearAlgebra/src/\u001b[39m\u001b[90m\u001b[4msymmetric.jl:639\u001b[24m\u001b[39m\n",
       " [64] ^(\u001b[90mA\u001b[39m::\u001b[1mLinearAlgebra.Symmetric\u001b[22m\u001b[0m{var\"#s994\", S} where {var\"#s994\"<:Complex, S<:(AbstractMatrix{<:var\"#s994\"})}, \u001b[90mp\u001b[39m::\u001b[1mInteger\u001b[22m)\n",
       "\u001b[90m     @\u001b[39m \u001b[35mLinearAlgebra\u001b[39m \u001b[90m~/.julia/juliaup/julia-1.10.1+0.x64.apple.darwin14/share/julia/stdlib/v1.10/LinearAlgebra/src/\u001b[39m\u001b[90m\u001b[4msymmetric.jl:631\u001b[24m\u001b[39m\n",
       " [65] ^(\u001b[90mA\u001b[39m::\u001b[1mLinearAlgebra.Symmetric\u001b[22m\u001b[0m{var\"#s994\", S} where {var\"#s994\"<:Real, S<:(AbstractMatrix{<:var\"#s994\"})}, \u001b[90mp\u001b[39m::\u001b[1mInteger\u001b[22m)\n",
       "\u001b[90m     @\u001b[39m \u001b[35mLinearAlgebra\u001b[39m \u001b[90m~/.julia/juliaup/julia-1.10.1+0.x64.apple.darwin14/share/julia/stdlib/v1.10/LinearAlgebra/src/\u001b[39m\u001b[90m\u001b[4msymmetric.jl:630\u001b[24m\u001b[39m\n",
       " [66] ^(\u001b[90mJ\u001b[39m::\u001b[1mLinearAlgebra.UniformScaling\u001b[22m, \u001b[90mx\u001b[39m::\u001b[1mNumber\u001b[22m)\n",
       "\u001b[90m     @\u001b[39m \u001b[35mLinearAlgebra\u001b[39m \u001b[90m~/.julia/juliaup/julia-1.10.1+0.x64.apple.darwin14/share/julia/stdlib/v1.10/LinearAlgebra/src/\u001b[39m\u001b[90m\u001b[4muniformscaling.jl:317\u001b[24m\u001b[39m\n",
       " [67] ^(\u001b[90mA\u001b[39m::\u001b[1mAbstractMatrix\u001b[22m, \u001b[90mp\u001b[39m::\u001b[1mNumber\u001b[22m)\n",
       "\u001b[90m     @\u001b[39m \u001b[35mLinearAlgebra\u001b[39m \u001b[90m~/.julia/juliaup/julia-1.10.1+0.x64.apple.darwin14/share/julia/stdlib/v1.10/LinearAlgebra/src/\u001b[39m\u001b[90m\u001b[4mdense.jl:563\u001b[24m\u001b[39m\n",
       " [68] ^(\u001b[90ms\u001b[39m::\u001b[1mUnion\u001b[22m\u001b[0m{AbstractChar, AbstractString}, \u001b[90mr\u001b[39m::\u001b[1mInteger\u001b[22m)\n",
       "\u001b[90m     @\u001b[39m \u001b[90mstrings/\u001b[39m\u001b[90m\u001b[4mbasic.jl:765\u001b[24m\u001b[39m"
      ]
     },
     "execution_count": 13,
     "metadata": {},
     "output_type": "execute_result"
    }
   ],
   "source": [
    "methods(^)"
   ]
  },
  {
   "cell_type": "code",
   "execution_count": 14,
   "id": "db597dc3",
   "metadata": {
    "slideshow": {
     "slide_type": "subslide"
    }
   },
   "outputs": [
    {
     "name": "stdout",
     "output_type": "stream",
     "text": [
      "\u001b[90m;  @ intfuncs.jl:310 within `^`\u001b[39m\n",
      "\u001b[95mdefine\u001b[39m \u001b[36mi64\u001b[39m \u001b[93m@\"julia_^_1896\"\u001b[39m\u001b[33m(\u001b[39m\u001b[36mi64\u001b[39m \u001b[95msignext\u001b[39m \u001b[0m%0\u001b[0m, \u001b[36mi64\u001b[39m \u001b[95msignext\u001b[39m \u001b[0m%1\u001b[33m)\u001b[39m \u001b[0m#0 \u001b[33m{\u001b[39m\n",
      "\u001b[91mtop:\u001b[39m\n",
      "  \u001b[0m%2 \u001b[0m= \u001b[96m\u001b[1mcall\u001b[22m\u001b[39m \u001b[36mi64\u001b[39m \u001b[93m@j_power_by_squaring_1898\u001b[39m\u001b[33m(\u001b[39m\u001b[36mi64\u001b[39m \u001b[95msignext\u001b[39m \u001b[0m%0\u001b[0m, \u001b[36mi64\u001b[39m \u001b[95msignext\u001b[39m \u001b[0m%1\u001b[33m)\u001b[39m\n",
      "  \u001b[96m\u001b[1mret\u001b[22m\u001b[39m \u001b[36mi64\u001b[39m \u001b[0m%2\n",
      "\u001b[33m}\u001b[39m\n"
     ]
    }
   ],
   "source": [
    "@code_llvm 3^5"
   ]
  },
  {
   "cell_type": "code",
   "execution_count": 15,
   "id": "5a47076c",
   "metadata": {
    "slideshow": {
     "slide_type": "subslide"
    }
   },
   "outputs": [
    {
     "data": {
      "text/plain": [
       "CodeInfo(\n",
       "\u001b[90m1 ─\u001b[39m %1 = Base.power_by_squaring(x, p)\n",
       "\u001b[90m└──\u001b[39m      return %1\n",
       ")"
      ]
     },
     "execution_count": 15,
     "metadata": {},
     "output_type": "execute_result"
    }
   ],
   "source": [
    "@code_lowered 3^5"
   ]
  },
  {
   "cell_type": "code",
   "execution_count": 16,
   "id": "fb8cee6f",
   "metadata": {
    "slideshow": {
     "slide_type": "subslide"
    }
   },
   "outputs": [
    {
     "name": "stdout",
     "output_type": "stream",
     "text": [
      "\t\u001b[0m.section\t\u001b[0m__TEXT\u001b[0m,\u001b[0m__text\u001b[0m,\u001b[0mregular\u001b[0m,\u001b[0mpure_instructions\n",
      "\t\u001b[0m.build_version \u001b[0mmacos\u001b[0m, \u001b[33m14\u001b[39m\u001b[0m, \u001b[33m0\u001b[39m\n",
      "\t\u001b[0m.globl\t\u001b[0m\"_julia_^_1997\"                 \u001b[0m## \u001b[0m-- \u001b[0mBegin \u001b[0mfunction \u001b[0mjulia_^_1997\n",
      "\t\u001b[0m.p2align\t\u001b[33m4\u001b[39m\u001b[0m, \u001b[33m0x90\u001b[39m\n",
      "\u001b[91m\"_julia_^_1997\":\u001b[39m                        \u001b[0m## \u001b[0m@\"julia_^_1997\"\n",
      "\u001b[90m; ┌ @ intfuncs.jl:310 within `^`\u001b[39m\n",
      "\u001b[0m## \u001b[0m%bb.0\u001b[0m:                               \u001b[0m## \u001b[0m%top\n",
      "\t\u001b[96m\u001b[1msub\u001b[22m\u001b[39m\t\u001b[0mrsp\u001b[0m, \u001b[33m8\u001b[39m\n",
      "\t\u001b[96m\u001b[1mmovabs\u001b[22m\u001b[39m\t\u001b[0mrax\u001b[0m, \u001b[95moffset\u001b[39m \u001b[0m_j_power_by_squaring_1999\n",
      "\t\u001b[96m\u001b[1mcall\u001b[22m\u001b[39m\t\u001b[0mrax\n",
      "\t\u001b[96m\u001b[1mpop\u001b[22m\u001b[39m\t\u001b[0mrcx\n",
      "\t\u001b[96m\u001b[1mret\u001b[22m\u001b[39m\n",
      "\u001b[90m; └\u001b[39m\n",
      "                                        \u001b[0m## \u001b[0m-- \u001b[0mEnd \u001b[0mfunction\n",
      "\u001b[0m.subsections_via_symbols\n"
     ]
    }
   ],
   "source": [
    "@code_native 3^5"
   ]
  },
  {
   "cell_type": "code",
   "execution_count": 17,
   "id": "a7ea60f0",
   "metadata": {
    "slideshow": {
     "slide_type": "subslide"
    }
   },
   "outputs": [
    {
     "data": {
      "text/plain": [
       "CodeInfo(\n",
       "\u001b[90m1 ─\u001b[39m %1 = invoke Base.power_by_squaring(x::Int64, p::Int64)\u001b[36m::Int64\u001b[39m\n",
       "\u001b[90m└──\u001b[39m      return %1\n",
       ") => Int64"
      ]
     },
     "execution_count": 17,
     "metadata": {},
     "output_type": "execute_result"
    }
   ],
   "source": [
    "@code_typed 3^5"
   ]
  },
  {
   "cell_type": "code",
   "execution_count": 18,
   "id": "580d9293",
   "metadata": {
    "slideshow": {
     "slide_type": "subslide"
    }
   },
   "outputs": [
    {
     "name": "stdout",
     "output_type": "stream",
     "text": [
      "MethodInstance for ^(::Int64, ::Int64)\n",
      "  from ^(\u001b[90mx\u001b[39m::\u001b[1mT\u001b[22m, \u001b[90mp\u001b[39m::\u001b[1mT\u001b[22m) where T<:Integer\u001b[90m @\u001b[39m \u001b[90mBase\u001b[39m \u001b[90m\u001b[4mintfuncs.jl:310\u001b[24m\u001b[39m\n",
      "Static Parameters\n",
      "  T = \u001b[36mInt64\u001b[39m\n",
      "Arguments\n",
      "  #self#\u001b[36m::Core.Const(^)\u001b[39m\n",
      "  x\u001b[36m::Int64\u001b[39m\n",
      "  p\u001b[36m::Int64\u001b[39m\n",
      "Body\u001b[36m::Int64\u001b[39m\n",
      "\u001b[90m1 ─\u001b[39m %1 = Base.power_by_squaring(x, p)\u001b[36m::Int64\u001b[39m\n",
      "\u001b[90m└──\u001b[39m      return %1\n",
      "\n"
     ]
    }
   ],
   "source": [
    "@code_warntype 3^5"
   ]
  },
  {
   "cell_type": "markdown",
   "id": "fe43867d",
   "metadata": {
    "slideshow": {
     "slide_type": "slide"
    }
   },
   "source": [
    "## Own multiple dispatch"
   ]
  },
  {
   "cell_type": "code",
   "execution_count": 19,
   "id": "048ef050",
   "metadata": {},
   "outputs": [
    {
     "data": {
      "text/plain": [
       "iswhat (generic function with 5 methods)"
      ]
     },
     "execution_count": 19,
     "metadata": {},
     "output_type": "execute_result"
    }
   ],
   "source": [
    "iswhat(x::Number) = \" is a number.\"\n",
    "iswhat(x::String) = \" is a string.\"\n",
    "iswhat(x::Int) = \" is an integer.\"\n",
    "iswhat(x::Rational{Int}) = \" is a rational number.\"\n",
    "iswhat(x::Complex) = \" is a complex number.\""
   ]
  },
  {
   "cell_type": "code",
   "execution_count": 20,
   "id": "09d05a51",
   "metadata": {
    "scrolled": true,
    "slideshow": {
     "slide_type": "subslide"
    }
   },
   "outputs": [
    {
     "name": "stdout",
     "output_type": "stream",
     "text": [
      "5 is an integer.\n",
      "5.0 is a number.\n",
      "3//5 is a rational number.\n",
      "π is a number.\n",
      "-16 + 30im is a complex number.\n"
     ]
    }
   ],
   "source": [
    "println( 5, iswhat(5) );\n",
    "println( 5.0, iswhat(5.0) );\n",
    "println( 3//5, iswhat(3//5) );\n",
    "println( pi, iswhat(pi) );\n",
    "println( (3+5im)^2, iswhat((3+5im)^2) );"
   ]
  },
  {
   "cell_type": "markdown",
   "id": "2197a37b",
   "metadata": {
    "slideshow": {
     "slide_type": "slide"
    }
   },
   "source": [
    "## Type inference\n",
    "\n",
    "- Type information\n",
    "    - memory block size\n",
    "    - expansion schedule (i.e. containers)\n",
    "- Not necessary to specify types in Julia like other high-level languages"
   ]
  },
  {
   "cell_type": "markdown",
   "id": "2ca82a58",
   "metadata": {
    "slideshow": {
     "slide_type": "subslide"
    }
   },
   "source": [
    "### A vector of squared integers"
   ]
  },
  {
   "cell_type": "code",
   "execution_count": 21,
   "id": "5785bfe7",
   "metadata": {
    "slideshow": {
     "slide_type": "-"
    }
   },
   "outputs": [
    {
     "data": {
      "text/plain": [
       "11-element Vector{Int64}:\n",
       "   0\n",
       "   1\n",
       "   4\n",
       "   9\n",
       "  16\n",
       "  25\n",
       "  36\n",
       "  49\n",
       "  64\n",
       "  81\n",
       " 100"
      ]
     },
     "execution_count": 21,
     "metadata": {},
     "output_type": "execute_result"
    }
   ],
   "source": [
    "[ x^2 for x in 0:10 ]"
   ]
  },
  {
   "cell_type": "markdown",
   "id": "2cda2f60",
   "metadata": {
    "slideshow": {
     "slide_type": "subslide"
    }
   },
   "source": [
    "### A vector of squared floats"
   ]
  },
  {
   "cell_type": "code",
   "execution_count": 22,
   "id": "a4f31db4",
   "metadata": {
    "slideshow": {
     "slide_type": "-"
    }
   },
   "outputs": [
    {
     "data": {
      "text/plain": [
       "11-element Vector{Float64}:\n",
       "   0.0\n",
       "   1.0\n",
       "   4.0\n",
       "   9.0\n",
       "  16.0\n",
       "  25.0\n",
       "  36.0\n",
       "  49.0\n",
       "  64.0\n",
       "  81.0\n",
       " 100.0"
      ]
     },
     "execution_count": 22,
     "metadata": {},
     "output_type": "execute_result"
    }
   ],
   "source": [
    "[ x^2 for x in 0.0:10.0 ]"
   ]
  },
  {
   "cell_type": "markdown",
   "id": "56a21577",
   "metadata": {
    "slideshow": {
     "slide_type": "slide"
    }
   },
   "source": [
    "## Type stability\n",
    "\n",
    "- Type information\n",
    "    - memory block size\n",
    "    - expansion schedule (i.e. containers)\n",
    "- Not necessary to specify types in Julia like other high-level languages\n",
    "- Inference: type information determined at runtime\n",
    "    - Julia: best-effort\n",
    "    - OCaml, F#: required\n",
    "- Stability: deterministic flow of type information in all processes\n",
    "    - Functions must return the same type for every given tuple of types as input\n",
    "    - Multiple dispatch"
   ]
  },
  {
   "cell_type": "code",
   "execution_count": 23,
   "id": "389c9132",
   "metadata": {
    "slideshow": {
     "slide_type": "subslide"
    }
   },
   "outputs": [
    {
     "data": {
      "text/latex": [
       "No documentation found.\n",
       "\n",
       "Binding \\texttt{ramp} does not exist.\n",
       "\n"
      ],
      "text/markdown": [
       "No documentation found.\n",
       "\n",
       "Binding `ramp` does not exist.\n"
      ],
      "text/plain": [
       "  No documentation found.\n",
       "\n",
       "  Binding \u001b[36mramp\u001b[39m does not exist."
      ]
     },
     "execution_count": 23,
     "metadata": {},
     "output_type": "execute_result"
    }
   ],
   "source": [
    "? ramp(x)"
   ]
  },
  {
   "cell_type": "code",
   "execution_count": 24,
   "id": "e920177f",
   "metadata": {
    "slideshow": {
     "slide_type": "subslide"
    }
   },
   "outputs": [
    {
     "data": {
      "text/plain": [
       "ramp (generic function with 1 method)"
      ]
     },
     "execution_count": 24,
     "metadata": {},
     "output_type": "execute_result"
    }
   ],
   "source": [
    "ramp(x) = (x ≤ 0) ? 0 : x"
   ]
  },
  {
   "cell_type": "code",
   "execution_count": 25,
   "id": "224a69f3",
   "metadata": {
    "slideshow": {
     "slide_type": "fragment"
    }
   },
   "outputs": [
    {
     "name": "stdout",
     "output_type": "stream",
     "text": [
      "ramp(1.0) = 1.0\n",
      "ramp(1) = 1\n",
      "ramp(-1.0) = 0\n"
     ]
    }
   ],
   "source": [
    "@show ramp(1.0);\n",
    "@show ramp(1);\n",
    "@show ramp(-1.0);"
   ]
  },
  {
   "cell_type": "code",
   "execution_count": 26,
   "id": "95f3be5a",
   "metadata": {
    "slideshow": {
     "slide_type": "subslide"
    }
   },
   "outputs": [
    {
     "name": "stdout",
     "output_type": "stream",
     "text": [
      "MethodInstance for ramp(::Int64)\n",
      "  from ramp(\u001b[90mx\u001b[39m)\u001b[90m @\u001b[39m \u001b[90mMain\u001b[39m \u001b[90m\u001b[4mIn[24]:1\u001b[24m\u001b[39m\n",
      "Arguments\n",
      "  #self#\u001b[36m::Core.Const(ramp)\u001b[39m\n",
      "  x\u001b[36m::Int64\u001b[39m\n",
      "Body\u001b[36m::Int64\u001b[39m\n",
      "\u001b[90m1 ─\u001b[39m %1 = (x ≤ 0)\u001b[36m::Bool\u001b[39m\n",
      "\u001b[90m└──\u001b[39m      goto #3 if not %1\n",
      "\u001b[90m2 ─\u001b[39m      return 0\n",
      "\u001b[90m3 ─\u001b[39m      return x\n",
      "\n"
     ]
    }
   ],
   "source": [
    "@code_warntype ramp(1)"
   ]
  },
  {
   "cell_type": "code",
   "execution_count": 27,
   "id": "d572393b",
   "metadata": {
    "slideshow": {
     "slide_type": "subslide"
    }
   },
   "outputs": [
    {
     "name": "stdout",
     "output_type": "stream",
     "text": [
      "MethodInstance for ramp(::Float64)\n",
      "  from ramp(\u001b[90mx\u001b[39m)\u001b[90m @\u001b[39m \u001b[90mMain\u001b[39m \u001b[90m\u001b[4mIn[24]:1\u001b[24m\u001b[39m\n",
      "Arguments\n",
      "  #self#\u001b[36m::Core.Const(ramp)\u001b[39m\n",
      "  x\u001b[36m::Float64\u001b[39m\n",
      "Body\u001b[33m\u001b[1m::Union{Float64, Int64}\u001b[22m\u001b[39m\n",
      "\u001b[90m1 ─\u001b[39m %1 = (x ≤ 0)\u001b[36m::Bool\u001b[39m\n",
      "\u001b[90m└──\u001b[39m      goto #3 if not %1\n",
      "\u001b[90m2 ─\u001b[39m      return 0\n",
      "\u001b[90m3 ─\u001b[39m      return x\n",
      "\n"
     ]
    }
   ],
   "source": [
    "@code_warntype ramp(1.0)"
   ]
  },
  {
   "cell_type": "code",
   "execution_count": 28,
   "id": "74ade70a",
   "metadata": {
    "slideshow": {
     "slide_type": "subslide"
    }
   },
   "outputs": [
    {
     "name": "stderr",
     "output_type": "stream",
     "text": [
      "\u001b[32m\u001b[1m  Activating\u001b[22m\u001b[39m project at `~/Documents/GitHub/Phys215-202324-2/01-HPC`\n",
      "\u001b[32m\u001b[1m   Resolving\u001b[22m\u001b[39m package versions...\n",
      "\u001b[32m\u001b[1m  No Changes\u001b[22m\u001b[39m to `~/Documents/GitHub/Phys215-202324-2/01-HPC/Project.toml`\n",
      "\u001b[32m\u001b[1m  No Changes\u001b[22m\u001b[39m to `~/Documents/GitHub/Phys215-202324-2/01-HPC/Manifest.toml`\n"
     ]
    }
   ],
   "source": [
    "using Pkg;\n",
    "Pkg.activate(\".\");\n",
    "Pkg.add(\"BenchmarkTools\");\n",
    "\n",
    "using BenchmarkTools;"
   ]
  },
  {
   "cell_type": "code",
   "execution_count": 29,
   "id": "17355f7f",
   "metadata": {
    "slideshow": {
     "slide_type": "subslide"
    }
   },
   "outputs": [
    {
     "data": {
      "text/plain": [
       "BenchmarkTools.Trial: 10000 samples with 5 evaluations.\n",
       " Range \u001b[90m(\u001b[39m\u001b[36m\u001b[1mmin\u001b[22m\u001b[39m … \u001b[35mmax\u001b[39m\u001b[90m):  \u001b[39m\u001b[36m\u001b[1m 6.436 μs\u001b[22m\u001b[39m … \u001b[35m 1.425 ms\u001b[39m  \u001b[90m┊\u001b[39m GC \u001b[90m(\u001b[39mmin … max\u001b[90m): \u001b[39m 0.00% … 98.57%\n",
       " Time  \u001b[90m(\u001b[39m\u001b[34m\u001b[1mmedian\u001b[22m\u001b[39m\u001b[90m):     \u001b[39m\u001b[34m\u001b[1m 7.985 μs              \u001b[22m\u001b[39m\u001b[90m┊\u001b[39m GC \u001b[90m(\u001b[39mmedian\u001b[90m):    \u001b[39m 0.00%\n",
       " Time  \u001b[90m(\u001b[39m\u001b[32m\u001b[1mmean\u001b[22m\u001b[39m ± \u001b[32mσ\u001b[39m\u001b[90m):   \u001b[39m\u001b[32m\u001b[1m10.732 μs\u001b[22m\u001b[39m ± \u001b[32m48.157 μs\u001b[39m  \u001b[90m┊\u001b[39m GC \u001b[90m(\u001b[39mmean ± σ\u001b[90m):  \u001b[39m21.89% ±  4.99%\n",
       "\n",
       "  \u001b[39m \u001b[39m▂\u001b[39m▄\u001b[39m▅\u001b[39m▇\u001b[39m█\u001b[39m█\u001b[39m█\u001b[39m█\u001b[34m█\u001b[39m\u001b[39m█\u001b[39m▇\u001b[39m▇\u001b[39m▆\u001b[39m▆\u001b[39m▄\u001b[39m▄\u001b[39m▂\u001b[39m▂\u001b[39m \u001b[39m \u001b[39m \u001b[39m \u001b[39m \u001b[39m \u001b[39m \u001b[32m \u001b[39m\u001b[39m \u001b[39m \u001b[39m \u001b[39m \u001b[39m \u001b[39m \u001b[39m \u001b[39m▁\u001b[39m \u001b[39m▂\u001b[39m \u001b[39m▁\u001b[39m▁\u001b[39m▁\u001b[39m▁\u001b[39m \u001b[39m \u001b[39m \u001b[39m \u001b[39m \u001b[39m \u001b[39m \u001b[39m \u001b[39m \u001b[39m \u001b[39m \u001b[39m \u001b[39m \u001b[39m \u001b[39m \u001b[39m \u001b[39m \u001b[39m \u001b[39m▃\n",
       "  \u001b[39m▆\u001b[39m█\u001b[39m█\u001b[39m█\u001b[39m█\u001b[39m█\u001b[39m█\u001b[39m█\u001b[39m█\u001b[34m█\u001b[39m\u001b[39m█\u001b[39m█\u001b[39m█\u001b[39m█\u001b[39m█\u001b[39m█\u001b[39m█\u001b[39m█\u001b[39m█\u001b[39m█\u001b[39m█\u001b[39m█\u001b[39m█\u001b[39m▇\u001b[39m▆\u001b[39m▇\u001b[32m▆\u001b[39m\u001b[39m▇\u001b[39m▇\u001b[39m▇\u001b[39m▇\u001b[39m█\u001b[39m▇\u001b[39m█\u001b[39m█\u001b[39m█\u001b[39m█\u001b[39m█\u001b[39m█\u001b[39m█\u001b[39m█\u001b[39m█\u001b[39m█\u001b[39m▇\u001b[39m█\u001b[39m█\u001b[39m█\u001b[39m▆\u001b[39m▆\u001b[39m▆\u001b[39m▅\u001b[39m▅\u001b[39m▅\u001b[39m▅\u001b[39m▅\u001b[39m▄\u001b[39m▄\u001b[39m▅\u001b[39m▄\u001b[39m \u001b[39m█\n",
       "  6.44 μs\u001b[90m      \u001b[39m\u001b[90mHistogram: \u001b[39m\u001b[90m\u001b[1mlog(\u001b[22m\u001b[39m\u001b[90mfrequency\u001b[39m\u001b[90m\u001b[1m)\u001b[22m\u001b[39m\u001b[90m by time\u001b[39m      16.2 μs \u001b[0m\u001b[1m<\u001b[22m\n",
       "\n",
       " Memory estimate\u001b[90m: \u001b[39m\u001b[33m23.44 KiB\u001b[39m, allocs estimate\u001b[90m: \u001b[39m\u001b[33m486\u001b[39m."
      ]
     },
     "execution_count": 29,
     "metadata": {},
     "output_type": "execute_result"
    }
   ],
   "source": [
    "x = randn(1_000);\n",
    "trial1 = @benchmark ramp.($x)"
   ]
  },
  {
   "cell_type": "code",
   "execution_count": 30,
   "id": "8fdc8c96",
   "metadata": {
    "slideshow": {
     "slide_type": "subslide"
    }
   },
   "outputs": [
    {
     "data": {
      "text/plain": [
       "BenchmarkTools.Trial: 9504 samples with 202 evaluations.\n",
       " Range \u001b[90m(\u001b[39m\u001b[36m\u001b[1mmin\u001b[22m\u001b[39m … \u001b[35mmax\u001b[39m\u001b[90m):  \u001b[39m\u001b[36m\u001b[1m547.069 ns\u001b[22m\u001b[39m … \u001b[35m82.807 μs\u001b[39m  \u001b[90m┊\u001b[39m GC \u001b[90m(\u001b[39mmin … max\u001b[90m): \u001b[39m 0.00% … 98.26%\n",
       " Time  \u001b[90m(\u001b[39m\u001b[34m\u001b[1mmedian\u001b[22m\u001b[39m\u001b[90m):     \u001b[39m\u001b[34m\u001b[1m  1.109 μs              \u001b[22m\u001b[39m\u001b[90m┊\u001b[39m GC \u001b[90m(\u001b[39mmedian\u001b[90m):    \u001b[39m 0.00%\n",
       " Time  \u001b[90m(\u001b[39m\u001b[32m\u001b[1mmean\u001b[22m\u001b[39m ± \u001b[32mσ\u001b[39m\u001b[90m):   \u001b[39m\u001b[32m\u001b[1m  2.582 μs\u001b[22m\u001b[39m ± \u001b[32m 7.324 μs\u001b[39m  \u001b[90m┊\u001b[39m GC \u001b[90m(\u001b[39mmean ± σ\u001b[90m):  \u001b[39m53.13% ± 17.94%\n",
       "\n",
       "  \u001b[39m█\u001b[34m▆\u001b[39m\u001b[39m▂\u001b[32m▁\u001b[39m\u001b[39m▂\u001b[39m \u001b[39m \u001b[39m \u001b[39m \u001b[39m \u001b[39m \u001b[39m \u001b[39m \u001b[39m \u001b[39m \u001b[39m \u001b[39m \u001b[39m \u001b[39m \u001b[39m \u001b[39m \u001b[39m \u001b[39m \u001b[39m \u001b[39m \u001b[39m \u001b[39m \u001b[39m \u001b[39m \u001b[39m \u001b[39m \u001b[39m \u001b[39m \u001b[39m \u001b[39m \u001b[39m \u001b[39m \u001b[39m \u001b[39m \u001b[39m \u001b[39m \u001b[39m \u001b[39m \u001b[39m \u001b[39m \u001b[39m \u001b[39m \u001b[39m \u001b[39m \u001b[39m \u001b[39m \u001b[39m \u001b[39m \u001b[39m \u001b[39m \u001b[39m \u001b[39m \u001b[39m \u001b[39m \u001b[39m \u001b[39m \u001b[39m▁\n",
       "  \u001b[39m█\u001b[34m█\u001b[39m\u001b[39m█\u001b[32m█\u001b[39m\u001b[39m█\u001b[39m█\u001b[39m▇\u001b[39m▅\u001b[39m▄\u001b[39m▁\u001b[39m▁\u001b[39m▁\u001b[39m▁\u001b[39m▁\u001b[39m▁\u001b[39m▁\u001b[39m▁\u001b[39m▁\u001b[39m▁\u001b[39m▁\u001b[39m▁\u001b[39m▁\u001b[39m▁\u001b[39m▁\u001b[39m▁\u001b[39m▁\u001b[39m▁\u001b[39m▁\u001b[39m▁\u001b[39m▃\u001b[39m▁\u001b[39m▄\u001b[39m▁\u001b[39m▃\u001b[39m▄\u001b[39m▅\u001b[39m▄\u001b[39m▄\u001b[39m▄\u001b[39m▃\u001b[39m▅\u001b[39m▄\u001b[39m▄\u001b[39m▅\u001b[39m▆\u001b[39m▅\u001b[39m▄\u001b[39m▆\u001b[39m▆\u001b[39m▇\u001b[39m▆\u001b[39m▆\u001b[39m▇\u001b[39m▆\u001b[39m▆\u001b[39m▆\u001b[39m▆\u001b[39m▆\u001b[39m▇\u001b[39m▆\u001b[39m \u001b[39m█\n",
       "  547 ns\u001b[90m        \u001b[39m\u001b[90mHistogram: \u001b[39m\u001b[90m\u001b[1mlog(\u001b[22m\u001b[39m\u001b[90mfrequency\u001b[39m\u001b[90m\u001b[1m)\u001b[22m\u001b[39m\u001b[90m by time\u001b[39m      42.8 μs \u001b[0m\u001b[1m<\u001b[22m\n",
       "\n",
       " Memory estimate\u001b[90m: \u001b[39m\u001b[33m7.94 KiB\u001b[39m, allocs estimate\u001b[90m: \u001b[39m\u001b[33m1\u001b[39m."
      ]
     },
     "execution_count": 30,
     "metadata": {},
     "output_type": "execute_result"
    }
   ],
   "source": [
    "x = rand(-100:100, 1_000)\n",
    "trial0 = @benchmark ramp.($x)"
   ]
  },
  {
   "cell_type": "markdown",
   "id": "32387cac",
   "metadata": {
    "slideshow": {
     "slide_type": "subslide"
    }
   },
   "source": [
    "## Relative speed difference"
   ]
  },
  {
   "cell_type": "code",
   "execution_count": 31,
   "id": "87bcddde",
   "metadata": {},
   "outputs": [
    {
     "name": "stdout",
     "output_type": "stream",
     "text": [
      "search:\n",
      "\n",
      "Couldn't find \u001b[36mspeedup\u001b[39m\n",
      "Perhaps you meant sleep or step\n"
     ]
    },
    {
     "data": {
      "text/latex": [
       "No documentation found.\n",
       "\n",
       "Binding \\texttt{speedup} does not exist.\n",
       "\n"
      ],
      "text/markdown": [
       "No documentation found.\n",
       "\n",
       "Binding `speedup` does not exist.\n"
      ],
      "text/plain": [
       "  No documentation found.\n",
       "\n",
       "  Binding \u001b[36mspeedup\u001b[39m does not exist."
      ]
     },
     "execution_count": 31,
     "metadata": {},
     "output_type": "execute_result"
    }
   ],
   "source": [
    "? speedup"
   ]
  },
  {
   "cell_type": "code",
   "execution_count": 32,
   "id": "3bbf2eb2",
   "metadata": {
    "slideshow": {
     "slide_type": "subslide"
    }
   },
   "outputs": [
    {
     "data": {
      "text/plain": [
       "speedup (generic function with 1 method)"
      ]
     },
     "execution_count": 32,
     "metadata": {},
     "output_type": "execute_result"
    }
   ],
   "source": [
    "function speedup(t₀::BenchmarkTools.Trial, t₁::BenchmarkTools.Trial)\n",
    "    return median(t₁.times) / median(t₀.times)\n",
    "end"
   ]
  },
  {
   "cell_type": "code",
   "execution_count": 33,
   "id": "d1d65174",
   "metadata": {},
   "outputs": [],
   "source": [
    "x = randn(1_000);\n",
    "trial1 = @benchmark ramp.($x);\n",
    "\n",
    "x = rand(-100:100, 1_000);\n",
    "trial0 = @benchmark ramp.($x);"
   ]
  },
  {
   "cell_type": "code",
   "execution_count": 34,
   "id": "f2c90960",
   "metadata": {
    "slideshow": {
     "slide_type": "fragment"
    }
   },
   "outputs": [
    {
     "name": "stdout",
     "output_type": "stream",
     "text": [
      "Trial 1 / Trial 0 ≈ 7.484\n",
      "Trial 1 is SLOWER than Trial 0.\n"
     ]
    }
   ],
   "source": [
    "su = speedup(trial0,trial1)\n",
    "println(\"Trial 1 / Trial 0 ≈ \", round( su, digits=3 ) )\n",
    "println( \"Trial 1 is \", (su > 1) ? \"SLOWER\" : \"FASTER\", \" than Trial 0.\" )"
   ]
  },
  {
   "cell_type": "markdown",
   "id": "058007ec",
   "metadata": {
    "slideshow": {
     "slide_type": "subslide"
    }
   },
   "source": [
    "## Fixed `ramp()`"
   ]
  },
  {
   "cell_type": "code",
   "execution_count": 35,
   "id": "faca4f4e",
   "metadata": {},
   "outputs": [
    {
     "data": {
      "text/plain": [
       "ramp (generic function with 1 method)"
      ]
     },
     "execution_count": 35,
     "metadata": {},
     "output_type": "execute_result"
    }
   ],
   "source": [
    "ramp(x) = (x ≤ 0) ? zero(x) : x"
   ]
  },
  {
   "cell_type": "code",
   "execution_count": 36,
   "id": "1f8beafe",
   "metadata": {},
   "outputs": [],
   "source": [
    "x = randn(1_000);\n",
    "trial1 = @benchmark ramp.($x);\n",
    "\n",
    "x = rand(-100:100, 1_000);\n",
    "trial0 = @benchmark ramp.($x);"
   ]
  },
  {
   "cell_type": "code",
   "execution_count": 37,
   "id": "c58b4f2a",
   "metadata": {
    "slideshow": {
     "slide_type": "fragment"
    }
   },
   "outputs": [
    {
     "name": "stdout",
     "output_type": "stream",
     "text": [
      "Trial 1 / Trial 0 ≈ 1.015\n",
      "Trial 1 is FASTER than Trial 0.\n"
     ]
    }
   ],
   "source": [
    "su = speedup(trial0,trial1)\n",
    "println(\"Trial 1 / Trial 0 ≈ \", round( su, digits=3 ) )\n",
    "println( \"Trial 1 is \", (su < 1) ? \"SLOWER\" : \"FASTER\", \" than Trial 0.\" )"
   ]
  },
  {
   "cell_type": "markdown",
   "id": "5be9a23c",
   "metadata": {
    "slideshow": {
     "slide_type": "subslide"
    }
   },
   "source": [
    "## Modularity: method (function) instead of script\n",
    "\n",
    "The use of **global variables** are a boon and highly discouraged in Julia. This forces users to think of modular approach in tasking.\n",
    "\n",
    "Case in point. An apparent $20\\times$ speed difference between MATLAB and Julia has been flagged in [a Julia discourse](https://discourse.julialang.org/t/matlab-outperforms-julia-20-times-faster-running-this-nested-loop/92691/3). It turns out that modularization alone (pure local variables, within functions) can reverse the speed difference to Julia instead being $30\\times$ faster than MATLAB (to be balanced, the posts did not mention if the second run-time difference is repeated). This reversal means that an effective $600\\times$ enhancement in the Julia code can be achieved by modularization alone."
   ]
  },
  {
   "cell_type": "markdown",
   "id": "84659d83",
   "metadata": {
    "slideshow": {
     "slide_type": "slide"
    }
   },
   "source": [
    "## Polynomial evaluator\n",
    "\n",
    "- Input:\n",
    "    - $a_n$, $n=0,1,\\ldots,N$\n",
    "    - $x$, the variable to evaluate $p(x)$\n",
    "    - The polynomial degree $N$ is encoded in the length $|a|$.\n",
    "- Output:\n",
    "    - value of $p(x)$ (scalar)"
   ]
  },
  {
   "cell_type": "markdown",
   "id": "0b7b60c8",
   "metadata": {
    "slideshow": {
     "slide_type": "subslide"
    }
   },
   "source": [
    "## Naive implementation\n",
    "\n",
    "- Naive `for` loop over each coefficient `A[n]` multiplying each with the input variable `x` raised to the corresponding power.\n",
    "- Set $a_0$ as the first element `A[1]`.\n",
    "- Final formula, given $A_n$, with $n=1,2,\\ldots,N+1$ (shifted)\n",
    "$$p(x) = \\sum_{n=1}^{N+1} A_n x^{n-1}$$"
   ]
  },
  {
   "cell_type": "markdown",
   "id": "644bf401",
   "metadata": {
    "slideshow": {
     "slide_type": "slide"
    }
   },
   "source": [
    "## Naive implementation code"
   ]
  },
  {
   "cell_type": "code",
   "execution_count": 38,
   "id": "47364ab1",
   "metadata": {
    "slideshow": {
     "slide_type": "-"
    }
   },
   "outputs": [
    {
     "data": {
      "text/plain": [
       "poly (generic function with 1 method)"
      ]
     },
     "execution_count": 38,
     "metadata": {},
     "output_type": "execute_result"
    }
   ],
   "source": [
    "function poly(A,x)\n",
    "    p = zero(x) #ensure type stability\n",
    "    n = 0\n",
    "    for a in A\n",
    "        p += a * x^n\n",
    "        n += 1\n",
    "    end\n",
    "    return p\n",
    "end"
   ]
  },
  {
   "cell_type": "markdown",
   "id": "228a8d42",
   "metadata": {
    "slideshow": {
     "slide_type": "subslide"
    }
   },
   "source": [
    "## Use random coefficients"
   ]
  },
  {
   "cell_type": "code",
   "execution_count": 39,
   "id": "0fe8bc4b",
   "metadata": {},
   "outputs": [],
   "source": [
    "N = 100;\n",
    "A = rand(N+1);\n",
    "x = rand();"
   ]
  },
  {
   "cell_type": "code",
   "execution_count": 40,
   "id": "c0b9982f",
   "metadata": {
    "slideshow": {
     "slide_type": "fragment"
    }
   },
   "outputs": [
    {
     "name": "stdout",
     "output_type": "stream",
     "text": [
      "poly(A, x) = 0.49001280754888865\n"
     ]
    }
   ],
   "source": [
    "@show poly(A,x);"
   ]
  },
  {
   "cell_type": "code",
   "execution_count": 41,
   "id": "ad0e674e",
   "metadata": {
    "slideshow": {
     "slide_type": "subslide"
    }
   },
   "outputs": [
    {
     "data": {
      "text/plain": [
       "BenchmarkTools.Trial: 10000 samples with 50 evaluations.\n",
       " Range \u001b[90m(\u001b[39m\u001b[36m\u001b[1mmin\u001b[22m\u001b[39m … \u001b[35mmax\u001b[39m\u001b[90m):  \u001b[39m\u001b[36m\u001b[1m942.080 ns\u001b[22m\u001b[39m … \u001b[35m 11.126 μs\u001b[39m  \u001b[90m┊\u001b[39m GC \u001b[90m(\u001b[39mmin … max\u001b[90m): \u001b[39m0.00% … 0.00%\n",
       " Time  \u001b[90m(\u001b[39m\u001b[34m\u001b[1mmedian\u001b[22m\u001b[39m\u001b[90m):     \u001b[39m\u001b[34m\u001b[1m  1.419 μs               \u001b[22m\u001b[39m\u001b[90m┊\u001b[39m GC \u001b[90m(\u001b[39mmedian\u001b[90m):    \u001b[39m0.00%\n",
       " Time  \u001b[90m(\u001b[39m\u001b[32m\u001b[1mmean\u001b[22m\u001b[39m ± \u001b[32mσ\u001b[39m\u001b[90m):   \u001b[39m\u001b[32m\u001b[1m  1.460 μs\u001b[22m\u001b[39m ± \u001b[32m555.940 ns\u001b[39m  \u001b[90m┊\u001b[39m GC \u001b[90m(\u001b[39mmean ± σ\u001b[90m):  \u001b[39m0.00% ± 0.00%\n",
       "\n",
       "  \u001b[39m▆\u001b[39m▅\u001b[39m▆\u001b[39m█\u001b[39m▄\u001b[39m▄\u001b[39m▂\u001b[39m▄\u001b[39m▃\u001b[39m \u001b[39m▃\u001b[39m▅\u001b[34m \u001b[39m\u001b[32m▇\u001b[39m\u001b[39m \u001b[39m█\u001b[39m▃\u001b[39m▃\u001b[39m▂\u001b[39m▁\u001b[39m▁\u001b[39m \u001b[39m \u001b[39m \u001b[39m▁\u001b[39m \u001b[39m \u001b[39m▁\u001b[39m \u001b[39m \u001b[39m \u001b[39m \u001b[39m \u001b[39m \u001b[39m \u001b[39m▁\u001b[39m \u001b[39m \u001b[39m \u001b[39m \u001b[39m \u001b[39m▁\u001b[39m \u001b[39m \u001b[39m \u001b[39m \u001b[39m \u001b[39m \u001b[39m \u001b[39m \u001b[39m \u001b[39m \u001b[39m \u001b[39m \u001b[39m \u001b[39m \u001b[39m \u001b[39m \u001b[39m \u001b[39m \u001b[39m \u001b[39m \u001b[39m▂\n",
       "  \u001b[39m█\u001b[39m█\u001b[39m█\u001b[39m█\u001b[39m█\u001b[39m█\u001b[39m█\u001b[39m█\u001b[39m█\u001b[39m▇\u001b[39m█\u001b[39m█\u001b[34m█\u001b[39m\u001b[32m█\u001b[39m\u001b[39m█\u001b[39m█\u001b[39m█\u001b[39m█\u001b[39m█\u001b[39m█\u001b[39m█\u001b[39m█\u001b[39m█\u001b[39m█\u001b[39m█\u001b[39m█\u001b[39m█\u001b[39m█\u001b[39m█\u001b[39m█\u001b[39m█\u001b[39m█\u001b[39m█\u001b[39m█\u001b[39m█\u001b[39m█\u001b[39m▇\u001b[39m█\u001b[39m█\u001b[39m█\u001b[39m█\u001b[39m█\u001b[39m█\u001b[39m█\u001b[39m█\u001b[39m█\u001b[39m█\u001b[39m▇\u001b[39m▆\u001b[39m▆\u001b[39m▆\u001b[39m▆\u001b[39m▆\u001b[39m▆\u001b[39m▆\u001b[39m▆\u001b[39m▆\u001b[39m▆\u001b[39m▆\u001b[39m▅\u001b[39m▆\u001b[39m \u001b[39m█\n",
       "  942 ns\u001b[90m        \u001b[39m\u001b[90mHistogram: \u001b[39m\u001b[90m\u001b[1mlog(\u001b[22m\u001b[39m\u001b[90mfrequency\u001b[39m\u001b[90m\u001b[1m)\u001b[22m\u001b[39m\u001b[90m by time\u001b[39m        3.4 μs \u001b[0m\u001b[1m<\u001b[22m\n",
       "\n",
       " Memory estimate\u001b[90m: \u001b[39m\u001b[33m0 bytes\u001b[39m, allocs estimate\u001b[90m: \u001b[39m\u001b[33m0\u001b[39m."
      ]
     },
     "execution_count": 41,
     "metadata": {},
     "output_type": "execute_result"
    }
   ],
   "source": [
    "@benchmark poly($A,$x)"
   ]
  },
  {
   "cell_type": "markdown",
   "id": "8711bd70",
   "metadata": {
    "slideshow": {
     "slide_type": "subslide"
    }
   },
   "source": [
    "## Using `Polynomials.jl`"
   ]
  },
  {
   "cell_type": "code",
   "execution_count": 42,
   "id": "34239897",
   "metadata": {
    "slideshow": {
     "slide_type": "-"
    }
   },
   "outputs": [
    {
     "name": "stderr",
     "output_type": "stream",
     "text": [
      "\u001b[32m\u001b[1m   Resolving\u001b[22m\u001b[39m package versions...\n",
      "\u001b[32m\u001b[1m  No Changes\u001b[22m\u001b[39m to `~/Documents/GitHub/Phys215-202324-2/01-HPC/Project.toml`\n",
      "\u001b[32m\u001b[1m  No Changes\u001b[22m\u001b[39m to `~/Documents/GitHub/Phys215-202324-2/01-HPC/Manifest.toml`\n"
     ]
    }
   ],
   "source": [
    "Pkg.add(\"Polynomials\")\n",
    "\n",
    "using Polynomials"
   ]
  },
  {
   "cell_type": "code",
   "execution_count": 43,
   "id": "cefa3da5",
   "metadata": {
    "scrolled": true,
    "slideshow": {
     "slide_type": "fragment"
    }
   },
   "outputs": [
    {
     "data": {
      "text/html": [
       "0.40085889775727346 &#43; 0.00462951851918203&#8729;x &#43; 0.8629002922122636&#8729;x<sup>2</sup> &#43; 0.28990843849057346&#8729;x<sup>3</sup> &#43; 0.19010881046758743&#8729;x<sup>4</sup> &#43; 0.5751990292995522&#8729;x<sup>5</sup> &#43; 0.962028813380673&#8729;x<sup>6</sup> &#43; 0.7538804802027133&#8729;x<sup>7</sup> &#43; 0.6192700835383871&#8729;x<sup>8</sup> &#43; 0.32434894094277855&#8729;x<sup>9</sup> &#43; 0.2622300738220563&#8729;x<sup>10</sup> &#43; 0.1046944071665642&#8729;x<sup>11</sup> &#43; 0.011753638250217913&#8729;x<sup>12</sup> &#43; 0.5064966771810419&#8729;x<sup>13</sup> &#43; 0.3767640273291225&#8729;x<sup>14</sup> &#43; 0.12362806640148849&#8729;x<sup>15</sup> &#43; 0.47270709446242287&#8729;x<sup>16</sup> &#43; 0.6487956309287983&#8729;x<sup>17</sup> &#43; 0.6615437825239098&#8729;x<sup>18</sup> &#43; 0.20333065927105076&#8729;x<sup>19</sup> &#43; 0.839445961674062&#8729;x<sup>20</sup> &#43; 0.6905076902287091&#8729;x<sup>21</sup> &#43; 0.31455977307744787&#8729;x<sup>22</sup> &#43; 0.6062532727736188&#8729;x<sup>23</sup> &#43; 0.3195686881040888&#8729;x<sup>24</sup> &#43; 0.254626272707944&#8729;x<sup>25</sup> &#43; 0.07751903450456277&#8729;x<sup>26</sup> &#43; 0.3062384402929783&#8729;x<sup>27</sup> &#43; 0.7150670958234514&#8729;x<sup>28</sup> &#43; 0.4973413963269121&#8729;x<sup>29</sup> &#43; 0.9702688522126935&#8729;x<sup>30</sup> &#43; 0.8660489339427895&#8729;x<sup>31</sup> &#43; 0.5929711634452731&#8729;x<sup>32</sup> &#43; 0.5183565795969004&#8729;x<sup>33</sup> &#43; 0.4876972991145839&#8729;x<sup>34</sup> &#43; 0.6420667683413701&#8729;x<sup>35</sup> &#43; 0.2325895714061751&#8729;x<sup>36</sup> &#43; 0.36762742512614&#8729;x<sup>37</sup> &#43; 0.7289607718990039&#8729;x<sup>38</sup> &#43; 0.38013068535882355&#8729;x<sup>39</sup> &#43; 0.5825776947287318&#8729;x<sup>40</sup> &#43; 0.5610474920143527&#8729;x<sup>41</sup> &#43; 0.27655360454207567&#8729;x<sup>42</sup> &#43; 0.84399173179996&#8729;x<sup>43</sup> &#43; 0.8831987982121432&#8729;x<sup>44</sup> &#43; 0.679334945730744&#8729;x<sup>45</sup> &#43; 0.40770094740990515&#8729;x<sup>46</sup> &#43; 0.9015712966059968&#8729;x<sup>47</sup> &#43; 0.8730002892045262&#8729;x<sup>48</sup> &#43; 0.12258271476536309&#8729;x<sup>49</sup> &#43; 0.7924676287393794&#8729;x<sup>50</sup> &#43; 0.10205297845083794&#8729;x<sup>51</sup> &#43; 0.15363647273396352&#8729;x<sup>52</sup> &#43; 0.8596220587784603&#8729;x<sup>53</sup> &#43; 0.8005082569418368&#8729;x<sup>54</sup> &#43; 0.23242362234498504&#8729;x<sup>55</sup> &#43; 0.9270079473640556&#8729;x<sup>56</sup> &#43; 0.9455376763945134&#8729;x<sup>57</sup> &#43; 0.475249657195679&#8729;x<sup>58</sup> &#43; 0.2836792409009613&#8729;x<sup>59</sup> &#43; 0.7272230541088214&#8729;x<sup>60</sup> &#43; 0.5873242085726189&#8729;x<sup>61</sup> &#43; 0.8983175954980213&#8729;x<sup>62</sup> &#43; 0.656813476415098&#8729;x<sup>63</sup> &#43; 0.7034989439097769&#8729;x<sup>64</sup> &#43; 0.0032479931054700817&#8729;x<sup>65</sup> &#43; 0.7921912185388008&#8729;x<sup>66</sup> &#43; 0.7320216627289011&#8729;x<sup>67</sup> &#43; 0.15957224265259407&#8729;x<sup>68</sup> &#43; 0.6353748007585084&#8729;x<sup>69</sup> &#43; 0.3310486716411618&#8729;x<sup>70</sup> &#43; 0.4019040223164706&#8729;x<sup>71</sup> &#43; 0.5014983029709666&#8729;x<sup>72</sup> &#43; 0.4084853975716579&#8729;x<sup>73</sup> &#43; 0.7399485980761216&#8729;x<sup>74</sup> &#43; 0.7249024912001755&#8729;x<sup>75</sup> &#43; 0.006270505245247304&#8729;x<sup>76</sup> &#43; 0.028008375917608408&#8729;x<sup>77</sup> &#43; 0.20880490893827552&#8729;x<sup>78</sup> &#43; 0.4042792916604999&#8729;x<sup>79</sup> &#43; 0.9283683858435997&#8729;x<sup>80</sup> &#43; 0.5661716381405258&#8729;x<sup>81</sup> &#43; 0.38623054639559806&#8729;x<sup>82</sup> &#43; 0.25610583016010857&#8729;x<sup>83</sup> &#43; 0.10138667938448909&#8729;x<sup>84</sup> &#43; 0.1635768157368036&#8729;x<sup>85</sup> &#43; 0.653865484585075&#8729;x<sup>86</sup> &#43; 0.13547567593158116&#8729;x<sup>87</sup> &#43; 0.5138250944244783&#8729;x<sup>88</sup> &#43; 0.08030753113237665&#8729;x<sup>89</sup> &#43; 0.8028723493483443&#8729;x<sup>90</sup> &#43; 0.6028848482410909&#8729;x<sup>91</sup> &#43; 0.36476029167849644&#8729;x<sup>92</sup> &#43; 0.47521244024073894&#8729;x<sup>93</sup> &#43; 0.9905014549179411&#8729;x<sup>94</sup> &#43; 0.9153938340357425&#8729;x<sup>95</sup> &#43; 0.16870109961901059&#8729;x<sup>96</sup> &#43; 0.8016190369940805&#8729;x<sup>97</sup> &#43; 0.5311702698666498&#8729;x<sup>98</sup> &#43; 0.7746249868482967&#8729;x<sup>99</sup> &#43; 0.6850540588438154&#8729;x<sup>100</sup>"
      ],
      "text/latex": [
       "$0.40085889775727346 + 0.00462951851918203\\cdot x + 0.8629002922122636\\cdot x^{2} + 0.28990843849057346\\cdot x^{3} + 0.19010881046758743\\cdot x^{4} + 0.5751990292995522\\cdot x^{5} + 0.962028813380673\\cdot x^{6} + 0.7538804802027133\\cdot x^{7} + 0.6192700835383871\\cdot x^{8} + 0.32434894094277855\\cdot x^{9} + 0.2622300738220563\\cdot x^{10} + 0.1046944071665642\\cdot x^{11} + 0.011753638250217913\\cdot x^{12} + 0.5064966771810419\\cdot x^{13} + 0.3767640273291225\\cdot x^{14} + 0.12362806640148849\\cdot x^{15} + 0.47270709446242287\\cdot x^{16} + 0.6487956309287983\\cdot x^{17} + 0.6615437825239098\\cdot x^{18} + 0.20333065927105076\\cdot x^{19} + 0.839445961674062\\cdot x^{20} + 0.6905076902287091\\cdot x^{21} + 0.31455977307744787\\cdot x^{22} + 0.6062532727736188\\cdot x^{23} + 0.3195686881040888\\cdot x^{24} + 0.254626272707944\\cdot x^{25} + 0.07751903450456277\\cdot x^{26} + 0.3062384402929783\\cdot x^{27} + 0.7150670958234514\\cdot x^{28} + 0.4973413963269121\\cdot x^{29} + 0.9702688522126935\\cdot x^{30} + 0.8660489339427895\\cdot x^{31} + 0.5929711634452731\\cdot x^{32} + 0.5183565795969004\\cdot x^{33} + 0.4876972991145839\\cdot x^{34} + 0.6420667683413701\\cdot x^{35} + 0.2325895714061751\\cdot x^{36} + 0.36762742512614\\cdot x^{37} + 0.7289607718990039\\cdot x^{38} + 0.38013068535882355\\cdot x^{39} + 0.5825776947287318\\cdot x^{40} + 0.5610474920143527\\cdot x^{41} + 0.27655360454207567\\cdot x^{42} + 0.84399173179996\\cdot x^{43} + 0.8831987982121432\\cdot x^{44} + 0.679334945730744\\cdot x^{45} + 0.40770094740990515\\cdot x^{46} + 0.9015712966059968\\cdot x^{47} + 0.8730002892045262\\cdot x^{48} + 0.12258271476536309\\cdot x^{49} + 0.7924676287393794\\cdot x^{50} + 0.10205297845083794\\cdot x^{51} + 0.15363647273396352\\cdot x^{52} + 0.8596220587784603\\cdot x^{53} + 0.8005082569418368\\cdot x^{54} + 0.23242362234498504\\cdot x^{55} + 0.9270079473640556\\cdot x^{56} + 0.9455376763945134\\cdot x^{57} + 0.475249657195679\\cdot x^{58} + 0.2836792409009613\\cdot x^{59} + 0.7272230541088214\\cdot x^{60} + 0.5873242085726189\\cdot x^{61} + 0.8983175954980213\\cdot x^{62} + 0.656813476415098\\cdot x^{63} + 0.7034989439097769\\cdot x^{64} + 0.0032479931054700817\\cdot x^{65} + 0.7921912185388008\\cdot x^{66} + 0.7320216627289011\\cdot x^{67} + 0.15957224265259407\\cdot x^{68} + 0.6353748007585084\\cdot x^{69} + 0.3310486716411618\\cdot x^{70} + 0.4019040223164706\\cdot x^{71} + 0.5014983029709666\\cdot x^{72} + 0.4084853975716579\\cdot x^{73} + 0.7399485980761216\\cdot x^{74} + 0.7249024912001755\\cdot x^{75} + 0.006270505245247304\\cdot x^{76} + 0.028008375917608408\\cdot x^{77} + 0.20880490893827552\\cdot x^{78} + 0.4042792916604999\\cdot x^{79} + 0.9283683858435997\\cdot x^{80} + 0.5661716381405258\\cdot x^{81} + 0.38623054639559806\\cdot x^{82} + 0.25610583016010857\\cdot x^{83} + 0.10138667938448909\\cdot x^{84} + 0.1635768157368036\\cdot x^{85} + 0.653865484585075\\cdot x^{86} + 0.13547567593158116\\cdot x^{87} + 0.5138250944244783\\cdot x^{88} + 0.08030753113237665\\cdot x^{89} + 0.8028723493483443\\cdot x^{90} + 0.6028848482410909\\cdot x^{91} + 0.36476029167849644\\cdot x^{92} + 0.47521244024073894\\cdot x^{93} + 0.9905014549179411\\cdot x^{94} + 0.9153938340357425\\cdot x^{95} + 0.16870109961901059\\cdot x^{96} + 0.8016190369940805\\cdot x^{97} + 0.5311702698666498\\cdot x^{98} + 0.7746249868482967\\cdot x^{99} + 0.6850540588438154\\cdot x^{100}$"
      ],
      "text/plain": [
       "Polynomial(0.40085889775727346 + 0.00462951851918203*x + 0.8629002922122636*x^2 + 0.28990843849057346*x^3 + 0.19010881046758743*x^4 + 0.5751990292995522*x^5 + 0.962028813380673*x^6 + 0.7538804802027133*x^7 + 0.6192700835383871*x^8 + 0.32434894094277855*x^9 + 0.2622300738220563*x^10 + 0.1046944071665642*x^11 + 0.011753638250217913*x^12 + 0.5064966771810419*x^13 + 0.3767640273291225*x^14 + 0.12362806640148849*x^15 + 0.47270709446242287*x^16 + 0.6487956309287983*x^17 + 0.6615437825239098*x^18 + 0.20333065927105076*x^19 + 0.839445961674062*x^20 + 0.6905076902287091*x^21 + 0.31455977307744787*x^22 + 0.6062532727736188*x^23 + 0.3195686881040888*x^24 + 0.254626272707944*x^25 + 0.07751903450456277*x^26 + 0.3062384402929783*x^27 + 0.7150670958234514*x^28 + 0.4973413963269121*x^29 + 0.9702688522126935*x^30 + 0.8660489339427895*x^31 + 0.5929711634452731*x^32 + 0.5183565795969004*x^33 + 0.4876972991145839*x^34 + 0.6420667683413701*x^35 + 0.2325895714061751*x^36 + 0.36762742512614*x^37 + 0.7289607718990039*x^38 + 0.38013068535882355*x^39 + 0.5825776947287318*x^40 + 0.5610474920143527*x^41 + 0.27655360454207567*x^42 + 0.84399173179996*x^43 + 0.8831987982121432*x^44 + 0.679334945730744*x^45 + 0.40770094740990515*x^46 + 0.9015712966059968*x^47 + 0.8730002892045262*x^48 + 0.12258271476536309*x^49 + 0.7924676287393794*x^50 + 0.10205297845083794*x^51 + 0.15363647273396352*x^52 + 0.8596220587784603*x^53 + 0.8005082569418368*x^54 + 0.23242362234498504*x^55 + 0.9270079473640556*x^56 + 0.9455376763945134*x^57 + 0.475249657195679*x^58 + 0.2836792409009613*x^59 + 0.7272230541088214*x^60 + 0.5873242085726189*x^61 + 0.8983175954980213*x^62 + 0.656813476415098*x^63 + 0.7034989439097769*x^64 + 0.0032479931054700817*x^65 + 0.7921912185388008*x^66 + 0.7320216627289011*x^67 + 0.15957224265259407*x^68 + 0.6353748007585084*x^69 + 0.3310486716411618*x^70 + 0.4019040223164706*x^71 + 0.5014983029709666*x^72 + 0.4084853975716579*x^73 + 0.7399485980761216*x^74 + 0.7249024912001755*x^75 + 0.006270505245247304*x^76 + 0.028008375917608408*x^77 + 0.20880490893827552*x^78 + 0.4042792916604999*x^79 + 0.9283683858435997*x^80 + 0.5661716381405258*x^81 + 0.38623054639559806*x^82 + 0.25610583016010857*x^83 + 0.10138667938448909*x^84 + 0.1635768157368036*x^85 + 0.653865484585075*x^86 + 0.13547567593158116*x^87 + 0.5138250944244783*x^88 + 0.08030753113237665*x^89 + 0.8028723493483443*x^90 + 0.6028848482410909*x^91 + 0.36476029167849644*x^92 + 0.47521244024073894*x^93 + 0.9905014549179411*x^94 + 0.9153938340357425*x^95 + 0.16870109961901059*x^96 + 0.8016190369940805*x^97 + 0.5311702698666498*x^98 + 0.7746249868482967*x^99 + 0.6850540588438154*x^100)"
      ]
     },
     "execution_count": 43,
     "metadata": {},
     "output_type": "execute_result"
    }
   ],
   "source": [
    "p = Polynomial(A)"
   ]
  },
  {
   "cell_type": "markdown",
   "id": "7adff83c",
   "metadata": {
    "slideshow": {
     "slide_type": "subslide"
    }
   },
   "source": [
    "## Evaluate relative speed"
   ]
  },
  {
   "cell_type": "code",
   "execution_count": 44,
   "id": "81640893",
   "metadata": {},
   "outputs": [
    {
     "name": "stdout",
     "output_type": "stream",
     "text": [
      "poly(A, x) = 3.962827456140382\n",
      "p(x) = 3.9628274561403787\n"
     ]
    }
   ],
   "source": [
    "N = 100;\n",
    "A = rand(N+1);\n",
    "x = rand();\n",
    "\n",
    "p = Polynomial(A);\n",
    "\n",
    "@show poly(A,x);\n",
    "@show p(x);"
   ]
  },
  {
   "cell_type": "code",
   "execution_count": 45,
   "id": "1ac939c8",
   "metadata": {
    "slideshow": {
     "slide_type": "fragment"
    }
   },
   "outputs": [],
   "source": [
    "trial0 = @benchmark poly($A,$x);\n",
    "trial1 = @benchmark p($x);"
   ]
  },
  {
   "cell_type": "code",
   "execution_count": 46,
   "id": "0a57af0c",
   "metadata": {
    "slideshow": {
     "slide_type": "subslide"
    }
   },
   "outputs": [
    {
     "name": "stdout",
     "output_type": "stream",
     "text": [
      "Trial 1 / Trial 0 ≈ 0.138\n",
      "Trial 1 is FASTER than Trial 0.\n"
     ]
    }
   ],
   "source": [
    "su = speedup(trial0,trial1)\n",
    "println(\"Trial 1 / Trial 0 ≈ \", round( su, digits=3 ) )\n",
    "println( \"Trial 1 is \", (su > 1) ? \"SLOWER\" : \"FASTER\", \" than Trial 0.\" )"
   ]
  },
  {
   "cell_type": "markdown",
   "id": "cd74ff5c",
   "metadata": {
    "slideshow": {
     "slide_type": "slide"
    }
   },
   "source": [
    "## Fin.\n",
    "1. Julia provides macros for examining machine code generation.\n",
    "2. Modularity via methods (or functions) provide opportunity for optimization.\n",
    "3. Use benchmarking tools whenever available to examine relative speeds.\n",
    "4. Existing optimized modules may be worth considering before using naive implementations.\n",
    "\n",
    "## Explore."
   ]
  }
 ],
 "metadata": {
  "@webio": {
   "lastCommId": null,
   "lastKernelId": null
  },
  "celltoolbar": "Slideshow",
  "kernelspec": {
   "display_name": "Julia 1.10.1",
   "language": "julia",
   "name": "julia-1.10"
  },
  "language_info": {
   "file_extension": ".jl",
   "mimetype": "application/julia",
   "name": "julia",
   "version": "1.10.1"
  }
 },
 "nbformat": 4,
 "nbformat_minor": 5
}
