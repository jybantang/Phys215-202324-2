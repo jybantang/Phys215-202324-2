{
 "cells": [
  {
   "cell_type": "markdown",
   "id": "e7fda9d3",
   "metadata": {
    "slideshow": {
     "slide_type": "slide"
    }
   },
   "source": [
    "# MEx 1: The Julia framework for HPC\n",
    "\n",
    "## **OBJECTIVE**: Explore Julia framework for HPC\n",
    "- [ ] KR1: Ran different versions of `@code_[mode]` to examine a simple expression (replace `[mode]` with `native`, `typed`, `warntype`, etc.\n",
    "- [ ] KR2: Showed that constants in codes are passed on after constant function or expression evaluations. May have gone beyond replicating those done in class.\n",
    "- [ ] KR3: Created two versions of the same function such as `pos(x)` in the book, one with type-instability and the other fixed.\n",
    "- [ ] KR4: Demonstrated Julia's type-inference and multiple dispatch using the `iam()` function sample as discussed in class. (See Chapter 3)\n",
    "- [ ] KR5: Ran a function `poly(A,x)` that evaluates the $N$-th order polynomial via a naive approach.\n",
    "- [ ] KR6: Evaluated the same polynomial using [the package `Polynomials` in Julia](https://juliamath.github.io/Polynomials.jl/stable/).\n",
    "- [ ] KR7. Used `BenchmarkTools` to plot timing distribution and obtain the best time via the macro `@btime` evaluated at some random number. (See Chapter 2)\n",
    "- [ ] KR8 (Bonus): Plotted of the time $T$ it takes for the function to run using `@time` macro for different polynomial lengths $N$.\n",
    "\n",
    "[Full documentation is found here.](./README.md)"
   ]
  },
  {
   "cell_type": "markdown",
   "id": "b4e83363",
   "metadata": {
    "slideshow": {
     "slide_type": "slide"
    }
   },
   "source": [
    "# Type hierarchy\n",
    "\n",
    "Type hierarchy in Julia is a tree. With `Any` on top of it. All numbers can be arranged using the recursive call of a function found in [a wikibook](https://en.wikibooks.org/wiki/Introducing_Julia/Types)."
   ]
  },
  {
   "cell_type": "code",
   "execution_count": 10,
   "id": "a2321bc4",
   "metadata": {},
   "outputs": [
    {
     "data": {
      "text/plain": [
       "showsubtree (generic function with 2 methods)"
      ]
     },
     "execution_count": 10,
     "metadata": {},
     "output_type": "execute_result"
    }
   ],
   "source": [
    "function showsubtree( T, level=0 )\n",
    "    println(\"  \"^level, T)\n",
    "    for t in subtypes(T)\n",
    "        showsubtree(t, level+1)\n",
    "    end\n",
    "end"
   ]
  },
  {
   "cell_type": "code",
   "execution_count": 11,
   "id": "23d7e19d",
   "metadata": {
    "slideshow": {
     "slide_type": "slide"
    }
   },
   "outputs": [
    {
     "name": "stdout",
     "output_type": "stream",
     "text": [
      "Number\n",
      "  Base.MultiplicativeInverses.MultiplicativeInverse\n",
      "    Base.MultiplicativeInverses.SignedMultiplicativeInverse\n",
      "    Base.MultiplicativeInverses.UnsignedMultiplicativeInverse\n",
      "  Complex\n",
      "  Real\n",
      "    AbstractFloat\n",
      "      BigFloat\n",
      "      Float16\n",
      "      Float32\n",
      "      Float64\n",
      "    AbstractIrrational\n",
      "      Irrational\n",
      "    Integer\n",
      "      Bool\n",
      "      Signed\n",
      "        BigInt\n",
      "        Int128\n",
      "        Int16\n",
      "        Int32\n",
      "        Int64\n",
      "        Int8\n",
      "      Unsigned\n",
      "        UInt128\n",
      "        UInt16\n",
      "        UInt32\n",
      "        UInt64\n",
      "        UInt8\n",
      "    Rational\n"
     ]
    }
   ],
   "source": [
    "showsubtree(Number)"
   ]
  },
  {
   "cell_type": "markdown",
   "id": "758a250b",
   "metadata": {},
   "source": [
    "# Variables, memory location and value"
   ]
  },
  {
   "cell_type": "code",
   "execution_count": 14,
   "id": "10b78aee",
   "metadata": {},
   "outputs": [
    {
     "data": {
      "text/plain": [
       "Point"
      ]
     },
     "execution_count": 14,
     "metadata": {},
     "output_type": "execute_result"
    }
   ],
   "source": [
    "struct Point\n",
    "    x::Int\n",
    "    y::Int\n",
    "end\n",
    "\n",
    "Point() = Point(0,0)"
   ]
  },
  {
   "cell_type": "code",
   "execution_count": 26,
   "id": "42325140",
   "metadata": {},
   "outputs": [
    {
     "name": "stdout",
     "output_type": "stream",
     "text": [
      "pt1 = Point(0, 0)\n",
      "pt2 = Point(0, 0)\n"
     ]
    },
    {
     "data": {
      "text/plain": [
       "Point(0, 0)"
      ]
     },
     "execution_count": 26,
     "metadata": {},
     "output_type": "execute_result"
    }
   ],
   "source": [
    "pt1 = Point();\n",
    "pt2 = Point();\n",
    "\n",
    "@show pt1\n",
    "@show pt2"
   ]
  },
  {
   "cell_type": "code",
   "execution_count": 28,
   "id": "83d98e06",
   "metadata": {},
   "outputs": [
    {
     "name": "stdout",
     "output_type": "stream",
     "text": [
      "pt1 == pt2 = true\n",
      "pt1 === pt2 = true\n"
     ]
    },
    {
     "data": {
      "text/plain": [
       "true"
      ]
     },
     "execution_count": 28,
     "metadata": {},
     "output_type": "execute_result"
    }
   ],
   "source": [
    "@show pt1 == pt2\n",
    "@show pt1 === pt2"
   ]
  },
  {
   "cell_type": "code",
   "execution_count": 30,
   "id": "2c575fef",
   "metadata": {},
   "outputs": [
    {
     "data": {
      "text/plain": [
       "true"
      ]
     },
     "execution_count": 30,
     "metadata": {},
     "output_type": "execute_result"
    }
   ],
   "source": []
  },
  {
   "cell_type": "code",
   "execution_count": 19,
   "id": "679f996d",
   "metadata": {},
   "outputs": [
    {
     "data": {
      "text/plain": [
       "Point(1, 1)"
      ]
     },
     "execution_count": 19,
     "metadata": {},
     "output_type": "execute_result"
    }
   ],
   "source": [
    "pt3 = Point(1,1)"
   ]
  },
  {
   "cell_type": "code",
   "execution_count": 20,
   "id": "35e7bb79",
   "metadata": {},
   "outputs": [
    {
     "data": {
      "text/plain": [
       "false"
      ]
     },
     "execution_count": 20,
     "metadata": {},
     "output_type": "execute_result"
    }
   ],
   "source": [
    "pt == pt3"
   ]
  },
  {
   "cell_type": "code",
   "execution_count": 21,
   "id": "5057074b",
   "metadata": {},
   "outputs": [
    {
     "data": {
      "text/plain": [
       "Point(1, 1)"
      ]
     },
     "execution_count": 21,
     "metadata": {},
     "output_type": "execute_result"
    }
   ],
   "source": [
    "pt4 = Point(1,1)"
   ]
  },
  {
   "cell_type": "code",
   "execution_count": 22,
   "id": "f783cc64",
   "metadata": {},
   "outputs": [
    {
     "data": {
      "text/plain": [
       "true"
      ]
     },
     "execution_count": 22,
     "metadata": {},
     "output_type": "execute_result"
    }
   ],
   "source": [
    "pt3 === pt4"
   ]
  },
  {
   "cell_type": "code",
   "execution_count": 23,
   "id": "20a595f2",
   "metadata": {},
   "outputs": [
    {
     "ename": "LoadError",
     "evalue": "setfield!: immutable struct of type Point cannot be changed",
     "output_type": "error",
     "traceback": [
      "setfield!: immutable struct of type Point cannot be changed",
      "",
      "Stacktrace:",
      " [1] setproperty!(x::Point, f::Symbol, v::Int64)",
      "   @ Base ./Base.jl:41",
      " [2] top-level scope",
      "   @ In[23]:1"
     ]
    }
   ],
   "source": [
    "pt3.y = 5"
   ]
  },
  {
   "cell_type": "code",
   "execution_count": null,
   "id": "bde4840b",
   "metadata": {},
   "outputs": [],
   "source": []
  }
 ],
 "metadata": {
  "celltoolbar": "Slideshow",
  "kernelspec": {
   "display_name": "Julia 1.10.1",
   "language": "julia",
   "name": "julia-1.10"
  },
  "language_info": {
   "file_extension": ".jl",
   "mimetype": "application/julia",
   "name": "julia",
   "version": "1.10.1"
  }
 },
 "nbformat": 4,
 "nbformat_minor": 5
}
