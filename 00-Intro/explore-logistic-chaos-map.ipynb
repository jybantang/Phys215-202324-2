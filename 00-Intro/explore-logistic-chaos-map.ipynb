{
 "cells": [
  {
   "cell_type": "code",
   "execution_count": 4,
   "id": "d3bf6030",
   "metadata": {
    "slideshow": {
     "slide_type": "slide"
    }
   },
   "outputs": [
    {
     "name": "stderr",
     "output_type": "stream",
     "text": [
      "\u001b[32m\u001b[1m  Activating\u001b[22m\u001b[39m project at `~/Documents/GitHub/Phys215-202324-2/00-Intro`\n",
      "\u001b[32m\u001b[1m   Resolving\u001b[22m\u001b[39m package versions...\n"
     ]
    },
    {
     "ename": "Pkg.Types.PkgError",
     "evalue": "expected package `ThinkJulia [a7f2b756]` to exist at path `/Users/johnrob/.julia/packages/ThinkJulia/REhsz`",
     "output_type": "error",
     "traceback": [
      "expected package `ThinkJulia [a7f2b756]` to exist at path `/Users/johnrob/.julia/packages/ThinkJulia/REhsz`\n",
      "\n",
      "Stacktrace:\n",
      "  [1] pkgerror(msg::String)\n",
      "    @ Pkg.Types ~/.julia/juliaup/julia-1.10.0+0.x64.apple.darwin14/share/julia/stdlib/v1.10/Pkg/src/Types.jl:70\n",
      "  [2] collect_fixed!(env::Pkg.Types.EnvCache, pkgs::Vector{Pkg.Types.PackageSpec}, names::Dict{Base.UUID, String})\n",
      "    @ Pkg.Operations ~/.julia/juliaup/julia-1.10.0+0.x64.apple.darwin14/share/julia/stdlib/v1.10/Pkg/src/Operations.jl:312\n",
      "  [3] resolve_versions!(env::Pkg.Types.EnvCache, registries::Vector{Pkg.Registry.RegistryInstance}, pkgs::Vector{Pkg.Types.PackageSpec}, julia_version::VersionNumber, installed_only::Bool)\n",
      "    @ Pkg.Operations ~/.julia/juliaup/julia-1.10.0+0.x64.apple.darwin14/share/julia/stdlib/v1.10/Pkg/src/Operations.jl:377\n",
      "  [4] targeted_resolve(env::Pkg.Types.EnvCache, registries::Vector{Pkg.Registry.RegistryInstance}, pkgs::Vector{Pkg.Types.PackageSpec}, preserve::Pkg.Types.PreserveLevel, julia_version::VersionNumber)\n",
      "    @ Pkg.Operations ~/.julia/juliaup/julia-1.10.0+0.x64.apple.darwin14/share/julia/stdlib/v1.10/Pkg/src/Operations.jl:1360\n",
      "  [5] tiered_resolve(env::Pkg.Types.EnvCache, registries::Vector{Pkg.Registry.RegistryInstance}, pkgs::Vector{Pkg.Types.PackageSpec}, julia_version::VersionNumber, try_all_installed::Bool)\n",
      "    @ Pkg.Operations ~/.julia/juliaup/julia-1.10.0+0.x64.apple.darwin14/share/julia/stdlib/v1.10/Pkg/src/Operations.jl:1332\n",
      "  [6] _resolve(io::VSCodeServer.IJuliaCore.IJuliaStdio{Base.PipeEndpoint, typeof(VSCodeServer.io_send_callback)}, env::Pkg.Types.EnvCache, registries::Vector{Pkg.Registry.RegistryInstance}, pkgs::Vector{Pkg.Types.PackageSpec}, preserve::Pkg.Types.PreserveLevel, julia_version::VersionNumber)\n",
      "    @ Pkg.Operations ~/.julia/juliaup/julia-1.10.0+0.x64.apple.darwin14/share/julia/stdlib/v1.10/Pkg/src/Operations.jl:1370\n",
      "  [7] add(ctx::Pkg.Types.Context, pkgs::Vector{Pkg.Types.PackageSpec}, new_git::Set{Base.UUID}; preserve::Pkg.Types.PreserveLevel, platform::Base.BinaryPlatforms.Platform)\n",
      "    @ Pkg.Operations ~/.julia/juliaup/julia-1.10.0+0.x64.apple.darwin14/share/julia/stdlib/v1.10/Pkg/src/Operations.jl:1387\n",
      "  [8] add\n",
      "    @ ~/.julia/juliaup/julia-1.10.0+0.x64.apple.darwin14/share/julia/stdlib/v1.10/Pkg/src/Operations.jl:1376 [inlined]\n",
      "  [9] add(ctx::Pkg.Types.Context, pkgs::Vector{Pkg.Types.PackageSpec}; preserve::Pkg.Types.PreserveLevel, platform::Base.BinaryPlatforms.Platform, kwargs::@Kwargs{io::VSCodeServer.IJuliaCore.IJuliaStdio{Base.PipeEndpoint, typeof(VSCodeServer.io_send_callback)}})\n",
      "    @ Pkg.API ~/.julia/juliaup/julia-1.10.0+0.x64.apple.darwin14/share/julia/stdlib/v1.10/Pkg/src/API.jl:278\n",
      " [10] add(pkgs::Vector{Pkg.Types.PackageSpec}; io::VSCodeServer.IJuliaCore.IJuliaStdio{Base.PipeEndpoint, typeof(VSCodeServer.io_send_callback)}, kwargs::@Kwargs{})\n",
      "    @ Pkg.API ~/.julia/juliaup/julia-1.10.0+0.x64.apple.darwin14/share/julia/stdlib/v1.10/Pkg/src/API.jl:159\n",
      " [11] add(pkgs::Vector{Pkg.Types.PackageSpec})\n",
      "    @ Pkg.API ~/.julia/juliaup/julia-1.10.0+0.x64.apple.darwin14/share/julia/stdlib/v1.10/Pkg/src/API.jl:148\n",
      " [12] add\n",
      "    @ Pkg.API ~/.julia/juliaup/julia-1.10.0+0.x64.apple.darwin14/share/julia/stdlib/v1.10/Pkg/src/API.jl:147 [inlined]\n",
      " [13] add(pkg::String)\n",
      "    @ Pkg.API ~/.julia/juliaup/julia-1.10.0+0.x64.apple.darwin14/share/julia/stdlib/v1.10/Pkg/src/API.jl:146\n",
      " [14] top-level scope\n",
      "    @ ~/Documents/GitHub/Phys215-202324-2/00-Intro/explore-logistic-chaos-map.ipynb:3"
     ]
    }
   ],
   "source": [
    "using Pkg\n",
    "Pkg.activate(\".\")\n",
    "Pkg.add(\"Plots\")\n",
    "\n",
    "using Plots"
   ]
  },
  {
   "cell_type": "markdown",
   "id": "b13ef80c",
   "metadata": {
    "slideshow": {
     "slide_type": "slide"
    }
   },
   "source": [
    "# Logistic return map chaos\n",
    "\n",
    "Chaos is the sensitivity of a system to initial condition.\n",
    "One of the simplest system that exhibits chaos is the [Logistic Map](https://en.wikipedia.org/wiki/Logistic_map).\n",
    "The logistic map is a discrete-time (iteration based) relation of the quantity being such that:\n",
    "$$x_{t+1} = f(x_{t})$$\n",
    "where the $f(x_{t})$ is the function that provides the new value of $x$ at a later time $t+1$ given the state at $t$.\n",
    "In general, $x_t$ may be a vector.\n",
    "\n",
    "For simplicity, we choose a one-dimensional chaotic system:\n",
    "$$x_{t+1} = rx_t(1-x_t)$$\n",
    "where $x_t$ is most commonly associated with a self-limiting growth of a system (e.g. population, mass, etc)."
   ]
  },
  {
   "cell_type": "markdown",
   "id": "779699b7",
   "metadata": {
    "slideshow": {
     "slide_type": "slide"
    }
   },
   "source": [
    "# Implementation\n",
    "\n",
    "One intuitive way to implement this is to create a vector, say `x` from length one (or length zero) such that `x = [x_1]` (or `x = []`) with `x_1` as the first value.\n",
    "The following gives the one that starts with length zero."
   ]
  },
  {
   "cell_type": "code",
   "execution_count": null,
   "id": "d37e4957",
   "metadata": {},
   "outputs": [],
   "source": [
    "r = 3.7 # parameter\n",
    "\n",
    "x = [ rand() ] # Start with a vector with initial value. Random value."
   ]
  },
  {
   "cell_type": "markdown",
   "id": "1913c2d1",
   "metadata": {
    "slideshow": {
     "slide_type": "subslide"
    }
   },
   "source": [
    "Since the process involves updating of a former value, it is also important to set a variable for both the new and avoid serial update of variables."
   ]
  },
  {
   "cell_type": "code",
   "execution_count": null,
   "id": "6579cfda",
   "metadata": {
    "slideshow": {
     "slide_type": "-"
    }
   },
   "outputs": [],
   "source": [
    "# Let's try again..\n",
    "xnew = rand()\n",
    "x = [ xnew ] # Start.\n",
    "\n",
    "# Mapping again..\n",
    "xold = xnew # Ensure no serial update; Not necessary for 1D such as this\n",
    "xnew = r*xold*(1-xold)\n",
    "x = vcat(x,xnew) # Append to the last"
   ]
  },
  {
   "cell_type": "code",
   "execution_count": null,
   "id": "c0f8daa8",
   "metadata": {
    "slideshow": {
     "slide_type": "subslide"
    }
   },
   "outputs": [],
   "source": [
    "# Looping N times..\n",
    "N = 200\n",
    "for _ in 1:N\n",
    "    xold = xnew;\n",
    "    xnew = r*xold*(1-xold);\n",
    "    x = vcat(x,xnew);\n",
    "end"
   ]
  },
  {
   "cell_type": "code",
   "execution_count": null,
   "id": "cad11ace",
   "metadata": {},
   "outputs": [],
   "source": [
    "@show length(x);"
   ]
  },
  {
   "cell_type": "markdown",
   "id": "3637b99f",
   "metadata": {
    "slideshow": {
     "slide_type": "slide"
    }
   },
   "source": [
    "# Plot of results"
   ]
  },
  {
   "cell_type": "code",
   "execution_count": null,
   "id": "773dbd78",
   "metadata": {
    "slideshow": {
     "slide_type": "-"
    }
   },
   "outputs": [],
   "source": [
    "plt = plot( x\n",
    "    ,markershape=:circle, markercolor=:black\n",
    "    ,linecolor=:black\n",
    "    ,label=\"r = \"*string(r)\n",
    "    ,xlabel=\"iteration number\"\n",
    "    ,ylabel=\"x-value\"\n",
    "    ,ylim=(0,1)\n",
    ")"
   ]
  },
  {
   "cell_type": "markdown",
   "id": "42075fee",
   "metadata": {
    "slideshow": {
     "slide_type": "subslide"
    }
   },
   "source": [
    "## Again.."
   ]
  },
  {
   "cell_type": "code",
   "execution_count": null,
   "id": "dc661908",
   "metadata": {
    "slideshow": {
     "slide_type": "-"
    }
   },
   "outputs": [],
   "source": [
    "xnew = rand()\n",
    "x = [ xnew ] # Start.\n",
    "\n",
    "r = 3.54\n",
    "\n",
    "# Looping N times..\n",
    "N = 200\n",
    "for _ in 1:N\n",
    "    xold = xnew;\n",
    "    xnew = r*xold*(1-xold);\n",
    "    x = vcat(x,xnew);\n",
    "end\n",
    "\n",
    "plt = plot( x\n",
    "    ,markershape=:circle, markercolor=:black\n",
    "    ,linecolor=:black\n",
    "    ,label=\"r = \"*string(r)\n",
    "    ,xlabel=\"iteration number\"\n",
    "    ,ylabel=\"x-value\"\n",
    "    ,ylim=(0,1)\n",
    ")"
   ]
  },
  {
   "cell_type": "markdown",
   "id": "9d1a3385",
   "metadata": {
    "slideshow": {
     "slide_type": "slide"
    }
   },
   "source": [
    "## Packaging procedures as one function\n",
    "\n",
    "_Object Oriented Programming (OOP) vs Julia programming_ is a topic that is important to distinguish.\n",
    "Moving from `c` to `c++` (or `Java`) to `Python` makes a lot of difference.\n",
    "\n",
    "[OOP paradigm](https://en.wikipedia.org/wiki/Object-oriented_programming#Features) --as usual in `Python` (strictly in `Java`)-- is important for three principles: (1) encapsulation, (2) inheritance, and (3) polymorphism.\n",
    "While different from the classical OOP, the _Julia paradigm_ also provides a different kind of implementing the same principles.\n",
    "\n",
    "One can think [Julia](https://en.wikipedia.org/wiki/Julia_(programming_language)) as a procedure-(or methods-)based programming (functional programming) due to the inherent use of functions and variables.\n",
    "However, unlike the typical `c` programming paradigm, Julia considers everything as an object.\n",
    "Julia, also reflects reality by way of using _prototype_ for all variables.\n",
    "Other [features](\"https://en.wikipedia.org/wiki/Julia_(programming_language)#Language_features\") are listed in the Wiki entry.\n",
    "\n",
    "All Julia Functions are objects that processes other objects (including Functions themselves0.\n",
    "Here, we use Functions to package a set of procedures done to a given set of objects (parameters are objects, too)."
   ]
  },
  {
   "cell_type": "markdown",
   "id": "eb6b1a93",
   "metadata": {
    "slideshow": {
     "slide_type": "subslide"
    }
   },
   "source": [
    "Since we would like to use `generate()` as the function name, our defition should not clash with any existing one."
   ]
  },
  {
   "cell_type": "code",
   "execution_count": null,
   "id": "d48f8a12",
   "metadata": {
    "slideshow": {
     "slide_type": "-"
    }
   },
   "outputs": [],
   "source": [
    "? generate"
   ]
  },
  {
   "cell_type": "code",
   "execution_count": null,
   "id": "32feac70",
   "metadata": {
    "slideshow": {
     "slide_type": "subslide"
    }
   },
   "outputs": [],
   "source": [
    "# input:\n",
    "#   r::Float\n",
    "#   N::Integer\n",
    "# output:\n",
    "#   x::Vector\n",
    "\n",
    "function generate( r::Float64, N::Int )\n",
    "    # generating first entry..\n",
    "    xval = rand();\n",
    "    x = [ xval ];\n",
    "    for _ in 2:N\n",
    "        xval = r * xval * (1 - xval)\n",
    "        x = vcat(x, xval)\n",
    "    end\n",
    "    return x;\n",
    "end\n",
    "\n",
    "generate( r ) = generate( r, 200 ) # default to N = 200"
   ]
  },
  {
   "cell_type": "code",
   "execution_count": null,
   "id": "54d0bbe2",
   "metadata": {},
   "outputs": [],
   "source": [
    "function generate( r::String )\n",
    "    println(\"This is a differently generated \"*r*\".\")\n",
    "end"
   ]
  },
  {
   "cell_type": "code",
   "execution_count": null,
   "id": "707805d8",
   "metadata": {},
   "outputs": [],
   "source": [
    "generate(\"Hello\")"
   ]
  },
  {
   "cell_type": "code",
   "execution_count": null,
   "id": "945ac9bf",
   "metadata": {},
   "outputs": [],
   "source": [
    "function generate( r::Float64; N=300 )\n",
    "    # generating first entry..\n",
    "    xval = rand();\n",
    "    x = [ xval ];\n",
    "    for _ in 2:N\n",
    "        xval = r * xval * (1 - xval)\n",
    "        x = vcat(x, xval)\n",
    "    end\n",
    "    return x;\n",
    "end"
   ]
  },
  {
   "cell_type": "code",
   "execution_count": null,
   "id": "6a05cbe2",
   "metadata": {},
   "outputs": [],
   "source": []
  },
  {
   "cell_type": "code",
   "execution_count": null,
   "id": "6ee79ddb",
   "metadata": {
    "slideshow": {
     "slide_type": "subslide"
    }
   },
   "outputs": [],
   "source": [
    "x = generate( 3.85 )"
   ]
  },
  {
   "cell_type": "code",
   "execution_count": null,
   "id": "6b3d557d",
   "metadata": {
    "slideshow": {
     "slide_type": "subslide"
    }
   },
   "outputs": [],
   "source": [
    "function plotLogistic( r, N )\n",
    "    x = generate(r,N)\n",
    "    plt = plot( x\n",
    "        ,markershape=:circle, markercolor=:black\n",
    "        ,linecolor=:black\n",
    "        ,label=\"r = \"*string(r)\n",
    "        ,xlabel=\"iteration number\"\n",
    "        ,ylabel=\"x-value\"\n",
    "        ,ylim=(0,1)\n",
    "    )\n",
    "    return plt\n",
    "end\n",
    "\n",
    "plotLogistic(r) = plotLogistic(r,200)"
   ]
  },
  {
   "cell_type": "code",
   "execution_count": null,
   "id": "ee2a1ae8",
   "metadata": {
    "scrolled": false,
    "slideshow": {
     "slide_type": "-"
    }
   },
   "outputs": [],
   "source": [
    "plotLogistic( 3.701, 500 )"
   ]
  },
  {
   "cell_type": "markdown",
   "id": "2db64e07",
   "metadata": {
    "slideshow": {
     "slide_type": "slide"
    }
   },
   "source": [
    "# Fin"
   ]
  },
  {
   "cell_type": "code",
   "execution_count": null,
   "id": "06a4079e",
   "metadata": {
    "slideshow": {
     "slide_type": "skip"
    }
   },
   "outputs": [],
   "source": [
    "x = rand(2)"
   ]
  },
  {
   "cell_type": "code",
   "execution_count": null,
   "id": "fa6963a2",
   "metadata": {},
   "outputs": [],
   "source": [
    "y() = rand(2)"
   ]
  },
  {
   "cell_type": "code",
   "execution_count": null,
   "id": "dac53466",
   "metadata": {},
   "outputs": [],
   "source": []
  },
  {
   "cell_type": "code",
   "execution_count": null,
   "id": "a13c01be",
   "metadata": {},
   "outputs": [],
   "source": [
    "y()"
   ]
  },
  {
   "cell_type": "code",
   "execution_count": null,
   "id": "5702f32f",
   "metadata": {},
   "outputs": [],
   "source": [
    "0:0.1:1"
   ]
  },
  {
   "cell_type": "code",
   "execution_count": null,
   "id": "db1856ca",
   "metadata": {},
   "outputs": [],
   "source": [
    "?range"
   ]
  },
  {
   "cell_type": "code",
   "execution_count": null,
   "id": "d6fdc1dc",
   "metadata": {},
   "outputs": [],
   "source": []
  }
 ],
 "metadata": {
  "celltoolbar": "Slideshow",
  "kernelspec": {
   "display_name": "Julia 1.10.0",
   "language": "julia",
   "name": "julia-1.10"
  },
  "language_info": {
   "file_extension": ".jl",
   "mimetype": "application/julia",
   "name": "julia",
   "version": "1.10.0"
  }
 },
 "nbformat": 4,
 "nbformat_minor": 5
}
